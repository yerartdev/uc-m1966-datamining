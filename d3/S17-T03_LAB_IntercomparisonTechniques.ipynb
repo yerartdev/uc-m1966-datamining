{
 "cells": [
  {
   "cell_type": "markdown",
   "metadata": {},
   "source": [
    "# Minería de Datos (Master en Data Science, UIMP-UC)\n",
    "\n",
    "## S17/T03. Intercomparación de técnicas de minería de datos \n",
    "\n",
    "### [Profesor: Rodrigo García Manzanas]    \n",
    "#### Enero 2019"
   ]
  },
  {
   "cell_type": "markdown",
   "metadata": {},
   "source": [
    "## Introducción\n",
    "\n",
    "En esta práctica/tarea haremos una intercomparación de varias de las técnicas vistas a lo largo de la asignatura: CART, k-NN, GLMs y random forests. Por tanto, pretende ser un repaso general de cara al examen en el que el objetivo es tratar de entender las ventajas y limitaciones de las distintas técnicas para un caso de aplicación particular; la predicción de precipitación.\n",
    "\n",
    "La entrega consisitirá de un notebook de Jupyter ó un R-MarkDown, junto con el archivo html que éste genera. Ambos ficheros se entregarán a través del Moodle de la asignatura en la tarea correspondiente."
   ]
  },
  {
   "cell_type": "markdown",
   "metadata": {},
   "source": [
    "Comenzaremos cargando el dataset `meteo`, que ya ha sido utilizado en sesiones anteriores. Como ya sabéis, la variable objetivo en este dataset es la precipitation diaria en Lisboa durante el período 1979-2008, y para predecirla se dispone de 320 predictores que describen la circulación de larga escala. Dichos predictores corresponden a un conjunto de 8 variables meteorológicas\n",
    "* altura geopotencial en 500 hPa\n",
    "* temperatura del aire en 850 hPa, 700 hPa, 500 hPa y superficie\n",
    "* humedad específica del aire en 850 hPa y 500 hPa\n",
    "* presión a nivel del mar\n",
    "\n",
    "definidas sobre un dominio geográfico que incluye 40 puntos sobre la península Ibérica."
   ]
  },
  {
   "cell_type": "code",
   "execution_count": 1,
   "metadata": {},
   "outputs": [],
   "source": [
    "## loading data\n",
    "rm(list = ls())\n",
    "meteo <- read.csv(url(\n",
    "    'https://raw.githubusercontent.com/SantanderMetGroup/Master-Data-Science/master/Data_mining/datasets/meteo.csv')\n",
    ")"
   ]
  },
  {
   "cell_type": "code",
   "execution_count": 2,
   "metadata": {},
   "outputs": [],
   "source": [
    "meteo$X <- NULL"
   ]
  },
  {
   "cell_type": "code",
   "execution_count": 3,
   "metadata": {},
   "outputs": [
    {
     "data": {
      "text/html": [
       "<table>\n",
       "<thead><tr><th scope=col>y</th><th scope=col>X1</th><th scope=col>X2</th><th scope=col>X3</th><th scope=col>X4</th><th scope=col>X5</th><th scope=col>X6</th><th scope=col>X7</th><th scope=col>X8</th><th scope=col>X9</th><th scope=col>⋯</th><th scope=col>X311</th><th scope=col>X312</th><th scope=col>X313</th><th scope=col>X314</th><th scope=col>X315</th><th scope=col>X316</th><th scope=col>X317</th><th scope=col>X318</th><th scope=col>X319</th><th scope=col>X320</th></tr></thead>\n",
       "<tbody>\n",
       "\t<tr><td>10.9    </td><td>57042.96</td><td>56534.84</td><td>55884.40</td><td>55175.59</td><td>54458.21</td><td>56980.27</td><td>56460.59</td><td>55800.02</td><td>55051.15</td><td>⋯       </td><td>101985.9</td><td>101627.3</td><td>101357.2</td><td>101110.7</td><td>101291.0</td><td>101814.9</td><td>101479.4</td><td>101164.5</td><td>100970.7</td><td>100905.3</td></tr>\n",
       "\t<tr><td> 0.6    </td><td>56963.20</td><td>56493.45</td><td>55930.82</td><td>55340.20</td><td>54768.63</td><td>56856.57</td><td>56361.95</td><td>55776.76</td><td>55164.26</td><td>⋯       </td><td>102048.1</td><td>102069.7</td><td>102204.5</td><td>102480.3</td><td>102858.8</td><td>101973.3</td><td>102033.3</td><td>102165.5</td><td>102323.9</td><td>102534.2</td></tr>\n",
       "\t<tr><td>13.0    </td><td>56522.59</td><td>55971.40</td><td>55304.34</td><td>54498.03</td><td>53725.15</td><td>56514.84</td><td>55977.71</td><td>55327.28</td><td>54569.78</td><td>⋯       </td><td>102399.1</td><td>102448.4</td><td>102438.3</td><td>102434.3</td><td>102339.8</td><td>102669.7</td><td>102565.5</td><td>102530.3</td><td>102453.6</td><td>102487.1</td></tr>\n",
       "\t<tr><td> 0.0    </td><td>54627.98</td><td>53979.80</td><td>53494.05</td><td>53072.98</td><td>52616.36</td><td>54776.17</td><td>54089.05</td><td>53516.98</td><td>53012.86</td><td>⋯       </td><td>100970.0</td><td>100672.8</td><td>100360.7</td><td>100133.7</td><td>100028.4</td><td>101126.2</td><td>100700.0</td><td>100381.3</td><td>100118.3</td><td>100319.8</td></tr>\n",
       "\t<tr><td> 0.0    </td><td>53584.38</td><td>53391.01</td><td>53310.38</td><td>53292.82</td><td>53340.13</td><td>53781.70</td><td>53498.13</td><td>53306.82</td><td>53213.26</td><td>⋯       </td><td>100652.7</td><td>100663.5</td><td>100747.7</td><td>100934.0</td><td>101015.8</td><td>100801.6</td><td>100685.3</td><td>100777.5</td><td>100909.4</td><td>101164.7</td></tr>\n",
       "</tbody>\n",
       "</table>\n"
      ],
      "text/latex": [
       "\\begin{tabular}{r|lllllllllllllllllllllllllllllllllllllllllllllllllllllllllllllllllllllllllllllllllllllllllllllllllllllllllllllllllllllllllllllllllllllllllllllllllllllllllllllllllllllllllllllllllllllllllllllllllllllllllllllllllllllllllllllllllllllllllllllllllllllllllllllllllllllllllllllllllllllllllllllllllllllllllllllllllllllllllllllllll}\n",
       " y & X1 & X2 & X3 & X4 & X5 & X6 & X7 & X8 & X9 & ⋯ & X311 & X312 & X313 & X314 & X315 & X316 & X317 & X318 & X319 & X320\\\\\n",
       "\\hline\n",
       "\t 10.9     & 57042.96 & 56534.84 & 55884.40 & 55175.59 & 54458.21 & 56980.27 & 56460.59 & 55800.02 & 55051.15 & ⋯        & 101985.9 & 101627.3 & 101357.2 & 101110.7 & 101291.0 & 101814.9 & 101479.4 & 101164.5 & 100970.7 & 100905.3\\\\\n",
       "\t  0.6     & 56963.20 & 56493.45 & 55930.82 & 55340.20 & 54768.63 & 56856.57 & 56361.95 & 55776.76 & 55164.26 & ⋯        & 102048.1 & 102069.7 & 102204.5 & 102480.3 & 102858.8 & 101973.3 & 102033.3 & 102165.5 & 102323.9 & 102534.2\\\\\n",
       "\t 13.0     & 56522.59 & 55971.40 & 55304.34 & 54498.03 & 53725.15 & 56514.84 & 55977.71 & 55327.28 & 54569.78 & ⋯        & 102399.1 & 102448.4 & 102438.3 & 102434.3 & 102339.8 & 102669.7 & 102565.5 & 102530.3 & 102453.6 & 102487.1\\\\\n",
       "\t  0.0     & 54627.98 & 53979.80 & 53494.05 & 53072.98 & 52616.36 & 54776.17 & 54089.05 & 53516.98 & 53012.86 & ⋯        & 100970.0 & 100672.8 & 100360.7 & 100133.7 & 100028.4 & 101126.2 & 100700.0 & 100381.3 & 100118.3 & 100319.8\\\\\n",
       "\t  0.0     & 53584.38 & 53391.01 & 53310.38 & 53292.82 & 53340.13 & 53781.70 & 53498.13 & 53306.82 & 53213.26 & ⋯        & 100652.7 & 100663.5 & 100747.7 & 100934.0 & 101015.8 & 100801.6 & 100685.3 & 100777.5 & 100909.4 & 101164.7\\\\\n",
       "\\end{tabular}\n"
      ],
      "text/markdown": [
       "\n",
       "y | X1 | X2 | X3 | X4 | X5 | X6 | X7 | X8 | X9 | ⋯ | X311 | X312 | X313 | X314 | X315 | X316 | X317 | X318 | X319 | X320 | \n",
       "|---|---|---|---|---|\n",
       "| 10.9     | 57042.96 | 56534.84 | 55884.40 | 55175.59 | 54458.21 | 56980.27 | 56460.59 | 55800.02 | 55051.15 | ⋯        | 101985.9 | 101627.3 | 101357.2 | 101110.7 | 101291.0 | 101814.9 | 101479.4 | 101164.5 | 100970.7 | 100905.3 | \n",
       "|  0.6     | 56963.20 | 56493.45 | 55930.82 | 55340.20 | 54768.63 | 56856.57 | 56361.95 | 55776.76 | 55164.26 | ⋯        | 102048.1 | 102069.7 | 102204.5 | 102480.3 | 102858.8 | 101973.3 | 102033.3 | 102165.5 | 102323.9 | 102534.2 | \n",
       "| 13.0     | 56522.59 | 55971.40 | 55304.34 | 54498.03 | 53725.15 | 56514.84 | 55977.71 | 55327.28 | 54569.78 | ⋯        | 102399.1 | 102448.4 | 102438.3 | 102434.3 | 102339.8 | 102669.7 | 102565.5 | 102530.3 | 102453.6 | 102487.1 | \n",
       "|  0.0     | 54627.98 | 53979.80 | 53494.05 | 53072.98 | 52616.36 | 54776.17 | 54089.05 | 53516.98 | 53012.86 | ⋯        | 100970.0 | 100672.8 | 100360.7 | 100133.7 | 100028.4 | 101126.2 | 100700.0 | 100381.3 | 100118.3 | 100319.8 | \n",
       "|  0.0     | 53584.38 | 53391.01 | 53310.38 | 53292.82 | 53340.13 | 53781.70 | 53498.13 | 53306.82 | 53213.26 | ⋯        | 100652.7 | 100663.5 | 100747.7 | 100934.0 | 101015.8 | 100801.6 | 100685.3 | 100777.5 | 100909.4 | 101164.7 | \n",
       "\n",
       "\n"
      ],
      "text/plain": [
       "  y    X1       X2       X3       X4       X5       X6       X7       X8      \n",
       "1 10.9 57042.96 56534.84 55884.40 55175.59 54458.21 56980.27 56460.59 55800.02\n",
       "2  0.6 56963.20 56493.45 55930.82 55340.20 54768.63 56856.57 56361.95 55776.76\n",
       "3 13.0 56522.59 55971.40 55304.34 54498.03 53725.15 56514.84 55977.71 55327.28\n",
       "4  0.0 54627.98 53979.80 53494.05 53072.98 52616.36 54776.17 54089.05 53516.98\n",
       "5  0.0 53584.38 53391.01 53310.38 53292.82 53340.13 53781.70 53498.13 53306.82\n",
       "  X9       ⋯ X311     X312     X313     X314     X315     X316     X317    \n",
       "1 55051.15 ⋯ 101985.9 101627.3 101357.2 101110.7 101291.0 101814.9 101479.4\n",
       "2 55164.26 ⋯ 102048.1 102069.7 102204.5 102480.3 102858.8 101973.3 102033.3\n",
       "3 54569.78 ⋯ 102399.1 102448.4 102438.3 102434.3 102339.8 102669.7 102565.5\n",
       "4 53012.86 ⋯ 100970.0 100672.8 100360.7 100133.7 100028.4 101126.2 100700.0\n",
       "5 53213.26 ⋯ 100652.7 100663.5 100747.7 100934.0 101015.8 100801.6 100685.3\n",
       "  X318     X319     X320    \n",
       "1 101164.5 100970.7 100905.3\n",
       "2 102165.5 102323.9 102534.2\n",
       "3 102530.3 102453.6 102487.1\n",
       "4 100381.3 100118.3 100319.8\n",
       "5 100777.5 100909.4 101164.7"
      ]
     },
     "metadata": {},
     "output_type": "display_data"
    }
   ],
   "source": [
    "#::GMG::Tengo el dataset completo (y + Xn ...)\n",
    "head(x = meteo,n = 5)"
   ]
  },
  {
   "cell_type": "markdown",
   "metadata": {},
   "source": [
    "Para agilizar los tiempos de cómputo, reduciremos la dimensionalidad de nuetro problema. Como ya se ha visto en sesiones anteriores, una alternativa para tal fin es el uso de PCs. Sin embargo, para no limitar la interpretabilidad de los resultados obtenidos con árboles, utilizaremos otra aproximación aquí. En concreto, optaremos por un análisis de correlaciones, en el que se calcula la correlación de Spearman entre nuestra variable objetivo y todas las variables predictoras disponibles. La idea es que, cuanto más fuerte sea esta correlación, mayor es el vínculo físico entre predictando y predictor, y por tanto, más útil es la información que nos aporta ese predictor. Por tanto, este análisis nos permite descartar predictores poco relevantes.\n",
    "Siguiendo esta idea, calcularemos la correlación existente entre nuestro predictando y los 320 predictores, y eliminaremos aquellos con correlaciones entre -0.4 y 0.4. ¿Cuánto se ha reducido la dimensionalidad del problema?"
   ]
  },
  {
   "cell_type": "code",
   "execution_count": 4,
   "metadata": {},
   "outputs": [],
   "source": [
    "## informed selection of predictors, based on a correlation analysis\n",
    "r.xy = c()\n",
    "for (ivar in 2:ncol(meteo)) {\n",
    "  r.xy[ivar] = cor(meteo$y, meteo[, ivar], method = \"spearman\")\n",
    "}"
   ]
  },
  {
   "cell_type": "code",
   "execution_count": 6,
   "metadata": {},
   "outputs": [
    {
     "data": {
      "image/png": "[encoded data removed]",
      "text/plain": [
       "plot without title"
      ]
     },
     "metadata": {},
     "output_type": "display_data"
    }
   ],
   "source": [
    "plot(r.xy, \n",
    "     ylim = c(-0.6, 0.6), \n",
    "     pch = 19, cex = 0.5, \n",
    "     xlab = \"predictor\", \n",
    "     ylab = \"Spearman corr. with precip.\")\n",
    "grid()\n",
    "ind.sele = which(abs(r.xy) > 0.4)\n",
    "points(ind.sele, r.xy[ind.sele], col = \"red\", cex = 0.5)"
   ]
  },
  {
   "cell_type": "code",
   "execution_count": 7,
   "metadata": {},
   "outputs": [],
   "source": [
    "meteo_spearman <- meteo[, ind.sele]"
   ]
  },
  {
   "cell_type": "code",
   "execution_count": 8,
   "metadata": {},
   "outputs": [
    {
     "name": "stdout",
     "output_type": "stream",
     "text": [
      "'data.frame':\t10958 obs. of  37 variables:\n",
      " $ X1  : num  57043 56963 56523 54628 53584 ...\n",
      " $ X2  : num  56535 56493 55971 53980 53391 ...\n",
      " $ X3  : num  55884 55931 55304 53494 53310 ...\n",
      " $ X4  : num  55176 55340 54498 53073 53293 ...\n",
      " $ X5  : num  54458 54769 53725 52616 53340 ...\n",
      " $ X6  : num  56980 56857 56515 54776 53782 ...\n",
      " $ X7  : num  56461 56362 55978 54089 53498 ...\n",
      " $ X8  : num  55800 55777 55327 53517 53307 ...\n",
      " $ X9  : num  55051 55164 54570 53013 53213 ...\n",
      " $ X10 : num  54319 54585 53863 52501 53157 ...\n",
      " $ X12 : num  56368 56187 55965 54205 53674 ...\n",
      " $ X13 : num  55721 55587 55360 53594 53378 ...\n",
      " $ X14 : num  54946 54947 54646 53021 53200 ...\n",
      " $ X15 : num  54145 54367 53999 52451 53055 ...\n",
      " $ X18 : num  55559 55360 55339 53657 53529 ...\n",
      " $ X19 : num  54788 54690 54720 53074 53260 ...\n",
      " $ X20 : num  53973 54125 54110 52486 53065 ...\n",
      " $ X24 : num  54555 54384 54695 53144 53383 ...\n",
      " $ X25 : num  53771 53843 54135 52556 53162 ...\n",
      " $ X83 : num  272 271 271 264 264 ...\n",
      " $ X84 : num  268 267 269 264 263 ...\n",
      " $ X85 : num  266 265 268 264 263 ...\n",
      " $ X88 : num  271 270 271 265 264 ...\n",
      " $ X89 : num  267 267 268 264 263 ...\n",
      " $ X125: num  250 249 252 246 247 ...\n",
      " $ X283: num  102030 102263 101411 100683 100856 ...\n",
      " $ X284: num  101889 102250 100908 100356 101024 ...\n",
      " $ X285: num  101630 102158 100297 99926 101148 ...\n",
      " $ X289: num  101951 102308 101129 100302 100948 ...\n",
      " $ X290: num  101637 102222 100517 99681 100946 ...\n",
      " $ X294: num  101852 102337 101361 100186 100928 ...\n",
      " $ X295: num  101647 102366 100762 99495 100826 ...\n",
      " $ X299: num  101772 102384 101571 100174 100928 ...\n",
      " $ X300: num  101608 102582 101107 99426 100779 ...\n",
      " $ X304: num  101599 102491 101841 100082 100935 ...\n",
      " $ X305: num  101552 102766 101526 99531 100810 ...\n",
      " $ X310: num  101491 102938 101968 99720 100896 ...\n"
     ]
    }
   ],
   "source": [
    "str(meteo_spearman)"
   ]
  },
  {
   "cell_type": "markdown",
   "metadata": {},
   "source": [
    "Para simplificar aún más los cálculos, nos limitaremos a los primeros 5000 días del dataset. Como siempre, consideraremos una partición de la muestra en dos subconjuntos independientes, train y test, escogidos aleatoriamente (75% para entrenar y 25% para validar)."
   ]
  },
  {
   "cell_type": "code",
   "execution_count": 12,
   "metadata": {},
   "outputs": [],
   "source": [
    "# keeping only 5000 days for this example\n",
    "n = 5000\n",
    "y = meteo$y[1:n]\n",
    "x = meteo_spearman[1:n,]"
   ]
  },
  {
   "cell_type": "code",
   "execution_count": 13,
   "metadata": {},
   "outputs": [
    {
     "name": "stdout",
     "output_type": "stream",
     "text": [
      "'data.frame':\t5000 obs. of  37 variables:\n",
      " $ X1  : num  57043 56963 56523 54628 53584 ...\n",
      " $ X2  : num  56535 56493 55971 53980 53391 ...\n",
      " $ X3  : num  55884 55931 55304 53494 53310 ...\n",
      " $ X4  : num  55176 55340 54498 53073 53293 ...\n",
      " $ X5  : num  54458 54769 53725 52616 53340 ...\n",
      " $ X6  : num  56980 56857 56515 54776 53782 ...\n",
      " $ X7  : num  56461 56362 55978 54089 53498 ...\n",
      " $ X8  : num  55800 55777 55327 53517 53307 ...\n",
      " $ X9  : num  55051 55164 54570 53013 53213 ...\n",
      " $ X10 : num  54319 54585 53863 52501 53157 ...\n",
      " $ X12 : num  56368 56187 55965 54205 53674 ...\n",
      " $ X13 : num  55721 55587 55360 53594 53378 ...\n",
      " $ X14 : num  54946 54947 54646 53021 53200 ...\n",
      " $ X15 : num  54145 54367 53999 52451 53055 ...\n",
      " $ X18 : num  55559 55360 55339 53657 53529 ...\n",
      " $ X19 : num  54788 54690 54720 53074 53260 ...\n",
      " $ X20 : num  53973 54125 54110 52486 53065 ...\n",
      " $ X24 : num  54555 54384 54695 53144 53383 ...\n",
      " $ X25 : num  53771 53843 54135 52556 53162 ...\n",
      " $ X83 : num  272 271 271 264 264 ...\n",
      " $ X84 : num  268 267 269 264 263 ...\n",
      " $ X85 : num  266 265 268 264 263 ...\n",
      " $ X88 : num  271 270 271 265 264 ...\n",
      " $ X89 : num  267 267 268 264 263 ...\n",
      " $ X125: num  250 249 252 246 247 ...\n",
      " $ X283: num  102030 102263 101411 100683 100856 ...\n",
      " $ X284: num  101889 102250 100908 100356 101024 ...\n",
      " $ X285: num  101630 102158 100297 99926 101148 ...\n",
      " $ X289: num  101951 102308 101129 100302 100948 ...\n",
      " $ X290: num  101637 102222 100517 99681 100946 ...\n",
      " $ X294: num  101852 102337 101361 100186 100928 ...\n",
      " $ X295: num  101647 102366 100762 99495 100826 ...\n",
      " $ X299: num  101772 102384 101571 100174 100928 ...\n",
      " $ X300: num  101608 102582 101107 99426 100779 ...\n",
      " $ X304: num  101599 102491 101841 100082 100935 ...\n",
      " $ X305: num  101552 102766 101526 99531 100810 ...\n",
      " $ X310: num  101491 102938 101968 99720 100896 ...\n"
     ]
    }
   ],
   "source": [
    "str(x)"
   ]
  },
  {
   "cell_type": "code",
   "execution_count": 14,
   "metadata": {},
   "outputs": [
    {
     "name": "stdout",
     "output_type": "stream",
     "text": [
      " num [1:5000] 10.9 0.6 13 0 0 1.2 1.1 0 0 0.7 ...\n"
     ]
    }
   ],
   "source": [
    "str(y)"
   ]
  },
  {
   "cell_type": "code",
   "execution_count": 15,
   "metadata": {},
   "outputs": [],
   "source": [
    "# train/test partition\n",
    "indtrain = sample(1:n, round(0.75*n))  \n",
    "indtest = setdiff(1:n, indtrain)"
   ]
  },
  {
   "cell_type": "markdown",
   "metadata": {},
   "source": [
    "## Punto 1: Árboles de clasificación y regresión (CART)\n",
    "### (2.5 puntos)\n",
    "\n",
    "Como ya hemos visto en sesiones anteriores, tendremos que crear dos modelos independientes, uno para la clasificación del evento binario lluvia/no lluvia y otro para el evento continuo cantidad de lluvia.\n",
    "Nos centramos en primer lugar en la clasificación lluvia/no lluvia. Para ello, tenemos que crear la variable binaria ocurrencia de precipitación (considera un umbral de 1mm) y construir el dataframe asociado al problema."
   ]
  },
  {
   "cell_type": "code",
   "execution_count": 19,
   "metadata": {},
   "outputs": [
    {
     "name": "stdout",
     "output_type": "stream",
     "text": [
      " num [1:5000] 1 0 1 0 0 1 1 0 0 0 ...\n"
     ]
    }
   ],
   "source": [
    "# binary occurrence\n",
    "occurrence <- ifelse(y >= 1, 1, 0)\n",
    "str(occurrence)"
   ]
  },
  {
   "cell_type": "code",
   "execution_count": 21,
   "metadata": {},
   "outputs": [
    {
     "name": "stdout",
     "output_type": "stream",
     "text": [
      "'data.frame':\t5000 obs. of  38 variables:\n",
      " $ occurrence: num  1 0 1 0 0 1 1 0 0 0 ...\n",
      " $ X1        : num  57043 56963 56523 54628 53584 ...\n",
      " $ X2        : num  56535 56493 55971 53980 53391 ...\n",
      " $ X3        : num  55884 55931 55304 53494 53310 ...\n",
      " $ X4        : num  55176 55340 54498 53073 53293 ...\n",
      " $ X5        : num  54458 54769 53725 52616 53340 ...\n",
      " $ X6        : num  56980 56857 56515 54776 53782 ...\n",
      " $ X7        : num  56461 56362 55978 54089 53498 ...\n",
      " $ X8        : num  55800 55777 55327 53517 53307 ...\n",
      " $ X9        : num  55051 55164 54570 53013 53213 ...\n",
      " $ X10       : num  54319 54585 53863 52501 53157 ...\n",
      " $ X12       : num  56368 56187 55965 54205 53674 ...\n",
      " $ X13       : num  55721 55587 55360 53594 53378 ...\n",
      " $ X14       : num  54946 54947 54646 53021 53200 ...\n",
      " $ X15       : num  54145 54367 53999 52451 53055 ...\n",
      " $ X18       : num  55559 55360 55339 53657 53529 ...\n",
      " $ X19       : num  54788 54690 54720 53074 53260 ...\n",
      " $ X20       : num  53973 54125 54110 52486 53065 ...\n",
      " $ X24       : num  54555 54384 54695 53144 53383 ...\n",
      " $ X25       : num  53771 53843 54135 52556 53162 ...\n",
      " $ X83       : num  272 271 271 264 264 ...\n",
      " $ X84       : num  268 267 269 264 263 ...\n",
      " $ X85       : num  266 265 268 264 263 ...\n",
      " $ X88       : num  271 270 271 265 264 ...\n",
      " $ X89       : num  267 267 268 264 263 ...\n",
      " $ X125      : num  250 249 252 246 247 ...\n",
      " $ X283      : num  102030 102263 101411 100683 100856 ...\n",
      " $ X284      : num  101889 102250 100908 100356 101024 ...\n",
      " $ X285      : num  101630 102158 100297 99926 101148 ...\n",
      " $ X289      : num  101951 102308 101129 100302 100948 ...\n",
      " $ X290      : num  101637 102222 100517 99681 100946 ...\n",
      " $ X294      : num  101852 102337 101361 100186 100928 ...\n",
      " $ X295      : num  101647 102366 100762 99495 100826 ...\n",
      " $ X299      : num  101772 102384 101571 100174 100928 ...\n",
      " $ X300      : num  101608 102582 101107 99426 100779 ...\n",
      " $ X304      : num  101599 102491 101841 100082 100935 ...\n",
      " $ X305      : num  101552 102766 101526 99531 100810 ...\n",
      " $ X310      : num  101491 102938 101968 99720 100896 ...\n"
     ]
    }
   ],
   "source": [
    "# dataframe for occurrence\n",
    "df <- cbind(occurrence,x)\n",
    "str(df)"
   ]
  },
  {
   "cell_type": "code",
   "execution_count": 27,
   "metadata": {},
   "outputs": [],
   "source": [
    "df$occurrence <- as.factor(df$occurrence)"
   ]
  },
  {
   "cell_type": "code",
   "execution_count": 28,
   "metadata": {},
   "outputs": [
    {
     "name": "stdout",
     "output_type": "stream",
     "text": [
      "'data.frame':\t5000 obs. of  38 variables:\n",
      " $ occurrence: Factor w/ 2 levels \"0\",\"1\": 2 1 2 1 1 2 2 1 1 1 ...\n",
      " $ X1        : num  57043 56963 56523 54628 53584 ...\n",
      " $ X2        : num  56535 56493 55971 53980 53391 ...\n",
      " $ X3        : num  55884 55931 55304 53494 53310 ...\n",
      " $ X4        : num  55176 55340 54498 53073 53293 ...\n",
      " $ X5        : num  54458 54769 53725 52616 53340 ...\n",
      " $ X6        : num  56980 56857 56515 54776 53782 ...\n",
      " $ X7        : num  56461 56362 55978 54089 53498 ...\n",
      " $ X8        : num  55800 55777 55327 53517 53307 ...\n",
      " $ X9        : num  55051 55164 54570 53013 53213 ...\n",
      " $ X10       : num  54319 54585 53863 52501 53157 ...\n",
      " $ X12       : num  56368 56187 55965 54205 53674 ...\n",
      " $ X13       : num  55721 55587 55360 53594 53378 ...\n",
      " $ X14       : num  54946 54947 54646 53021 53200 ...\n",
      " $ X15       : num  54145 54367 53999 52451 53055 ...\n",
      " $ X18       : num  55559 55360 55339 53657 53529 ...\n",
      " $ X19       : num  54788 54690 54720 53074 53260 ...\n",
      " $ X20       : num  53973 54125 54110 52486 53065 ...\n",
      " $ X24       : num  54555 54384 54695 53144 53383 ...\n",
      " $ X25       : num  53771 53843 54135 52556 53162 ...\n",
      " $ X83       : num  272 271 271 264 264 ...\n",
      " $ X84       : num  268 267 269 264 263 ...\n",
      " $ X85       : num  266 265 268 264 263 ...\n",
      " $ X88       : num  271 270 271 265 264 ...\n",
      " $ X89       : num  267 267 268 264 263 ...\n",
      " $ X125      : num  250 249 252 246 247 ...\n",
      " $ X283      : num  102030 102263 101411 100683 100856 ...\n",
      " $ X284      : num  101889 102250 100908 100356 101024 ...\n",
      " $ X285      : num  101630 102158 100297 99926 101148 ...\n",
      " $ X289      : num  101951 102308 101129 100302 100948 ...\n",
      " $ X290      : num  101637 102222 100517 99681 100946 ...\n",
      " $ X294      : num  101852 102337 101361 100186 100928 ...\n",
      " $ X295      : num  101647 102366 100762 99495 100826 ...\n",
      " $ X299      : num  101772 102384 101571 100174 100928 ...\n",
      " $ X300      : num  101608 102582 101107 99426 100779 ...\n",
      " $ X304      : num  101599 102491 101841 100082 100935 ...\n",
      " $ X305      : num  101552 102766 101526 99531 100810 ...\n",
      " $ X310      : num  101491 102938 101968 99720 100896 ...\n"
     ]
    }
   ],
   "source": [
    "str(df)"
   ]
  },
  {
   "cell_type": "markdown",
   "metadata": {},
   "source": [
    "A continuación construiremos el árbol completo (usa la función *tree*). ¿Cuántos nodos terminales obtienes? ¿Qué variables predictoras dan lugar a las primeras subdivisiones del árbol?\n",
    "\n",
    "**::GMG::** ¿Árbol completo?"
   ]
  },
  {
   "cell_type": "code",
   "execution_count": 22,
   "metadata": {},
   "outputs": [],
   "source": [
    "## complete tree (tree)\n",
    "library(tree)"
   ]
  },
  {
   "cell_type": "code",
   "execution_count": 29,
   "metadata": {},
   "outputs": [],
   "source": [
    "set.seed(123)\n",
    "tree_occ_1 <- tree(occurrence ~ ., \n",
    "                   subset= indtrain,\n",
    "                   data = df)"
   ]
  },
  {
   "cell_type": "code",
   "execution_count": 30,
   "metadata": {},
   "outputs": [
    {
     "data": {
      "image/png": "[encoded data removed]",
      "text/plain": [
       "plot without title"
      ]
     },
     "metadata": {},
     "output_type": "display_data"
    }
   ],
   "source": [
    "plot(tree_occ_1)\n",
    "text(tree_occ_1, pretty = F)"
   ]
  },
  {
   "cell_type": "code",
   "execution_count": 31,
   "metadata": {},
   "outputs": [],
   "source": [
    "## complete tree (rpart)\n",
    "# https://rpubs.com/minma/cart_with_rpart\n",
    "# https://www.statmethods.net/advstats/cart.html\n",
    "library(rpart)\n",
    "library(rpart.plot)"
   ]
  },
  {
   "cell_type": "code",
   "execution_count": 32,
   "metadata": {},
   "outputs": [],
   "source": [
    "set.seed(123)\n",
    "tree_occ_2 <- rpart(occurrence ~ ., \n",
    "                         subset= indtrain, \n",
    "                         data= df, \n",
    "                         control = rpart.control(cp = 0.0001))"
   ]
  },
  {
   "cell_type": "code",
   "execution_count": 33,
   "metadata": {},
   "outputs": [
    {
     "name": "stdout",
     "output_type": "stream",
     "text": [
      "\n",
      "Classification tree:\n",
      "rpart(formula = occurrence ~ ., data = df, subset = indtrain, \n",
      "    control = rpart.control(cp = 1e-04))\n",
      "\n",
      "Variables actually used in tree construction:\n",
      " [1] X1   X10  X12  X125 X13  X14  X15  X18  X19  X2   X20  X25  X283 X284 X285\n",
      "[16] X289 X290 X294 X299 X3   X300 X304 X310 X4   X5   X6   X7   X83  X85  X89 \n",
      "\n",
      "Root node error: 730/3750 = 0.19467\n",
      "\n",
      "n= 3750 \n",
      "\n",
      "           CP nsplit rel error  xerror     xstd\n",
      "1  0.24931507      0   1.00000 1.00000 0.033214\n",
      "2  0.03835616      1   0.75068 0.77397 0.030008\n",
      "3  0.03013699      2   0.71233 0.75890 0.029766\n",
      "4  0.01095890      3   0.68219 0.75068 0.029632\n",
      "5  0.01004566      4   0.67123 0.72055 0.029131\n",
      "6  0.00821918      7   0.64110 0.72466 0.029200\n",
      "7  0.00479452     12   0.58356 0.70959 0.028944\n",
      "8  0.00456621     20   0.54384 0.73014 0.029292\n",
      "9  0.00410959     23   0.53014 0.73973 0.029452\n",
      "10 0.00342466     29   0.50411 0.75205 0.029654\n",
      "11 0.00308219     31   0.49726 0.75479 0.029699\n",
      "12 0.00273973     35   0.48493 0.76712 0.029899\n",
      "13 0.00239726     51   0.43973 0.76575 0.029877\n",
      "14 0.00205479     55   0.43014 0.78767 0.030225\n",
      "15 0.00136986     59   0.42192 0.80274 0.030460\n",
      "16 0.00045662     67   0.41096 0.83014 0.030877\n",
      "17 0.00017123     70   0.40959 0.84110 0.031041\n",
      "18 0.00010000     78   0.40822 0.84110 0.031041\n"
     ]
    }
   ],
   "source": [
    "printcp(tree_occ_2)"
   ]
  },
  {
   "cell_type": "code",
   "execution_count": 34,
   "metadata": {},
   "outputs": [],
   "source": [
    "bestcp <- tree_occ_2$cptable[which.min(tree_occ_2$cptable[,\"xerror\"]),\"CP\"]"
   ]
  },
  {
   "cell_type": "code",
   "execution_count": 35,
   "metadata": {},
   "outputs": [],
   "source": [
    "tree.pruned <- prune(tree_occ_2, cp = bestcp)"
   ]
  },
  {
   "cell_type": "code",
   "execution_count": 41,
   "metadata": {},
   "outputs": [],
   "source": [
    "# confusion matrix (training data)\n",
    "conf.matrix <- table(df[indtrain,]$occurrence, predict(tree.pruned,type=\"class\"))"
   ]
  },
  {
   "cell_type": "code",
   "execution_count": 42,
   "metadata": {},
   "outputs": [
    {
     "name": "stdout",
     "output_type": "stream",
     "text": [
      "          \n",
      "           Pred:0 Pred:1\n",
      "  Actual:0   2877    143\n",
      "  Actual:1    283    447\n"
     ]
    }
   ],
   "source": [
    "rownames(conf.matrix) <- paste(\"Actual\", rownames(conf.matrix), sep = \":\")\n",
    "colnames(conf.matrix) <- paste(\"Pred\", colnames(conf.matrix), sep = \":\")\n",
    "print(conf.matrix)"
   ]
  },
  {
   "cell_type": "code",
   "execution_count": 37,
   "metadata": {},
   "outputs": [
    {
     "data": {
      "image/png": "[encoded data removed]",
      "text/plain": [
       "plot without title"
      ]
     },
     "metadata": {},
     "output_type": "display_data"
    }
   ],
   "source": [
    "plot(tree.pruned)\n",
    "text(tree.pruned, cex = 0.8, use.n = TRUE, xpd = TRUE)"
   ]
  },
  {
   "cell_type": "code",
   "execution_count": 43,
   "metadata": {},
   "outputs": [
    {
     "data": {
      "image/png": "[encoded data removed]",
      "text/plain": [
       "plot without title"
      ]
     },
     "metadata": {},
     "output_type": "display_data"
    }
   ],
   "source": [
    "prp(tree.pruned, faclen = 0, cex = 0.8, extra = 1)"
   ]
  },
  {
   "cell_type": "markdown",
   "metadata": {},
   "source": [
    "Para simplificar este árbol tan complejo tendremos que podarlo adecuadamente. Utiliza una cross-validación con un 10-fold para encontrar el número de nodos terminales del árbol óptimo. ¿Cuál es este número? ¿Qué predictores aparecen como los más importantes?"
   ]
  },
  {
   "cell_type": "code",
   "execution_count": null,
   "metadata": {},
   "outputs": [],
   "source": [
    "## 10-fold cross-validation for determining optimum number of leaves"
   ]
  },
  {
   "cell_type": "code",
   "execution_count": null,
   "metadata": {},
   "outputs": [],
   "source": [
    "## pruning"
   ]
  },
  {
   "cell_type": "markdown",
   "metadata": {},
   "source": [
    "Utiliza este árbol óptimo para predecir en el test. Guarda las predicciones."
   ]
  },
  {
   "cell_type": "code",
   "execution_count": null,
   "metadata": {},
   "outputs": [],
   "source": [
    "## occurrence prediction for test"
   ]
  },
  {
   "cell_type": "markdown",
   "metadata": {},
   "source": [
    "Una vez obtenidas las predicciones de ocurrencia pasaremos a estimar la cantidad de precipitación. Primero creamos el dataset correspondiente."
   ]
  },
  {
   "cell_type": "code",
   "execution_count": null,
   "metadata": {},
   "outputs": [],
   "source": [
    "## dataframe for amount"
   ]
  },
  {
   "cell_type": "markdown",
   "metadata": {},
   "source": [
    "A continuación construiremos dos árboles, uno entrenado sobre todo el conjunto de train y otro entrenado sólo sobre los días de lluvia (en el train). "
   ]
  },
  {
   "cell_type": "markdown",
   "metadata": {},
   "source": [
    "Empezamos por el primero de estos árboles. Construye el árbol completo ¿Cuántos nodos terminales obtienes? ¿Qué variables predictoras dan lugar a las primeras subdivisiones del árbol? ¿Son las mismas que para el caso de la ocurrencia?"
   ]
  },
  {
   "cell_type": "code",
   "execution_count": null,
   "metadata": {},
   "outputs": [],
   "source": [
    "## complete tree 1"
   ]
  },
  {
   "cell_type": "markdown",
   "metadata": {},
   "source": [
    "Al igual que hicimos para el caso de la ocurrencia, tendremos que podar este árbol tan complejo. Utiliza una cross-validación con un 10-fold para encontrar el número de nodos terminales del árbol óptimo. ¿Cuál es este número? ¿Qué predictores aparecen como los más importantes?"
   ]
  },
  {
   "cell_type": "code",
   "execution_count": null,
   "metadata": {},
   "outputs": [],
   "source": [
    "## 10-fold cross-validation for determining optimum number of leaves"
   ]
  },
  {
   "cell_type": "code",
   "execution_count": null,
   "metadata": {},
   "outputs": [],
   "source": [
    "## pruning"
   ]
  },
  {
   "cell_type": "markdown",
   "metadata": {
    "collapsed": true
   },
   "source": [
    "Utiliza el árbol óptimo que acabas de encontrar para predecir en el test, y conserva la predicción obtenida."
   ]
  },
  {
   "cell_type": "code",
   "execution_count": null,
   "metadata": {},
   "outputs": [],
   "source": [
    "## amount prediction for test"
   ]
  },
  {
   "cell_type": "markdown",
   "metadata": {},
   "source": [
    "Repite el mismo proceso para el segundo árbol de regresión (el que sólo se entrena sobre los días de lluvia en el train)."
   ]
  },
  {
   "cell_type": "code",
   "execution_count": null,
   "metadata": {},
   "outputs": [],
   "source": [
    "## complete tree 2 (trained only on rainy days)\n",
    "\n",
    "## 10-fold cross-validation for determining optimum number of leaves\n",
    "\n",
    "## pruning\n",
    "\n",
    "## amount prediction for test"
   ]
  },
  {
   "cell_type": "markdown",
   "metadata": {},
   "source": [
    "Obtén las dos series predichas completas para el test (la secuencia lluvia/no lluvia será la misma en las dos) y valida tus resultados en función de las siguiente métricas: \n",
    "* Para la parte binaria lluvia/no lluvia: Accuracy.\n",
    "* Para la serie completa: RMSE, correlación de Spearman y ratio de varianzas."
   ]
  },
  {
   "cell_type": "code",
   "execution_count": null,
   "metadata": {},
   "outputs": [],
   "source": [
    "## final prediction"
   ]
  },
  {
   "cell_type": "code",
   "execution_count": null,
   "metadata": {},
   "outputs": [],
   "source": [
    "## validation\n",
    "\n",
    "# accuracy \n",
    "# RMSE (tree 1, tree 2)\n",
    "# correlation (tree 1, tree 2)\n",
    "# ratio of variances (tree 1, tree 2)"
   ]
  },
  {
   "cell_type": "markdown",
   "metadata": {},
   "source": [
    "**Pregunta:** ¿Cuál de los dos árboles da mejores resultados? ¿Por qué?"
   ]
  },
  {
   "cell_type": "markdown",
   "metadata": {},
   "source": [
    "# Random forests\n",
    "### (2.5 puntos)"
   ]
  },
  {
   "cell_type": "markdown",
   "metadata": {},
   "source": [
    "A continuación vamos a realizar el mismo ejercicio pero sustituyendo árboles individuales por random forests. \n",
    "Empecemos con el evento ocurrencia. Para estimar cuál sería el tamaño óptimo de nuestro random forest, prueba bosques de hasta 1000 árboles (utiliza la función *randomForest*) y plotea los errores Out-Of-Bag (OOB). ¿Con cuántos árboles te quedarías?\n",
    "\n",
    "**Nota:** Hemos visto en la teoría que además del número de árboles, el otro parámetro a ajustar en los random forests es el número de predictores que se consideran en cada nodo para el splitting. En esta práctica/tarea utlizaremos los valores típicos; *sqrt(n)* en problemas de clasificación y *n/3* en problemas de predicción (siendo *n* el número total de predictores disponibles). "
   ]
  },
  {
   "cell_type": "code",
   "execution_count": null,
   "metadata": {},
   "outputs": [],
   "source": [
    "# RF for occurrence (up to 1000 trees)"
   ]
  },
  {
   "cell_type": "markdown",
   "metadata": {},
   "source": [
    "Utiliza el bosque de tamaño óptimo parar predecir la ocurrencia en el test, y conserva la predicción."
   ]
  },
  {
   "cell_type": "code",
   "execution_count": null,
   "metadata": {},
   "outputs": [],
   "source": [
    "## RF for occurrence (optimum)\n",
    "\n",
    "## occurrence prediction for test"
   ]
  },
  {
   "cell_type": "markdown",
   "metadata": {},
   "source": [
    "Seguidamente, tal y como hicimos con los árboles individuales, vamos a crear dos random forests para la cantidad, uno que se entrene sobre todo el dataset de train y otro que se entrene sólo sobre los días de lluvia (en el train). De nuevo, tendrás que estimar cuál es el número óptimo de árboles en cada uno de ellos (prueba bosques de hasta 1000 árboles). ¿Qué tamaños óptimos obtienes?"
   ]
  },
  {
   "cell_type": "code",
   "execution_count": null,
   "metadata": {},
   "outputs": [],
   "source": [
    "## RF 1 for amount (up to 1000 trees)\n",
    "\n",
    "## RF 2 for amount (up to 100 trees)\n",
    "\n",
    "# plotting OOB errors"
   ]
  },
  {
   "cell_type": "markdown",
   "metadata": {},
   "source": [
    "Utiliza los bosques óptimos encontrados para predecir la cantidad en el test, y conserva las predicciones obtenidas."
   ]
  },
  {
   "cell_type": "code",
   "execution_count": null,
   "metadata": {},
   "outputs": [],
   "source": [
    "## RF 1 for amount (optimum)\n",
    "\n",
    "# amount prediction for test\n",
    "\n",
    "## RF 2 for amount (optimum)\n",
    "\n",
    "# amount prediction for test "
   ]
  },
  {
   "cell_type": "markdown",
   "metadata": {},
   "source": [
    "Construye las predicciones completas (ocurrencia * cantidad) de test y valídalas en función de las mismas métricas utilizadas en el apartado anterior."
   ]
  },
  {
   "cell_type": "code",
   "execution_count": null,
   "metadata": {},
   "outputs": [],
   "source": [
    "# predictions for test\n",
    "\n",
    "# validation"
   ]
  },
  {
   "cell_type": "markdown",
   "metadata": {},
   "source": [
    "**Pregunta:** Compara estos resultados con los obtenidos para árboles individuales. ¿Qué conclusiones obtienes de la comparación entre árboles individuales y random forests?"
   ]
  },
  {
   "cell_type": "markdown",
   "metadata": {},
   "source": [
    "## Modelos lineales generalizados (GLMs)\n",
    "### (1.5 puntos)\n",
    "\n",
    "Usaremos a continuación GLMs para el mismo problema abordado en los apartados anteriores. Como ya hemos visto en otras sesiones, debemos utilizar la familia *binomial* con función de enlace *logit* (regresión logística) para clasificación y la familia *Gamma* con función de enlace *log* para la cantidad. \n",
    "\n",
    "Comenzamos con el modelo para la ocurrencia."
   ]
  },
  {
   "cell_type": "code",
   "execution_count": null,
   "metadata": {},
   "outputs": [],
   "source": [
    "## GLM for occurrence"
   ]
  },
  {
   "cell_type": "markdown",
   "metadata": {},
   "source": [
    "Una vez tenemos el modelo, lo utilizamos para predecir en el test. Tendremos que convertir la predicción probabilística obtenida en binaria (considera un umbral 0.5)."
   ]
  },
  {
   "cell_type": "code",
   "execution_count": null,
   "metadata": {},
   "outputs": [],
   "source": [
    "## occurrence prediction for test"
   ]
  },
  {
   "cell_type": "markdown",
   "metadata": {},
   "source": [
    "A continuación, ajustamos el modelo de cantidad. Para ello tenemos que seleccionar previamente los días de lluvia (la familia Gamma sólo acepta valores positivos). "
   ]
  },
  {
   "cell_type": "code",
   "execution_count": null,
   "metadata": {},
   "outputs": [],
   "source": [
    "## GLM for amount"
   ]
  },
  {
   "cell_type": "markdown",
   "metadata": {},
   "source": [
    "Utilizamos el modelo obtenido para predecir la cantidad en el test."
   ]
  },
  {
   "cell_type": "code",
   "execution_count": null,
   "metadata": {},
   "outputs": [],
   "source": [
    "## amount prediction for test"
   ]
  },
  {
   "cell_type": "markdown",
   "metadata": {},
   "source": [
    "De nuevo, multiplicamos la ocurrencia por la cantidad para obtener la predicción completa en el test y la validamos en función de las métricas de validación que utilizamos para CART y random forests."
   ]
  },
  {
   "cell_type": "code",
   "execution_count": null,
   "metadata": {},
   "outputs": [],
   "source": [
    "# final prediction for test\n",
    "\n",
    "# validation"
   ]
  },
  {
   "cell_type": "markdown",
   "metadata": {},
   "source": [
    "**Pregunta:** Compara estos resultados con los obtenidos para CART y random forests. ¿Qué conclusiones obtienes?"
   ]
  },
  {
   "cell_type": "markdown",
   "metadata": {},
   "source": [
    "## k nearest neighbors (k-NN)\n",
    "### (1.5 puntos)\n",
    "\n",
    "La última de las técnicas a utilizar será la k-NN (ten en cuenta que en este caso ya no tendremos que predecir por separado ocurrencia y cantidad). Comenzaremos por una versión de k-NN en la que sólo se considere el vecino más cercano (utiliza la función *knn.reg* del paquete *FNN*). \n",
    "\n",
    "**Nota:** Recuerda que en la técnica k-NN es muy importante pre-procesar adecuadamente (estandarizar) los predictores."
   ]
  },
  {
   "cell_type": "code",
   "execution_count": null,
   "metadata": {},
   "outputs": [],
   "source": [
    "## prediction for test (with k = 1)"
   ]
  },
  {
   "cell_type": "markdown",
   "metadata": {},
   "source": [
    "Como vimos en su día, el único parámetro a ajustar en la técnica k-NN es k (número de vecinos). Utilizaremos el paquete *caret* para encontrar el k óptimo en nuestro problema. Para ello, considera una cross-validación con 10 folds sobre el dataset de train y barre todos los k impares desde 1 a 50."
   ]
  },
  {
   "cell_type": "code",
   "execution_count": null,
   "metadata": {},
   "outputs": [],
   "source": [
    "library(caret)\n",
    "## finding optimum k"
   ]
  },
  {
   "cell_type": "markdown",
   "metadata": {},
   "source": [
    "Utiliza este *k* óptimo para predecir en el test."
   ]
  },
  {
   "cell_type": "code",
   "execution_count": null,
   "metadata": {},
   "outputs": [],
   "source": [
    "# prediction for test (with optimum k)"
   ]
  },
  {
   "cell_type": "markdown",
   "metadata": {},
   "source": [
    "Valida las dos predicciones (con *k=1* y con *k=óptimo*) en el test, en función de las medidas que se han ido utilizando en los apartados anteriores."
   ]
  },
  {
   "cell_type": "code",
   "execution_count": null,
   "metadata": {},
   "outputs": [],
   "source": [
    "# validation"
   ]
  },
  {
   "cell_type": "markdown",
   "metadata": {},
   "source": [
    "**Pregunta:** ¿Qué diferencias obtienes entre las dos versiones utilizadas de la técnica k-NN? ¿A qué se deben?"
   ]
  },
  {
   "cell_type": "markdown",
   "metadata": {},
   "source": [
    "## Conclusiones generales\n",
    "### (2 puntos)\n",
    "A la vista de los resultados obtenidos, argumenta razonadamete qué técnica o técnicas serían las mejores para la predicción de lluvia en Lisboa. Justifica tu respuesta."
   ]
  }
 ],
 "metadata": {
  "kernelspec": {
   "display_name": "R",
   "language": "R",
   "name": "ir"
  },
  "language_info": {
   "codemirror_mode": "r",
   "file_extension": ".r",
   "mimetype": "text/x-r-source",
   "name": "R",
   "pygments_lexer": "r",
   "version": "3.4.4"
  }
 },
 "nbformat": 4,
 "nbformat_minor": 1
}
