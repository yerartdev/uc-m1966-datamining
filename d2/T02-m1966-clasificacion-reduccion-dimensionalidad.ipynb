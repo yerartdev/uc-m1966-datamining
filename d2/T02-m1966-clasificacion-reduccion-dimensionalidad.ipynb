{
 "cells": [
  {
   "cell_type": "markdown",
   "metadata": {},
   "source": [
    "# Alumno: Gerardo de Miguel González"
   ]
  },
  {
   "cell_type": "markdown",
   "metadata": {
    "button": false,
    "new_sheet": false,
    "run_control": {
     "read_only": false
    }
   },
   "source": [
    "## Minería de Datos (Master en Data Science, UIMP-UC) "
   ]
  },
  {
   "cell_type": "markdown",
   "metadata": {
    "button": false,
    "new_sheet": false,
    "run_control": {
     "read_only": false
    }
   },
   "source": [
    "## Profesores: Steven Van Vaerenbergh, Rodrigo G. Manzanas, Joaquín Bedia y Sixto Herrera"
   ]
  },
  {
   "cell_type": "markdown",
   "metadata": {
    "button": false,
    "new_sheet": false,
    "run_control": {
     "read_only": false
    }
   },
   "source": [
    "# Tarea 2. Problemas de Clasificación - Reducción de la Dimensión\n",
    "\n",
    "En la presente tarea consideraremos el dataset `meteo.csv`, que podéis descargaros en el GitHub dedicado a este Máster ([meteo.csv](https://github.com/SantanderMetGroup/Master-Data-Science/blob/master/Data_mining/datasets/meteo.csv.)) y que ha sido utilizado en diferentes sesiones prácticas. Dicho dataset contiene en la primera columna el valor de precipitación observado en Lisboa en el periodo 1979-2008 mientras que en las restantes contiene los valores observados de diferentes variables atmosféricas en 40 puntos que cubren aproximadamente la Península Ibérica. Dichas variables serán los `predictores` del modelo mientras que la precipitación será nuestra variable objetivo. En particular los predictores son:\n",
    "\n",
    "* Altura geopotencial en 500 hPa (columnas 2:41),\n",
    "* Temperatura del aire en 850 hPa (columnas 42:81), 700 hPa (columnas 82:121) y 500 hPa (columnas 122:161), \n",
    "* Temperatura del aire en superficie (columnas 162:201),\n",
    "* Humedad específica del aire en 850 hPa (columnas 202:241) y 500 hPa (columnas 242:281) y \n",
    "* Presión al nivel del mar (columnas 282:321)\n",
    "\n",
    "Para establecer el problema de clasificación consideraremos dos umbrales de discretización, 1 mm y 20 mm, que definen la ocurrencia de precipitación (Wet days) y de precipitaciones intensas (Very heavy precipitation days), respectivamente. Puedes consultar más detalles de la definición en la web de [ECA&D](https://www.ecad.eu//indicesextremes/indicesdictionary.php).\n",
    "\n",
    "Para el desarrollo de la tarea se permitirá el uso de todo el material incluido en el Moodle de las asignatura así como el desarrollado por el alumno durante la realización de las prácticas.\n",
    "\n",
    "La entrega consisitirá de un notebook de Jupyter ó un R-MarkDown, junto con el archivo html que éste genera. Ambos ficheros se entregarán a través del Moodle de la asignatura en la tarea correspondiente."
   ]
  },
  {
   "cell_type": "markdown",
   "metadata": {
    "button": false,
    "new_sheet": false,
    "run_control": {
     "read_only": false
    }
   },
   "source": [
    "## Punto 1 (3 puntos):\n",
    "\n",
    "En esta primera parte de la tarea trataremos de ilustrar parte de los problemas reflejados en las sesiones teórico-prácticas planteando diferentes experimentos con el dataset `meteo.csv`.\n",
    "En primer lugar, considerar el dataset completo incluyendo tanto las variables predictoras como la variable objetivo. "
   ]
  },
  {
   "cell_type": "markdown",
   "metadata": {},
   "source": [
    "### Dataset Completo"
   ]
  },
  {
   "cell_type": "code",
   "execution_count": 1,
   "metadata": {},
   "outputs": [],
   "source": [
    "#::GMG::Obtengo el dataset del repositorio Github de Santander MetGroup (versión raw)\n",
    "meteo <- read.csv(url(\n",
    "    'https://raw.githubusercontent.com/SantanderMetGroup/Master-Data-Science/master/Data_mining/datasets/meteo.csv')\n",
    ")"
   ]
  },
  {
   "cell_type": "code",
   "execution_count": 2,
   "metadata": {},
   "outputs": [
    {
     "data": {
      "text/html": [
       "<ol class=list-inline>\n",
       "\t<li>10958</li>\n",
       "\t<li>322</li>\n",
       "</ol>\n"
      ],
      "text/latex": [
       "\\begin{enumerate*}\n",
       "\\item 10958\n",
       "\\item 322\n",
       "\\end{enumerate*}\n"
      ],
      "text/markdown": [
       "1. 10958\n",
       "2. 322\n",
       "\n",
       "\n"
      ],
      "text/plain": [
       "[1] 10958   322"
      ]
     },
     "metadata": {},
     "output_type": "display_data"
    }
   ],
   "source": [
    "#::GMG::Descripción básica mínima del dataset\n",
    "# https://rveryday.wordpress.com/2016/11/29/examine-a-data-frame-in-r-with-7-basic-functions/\n",
    "dim(meteo)"
   ]
  },
  {
   "cell_type": "code",
   "execution_count": 3,
   "metadata": {},
   "outputs": [
    {
     "data": {
      "text/html": [
       "<ol class=list-inline>\n",
       "\t<li>'X'</li>\n",
       "\t<li>'y'</li>\n",
       "\t<li>'X1'</li>\n",
       "\t<li>'X2'</li>\n",
       "\t<li>'X3'</li>\n",
       "\t<li>'X4'</li>\n",
       "\t<li>'X5'</li>\n",
       "\t<li>'X6'</li>\n",
       "\t<li>'X7'</li>\n",
       "\t<li>'X8'</li>\n",
       "\t<li>'X9'</li>\n",
       "\t<li>'X10'</li>\n",
       "\t<li>'X11'</li>\n",
       "\t<li>'X12'</li>\n",
       "\t<li>'X13'</li>\n",
       "\t<li>'X14'</li>\n",
       "\t<li>'X15'</li>\n",
       "\t<li>'X16'</li>\n",
       "\t<li>'X17'</li>\n",
       "\t<li>'X18'</li>\n",
       "\t<li>'X19'</li>\n",
       "\t<li>'X20'</li>\n",
       "\t<li>'X21'</li>\n",
       "\t<li>'X22'</li>\n",
       "\t<li>'X23'</li>\n",
       "\t<li>'X24'</li>\n",
       "\t<li>'X25'</li>\n",
       "\t<li>'X26'</li>\n",
       "\t<li>'X27'</li>\n",
       "\t<li>'X28'</li>\n",
       "\t<li>'X29'</li>\n",
       "\t<li>'X30'</li>\n",
       "\t<li>'X31'</li>\n",
       "\t<li>'X32'</li>\n",
       "\t<li>'X33'</li>\n",
       "\t<li>'X34'</li>\n",
       "\t<li>'X35'</li>\n",
       "\t<li>'X36'</li>\n",
       "\t<li>'X37'</li>\n",
       "\t<li>'X38'</li>\n",
       "\t<li>'X39'</li>\n",
       "\t<li>'X40'</li>\n",
       "\t<li>'X41'</li>\n",
       "\t<li>'X42'</li>\n",
       "\t<li>'X43'</li>\n",
       "\t<li>'X44'</li>\n",
       "\t<li>'X45'</li>\n",
       "\t<li>'X46'</li>\n",
       "\t<li>'X47'</li>\n",
       "\t<li>'X48'</li>\n",
       "\t<li>'X49'</li>\n",
       "\t<li>'X50'</li>\n",
       "\t<li>'X51'</li>\n",
       "\t<li>'X52'</li>\n",
       "\t<li>'X53'</li>\n",
       "\t<li>'X54'</li>\n",
       "\t<li>'X55'</li>\n",
       "\t<li>'X56'</li>\n",
       "\t<li>'X57'</li>\n",
       "\t<li>'X58'</li>\n",
       "\t<li>'X59'</li>\n",
       "\t<li>'X60'</li>\n",
       "\t<li>'X61'</li>\n",
       "\t<li>'X62'</li>\n",
       "\t<li>'X63'</li>\n",
       "\t<li>'X64'</li>\n",
       "\t<li>'X65'</li>\n",
       "\t<li>'X66'</li>\n",
       "\t<li>'X67'</li>\n",
       "\t<li>'X68'</li>\n",
       "\t<li>'X69'</li>\n",
       "\t<li>'X70'</li>\n",
       "\t<li>'X71'</li>\n",
       "\t<li>'X72'</li>\n",
       "\t<li>'X73'</li>\n",
       "\t<li>'X74'</li>\n",
       "\t<li>'X75'</li>\n",
       "\t<li>'X76'</li>\n",
       "\t<li>'X77'</li>\n",
       "\t<li>'X78'</li>\n",
       "\t<li>'X79'</li>\n",
       "\t<li>'X80'</li>\n",
       "\t<li>'X81'</li>\n",
       "\t<li>'X82'</li>\n",
       "\t<li>'X83'</li>\n",
       "\t<li>'X84'</li>\n",
       "\t<li>'X85'</li>\n",
       "\t<li>'X86'</li>\n",
       "\t<li>'X87'</li>\n",
       "\t<li>'X88'</li>\n",
       "\t<li>'X89'</li>\n",
       "\t<li>'X90'</li>\n",
       "\t<li>'X91'</li>\n",
       "\t<li>'X92'</li>\n",
       "\t<li>'X93'</li>\n",
       "\t<li>'X94'</li>\n",
       "\t<li>'X95'</li>\n",
       "\t<li>'X96'</li>\n",
       "\t<li>'X97'</li>\n",
       "\t<li>'X98'</li>\n",
       "\t<li>'X99'</li>\n",
       "\t<li>'X100'</li>\n",
       "\t<li>'X101'</li>\n",
       "\t<li>'X102'</li>\n",
       "\t<li>'X103'</li>\n",
       "\t<li>'X104'</li>\n",
       "\t<li>'X105'</li>\n",
       "\t<li>'X106'</li>\n",
       "\t<li>'X107'</li>\n",
       "\t<li>'X108'</li>\n",
       "\t<li>'X109'</li>\n",
       "\t<li>'X110'</li>\n",
       "\t<li>'X111'</li>\n",
       "\t<li>'X112'</li>\n",
       "\t<li>'X113'</li>\n",
       "\t<li>'X114'</li>\n",
       "\t<li>'X115'</li>\n",
       "\t<li>'X116'</li>\n",
       "\t<li>'X117'</li>\n",
       "\t<li>'X118'</li>\n",
       "\t<li>'X119'</li>\n",
       "\t<li>'X120'</li>\n",
       "\t<li>'X121'</li>\n",
       "\t<li>'X122'</li>\n",
       "\t<li>'X123'</li>\n",
       "\t<li>'X124'</li>\n",
       "\t<li>'X125'</li>\n",
       "\t<li>'X126'</li>\n",
       "\t<li>'X127'</li>\n",
       "\t<li>'X128'</li>\n",
       "\t<li>'X129'</li>\n",
       "\t<li>'X130'</li>\n",
       "\t<li>'X131'</li>\n",
       "\t<li>'X132'</li>\n",
       "\t<li>'X133'</li>\n",
       "\t<li>'X134'</li>\n",
       "\t<li>'X135'</li>\n",
       "\t<li>'X136'</li>\n",
       "\t<li>'X137'</li>\n",
       "\t<li>'X138'</li>\n",
       "\t<li>'X139'</li>\n",
       "\t<li>'X140'</li>\n",
       "\t<li>'X141'</li>\n",
       "\t<li>'X142'</li>\n",
       "\t<li>'X143'</li>\n",
       "\t<li>'X144'</li>\n",
       "\t<li>'X145'</li>\n",
       "\t<li>'X146'</li>\n",
       "\t<li>'X147'</li>\n",
       "\t<li>'X148'</li>\n",
       "\t<li>'X149'</li>\n",
       "\t<li>'X150'</li>\n",
       "\t<li>'X151'</li>\n",
       "\t<li>'X152'</li>\n",
       "\t<li>'X153'</li>\n",
       "\t<li>'X154'</li>\n",
       "\t<li>'X155'</li>\n",
       "\t<li>'X156'</li>\n",
       "\t<li>'X157'</li>\n",
       "\t<li>'X158'</li>\n",
       "\t<li>'X159'</li>\n",
       "\t<li>'X160'</li>\n",
       "\t<li>'X161'</li>\n",
       "\t<li>'X162'</li>\n",
       "\t<li>'X163'</li>\n",
       "\t<li>'X164'</li>\n",
       "\t<li>'X165'</li>\n",
       "\t<li>'X166'</li>\n",
       "\t<li>'X167'</li>\n",
       "\t<li>'X168'</li>\n",
       "\t<li>'X169'</li>\n",
       "\t<li>'X170'</li>\n",
       "\t<li>'X171'</li>\n",
       "\t<li>'X172'</li>\n",
       "\t<li>'X173'</li>\n",
       "\t<li>'X174'</li>\n",
       "\t<li>'X175'</li>\n",
       "\t<li>'X176'</li>\n",
       "\t<li>'X177'</li>\n",
       "\t<li>'X178'</li>\n",
       "\t<li>'X179'</li>\n",
       "\t<li>'X180'</li>\n",
       "\t<li>'X181'</li>\n",
       "\t<li>'X182'</li>\n",
       "\t<li>'X183'</li>\n",
       "\t<li>'X184'</li>\n",
       "\t<li>'X185'</li>\n",
       "\t<li>'X186'</li>\n",
       "\t<li>'X187'</li>\n",
       "\t<li>'X188'</li>\n",
       "\t<li>'X189'</li>\n",
       "\t<li>'X190'</li>\n",
       "\t<li>'X191'</li>\n",
       "\t<li>'X192'</li>\n",
       "\t<li>'X193'</li>\n",
       "\t<li>'X194'</li>\n",
       "\t<li>'X195'</li>\n",
       "\t<li>'X196'</li>\n",
       "\t<li>'X197'</li>\n",
       "\t<li>'X198'</li>\n",
       "\t<li>'X199'</li>\n",
       "\t<li>'X200'</li>\n",
       "\t<li>'X201'</li>\n",
       "\t<li>'X202'</li>\n",
       "\t<li>'X203'</li>\n",
       "\t<li>'X204'</li>\n",
       "\t<li>'X205'</li>\n",
       "\t<li>'X206'</li>\n",
       "\t<li>'X207'</li>\n",
       "\t<li>'X208'</li>\n",
       "\t<li>'X209'</li>\n",
       "\t<li>'X210'</li>\n",
       "\t<li>'X211'</li>\n",
       "\t<li>'X212'</li>\n",
       "\t<li>'X213'</li>\n",
       "\t<li>'X214'</li>\n",
       "\t<li>'X215'</li>\n",
       "\t<li>'X216'</li>\n",
       "\t<li>'X217'</li>\n",
       "\t<li>'X218'</li>\n",
       "\t<li>'X219'</li>\n",
       "\t<li>'X220'</li>\n",
       "\t<li>'X221'</li>\n",
       "\t<li>'X222'</li>\n",
       "\t<li>'X223'</li>\n",
       "\t<li>'X224'</li>\n",
       "\t<li>'X225'</li>\n",
       "\t<li>'X226'</li>\n",
       "\t<li>'X227'</li>\n",
       "\t<li>'X228'</li>\n",
       "\t<li>'X229'</li>\n",
       "\t<li>'X230'</li>\n",
       "\t<li>'X231'</li>\n",
       "\t<li>'X232'</li>\n",
       "\t<li>'X233'</li>\n",
       "\t<li>'X234'</li>\n",
       "\t<li>'X235'</li>\n",
       "\t<li>'X236'</li>\n",
       "\t<li>'X237'</li>\n",
       "\t<li>'X238'</li>\n",
       "\t<li>'X239'</li>\n",
       "\t<li>'X240'</li>\n",
       "\t<li>'X241'</li>\n",
       "\t<li>'X242'</li>\n",
       "\t<li>'X243'</li>\n",
       "\t<li>'X244'</li>\n",
       "\t<li>'X245'</li>\n",
       "\t<li>'X246'</li>\n",
       "\t<li>'X247'</li>\n",
       "\t<li>'X248'</li>\n",
       "\t<li>'X249'</li>\n",
       "\t<li>'X250'</li>\n",
       "\t<li>'X251'</li>\n",
       "\t<li>'X252'</li>\n",
       "\t<li>'X253'</li>\n",
       "\t<li>'X254'</li>\n",
       "\t<li>'X255'</li>\n",
       "\t<li>'X256'</li>\n",
       "\t<li>'X257'</li>\n",
       "\t<li>'X258'</li>\n",
       "\t<li>'X259'</li>\n",
       "\t<li>'X260'</li>\n",
       "\t<li>'X261'</li>\n",
       "\t<li>'X262'</li>\n",
       "\t<li>'X263'</li>\n",
       "\t<li>'X264'</li>\n",
       "\t<li>'X265'</li>\n",
       "\t<li>'X266'</li>\n",
       "\t<li>'X267'</li>\n",
       "\t<li>'X268'</li>\n",
       "\t<li>'X269'</li>\n",
       "\t<li>'X270'</li>\n",
       "\t<li>'X271'</li>\n",
       "\t<li>'X272'</li>\n",
       "\t<li>'X273'</li>\n",
       "\t<li>'X274'</li>\n",
       "\t<li>'X275'</li>\n",
       "\t<li>'X276'</li>\n",
       "\t<li>'X277'</li>\n",
       "\t<li>'X278'</li>\n",
       "\t<li>'X279'</li>\n",
       "\t<li>'X280'</li>\n",
       "\t<li>'X281'</li>\n",
       "\t<li>'X282'</li>\n",
       "\t<li>'X283'</li>\n",
       "\t<li>'X284'</li>\n",
       "\t<li>'X285'</li>\n",
       "\t<li>'X286'</li>\n",
       "\t<li>'X287'</li>\n",
       "\t<li>'X288'</li>\n",
       "\t<li>'X289'</li>\n",
       "\t<li>'X290'</li>\n",
       "\t<li>'X291'</li>\n",
       "\t<li>'X292'</li>\n",
       "\t<li>'X293'</li>\n",
       "\t<li>'X294'</li>\n",
       "\t<li>'X295'</li>\n",
       "\t<li>'X296'</li>\n",
       "\t<li>'X297'</li>\n",
       "\t<li>'X298'</li>\n",
       "\t<li>'X299'</li>\n",
       "\t<li>'X300'</li>\n",
       "\t<li>'X301'</li>\n",
       "\t<li>'X302'</li>\n",
       "\t<li>'X303'</li>\n",
       "\t<li>'X304'</li>\n",
       "\t<li>'X305'</li>\n",
       "\t<li>'X306'</li>\n",
       "\t<li>'X307'</li>\n",
       "\t<li>'X308'</li>\n",
       "\t<li>'X309'</li>\n",
       "\t<li>'X310'</li>\n",
       "\t<li>'X311'</li>\n",
       "\t<li>'X312'</li>\n",
       "\t<li>'X313'</li>\n",
       "\t<li>'X314'</li>\n",
       "\t<li>'X315'</li>\n",
       "\t<li>'X316'</li>\n",
       "\t<li>'X317'</li>\n",
       "\t<li>'X318'</li>\n",
       "\t<li>'X319'</li>\n",
       "\t<li>'X320'</li>\n",
       "</ol>\n"
      ],
      "text/latex": [
       "\\begin{enumerate*}\n",
       "\\item 'X'\n",
       "\\item 'y'\n",
       "\\item 'X1'\n",
       "\\item 'X2'\n",
       "\\item 'X3'\n",
       "\\item 'X4'\n",
       "\\item 'X5'\n",
       "\\item 'X6'\n",
       "\\item 'X7'\n",
       "\\item 'X8'\n",
       "\\item 'X9'\n",
       "\\item 'X10'\n",
       "\\item 'X11'\n",
       "\\item 'X12'\n",
       "\\item 'X13'\n",
       "\\item 'X14'\n",
       "\\item 'X15'\n",
       "\\item 'X16'\n",
       "\\item 'X17'\n",
       "\\item 'X18'\n",
       "\\item 'X19'\n",
       "\\item 'X20'\n",
       "\\item 'X21'\n",
       "\\item 'X22'\n",
       "\\item 'X23'\n",
       "\\item 'X24'\n",
       "\\item 'X25'\n",
       "\\item 'X26'\n",
       "\\item 'X27'\n",
       "\\item 'X28'\n",
       "\\item 'X29'\n",
       "\\item 'X30'\n",
       "\\item 'X31'\n",
       "\\item 'X32'\n",
       "\\item 'X33'\n",
       "\\item 'X34'\n",
       "\\item 'X35'\n",
       "\\item 'X36'\n",
       "\\item 'X37'\n",
       "\\item 'X38'\n",
       "\\item 'X39'\n",
       "\\item 'X40'\n",
       "\\item 'X41'\n",
       "\\item 'X42'\n",
       "\\item 'X43'\n",
       "\\item 'X44'\n",
       "\\item 'X45'\n",
       "\\item 'X46'\n",
       "\\item 'X47'\n",
       "\\item 'X48'\n",
       "\\item 'X49'\n",
       "\\item 'X50'\n",
       "\\item 'X51'\n",
       "\\item 'X52'\n",
       "\\item 'X53'\n",
       "\\item 'X54'\n",
       "\\item 'X55'\n",
       "\\item 'X56'\n",
       "\\item 'X57'\n",
       "\\item 'X58'\n",
       "\\item 'X59'\n",
       "\\item 'X60'\n",
       "\\item 'X61'\n",
       "\\item 'X62'\n",
       "\\item 'X63'\n",
       "\\item 'X64'\n",
       "\\item 'X65'\n",
       "\\item 'X66'\n",
       "\\item 'X67'\n",
       "\\item 'X68'\n",
       "\\item 'X69'\n",
       "\\item 'X70'\n",
       "\\item 'X71'\n",
       "\\item 'X72'\n",
       "\\item 'X73'\n",
       "\\item 'X74'\n",
       "\\item 'X75'\n",
       "\\item 'X76'\n",
       "\\item 'X77'\n",
       "\\item 'X78'\n",
       "\\item 'X79'\n",
       "\\item 'X80'\n",
       "\\item 'X81'\n",
       "\\item 'X82'\n",
       "\\item 'X83'\n",
       "\\item 'X84'\n",
       "\\item 'X85'\n",
       "\\item 'X86'\n",
       "\\item 'X87'\n",
       "\\item 'X88'\n",
       "\\item 'X89'\n",
       "\\item 'X90'\n",
       "\\item 'X91'\n",
       "\\item 'X92'\n",
       "\\item 'X93'\n",
       "\\item 'X94'\n",
       "\\item 'X95'\n",
       "\\item 'X96'\n",
       "\\item 'X97'\n",
       "\\item 'X98'\n",
       "\\item 'X99'\n",
       "\\item 'X100'\n",
       "\\item 'X101'\n",
       "\\item 'X102'\n",
       "\\item 'X103'\n",
       "\\item 'X104'\n",
       "\\item 'X105'\n",
       "\\item 'X106'\n",
       "\\item 'X107'\n",
       "\\item 'X108'\n",
       "\\item 'X109'\n",
       "\\item 'X110'\n",
       "\\item 'X111'\n",
       "\\item 'X112'\n",
       "\\item 'X113'\n",
       "\\item 'X114'\n",
       "\\item 'X115'\n",
       "\\item 'X116'\n",
       "\\item 'X117'\n",
       "\\item 'X118'\n",
       "\\item 'X119'\n",
       "\\item 'X120'\n",
       "\\item 'X121'\n",
       "\\item 'X122'\n",
       "\\item 'X123'\n",
       "\\item 'X124'\n",
       "\\item 'X125'\n",
       "\\item 'X126'\n",
       "\\item 'X127'\n",
       "\\item 'X128'\n",
       "\\item 'X129'\n",
       "\\item 'X130'\n",
       "\\item 'X131'\n",
       "\\item 'X132'\n",
       "\\item 'X133'\n",
       "\\item 'X134'\n",
       "\\item 'X135'\n",
       "\\item 'X136'\n",
       "\\item 'X137'\n",
       "\\item 'X138'\n",
       "\\item 'X139'\n",
       "\\item 'X140'\n",
       "\\item 'X141'\n",
       "\\item 'X142'\n",
       "\\item 'X143'\n",
       "\\item 'X144'\n",
       "\\item 'X145'\n",
       "\\item 'X146'\n",
       "\\item 'X147'\n",
       "\\item 'X148'\n",
       "\\item 'X149'\n",
       "\\item 'X150'\n",
       "\\item 'X151'\n",
       "\\item 'X152'\n",
       "\\item 'X153'\n",
       "\\item 'X154'\n",
       "\\item 'X155'\n",
       "\\item 'X156'\n",
       "\\item 'X157'\n",
       "\\item 'X158'\n",
       "\\item 'X159'\n",
       "\\item 'X160'\n",
       "\\item 'X161'\n",
       "\\item 'X162'\n",
       "\\item 'X163'\n",
       "\\item 'X164'\n",
       "\\item 'X165'\n",
       "\\item 'X166'\n",
       "\\item 'X167'\n",
       "\\item 'X168'\n",
       "\\item 'X169'\n",
       "\\item 'X170'\n",
       "\\item 'X171'\n",
       "\\item 'X172'\n",
       "\\item 'X173'\n",
       "\\item 'X174'\n",
       "\\item 'X175'\n",
       "\\item 'X176'\n",
       "\\item 'X177'\n",
       "\\item 'X178'\n",
       "\\item 'X179'\n",
       "\\item 'X180'\n",
       "\\item 'X181'\n",
       "\\item 'X182'\n",
       "\\item 'X183'\n",
       "\\item 'X184'\n",
       "\\item 'X185'\n",
       "\\item 'X186'\n",
       "\\item 'X187'\n",
       "\\item 'X188'\n",
       "\\item 'X189'\n",
       "\\item 'X190'\n",
       "\\item 'X191'\n",
       "\\item 'X192'\n",
       "\\item 'X193'\n",
       "\\item 'X194'\n",
       "\\item 'X195'\n",
       "\\item 'X196'\n",
       "\\item 'X197'\n",
       "\\item 'X198'\n",
       "\\item 'X199'\n",
       "\\item 'X200'\n",
       "\\item 'X201'\n",
       "\\item 'X202'\n",
       "\\item 'X203'\n",
       "\\item 'X204'\n",
       "\\item 'X205'\n",
       "\\item 'X206'\n",
       "\\item 'X207'\n",
       "\\item 'X208'\n",
       "\\item 'X209'\n",
       "\\item 'X210'\n",
       "\\item 'X211'\n",
       "\\item 'X212'\n",
       "\\item 'X213'\n",
       "\\item 'X214'\n",
       "\\item 'X215'\n",
       "\\item 'X216'\n",
       "\\item 'X217'\n",
       "\\item 'X218'\n",
       "\\item 'X219'\n",
       "\\item 'X220'\n",
       "\\item 'X221'\n",
       "\\item 'X222'\n",
       "\\item 'X223'\n",
       "\\item 'X224'\n",
       "\\item 'X225'\n",
       "\\item 'X226'\n",
       "\\item 'X227'\n",
       "\\item 'X228'\n",
       "\\item 'X229'\n",
       "\\item 'X230'\n",
       "\\item 'X231'\n",
       "\\item 'X232'\n",
       "\\item 'X233'\n",
       "\\item 'X234'\n",
       "\\item 'X235'\n",
       "\\item 'X236'\n",
       "\\item 'X237'\n",
       "\\item 'X238'\n",
       "\\item 'X239'\n",
       "\\item 'X240'\n",
       "\\item 'X241'\n",
       "\\item 'X242'\n",
       "\\item 'X243'\n",
       "\\item 'X244'\n",
       "\\item 'X245'\n",
       "\\item 'X246'\n",
       "\\item 'X247'\n",
       "\\item 'X248'\n",
       "\\item 'X249'\n",
       "\\item 'X250'\n",
       "\\item 'X251'\n",
       "\\item 'X252'\n",
       "\\item 'X253'\n",
       "\\item 'X254'\n",
       "\\item 'X255'\n",
       "\\item 'X256'\n",
       "\\item 'X257'\n",
       "\\item 'X258'\n",
       "\\item 'X259'\n",
       "\\item 'X260'\n",
       "\\item 'X261'\n",
       "\\item 'X262'\n",
       "\\item 'X263'\n",
       "\\item 'X264'\n",
       "\\item 'X265'\n",
       "\\item 'X266'\n",
       "\\item 'X267'\n",
       "\\item 'X268'\n",
       "\\item 'X269'\n",
       "\\item 'X270'\n",
       "\\item 'X271'\n",
       "\\item 'X272'\n",
       "\\item 'X273'\n",
       "\\item 'X274'\n",
       "\\item 'X275'\n",
       "\\item 'X276'\n",
       "\\item 'X277'\n",
       "\\item 'X278'\n",
       "\\item 'X279'\n",
       "\\item 'X280'\n",
       "\\item 'X281'\n",
       "\\item 'X282'\n",
       "\\item 'X283'\n",
       "\\item 'X284'\n",
       "\\item 'X285'\n",
       "\\item 'X286'\n",
       "\\item 'X287'\n",
       "\\item 'X288'\n",
       "\\item 'X289'\n",
       "\\item 'X290'\n",
       "\\item 'X291'\n",
       "\\item 'X292'\n",
       "\\item 'X293'\n",
       "\\item 'X294'\n",
       "\\item 'X295'\n",
       "\\item 'X296'\n",
       "\\item 'X297'\n",
       "\\item 'X298'\n",
       "\\item 'X299'\n",
       "\\item 'X300'\n",
       "\\item 'X301'\n",
       "\\item 'X302'\n",
       "\\item 'X303'\n",
       "\\item 'X304'\n",
       "\\item 'X305'\n",
       "\\item 'X306'\n",
       "\\item 'X307'\n",
       "\\item 'X308'\n",
       "\\item 'X309'\n",
       "\\item 'X310'\n",
       "\\item 'X311'\n",
       "\\item 'X312'\n",
       "\\item 'X313'\n",
       "\\item 'X314'\n",
       "\\item 'X315'\n",
       "\\item 'X316'\n",
       "\\item 'X317'\n",
       "\\item 'X318'\n",
       "\\item 'X319'\n",
       "\\item 'X320'\n",
       "\\end{enumerate*}\n"
      ],
      "text/markdown": [
       "1. 'X'\n",
       "2. 'y'\n",
       "3. 'X1'\n",
       "4. 'X2'\n",
       "5. 'X3'\n",
       "6. 'X4'\n",
       "7. 'X5'\n",
       "8. 'X6'\n",
       "9. 'X7'\n",
       "10. 'X8'\n",
       "11. 'X9'\n",
       "12. 'X10'\n",
       "13. 'X11'\n",
       "14. 'X12'\n",
       "15. 'X13'\n",
       "16. 'X14'\n",
       "17. 'X15'\n",
       "18. 'X16'\n",
       "19. 'X17'\n",
       "20. 'X18'\n",
       "21. 'X19'\n",
       "22. 'X20'\n",
       "23. 'X21'\n",
       "24. 'X22'\n",
       "25. 'X23'\n",
       "26. 'X24'\n",
       "27. 'X25'\n",
       "28. 'X26'\n",
       "29. 'X27'\n",
       "30. 'X28'\n",
       "31. 'X29'\n",
       "32. 'X30'\n",
       "33. 'X31'\n",
       "34. 'X32'\n",
       "35. 'X33'\n",
       "36. 'X34'\n",
       "37. 'X35'\n",
       "38. 'X36'\n",
       "39. 'X37'\n",
       "40. 'X38'\n",
       "41. 'X39'\n",
       "42. 'X40'\n",
       "43. 'X41'\n",
       "44. 'X42'\n",
       "45. 'X43'\n",
       "46. 'X44'\n",
       "47. 'X45'\n",
       "48. 'X46'\n",
       "49. 'X47'\n",
       "50. 'X48'\n",
       "51. 'X49'\n",
       "52. 'X50'\n",
       "53. 'X51'\n",
       "54. 'X52'\n",
       "55. 'X53'\n",
       "56. 'X54'\n",
       "57. 'X55'\n",
       "58. 'X56'\n",
       "59. 'X57'\n",
       "60. 'X58'\n",
       "61. 'X59'\n",
       "62. 'X60'\n",
       "63. 'X61'\n",
       "64. 'X62'\n",
       "65. 'X63'\n",
       "66. 'X64'\n",
       "67. 'X65'\n",
       "68. 'X66'\n",
       "69. 'X67'\n",
       "70. 'X68'\n",
       "71. 'X69'\n",
       "72. 'X70'\n",
       "73. 'X71'\n",
       "74. 'X72'\n",
       "75. 'X73'\n",
       "76. 'X74'\n",
       "77. 'X75'\n",
       "78. 'X76'\n",
       "79. 'X77'\n",
       "80. 'X78'\n",
       "81. 'X79'\n",
       "82. 'X80'\n",
       "83. 'X81'\n",
       "84. 'X82'\n",
       "85. 'X83'\n",
       "86. 'X84'\n",
       "87. 'X85'\n",
       "88. 'X86'\n",
       "89. 'X87'\n",
       "90. 'X88'\n",
       "91. 'X89'\n",
       "92. 'X90'\n",
       "93. 'X91'\n",
       "94. 'X92'\n",
       "95. 'X93'\n",
       "96. 'X94'\n",
       "97. 'X95'\n",
       "98. 'X96'\n",
       "99. 'X97'\n",
       "100. 'X98'\n",
       "101. 'X99'\n",
       "102. 'X100'\n",
       "103. 'X101'\n",
       "104. 'X102'\n",
       "105. 'X103'\n",
       "106. 'X104'\n",
       "107. 'X105'\n",
       "108. 'X106'\n",
       "109. 'X107'\n",
       "110. 'X108'\n",
       "111. 'X109'\n",
       "112. 'X110'\n",
       "113. 'X111'\n",
       "114. 'X112'\n",
       "115. 'X113'\n",
       "116. 'X114'\n",
       "117. 'X115'\n",
       "118. 'X116'\n",
       "119. 'X117'\n",
       "120. 'X118'\n",
       "121. 'X119'\n",
       "122. 'X120'\n",
       "123. 'X121'\n",
       "124. 'X122'\n",
       "125. 'X123'\n",
       "126. 'X124'\n",
       "127. 'X125'\n",
       "128. 'X126'\n",
       "129. 'X127'\n",
       "130. 'X128'\n",
       "131. 'X129'\n",
       "132. 'X130'\n",
       "133. 'X131'\n",
       "134. 'X132'\n",
       "135. 'X133'\n",
       "136. 'X134'\n",
       "137. 'X135'\n",
       "138. 'X136'\n",
       "139. 'X137'\n",
       "140. 'X138'\n",
       "141. 'X139'\n",
       "142. 'X140'\n",
       "143. 'X141'\n",
       "144. 'X142'\n",
       "145. 'X143'\n",
       "146. 'X144'\n",
       "147. 'X145'\n",
       "148. 'X146'\n",
       "149. 'X147'\n",
       "150. 'X148'\n",
       "151. 'X149'\n",
       "152. 'X150'\n",
       "153. 'X151'\n",
       "154. 'X152'\n",
       "155. 'X153'\n",
       "156. 'X154'\n",
       "157. 'X155'\n",
       "158. 'X156'\n",
       "159. 'X157'\n",
       "160. 'X158'\n",
       "161. 'X159'\n",
       "162. 'X160'\n",
       "163. 'X161'\n",
       "164. 'X162'\n",
       "165. 'X163'\n",
       "166. 'X164'\n",
       "167. 'X165'\n",
       "168. 'X166'\n",
       "169. 'X167'\n",
       "170. 'X168'\n",
       "171. 'X169'\n",
       "172. 'X170'\n",
       "173. 'X171'\n",
       "174. 'X172'\n",
       "175. 'X173'\n",
       "176. 'X174'\n",
       "177. 'X175'\n",
       "178. 'X176'\n",
       "179. 'X177'\n",
       "180. 'X178'\n",
       "181. 'X179'\n",
       "182. 'X180'\n",
       "183. 'X181'\n",
       "184. 'X182'\n",
       "185. 'X183'\n",
       "186. 'X184'\n",
       "187. 'X185'\n",
       "188. 'X186'\n",
       "189. 'X187'\n",
       "190. 'X188'\n",
       "191. 'X189'\n",
       "192. 'X190'\n",
       "193. 'X191'\n",
       "194. 'X192'\n",
       "195. 'X193'\n",
       "196. 'X194'\n",
       "197. 'X195'\n",
       "198. 'X196'\n",
       "199. 'X197'\n",
       "200. 'X198'\n",
       "201. 'X199'\n",
       "202. 'X200'\n",
       "203. 'X201'\n",
       "204. 'X202'\n",
       "205. 'X203'\n",
       "206. 'X204'\n",
       "207. 'X205'\n",
       "208. 'X206'\n",
       "209. 'X207'\n",
       "210. 'X208'\n",
       "211. 'X209'\n",
       "212. 'X210'\n",
       "213. 'X211'\n",
       "214. 'X212'\n",
       "215. 'X213'\n",
       "216. 'X214'\n",
       "217. 'X215'\n",
       "218. 'X216'\n",
       "219. 'X217'\n",
       "220. 'X218'\n",
       "221. 'X219'\n",
       "222. 'X220'\n",
       "223. 'X221'\n",
       "224. 'X222'\n",
       "225. 'X223'\n",
       "226. 'X224'\n",
       "227. 'X225'\n",
       "228. 'X226'\n",
       "229. 'X227'\n",
       "230. 'X228'\n",
       "231. 'X229'\n",
       "232. 'X230'\n",
       "233. 'X231'\n",
       "234. 'X232'\n",
       "235. 'X233'\n",
       "236. 'X234'\n",
       "237. 'X235'\n",
       "238. 'X236'\n",
       "239. 'X237'\n",
       "240. 'X238'\n",
       "241. 'X239'\n",
       "242. 'X240'\n",
       "243. 'X241'\n",
       "244. 'X242'\n",
       "245. 'X243'\n",
       "246. 'X244'\n",
       "247. 'X245'\n",
       "248. 'X246'\n",
       "249. 'X247'\n",
       "250. 'X248'\n",
       "251. 'X249'\n",
       "252. 'X250'\n",
       "253. 'X251'\n",
       "254. 'X252'\n",
       "255. 'X253'\n",
       "256. 'X254'\n",
       "257. 'X255'\n",
       "258. 'X256'\n",
       "259. 'X257'\n",
       "260. 'X258'\n",
       "261. 'X259'\n",
       "262. 'X260'\n",
       "263. 'X261'\n",
       "264. 'X262'\n",
       "265. 'X263'\n",
       "266. 'X264'\n",
       "267. 'X265'\n",
       "268. 'X266'\n",
       "269. 'X267'\n",
       "270. 'X268'\n",
       "271. 'X269'\n",
       "272. 'X270'\n",
       "273. 'X271'\n",
       "274. 'X272'\n",
       "275. 'X273'\n",
       "276. 'X274'\n",
       "277. 'X275'\n",
       "278. 'X276'\n",
       "279. 'X277'\n",
       "280. 'X278'\n",
       "281. 'X279'\n",
       "282. 'X280'\n",
       "283. 'X281'\n",
       "284. 'X282'\n",
       "285. 'X283'\n",
       "286. 'X284'\n",
       "287. 'X285'\n",
       "288. 'X286'\n",
       "289. 'X287'\n",
       "290. 'X288'\n",
       "291. 'X289'\n",
       "292. 'X290'\n",
       "293. 'X291'\n",
       "294. 'X292'\n",
       "295. 'X293'\n",
       "296. 'X294'\n",
       "297. 'X295'\n",
       "298. 'X296'\n",
       "299. 'X297'\n",
       "300. 'X298'\n",
       "301. 'X299'\n",
       "302. 'X300'\n",
       "303. 'X301'\n",
       "304. 'X302'\n",
       "305. 'X303'\n",
       "306. 'X304'\n",
       "307. 'X305'\n",
       "308. 'X306'\n",
       "309. 'X307'\n",
       "310. 'X308'\n",
       "311. 'X309'\n",
       "312. 'X310'\n",
       "313. 'X311'\n",
       "314. 'X312'\n",
       "315. 'X313'\n",
       "316. 'X314'\n",
       "317. 'X315'\n",
       "318. 'X316'\n",
       "319. 'X317'\n",
       "320. 'X318'\n",
       "321. 'X319'\n",
       "322. 'X320'\n",
       "\n",
       "\n"
      ],
      "text/plain": [
       "  [1] \"X\"    \"y\"    \"X1\"   \"X2\"   \"X3\"   \"X4\"   \"X5\"   \"X6\"   \"X7\"   \"X8\"  \n",
       " [11] \"X9\"   \"X10\"  \"X11\"  \"X12\"  \"X13\"  \"X14\"  \"X15\"  \"X16\"  \"X17\"  \"X18\" \n",
       " [21] \"X19\"  \"X20\"  \"X21\"  \"X22\"  \"X23\"  \"X24\"  \"X25\"  \"X26\"  \"X27\"  \"X28\" \n",
       " [31] \"X29\"  \"X30\"  \"X31\"  \"X32\"  \"X33\"  \"X34\"  \"X35\"  \"X36\"  \"X37\"  \"X38\" \n",
       " [41] \"X39\"  \"X40\"  \"X41\"  \"X42\"  \"X43\"  \"X44\"  \"X45\"  \"X46\"  \"X47\"  \"X48\" \n",
       " [51] \"X49\"  \"X50\"  \"X51\"  \"X52\"  \"X53\"  \"X54\"  \"X55\"  \"X56\"  \"X57\"  \"X58\" \n",
       " [61] \"X59\"  \"X60\"  \"X61\"  \"X62\"  \"X63\"  \"X64\"  \"X65\"  \"X66\"  \"X67\"  \"X68\" \n",
       " [71] \"X69\"  \"X70\"  \"X71\"  \"X72\"  \"X73\"  \"X74\"  \"X75\"  \"X76\"  \"X77\"  \"X78\" \n",
       " [81] \"X79\"  \"X80\"  \"X81\"  \"X82\"  \"X83\"  \"X84\"  \"X85\"  \"X86\"  \"X87\"  \"X88\" \n",
       " [91] \"X89\"  \"X90\"  \"X91\"  \"X92\"  \"X93\"  \"X94\"  \"X95\"  \"X96\"  \"X97\"  \"X98\" \n",
       "[101] \"X99\"  \"X100\" \"X101\" \"X102\" \"X103\" \"X104\" \"X105\" \"X106\" \"X107\" \"X108\"\n",
       "[111] \"X109\" \"X110\" \"X111\" \"X112\" \"X113\" \"X114\" \"X115\" \"X116\" \"X117\" \"X118\"\n",
       "[121] \"X119\" \"X120\" \"X121\" \"X122\" \"X123\" \"X124\" \"X125\" \"X126\" \"X127\" \"X128\"\n",
       "[131] \"X129\" \"X130\" \"X131\" \"X132\" \"X133\" \"X134\" \"X135\" \"X136\" \"X137\" \"X138\"\n",
       "[141] \"X139\" \"X140\" \"X141\" \"X142\" \"X143\" \"X144\" \"X145\" \"X146\" \"X147\" \"X148\"\n",
       "[151] \"X149\" \"X150\" \"X151\" \"X152\" \"X153\" \"X154\" \"X155\" \"X156\" \"X157\" \"X158\"\n",
       "[161] \"X159\" \"X160\" \"X161\" \"X162\" \"X163\" \"X164\" \"X165\" \"X166\" \"X167\" \"X168\"\n",
       "[171] \"X169\" \"X170\" \"X171\" \"X172\" \"X173\" \"X174\" \"X175\" \"X176\" \"X177\" \"X178\"\n",
       "[181] \"X179\" \"X180\" \"X181\" \"X182\" \"X183\" \"X184\" \"X185\" \"X186\" \"X187\" \"X188\"\n",
       "[191] \"X189\" \"X190\" \"X191\" \"X192\" \"X193\" \"X194\" \"X195\" \"X196\" \"X197\" \"X198\"\n",
       "[201] \"X199\" \"X200\" \"X201\" \"X202\" \"X203\" \"X204\" \"X205\" \"X206\" \"X207\" \"X208\"\n",
       "[211] \"X209\" \"X210\" \"X211\" \"X212\" \"X213\" \"X214\" \"X215\" \"X216\" \"X217\" \"X218\"\n",
       "[221] \"X219\" \"X220\" \"X221\" \"X222\" \"X223\" \"X224\" \"X225\" \"X226\" \"X227\" \"X228\"\n",
       "[231] \"X229\" \"X230\" \"X231\" \"X232\" \"X233\" \"X234\" \"X235\" \"X236\" \"X237\" \"X238\"\n",
       "[241] \"X239\" \"X240\" \"X241\" \"X242\" \"X243\" \"X244\" \"X245\" \"X246\" \"X247\" \"X248\"\n",
       "[251] \"X249\" \"X250\" \"X251\" \"X252\" \"X253\" \"X254\" \"X255\" \"X256\" \"X257\" \"X258\"\n",
       "[261] \"X259\" \"X260\" \"X261\" \"X262\" \"X263\" \"X264\" \"X265\" \"X266\" \"X267\" \"X268\"\n",
       "[271] \"X269\" \"X270\" \"X271\" \"X272\" \"X273\" \"X274\" \"X275\" \"X276\" \"X277\" \"X278\"\n",
       "[281] \"X279\" \"X280\" \"X281\" \"X282\" \"X283\" \"X284\" \"X285\" \"X286\" \"X287\" \"X288\"\n",
       "[291] \"X289\" \"X290\" \"X291\" \"X292\" \"X293\" \"X294\" \"X295\" \"X296\" \"X297\" \"X298\"\n",
       "[301] \"X299\" \"X300\" \"X301\" \"X302\" \"X303\" \"X304\" \"X305\" \"X306\" \"X307\" \"X308\"\n",
       "[311] \"X309\" \"X310\" \"X311\" \"X312\" \"X313\" \"X314\" \"X315\" \"X316\" \"X317\" \"X318\"\n",
       "[321] \"X319\" \"X320\""
      ]
     },
     "metadata": {},
     "output_type": "display_data"
    }
   ],
   "source": [
    "colnames(meteo)"
   ]
  },
  {
   "cell_type": "code",
   "execution_count": 4,
   "metadata": {},
   "outputs": [
    {
     "name": "stdout",
     "output_type": "stream",
     "text": [
      " int [1:10958] 1 2 3 4 5 6 7 8 9 10 ...\n"
     ]
    }
   ],
   "source": [
    "#::GMG::La variable X es un índice que NO necesitamos\n",
    "str(meteo$X)"
   ]
  },
  {
   "cell_type": "code",
   "execution_count": 5,
   "metadata": {},
   "outputs": [],
   "source": [
    "meteo$X <- NULL"
   ]
  },
  {
   "cell_type": "code",
   "execution_count": 6,
   "metadata": {},
   "outputs": [
    {
     "data": {
      "text/html": [
       "0"
      ],
      "text/latex": [
       "0"
      ],
      "text/markdown": [
       "0"
      ],
      "text/plain": [
       "[1] 0"
      ]
     },
     "metadata": {},
     "output_type": "display_data"
    }
   ],
   "source": [
    "#::GMG::Veo si hay 'missing values'\n",
    "# https://stackoverflow.com/questions/42079756/testing-for-missing-values-in-r\n",
    "# https://stackoverflow.com/questions/24027605/determine-the-number-of-na-values-in-a-column\n",
    "sum(is.na(meteo))"
   ]
  },
  {
   "cell_type": "code",
   "execution_count": 7,
   "metadata": {},
   "outputs": [
    {
     "data": {
      "text/html": [
       "<table>\n",
       "<thead><tr><th scope=col>y</th><th scope=col>X1</th><th scope=col>X2</th><th scope=col>X3</th><th scope=col>X4</th><th scope=col>X5</th><th scope=col>X6</th><th scope=col>X7</th><th scope=col>X8</th><th scope=col>X9</th><th scope=col>⋯</th><th scope=col>X311</th><th scope=col>X312</th><th scope=col>X313</th><th scope=col>X314</th><th scope=col>X315</th><th scope=col>X316</th><th scope=col>X317</th><th scope=col>X318</th><th scope=col>X319</th><th scope=col>X320</th></tr></thead>\n",
       "<tbody>\n",
       "\t<tr><td>10.9    </td><td>57042.96</td><td>56534.84</td><td>55884.40</td><td>55175.59</td><td>54458.21</td><td>56980.27</td><td>56460.59</td><td>55800.02</td><td>55051.15</td><td>⋯       </td><td>101985.9</td><td>101627.3</td><td>101357.2</td><td>101110.7</td><td>101291.0</td><td>101814.9</td><td>101479.4</td><td>101164.5</td><td>100970.7</td><td>100905.3</td></tr>\n",
       "\t<tr><td> 0.6    </td><td>56963.20</td><td>56493.45</td><td>55930.82</td><td>55340.20</td><td>54768.63</td><td>56856.57</td><td>56361.95</td><td>55776.76</td><td>55164.26</td><td>⋯       </td><td>102048.1</td><td>102069.7</td><td>102204.5</td><td>102480.3</td><td>102858.8</td><td>101973.3</td><td>102033.3</td><td>102165.5</td><td>102323.9</td><td>102534.2</td></tr>\n",
       "\t<tr><td>13.0    </td><td>56522.59</td><td>55971.40</td><td>55304.34</td><td>54498.03</td><td>53725.15</td><td>56514.84</td><td>55977.71</td><td>55327.28</td><td>54569.78</td><td>⋯       </td><td>102399.1</td><td>102448.4</td><td>102438.3</td><td>102434.3</td><td>102339.8</td><td>102669.7</td><td>102565.5</td><td>102530.3</td><td>102453.6</td><td>102487.1</td></tr>\n",
       "\t<tr><td> 0.0    </td><td>54627.98</td><td>53979.80</td><td>53494.05</td><td>53072.98</td><td>52616.36</td><td>54776.17</td><td>54089.05</td><td>53516.98</td><td>53012.86</td><td>⋯       </td><td>100970.0</td><td>100672.8</td><td>100360.7</td><td>100133.7</td><td>100028.4</td><td>101126.2</td><td>100700.0</td><td>100381.3</td><td>100118.3</td><td>100319.8</td></tr>\n",
       "\t<tr><td> 0.0    </td><td>53584.38</td><td>53391.01</td><td>53310.38</td><td>53292.82</td><td>53340.13</td><td>53781.70</td><td>53498.13</td><td>53306.82</td><td>53213.26</td><td>⋯       </td><td>100652.7</td><td>100663.5</td><td>100747.7</td><td>100934.0</td><td>101015.8</td><td>100801.6</td><td>100685.3</td><td>100777.5</td><td>100909.4</td><td>101164.7</td></tr>\n",
       "</tbody>\n",
       "</table>\n"
      ],
      "text/latex": [
       "\\begin{tabular}{r|lllllllllllllllllllllllllllllllllllllllllllllllllllllllllllllllllllllllllllllllllllllllllllllllllllllllllllllllllllllllllllllllllllllllllllllllllllllllllllllllllllllllllllllllllllllllllllllllllllllllllllllllllllllllllllllllllllllllllllllllllllllllllllllllllllllllllllllllllllllllllllllllllllllllllllllllllllllllllllllllll}\n",
       " y & X1 & X2 & X3 & X4 & X5 & X6 & X7 & X8 & X9 & ⋯ & X311 & X312 & X313 & X314 & X315 & X316 & X317 & X318 & X319 & X320\\\\\n",
       "\\hline\n",
       "\t 10.9     & 57042.96 & 56534.84 & 55884.40 & 55175.59 & 54458.21 & 56980.27 & 56460.59 & 55800.02 & 55051.15 & ⋯        & 101985.9 & 101627.3 & 101357.2 & 101110.7 & 101291.0 & 101814.9 & 101479.4 & 101164.5 & 100970.7 & 100905.3\\\\\n",
       "\t  0.6     & 56963.20 & 56493.45 & 55930.82 & 55340.20 & 54768.63 & 56856.57 & 56361.95 & 55776.76 & 55164.26 & ⋯        & 102048.1 & 102069.7 & 102204.5 & 102480.3 & 102858.8 & 101973.3 & 102033.3 & 102165.5 & 102323.9 & 102534.2\\\\\n",
       "\t 13.0     & 56522.59 & 55971.40 & 55304.34 & 54498.03 & 53725.15 & 56514.84 & 55977.71 & 55327.28 & 54569.78 & ⋯        & 102399.1 & 102448.4 & 102438.3 & 102434.3 & 102339.8 & 102669.7 & 102565.5 & 102530.3 & 102453.6 & 102487.1\\\\\n",
       "\t  0.0     & 54627.98 & 53979.80 & 53494.05 & 53072.98 & 52616.36 & 54776.17 & 54089.05 & 53516.98 & 53012.86 & ⋯        & 100970.0 & 100672.8 & 100360.7 & 100133.7 & 100028.4 & 101126.2 & 100700.0 & 100381.3 & 100118.3 & 100319.8\\\\\n",
       "\t  0.0     & 53584.38 & 53391.01 & 53310.38 & 53292.82 & 53340.13 & 53781.70 & 53498.13 & 53306.82 & 53213.26 & ⋯        & 100652.7 & 100663.5 & 100747.7 & 100934.0 & 101015.8 & 100801.6 & 100685.3 & 100777.5 & 100909.4 & 101164.7\\\\\n",
       "\\end{tabular}\n"
      ],
      "text/markdown": [
       "\n",
       "y | X1 | X2 | X3 | X4 | X5 | X6 | X7 | X8 | X9 | ⋯ | X311 | X312 | X313 | X314 | X315 | X316 | X317 | X318 | X319 | X320 | \n",
       "|---|---|---|---|---|\n",
       "| 10.9     | 57042.96 | 56534.84 | 55884.40 | 55175.59 | 54458.21 | 56980.27 | 56460.59 | 55800.02 | 55051.15 | ⋯        | 101985.9 | 101627.3 | 101357.2 | 101110.7 | 101291.0 | 101814.9 | 101479.4 | 101164.5 | 100970.7 | 100905.3 | \n",
       "|  0.6     | 56963.20 | 56493.45 | 55930.82 | 55340.20 | 54768.63 | 56856.57 | 56361.95 | 55776.76 | 55164.26 | ⋯        | 102048.1 | 102069.7 | 102204.5 | 102480.3 | 102858.8 | 101973.3 | 102033.3 | 102165.5 | 102323.9 | 102534.2 | \n",
       "| 13.0     | 56522.59 | 55971.40 | 55304.34 | 54498.03 | 53725.15 | 56514.84 | 55977.71 | 55327.28 | 54569.78 | ⋯        | 102399.1 | 102448.4 | 102438.3 | 102434.3 | 102339.8 | 102669.7 | 102565.5 | 102530.3 | 102453.6 | 102487.1 | \n",
       "|  0.0     | 54627.98 | 53979.80 | 53494.05 | 53072.98 | 52616.36 | 54776.17 | 54089.05 | 53516.98 | 53012.86 | ⋯        | 100970.0 | 100672.8 | 100360.7 | 100133.7 | 100028.4 | 101126.2 | 100700.0 | 100381.3 | 100118.3 | 100319.8 | \n",
       "|  0.0     | 53584.38 | 53391.01 | 53310.38 | 53292.82 | 53340.13 | 53781.70 | 53498.13 | 53306.82 | 53213.26 | ⋯        | 100652.7 | 100663.5 | 100747.7 | 100934.0 | 101015.8 | 100801.6 | 100685.3 | 100777.5 | 100909.4 | 101164.7 | \n",
       "\n",
       "\n"
      ],
      "text/plain": [
       "  y    X1       X2       X3       X4       X5       X6       X7       X8      \n",
       "1 10.9 57042.96 56534.84 55884.40 55175.59 54458.21 56980.27 56460.59 55800.02\n",
       "2  0.6 56963.20 56493.45 55930.82 55340.20 54768.63 56856.57 56361.95 55776.76\n",
       "3 13.0 56522.59 55971.40 55304.34 54498.03 53725.15 56514.84 55977.71 55327.28\n",
       "4  0.0 54627.98 53979.80 53494.05 53072.98 52616.36 54776.17 54089.05 53516.98\n",
       "5  0.0 53584.38 53391.01 53310.38 53292.82 53340.13 53781.70 53498.13 53306.82\n",
       "  X9       ⋯ X311     X312     X313     X314     X315     X316     X317    \n",
       "1 55051.15 ⋯ 101985.9 101627.3 101357.2 101110.7 101291.0 101814.9 101479.4\n",
       "2 55164.26 ⋯ 102048.1 102069.7 102204.5 102480.3 102858.8 101973.3 102033.3\n",
       "3 54569.78 ⋯ 102399.1 102448.4 102438.3 102434.3 102339.8 102669.7 102565.5\n",
       "4 53012.86 ⋯ 100970.0 100672.8 100360.7 100133.7 100028.4 101126.2 100700.0\n",
       "5 53213.26 ⋯ 100652.7 100663.5 100747.7 100934.0 101015.8 100801.6 100685.3\n",
       "  X318     X319     X320    \n",
       "1 101164.5 100970.7 100905.3\n",
       "2 102165.5 102323.9 102534.2\n",
       "3 102530.3 102453.6 102487.1\n",
       "4 100381.3 100118.3 100319.8\n",
       "5 100777.5 100909.4 101164.7"
      ]
     },
     "metadata": {},
     "output_type": "display_data"
    }
   ],
   "source": [
    "#::GMG::Tengo el dataset completo (y + Xn ...)\n",
    "head(x = meteo,n = 5)"
   ]
  },
  {
   "cell_type": "markdown",
   "metadata": {},
   "source": [
    "### PCA"
   ]
  },
  {
   "cell_type": "markdown",
   "metadata": {
    "button": false,
    "new_sheet": false,
    "run_control": {
     "read_only": false
    }
   },
   "source": [
    "Por un lado, calculad las componentes principales con y sin estandarización (`Nota:` consultar la ayuda de la función scale -> `? scale`):"
   ]
  },
  {
   "cell_type": "markdown",
   "metadata": {
    "button": false,
    "new_sheet": false,
    "run_control": {
     "read_only": false
    }
   },
   "source": [
    "`Nota 1:` en principio es posible trabajar con el dataset completo sin seleccionar un subconjunto pero si surge algún problema de memoria podéis considerar únicamente los primeros 10 años (~3650 filas).\n",
    "\n",
    "`Nota 2:` usad las herramientas gráficas vistas durante la práctica para ilustrar los resultados y las conclusiones obtenidas."
   ]
  },
  {
   "cell_type": "markdown",
   "metadata": {},
   "source": [
    "**::GMG::** Aquí estamos usando el dataset completo con 320 características (*features*) y la variable de precipitación (*response*). PCA es una técnica que se encuadra dentro del aprendizaje no supervisado (*unsupervised learning*), Chaper 10, pp. 373 (1), por lo que lo que  parece que en realidad habría que excluir **y** el dataset y aplicar la técnica en las 320 características del mismo.\n",
    "\n",
    "> Principal component analysis (PCA) refers to the process by which principal components are computed, and the subsequent use of these components in understanding the data. PCA is an unsupervised approach, since it involves only a set of features $X_1, X_2, ... , X_p$, and no associated response Y.\n",
    "\n",
    "pp. 375 (1)\n",
    "\n",
    "- (1) G. James et al., [An Introduction to Statistical Learning: with Applications in R,\n",
    "Springer Texts in Statistics](http://www-bcf.usc.edu/~gareth/ISL/), DOI 10.1007/978-1-4614-7138-7 10, © Springer Science+Business Media New York 2013.\n",
    "\n",
    "**::DUDA::** No le veo el sentido a aplicarlo al dataset completo (?)"
   ]
  },
  {
   "cell_type": "markdown",
   "metadata": {},
   "source": [
    "#### Sin Estandarización"
   ]
  },
  {
   "cell_type": "code",
   "execution_count": 8,
   "metadata": {},
   "outputs": [],
   "source": [
    "#::GMG::Componentes principales sin estandarización\n",
    "# https://www.rdocumentation.org/packages/stats/versions/3.5.2/topics/prcomp\n",
    "pca_full_ns <- prcomp(meteo, center = F, scale. = F)"
   ]
  },
  {
   "cell_type": "code",
   "execution_count": 9,
   "metadata": {},
   "outputs": [
    {
     "data": {
      "text/html": [
       "<ol class=list-inline>\n",
       "\t<li>'sdev'</li>\n",
       "\t<li>'rotation'</li>\n",
       "\t<li>'center'</li>\n",
       "\t<li>'scale'</li>\n",
       "\t<li>'x'</li>\n",
       "</ol>\n"
      ],
      "text/latex": [
       "\\begin{enumerate*}\n",
       "\\item 'sdev'\n",
       "\\item 'rotation'\n",
       "\\item 'center'\n",
       "\\item 'scale'\n",
       "\\item 'x'\n",
       "\\end{enumerate*}\n"
      ],
      "text/markdown": [
       "1. 'sdev'\n",
       "2. 'rotation'\n",
       "3. 'center'\n",
       "4. 'scale'\n",
       "5. 'x'\n",
       "\n",
       "\n"
      ],
      "text/plain": [
       "[1] \"sdev\"     \"rotation\" \"center\"   \"scale\"    \"x\"       "
      ]
     },
     "metadata": {},
     "output_type": "display_data"
    }
   ],
   "source": [
    "#::GMG::Qué es lo que nos devuelve la función prcomp()\n",
    "# https://www.rdocumentation.org/packages/stats/versions/3.5.2/topics/prcomp\n",
    "names(pca_full_ns)"
   ]
  },
  {
   "cell_type": "code",
   "execution_count": 10,
   "metadata": {},
   "outputs": [
    {
     "name": "stdout",
     "output_type": "stream",
     "text": [
      "List of 5\n",
      " $ sdev    : num [1:321] 735142 5956 2139 1764 953 ...\n",
      " $ rotation: num [1:321, 1:321] -2.68e-06 -7.68e-02 -7.66e-02 -7.64e-02 -7.61e-02 ...\n",
      "  ..- attr(*, \"dimnames\")=List of 2\n",
      "  .. ..$ : chr [1:321] \"y\" \"X1\" \"X2\" \"X3\" ...\n",
      "  .. ..$ : chr [1:321] \"PC1\" \"PC2\" \"PC3\" \"PC4\" ...\n",
      " $ center  : logi FALSE\n",
      " $ scale   : logi FALSE\n",
      " $ x       : num [1:10958, 1:321] -732849 -735023 -732768 -720715 -722778 ...\n",
      "  ..- attr(*, \"dimnames\")=List of 2\n",
      "  .. ..$ : NULL\n",
      "  .. ..$ : chr [1:321] \"PC1\" \"PC2\" \"PC3\" \"PC4\" ...\n",
      " - attr(*, \"class\")= chr \"prcomp\"\n"
     ]
    }
   ],
   "source": [
    "#::GMG::Detalles de los componentes del objeto\n",
    "str(pca_full_ns)"
   ]
  },
  {
   "cell_type": "code",
   "execution_count": 11,
   "metadata": {},
   "outputs": [
    {
     "data": {
      "text/html": [
       "<ol class=list-inline>\n",
       "\t<li>735141.823676914</li>\n",
       "\t<li>5955.6981770357</li>\n",
       "\t<li>2139.43314931375</li>\n",
       "\t<li>1764.25680747728</li>\n",
       "\t<li>952.807080509599</li>\n",
       "\t<li>750.679821363506</li>\n",
       "</ol>\n"
      ],
      "text/latex": [
       "\\begin{enumerate*}\n",
       "\\item 735141.823676914\n",
       "\\item 5955.6981770357\n",
       "\\item 2139.43314931375\n",
       "\\item 1764.25680747728\n",
       "\\item 952.807080509599\n",
       "\\item 750.679821363506\n",
       "\\end{enumerate*}\n"
      ],
      "text/markdown": [
       "1. 735141.823676914\n",
       "2. 5955.6981770357\n",
       "3. 2139.43314931375\n",
       "4. 1764.25680747728\n",
       "5. 952.807080509599\n",
       "6. 750.679821363506\n",
       "\n",
       "\n"
      ],
      "text/plain": [
       "[1] 735141.8237   5955.6982   2139.4331   1764.2568    952.8071    750.6798"
      ]
     },
     "metadata": {},
     "output_type": "display_data"
    }
   ],
   "source": [
    "#::GMG::Descipción\n",
    "# https://www.rdocumentation.org/packages/stats/versions/3.5.2/topics/prcomp\n",
    "# sdev : the standard deviations of the principal components \n",
    "#        (the square roots of the eigenvalues)\n",
    "head(pca_full_ns$sdev, n = 5)"
   ]
  },
  {
   "cell_type": "code",
   "execution_count": 15,
   "metadata": {},
   "outputs": [
    {
     "data": {
      "text/html": [
       "<ol class=list-inline>\n",
       "\t<li>321</li>\n",
       "\t<li>321</li>\n",
       "</ol>\n"
      ],
      "text/latex": [
       "\\begin{enumerate*}\n",
       "\\item 321\n",
       "\\item 321\n",
       "\\end{enumerate*}\n"
      ],
      "text/markdown": [
       "1. 321\n",
       "2. 321\n",
       "\n",
       "\n"
      ],
      "text/plain": [
       "[1] 321 321"
      ]
     },
     "metadata": {},
     "output_type": "display_data"
    },
    {
     "data": {
      "text/html": [
       "<table>\n",
       "<thead><tr><th></th><th scope=col>PC1</th><th scope=col>PC2</th><th scope=col>PC3</th></tr></thead>\n",
       "<tbody>\n",
       "\t<tr><th scope=row>y</th><td>-2.684716e-06</td><td>-0.0001886918</td><td>-0.0009897637</td></tr>\n",
       "\t<tr><th scope=row>X1</th><td>-7.684453e-02</td><td> 0.1010646209</td><td> 0.0776125757</td></tr>\n",
       "\t<tr><th scope=row>X2</th><td>-7.661460e-02</td><td> 0.1068251384</td><td> 0.1421700213</td></tr>\n",
       "\t<tr><th scope=row>X3</th><td>-7.637951e-02</td><td> 0.1108133817</td><td> 0.2044587993</td></tr>\n",
       "\t<tr><th scope=row>X4</th><td>-7.612812e-02</td><td> 0.1121129705</td><td> 0.2579488300</td></tr>\n",
       "\t<tr><th scope=row>X5</th><td>-7.584893e-02</td><td> 0.1100942639</td><td> 0.2968685174</td></tr>\n",
       "\t<tr><th scope=row>X6</th><td>-7.684080e-02</td><td> 0.1123274633</td><td> 0.0430893174</td></tr>\n",
       "\t<tr><th scope=row>X7</th><td>-7.659804e-02</td><td> 0.1187033236</td><td> 0.1026272120</td></tr>\n",
       "\t<tr><th scope=row>X8</th><td>-7.635437e-02</td><td> 0.1228686495</td><td> 0.1617827354</td></tr>\n",
       "\t<tr><th scope=row>X9</th><td>-7.609918e-02</td><td> 0.1239788418</td><td> 0.2133231757</td></tr>\n",
       "\t<tr><th scope=row>X10</th><td>-7.582503e-02</td><td> 0.1213358892</td><td> 0.2510926594</td></tr>\n",
       "\t<tr><th scope=row>X11</th><td>-7.684165e-02</td><td> 0.1229050858</td><td> 0.0012020351</td></tr>\n",
       "\t<tr><th scope=row>X12</th><td>-7.658586e-02</td><td> 0.1297891431</td><td> 0.0530150213</td></tr>\n",
       "\t<tr><th scope=row>X13</th><td>-7.633479e-02</td><td> 0.1338231312</td><td> 0.1071953062</td></tr>\n",
       "\t<tr><th scope=row>X14</th><td>-7.607704e-02</td><td> 0.1345504148</td><td> 0.1551445145</td></tr>\n",
       "\t<tr><th scope=row>X15</th><td>-7.580298e-02</td><td> 0.1315559479</td><td> 0.1922655501</td></tr>\n",
       "\t<tr><th scope=row>X16</th><td>-7.684253e-02</td><td> 0.1315769430</td><td>-0.0461989851</td></tr>\n",
       "\t<tr><th scope=row>X17</th><td>-7.657389e-02</td><td> 0.1391802342</td><td>-0.0025947252</td></tr>\n",
       "\t<tr><th scope=row>X18</th><td>-7.631398e-02</td><td> 0.1433130567</td><td> 0.0452533971</td></tr>\n",
       "\t<tr><th scope=row>X19</th><td>-7.605325e-02</td><td> 0.1435300267</td><td> 0.0885331283</td></tr>\n",
       "\t<tr><th scope=row>X20</th><td>-7.577960e-02</td><td> 0.1400997000</td><td> 0.1256802393</td></tr>\n",
       "\t<tr><th scope=row>X21</th><td>-7.683637e-02</td><td> 0.1377619267</td><td>-0.0956839159</td></tr>\n",
       "\t<tr><th scope=row>X22</th><td>-7.655947e-02</td><td> 0.1458282442</td><td>-0.0614699204</td></tr>\n",
       "\t<tr><th scope=row>X23</th><td>-7.628927e-02</td><td> 0.1504200260</td><td>-0.0204076343</td></tr>\n",
       "\t<tr><th scope=row>X24</th><td>-7.602079e-02</td><td> 0.1507832572</td><td> 0.0191965049</td></tr>\n",
       "</tbody>\n",
       "</table>\n"
      ],
      "text/latex": [
       "\\begin{tabular}{r|lll}\n",
       "  & PC1 & PC2 & PC3\\\\\n",
       "\\hline\n",
       "\ty & -2.684716e-06 & -0.0001886918 & -0.0009897637\\\\\n",
       "\tX1 & -7.684453e-02 &  0.1010646209 &  0.0776125757\\\\\n",
       "\tX2 & -7.661460e-02 &  0.1068251384 &  0.1421700213\\\\\n",
       "\tX3 & -7.637951e-02 &  0.1108133817 &  0.2044587993\\\\\n",
       "\tX4 & -7.612812e-02 &  0.1121129705 &  0.2579488300\\\\\n",
       "\tX5 & -7.584893e-02 &  0.1100942639 &  0.2968685174\\\\\n",
       "\tX6 & -7.684080e-02 &  0.1123274633 &  0.0430893174\\\\\n",
       "\tX7 & -7.659804e-02 &  0.1187033236 &  0.1026272120\\\\\n",
       "\tX8 & -7.635437e-02 &  0.1228686495 &  0.1617827354\\\\\n",
       "\tX9 & -7.609918e-02 &  0.1239788418 &  0.2133231757\\\\\n",
       "\tX10 & -7.582503e-02 &  0.1213358892 &  0.2510926594\\\\\n",
       "\tX11 & -7.684165e-02 &  0.1229050858 &  0.0012020351\\\\\n",
       "\tX12 & -7.658586e-02 &  0.1297891431 &  0.0530150213\\\\\n",
       "\tX13 & -7.633479e-02 &  0.1338231312 &  0.1071953062\\\\\n",
       "\tX14 & -7.607704e-02 &  0.1345504148 &  0.1551445145\\\\\n",
       "\tX15 & -7.580298e-02 &  0.1315559479 &  0.1922655501\\\\\n",
       "\tX16 & -7.684253e-02 &  0.1315769430 & -0.0461989851\\\\\n",
       "\tX17 & -7.657389e-02 &  0.1391802342 & -0.0025947252\\\\\n",
       "\tX18 & -7.631398e-02 &  0.1433130567 &  0.0452533971\\\\\n",
       "\tX19 & -7.605325e-02 &  0.1435300267 &  0.0885331283\\\\\n",
       "\tX20 & -7.577960e-02 &  0.1400997000 &  0.1256802393\\\\\n",
       "\tX21 & -7.683637e-02 &  0.1377619267 & -0.0956839159\\\\\n",
       "\tX22 & -7.655947e-02 &  0.1458282442 & -0.0614699204\\\\\n",
       "\tX23 & -7.628927e-02 &  0.1504200260 & -0.0204076343\\\\\n",
       "\tX24 & -7.602079e-02 &  0.1507832572 &  0.0191965049\\\\\n",
       "\\end{tabular}\n"
      ],
      "text/markdown": [
       "\n",
       "| <!--/--> | PC1 | PC2 | PC3 | \n",
       "|---|---|---|---|---|---|---|---|---|---|---|---|---|---|---|---|---|---|---|---|---|---|---|---|---|\n",
       "| y | -2.684716e-06 | -0.0001886918 | -0.0009897637 | \n",
       "| X1 | -7.684453e-02 |  0.1010646209 |  0.0776125757 | \n",
       "| X2 | -7.661460e-02 |  0.1068251384 |  0.1421700213 | \n",
       "| X3 | -7.637951e-02 |  0.1108133817 |  0.2044587993 | \n",
       "| X4 | -7.612812e-02 |  0.1121129705 |  0.2579488300 | \n",
       "| X5 | -7.584893e-02 |  0.1100942639 |  0.2968685174 | \n",
       "| X6 | -7.684080e-02 |  0.1123274633 |  0.0430893174 | \n",
       "| X7 | -7.659804e-02 |  0.1187033236 |  0.1026272120 | \n",
       "| X8 | -7.635437e-02 |  0.1228686495 |  0.1617827354 | \n",
       "| X9 | -7.609918e-02 |  0.1239788418 |  0.2133231757 | \n",
       "| X10 | -7.582503e-02 |  0.1213358892 |  0.2510926594 | \n",
       "| X11 | -7.684165e-02 |  0.1229050858 |  0.0012020351 | \n",
       "| X12 | -7.658586e-02 |  0.1297891431 |  0.0530150213 | \n",
       "| X13 | -7.633479e-02 |  0.1338231312 |  0.1071953062 | \n",
       "| X14 | -7.607704e-02 |  0.1345504148 |  0.1551445145 | \n",
       "| X15 | -7.580298e-02 |  0.1315559479 |  0.1922655501 | \n",
       "| X16 | -7.684253e-02 |  0.1315769430 | -0.0461989851 | \n",
       "| X17 | -7.657389e-02 |  0.1391802342 | -0.0025947252 | \n",
       "| X18 | -7.631398e-02 |  0.1433130567 |  0.0452533971 | \n",
       "| X19 | -7.605325e-02 |  0.1435300267 |  0.0885331283 | \n",
       "| X20 | -7.577960e-02 |  0.1400997000 |  0.1256802393 | \n",
       "| X21 | -7.683637e-02 |  0.1377619267 | -0.0956839159 | \n",
       "| X22 | -7.655947e-02 |  0.1458282442 | -0.0614699204 | \n",
       "| X23 | -7.628927e-02 |  0.1504200260 | -0.0204076343 | \n",
       "| X24 | -7.602079e-02 |  0.1507832572 |  0.0191965049 | \n",
       "\n",
       "\n"
      ],
      "text/plain": [
       "    PC1           PC2           PC3          \n",
       "y   -2.684716e-06 -0.0001886918 -0.0009897637\n",
       "X1  -7.684453e-02  0.1010646209  0.0776125757\n",
       "X2  -7.661460e-02  0.1068251384  0.1421700213\n",
       "X3  -7.637951e-02  0.1108133817  0.2044587993\n",
       "X4  -7.612812e-02  0.1121129705  0.2579488300\n",
       "X5  -7.584893e-02  0.1100942639  0.2968685174\n",
       "X6  -7.684080e-02  0.1123274633  0.0430893174\n",
       "X7  -7.659804e-02  0.1187033236  0.1026272120\n",
       "X8  -7.635437e-02  0.1228686495  0.1617827354\n",
       "X9  -7.609918e-02  0.1239788418  0.2133231757\n",
       "X10 -7.582503e-02  0.1213358892  0.2510926594\n",
       "X11 -7.684165e-02  0.1229050858  0.0012020351\n",
       "X12 -7.658586e-02  0.1297891431  0.0530150213\n",
       "X13 -7.633479e-02  0.1338231312  0.1071953062\n",
       "X14 -7.607704e-02  0.1345504148  0.1551445145\n",
       "X15 -7.580298e-02  0.1315559479  0.1922655501\n",
       "X16 -7.684253e-02  0.1315769430 -0.0461989851\n",
       "X17 -7.657389e-02  0.1391802342 -0.0025947252\n",
       "X18 -7.631398e-02  0.1433130567  0.0452533971\n",
       "X19 -7.605325e-02  0.1435300267  0.0885331283\n",
       "X20 -7.577960e-02  0.1400997000  0.1256802393\n",
       "X21 -7.683637e-02  0.1377619267 -0.0956839159\n",
       "X22 -7.655947e-02  0.1458282442 -0.0614699204\n",
       "X23 -7.628927e-02  0.1504200260 -0.0204076343\n",
       "X24 -7.602079e-02  0.1507832572  0.0191965049"
      ]
     },
     "metadata": {},
     "output_type": "display_data"
    }
   ],
   "source": [
    "#::GMG::Descipción\n",
    "# https://www.rdocumentation.org/packages/stats/versions/3.5.2/topics/prcomp\n",
    "# rotation : the matrix of variable loadings (columns are eigenvectors)\n",
    "#::nota:: \n",
    "dim(pca_full_ns$rotation)\n",
    "#::GMG::Vemos las tres primeras PC's con sus primeros 25 componentes de sus eigenvectors ...\n",
    "head(pca_full_ns$rotation[,1:3],n = 25)"
   ]
  },
  {
   "cell_type": "code",
   "execution_count": 18,
   "metadata": {},
   "outputs": [
    {
     "data": {
      "text/html": [
       "FALSE"
      ],
      "text/latex": [
       "FALSE"
      ],
      "text/markdown": [
       "FALSE"
      ],
      "text/plain": [
       "[1] FALSE"
      ]
     },
     "metadata": {},
     "output_type": "display_data"
    }
   ],
   "source": [
    "#::GMG::Descipción\n",
    "# https://www.rdocumentation.org/packages/stats/versions/3.5.2/topics/prcomp\n",
    "# center, scale : the centering and scaling used, or FALSE\n",
    "head(pca_full_ns$center)"
   ]
  },
  {
   "cell_type": "code",
   "execution_count": 19,
   "metadata": {},
   "outputs": [
    {
     "data": {
      "text/html": [
       "FALSE"
      ],
      "text/latex": [
       "FALSE"
      ],
      "text/markdown": [
       "FALSE"
      ],
      "text/plain": [
       "[1] FALSE"
      ]
     },
     "metadata": {},
     "output_type": "display_data"
    }
   ],
   "source": [
    "#::GMG::Descipción\n",
    "# https://www.rdocumentation.org/packages/stats/versions/3.5.2/topics/prcomp\n",
    "# center, scale : the centering and scaling used, or FALSE\n",
    "head(pca_full_ns$scale)"
   ]
  },
  {
   "cell_type": "code",
   "execution_count": 20,
   "metadata": {},
   "outputs": [
    {
     "data": {
      "text/html": [
       "<ol class=list-inline>\n",
       "\t<li>10958</li>\n",
       "\t<li>321</li>\n",
       "</ol>\n"
      ],
      "text/latex": [
       "\\begin{enumerate*}\n",
       "\\item 10958\n",
       "\\item 321\n",
       "\\end{enumerate*}\n"
      ],
      "text/markdown": [
       "1. 10958\n",
       "2. 321\n",
       "\n",
       "\n"
      ],
      "text/plain": [
       "[1] 10958   321"
      ]
     },
     "metadata": {},
     "output_type": "display_data"
    },
    {
     "data": {
      "text/html": [
       "<table>\n",
       "<thead><tr><th scope=col>PC1</th><th scope=col>PC2</th><th scope=col>PC3</th><th scope=col>PC4</th><th scope=col>PC5</th><th scope=col>PC6</th><th scope=col>PC7</th><th scope=col>PC8</th><th scope=col>PC9</th><th scope=col>PC10</th><th scope=col>⋯</th><th scope=col>PC312</th><th scope=col>PC313</th><th scope=col>PC314</th><th scope=col>PC315</th><th scope=col>PC316</th><th scope=col>PC317</th><th scope=col>PC318</th><th scope=col>PC319</th><th scope=col>PC320</th><th scope=col>PC321</th></tr></thead>\n",
       "<tbody>\n",
       "\t<tr><td>-732849.3    </td><td>-4318.727    </td><td> -566.6576   </td><td>-5253.545    </td><td>  198.99395  </td><td>1370.0623    </td><td>-265.2671    </td><td>-324.062897  </td><td> -71.57965   </td><td> 194.5624    </td><td>⋯            </td><td> 6.627001e-05</td><td>-1.878125e-05</td><td>-1.764898e-05</td><td>-3.934216e-05</td><td>-3.902992e-05</td><td> 1.264160e-05</td><td>-2.885566e-05</td><td> 1.105663e-05</td><td> 1.821435e-05</td><td> 8.069013e-06</td></tr>\n",
       "\t<tr><td>-735023.1    </td><td>-7079.299    </td><td> 1098.5472   </td><td>-3325.102    </td><td>   92.26792  </td><td>3034.3218    </td><td>1388.6505    </td><td> 190.772714  </td><td>-223.46657   </td><td> 708.2366    </td><td>⋯            </td><td>-1.187805e-05</td><td>-2.095601e-05</td><td>-4.402077e-06</td><td>-1.237993e-05</td><td>-1.061986e-05</td><td> 6.017403e-06</td><td>-2.103580e-05</td><td> 9.716846e-06</td><td>-2.041931e-06</td><td> 1.970142e-05</td></tr>\n",
       "\t<tr><td>-732768.3    </td><td>-5706.424    </td><td>-2636.0316   </td><td>-2243.940    </td><td>-2690.01957  </td><td>2628.1781    </td><td>1002.8926    </td><td> 839.668765  </td><td>  29.28938   </td><td> 320.8326    </td><td>⋯            </td><td> 4.440990e-05</td><td>-4.409904e-05</td><td> 7.215691e-06</td><td>-3.846457e-06</td><td> 6.539126e-05</td><td> 3.124744e-05</td><td>-3.418006e-05</td><td> 9.313150e-06</td><td>-3.964534e-05</td><td> 2.475620e-05</td></tr>\n",
       "\t<tr><td>-720715.5    </td><td>-8569.298    </td><td>-4127.9983   </td><td>-2710.049    </td><td>  -82.28401  </td><td> 517.8777    </td><td>-732.9244    </td><td> 283.690618  </td><td> -95.38063   </td><td>-103.4086    </td><td>⋯            </td><td>-6.376249e-06</td><td>-2.741973e-05</td><td> 1.168093e-05</td><td> 2.341700e-06</td><td>-9.952860e-06</td><td>-1.243537e-05</td><td>-7.493491e-06</td><td>-5.165990e-06</td><td> 1.656943e-05</td><td>-7.477284e-06</td></tr>\n",
       "\t<tr><td>-722777.8    </td><td>-9319.085    </td><td>-2987.5988   </td><td> 1229.049    </td><td> 2130.26408  </td><td> 872.3628    </td><td>-357.3961    </td><td> -64.669783  </td><td> 285.64995   </td><td> 280.1793    </td><td>⋯            </td><td>-2.592606e-05</td><td> 1.523078e-05</td><td>-8.202729e-05</td><td>-2.898765e-05</td><td>-4.466733e-05</td><td>-5.227296e-05</td><td>-8.718317e-06</td><td>-1.157515e-05</td><td>-2.431129e-05</td><td> 1.720853e-05</td></tr>\n",
       "\t<tr><td>-731180.5    </td><td>-6607.198    </td><td> -807.1356   </td><td> 3341.545    </td><td> 2540.07633  </td><td>1399.1549    </td><td>-167.5435    </td><td>   5.246512  </td><td> 270.17790   </td><td> 481.1771    </td><td>⋯            </td><td> 9.571874e-06</td><td>-8.869726e-06</td><td> 2.418042e-05</td><td>-8.827042e-06</td><td> 1.831745e-05</td><td> 8.237644e-06</td><td> 1.721096e-05</td><td> 1.086608e-05</td><td> 2.732263e-06</td><td>-1.211056e-06</td></tr>\n",
       "</tbody>\n",
       "</table>\n"
      ],
      "text/latex": [
       "\\begin{tabular}{lllllllllllllllllllllllllllllllllllllllllllllllllllllllllllllllllllllllllllllllllllllllllllllllllllllllllllllllllllllllllllllllllllllllllllllllllllllllllllllllllllllllllllllllllllllllllllllllllllllllllllllllllllllllllllllllllllllllllllllllllllllllllllllllllllllllllllllllllllllllllllllllllllllllllllllllllllllllllllllllll}\n",
       " PC1 & PC2 & PC3 & PC4 & PC5 & PC6 & PC7 & PC8 & PC9 & PC10 & ⋯ & PC312 & PC313 & PC314 & PC315 & PC316 & PC317 & PC318 & PC319 & PC320 & PC321\\\\\n",
       "\\hline\n",
       "\t -732849.3     & -4318.727     &  -566.6576    & -5253.545     &   198.99395   & 1370.0623     & -265.2671     & -324.062897   &  -71.57965    &  194.5624     & ⋯             &  6.627001e-05 & -1.878125e-05 & -1.764898e-05 & -3.934216e-05 & -3.902992e-05 &  1.264160e-05 & -2.885566e-05 &  1.105663e-05 &  1.821435e-05 &  8.069013e-06\\\\\n",
       "\t -735023.1     & -7079.299     &  1098.5472    & -3325.102     &    92.26792   & 3034.3218     & 1388.6505     &  190.772714   & -223.46657    &  708.2366     & ⋯             & -1.187805e-05 & -2.095601e-05 & -4.402077e-06 & -1.237993e-05 & -1.061986e-05 &  6.017403e-06 & -2.103580e-05 &  9.716846e-06 & -2.041931e-06 &  1.970142e-05\\\\\n",
       "\t -732768.3     & -5706.424     & -2636.0316    & -2243.940     & -2690.01957   & 2628.1781     & 1002.8926     &  839.668765   &   29.28938    &  320.8326     & ⋯             &  4.440990e-05 & -4.409904e-05 &  7.215691e-06 & -3.846457e-06 &  6.539126e-05 &  3.124744e-05 & -3.418006e-05 &  9.313150e-06 & -3.964534e-05 &  2.475620e-05\\\\\n",
       "\t -720715.5     & -8569.298     & -4127.9983    & -2710.049     &   -82.28401   &  517.8777     & -732.9244     &  283.690618   &  -95.38063    & -103.4086     & ⋯             & -6.376249e-06 & -2.741973e-05 &  1.168093e-05 &  2.341700e-06 & -9.952860e-06 & -1.243537e-05 & -7.493491e-06 & -5.165990e-06 &  1.656943e-05 & -7.477284e-06\\\\\n",
       "\t -722777.8     & -9319.085     & -2987.5988    &  1229.049     &  2130.26408   &  872.3628     & -357.3961     &  -64.669783   &  285.64995    &  280.1793     & ⋯             & -2.592606e-05 &  1.523078e-05 & -8.202729e-05 & -2.898765e-05 & -4.466733e-05 & -5.227296e-05 & -8.718317e-06 & -1.157515e-05 & -2.431129e-05 &  1.720853e-05\\\\\n",
       "\t -731180.5     & -6607.198     &  -807.1356    &  3341.545     &  2540.07633   & 1399.1549     & -167.5435     &    5.246512   &  270.17790    &  481.1771     & ⋯             &  9.571874e-06 & -8.869726e-06 &  2.418042e-05 & -8.827042e-06 &  1.831745e-05 &  8.237644e-06 &  1.721096e-05 &  1.086608e-05 &  2.732263e-06 & -1.211056e-06\\\\\n",
       "\\end{tabular}\n"
      ],
      "text/markdown": [
       "\n",
       "PC1 | PC2 | PC3 | PC4 | PC5 | PC6 | PC7 | PC8 | PC9 | PC10 | ⋯ | PC312 | PC313 | PC314 | PC315 | PC316 | PC317 | PC318 | PC319 | PC320 | PC321 | \n",
       "|---|---|---|---|---|---|\n",
       "| -732849.3     | -4318.727     |  -566.6576    | -5253.545     |   198.99395   | 1370.0623     | -265.2671     | -324.062897   |  -71.57965    |  194.5624     | ⋯             |  6.627001e-05 | -1.878125e-05 | -1.764898e-05 | -3.934216e-05 | -3.902992e-05 |  1.264160e-05 | -2.885566e-05 |  1.105663e-05 |  1.821435e-05 |  8.069013e-06 | \n",
       "| -735023.1     | -7079.299     |  1098.5472    | -3325.102     |    92.26792   | 3034.3218     | 1388.6505     |  190.772714   | -223.46657    |  708.2366     | ⋯             | -1.187805e-05 | -2.095601e-05 | -4.402077e-06 | -1.237993e-05 | -1.061986e-05 |  6.017403e-06 | -2.103580e-05 |  9.716846e-06 | -2.041931e-06 |  1.970142e-05 | \n",
       "| -732768.3     | -5706.424     | -2636.0316    | -2243.940     | -2690.01957   | 2628.1781     | 1002.8926     |  839.668765   |   29.28938    |  320.8326     | ⋯             |  4.440990e-05 | -4.409904e-05 |  7.215691e-06 | -3.846457e-06 |  6.539126e-05 |  3.124744e-05 | -3.418006e-05 |  9.313150e-06 | -3.964534e-05 |  2.475620e-05 | \n",
       "| -720715.5     | -8569.298     | -4127.9983    | -2710.049     |   -82.28401   |  517.8777     | -732.9244     |  283.690618   |  -95.38063    | -103.4086     | ⋯             | -6.376249e-06 | -2.741973e-05 |  1.168093e-05 |  2.341700e-06 | -9.952860e-06 | -1.243537e-05 | -7.493491e-06 | -5.165990e-06 |  1.656943e-05 | -7.477284e-06 | \n",
       "| -722777.8     | -9319.085     | -2987.5988    |  1229.049     |  2130.26408   |  872.3628     | -357.3961     |  -64.669783   |  285.64995    |  280.1793     | ⋯             | -2.592606e-05 |  1.523078e-05 | -8.202729e-05 | -2.898765e-05 | -4.466733e-05 | -5.227296e-05 | -8.718317e-06 | -1.157515e-05 | -2.431129e-05 |  1.720853e-05 | \n",
       "| -731180.5     | -6607.198     |  -807.1356    |  3341.545     |  2540.07633   | 1399.1549     | -167.5435     |    5.246512   |  270.17790    |  481.1771     | ⋯             |  9.571874e-06 | -8.869726e-06 |  2.418042e-05 | -8.827042e-06 |  1.831745e-05 |  8.237644e-06 |  1.721096e-05 |  1.086608e-05 |  2.732263e-06 | -1.211056e-06 | \n",
       "\n",
       "\n"
      ],
      "text/plain": [
       "     PC1       PC2       PC3        PC4       PC5         PC6       PC7      \n",
       "[1,] -732849.3 -4318.727  -566.6576 -5253.545   198.99395 1370.0623 -265.2671\n",
       "[2,] -735023.1 -7079.299  1098.5472 -3325.102    92.26792 3034.3218 1388.6505\n",
       "[3,] -732768.3 -5706.424 -2636.0316 -2243.940 -2690.01957 2628.1781 1002.8926\n",
       "[4,] -720715.5 -8569.298 -4127.9983 -2710.049   -82.28401  517.8777 -732.9244\n",
       "[5,] -722777.8 -9319.085 -2987.5988  1229.049  2130.26408  872.3628 -357.3961\n",
       "[6,] -731180.5 -6607.198  -807.1356  3341.545  2540.07633 1399.1549 -167.5435\n",
       "     PC8         PC9        PC10      ⋯ PC312         PC313        \n",
       "[1,] -324.062897  -71.57965  194.5624 ⋯  6.627001e-05 -1.878125e-05\n",
       "[2,]  190.772714 -223.46657  708.2366 ⋯ -1.187805e-05 -2.095601e-05\n",
       "[3,]  839.668765   29.28938  320.8326 ⋯  4.440990e-05 -4.409904e-05\n",
       "[4,]  283.690618  -95.38063 -103.4086 ⋯ -6.376249e-06 -2.741973e-05\n",
       "[5,]  -64.669783  285.64995  280.1793 ⋯ -2.592606e-05  1.523078e-05\n",
       "[6,]    5.246512  270.17790  481.1771 ⋯  9.571874e-06 -8.869726e-06\n",
       "     PC314         PC315         PC316         PC317         PC318        \n",
       "[1,] -1.764898e-05 -3.934216e-05 -3.902992e-05  1.264160e-05 -2.885566e-05\n",
       "[2,] -4.402077e-06 -1.237993e-05 -1.061986e-05  6.017403e-06 -2.103580e-05\n",
       "[3,]  7.215691e-06 -3.846457e-06  6.539126e-05  3.124744e-05 -3.418006e-05\n",
       "[4,]  1.168093e-05  2.341700e-06 -9.952860e-06 -1.243537e-05 -7.493491e-06\n",
       "[5,] -8.202729e-05 -2.898765e-05 -4.466733e-05 -5.227296e-05 -8.718317e-06\n",
       "[6,]  2.418042e-05 -8.827042e-06  1.831745e-05  8.237644e-06  1.721096e-05\n",
       "     PC319         PC320         PC321        \n",
       "[1,]  1.105663e-05  1.821435e-05  8.069013e-06\n",
       "[2,]  9.716846e-06 -2.041931e-06  1.970142e-05\n",
       "[3,]  9.313150e-06 -3.964534e-05  2.475620e-05\n",
       "[4,] -5.165990e-06  1.656943e-05 -7.477284e-06\n",
       "[5,] -1.157515e-05 -2.431129e-05  1.720853e-05\n",
       "[6,]  1.086608e-05  2.732263e-06 -1.211056e-06"
      ]
     },
     "metadata": {},
     "output_type": "display_data"
    }
   ],
   "source": [
    "#::GMG::Descripción\n",
    "# the matrix x has the principal component score vectors\n",
    "dim(pca_full_ns$x)\n",
    "head(pca_full_ns$x)"
   ]
  },
  {
   "cell_type": "markdown",
   "metadata": {},
   "source": [
    "**::GMG::** Si dibujamos las varianzas de cada uno de los componentes principales (total y aculumativa) vemos que la PC1 domina absolutamente, *explica prácticamente toda la varianza del dataset*. Como no hemos estandarizado las variables lo que ha pasado es que PC1 incluye una serie de variables con muy alta variabilidad debido a su escala."
   ]
  },
  {
   "cell_type": "code",
   "execution_count": 23,
   "metadata": {},
   "outputs": [
    {
     "data": {
      "image/png": "[encoded data removed]",
      "text/plain": [
       "Plot with title “pca_full_ns”"
      ]
     },
     "metadata": {},
     "output_type": "display_data"
    }
   ],
   "source": [
    "#::GMG::Directamente con el objeto que nos devuelve prcomp() sin poercentaje\n",
    "plot(pca_full_ns, type='l')"
   ]
  },
  {
   "cell_type": "code",
   "execution_count": 64,
   "metadata": {},
   "outputs": [
    {
     "data": {
      "image/png": "[encoded data removed]",
      "text/plain": [
       "plot without title"
      ]
     },
     "metadata": {},
     "output_type": "display_data"
    }
   ],
   "source": [
    "#::GMG:: cumulative scree plot\n",
    "plot(100*cumsum(pca_full_ns$sdev^2/sum(pca_full_ns$sdev^2)), \n",
    "            xlab = \"Principal Component\",\n",
    "            ylab = \"Cumulative Proportion of Variance Explained\",\n",
    "            type = \"b\")"
   ]
  },
  {
   "cell_type": "markdown",
   "metadata": {},
   "source": [
    "#### Con estandarización"
   ]
  },
  {
   "cell_type": "code",
   "execution_count": 24,
   "metadata": {},
   "outputs": [],
   "source": [
    "#::GMG::Lo hacemos con scale\n",
    "pca_full_scaled <- prcomp(meteo, center = TRUE, scale. = TRUE)"
   ]
  },
  {
   "cell_type": "code",
   "execution_count": 25,
   "metadata": {},
   "outputs": [
    {
     "data": {
      "text/html": [
       "<ol class=list-inline>\n",
       "\t<li>'sdev'</li>\n",
       "\t<li>'rotation'</li>\n",
       "\t<li>'center'</li>\n",
       "\t<li>'scale'</li>\n",
       "\t<li>'x'</li>\n",
       "</ol>\n"
      ],
      "text/latex": [
       "\\begin{enumerate*}\n",
       "\\item 'sdev'\n",
       "\\item 'rotation'\n",
       "\\item 'center'\n",
       "\\item 'scale'\n",
       "\\item 'x'\n",
       "\\end{enumerate*}\n"
      ],
      "text/markdown": [
       "1. 'sdev'\n",
       "2. 'rotation'\n",
       "3. 'center'\n",
       "4. 'scale'\n",
       "5. 'x'\n",
       "\n",
       "\n"
      ],
      "text/plain": [
       "[1] \"sdev\"     \"rotation\" \"center\"   \"scale\"    \"x\"       "
      ]
     },
     "metadata": {},
     "output_type": "display_data"
    }
   ],
   "source": [
    "names(pca_full_scaled)"
   ]
  },
  {
   "cell_type": "code",
   "execution_count": 26,
   "metadata": {},
   "outputs": [
    {
     "name": "stdout",
     "output_type": "stream",
     "text": [
      "List of 5\n",
      " $ sdev    : num [1:321] 13.65 7.13 3.54 3 2.78 ...\n",
      " $ rotation: num [1:321, 1:321] -0.0103 0.0574 0.0557 0.0536 0.0509 ...\n",
      "  ..- attr(*, \"dimnames\")=List of 2\n",
      "  .. ..$ : chr [1:321] \"y\" \"X1\" \"X2\" \"X3\" ...\n",
      "  .. ..$ : chr [1:321] \"PC1\" \"PC2\" \"PC3\" \"PC4\" ...\n",
      " $ center  : Named num [1:321] 1.99 56484.48 56314.62 56141.12 55955.86 ...\n",
      "  ..- attr(*, \"names\")= chr [1:321] \"y\" \"X1\" \"X2\" \"X3\" ...\n",
      " $ scale   : Named num [1:321] 6.26 1070.29 1123.64 1174.56 1226.69 ...\n",
      "  ..- attr(*, \"names\")= chr [1:321] \"y\" \"X1\" \"X2\" \"X3\" ...\n",
      " $ x       : num [1:10958, 1:321] -8.29 -15.14 -11.26 -15.86 -19.4 ...\n",
      "  ..- attr(*, \"dimnames\")=List of 2\n",
      "  .. ..$ : NULL\n",
      "  .. ..$ : chr [1:321] \"PC1\" \"PC2\" \"PC3\" \"PC4\" ...\n",
      " - attr(*, \"class\")= chr \"prcomp\"\n"
     ]
    }
   ],
   "source": [
    "str(pca_full_scaled)"
   ]
  },
  {
   "cell_type": "code",
   "execution_count": 27,
   "metadata": {},
   "outputs": [
    {
     "data": {
      "text/html": [
       "<ol class=list-inline>\n",
       "\t<li>13.6509245640218</li>\n",
       "\t<li>7.13134501509698</li>\n",
       "\t<li>3.5437841629468</li>\n",
       "\t<li>2.9950597027003</li>\n",
       "\t<li>2.78442827719605</li>\n",
       "\t<li>2.6502146397535</li>\n",
       "</ol>\n"
      ],
      "text/latex": [
       "\\begin{enumerate*}\n",
       "\\item 13.6509245640218\n",
       "\\item 7.13134501509698\n",
       "\\item 3.5437841629468\n",
       "\\item 2.9950597027003\n",
       "\\item 2.78442827719605\n",
       "\\item 2.6502146397535\n",
       "\\end{enumerate*}\n"
      ],
      "text/markdown": [
       "1. 13.6509245640218\n",
       "2. 7.13134501509698\n",
       "3. 3.5437841629468\n",
       "4. 2.9950597027003\n",
       "5. 2.78442827719605\n",
       "6. 2.6502146397535\n",
       "\n",
       "\n"
      ],
      "text/plain": [
       "[1] 13.650925  7.131345  3.543784  2.995060  2.784428  2.650215"
      ]
     },
     "metadata": {},
     "output_type": "display_data"
    }
   ],
   "source": [
    "head(pca_full_scaled$sdev)"
   ]
  },
  {
   "cell_type": "code",
   "execution_count": 28,
   "metadata": {},
   "outputs": [
    {
     "data": {
      "text/html": [
       "<ol class=list-inline>\n",
       "\t<li>321</li>\n",
       "\t<li>321</li>\n",
       "</ol>\n"
      ],
      "text/latex": [
       "\\begin{enumerate*}\n",
       "\\item 321\n",
       "\\item 321\n",
       "\\end{enumerate*}\n"
      ],
      "text/markdown": [
       "1. 321\n",
       "2. 321\n",
       "\n",
       "\n"
      ],
      "text/plain": [
       "[1] 321 321"
      ]
     },
     "metadata": {},
     "output_type": "display_data"
    },
    {
     "data": {
      "text/html": [
       "<table>\n",
       "<thead><tr><th></th><th scope=col>PC1</th><th scope=col>PC2</th><th scope=col>PC3</th><th scope=col>PC4</th><th scope=col>PC5</th><th scope=col>PC6</th><th scope=col>PC7</th><th scope=col>PC8</th><th scope=col>PC9</th><th scope=col>PC10</th><th scope=col>⋯</th><th scope=col>PC312</th><th scope=col>PC313</th><th scope=col>PC314</th><th scope=col>PC315</th><th scope=col>PC316</th><th scope=col>PC317</th><th scope=col>PC318</th><th scope=col>PC319</th><th scope=col>PC320</th><th scope=col>PC321</th></tr></thead>\n",
       "<tbody>\n",
       "\t<tr><th scope=row>y</th><td>-0.01033838  </td><td> 0.03849341  </td><td> 0.063976303 </td><td>-0.02371934  </td><td> 0.01274300  </td><td>-0.089003828 </td><td> 0.015827878 </td><td>-0.08354051  </td><td> 0.083537382 </td><td>-0.01778078  </td><td>⋯            </td><td>-4.729933e-05</td><td>-3.586429e-06</td><td>-5.421114e-05</td><td>-3.477941e-05</td><td>-1.218937e-05</td><td>-4.448995e-05</td><td>-1.308973e-05</td><td>-1.105378e-05</td><td>-0.0000255699</td><td>-5.018065e-06</td></tr>\n",
       "\t<tr><th scope=row>X1</th><td> 0.05741723  </td><td>-0.06124949  </td><td>-0.005933929 </td><td> 0.10392750  </td><td> 0.04251490  </td><td> 0.056079291 </td><td>-0.004045930 </td><td>-0.04908806  </td><td>-0.007101369 </td><td> 0.05911935  </td><td>⋯            </td><td> 2.788780e-02</td><td> 3.269164e-02</td><td>-9.317482e-02</td><td> 3.786250e-02</td><td>-8.984456e-03</td><td> 4.454105e-02</td><td>-8.224384e-03</td><td>-2.944805e-02</td><td>-0.0361412105</td><td> 1.063532e-02</td></tr>\n",
       "\t<tr><th scope=row>X2</th><td> 0.05566149  </td><td>-0.07349070  </td><td>-0.011546292 </td><td> 0.10445281  </td><td> 0.01738126  </td><td> 0.043284569 </td><td>-0.001861425 </td><td>-0.01937142  </td><td>-0.011437089 </td><td> 0.05527825  </td><td>⋯            </td><td>-5.394215e-02</td><td>-6.509444e-02</td><td> 1.870743e-01</td><td> 2.660271e-02</td><td> 6.746467e-03</td><td>-3.386666e-02</td><td> 2.996944e-02</td><td> 7.728480e-02</td><td> 0.0724556732</td><td>-3.214959e-02</td></tr>\n",
       "\t<tr><th scope=row>X3</th><td> 0.05359281  </td><td>-0.08256940  </td><td>-0.019270958 </td><td> 0.09493344  </td><td>-0.01637802  </td><td> 0.026674655 </td><td> 0.001144030 </td><td> 0.01701864  </td><td>-0.020998379 </td><td> 0.04705129  </td><td>⋯            </td><td> 6.744204e-02</td><td> 1.046257e-01</td><td>-1.602999e-01</td><td>-7.749776e-02</td><td> 6.811432e-03</td><td>-5.471465e-02</td><td>-3.931964e-02</td><td>-1.222248e-01</td><td>-0.0491785387</td><td> 5.180364e-02</td></tr>\n",
       "\t<tr><th scope=row>X4</th><td> 0.05088586  </td><td>-0.08731191  </td><td>-0.028954925 </td><td> 0.07690739  </td><td>-0.05450316  </td><td> 0.009885426 </td><td> 0.003652367 </td><td> 0.05396004  </td><td>-0.035089192 </td><td> 0.03634028  </td><td>⋯            </td><td>-8.592195e-02</td><td>-1.923949e-01</td><td> 2.902058e-02</td><td> 1.436260e-02</td><td>-9.890413e-03</td><td> 5.363753e-02</td><td> 2.400315e-02</td><td> 1.254055e-01</td><td>-0.0153489384</td><td>-5.217143e-02</td></tr>\n",
       "\t<tr><th scope=row>X5</th><td> 0.04737046  </td><td>-0.08697689  </td><td>-0.039806800 </td><td> 0.05395598  </td><td>-0.09182473  </td><td>-0.005060131 </td><td> 0.004280090 </td><td> 0.08445480  </td><td>-0.051318770 </td><td> 0.02471588  </td><td>⋯            </td><td> 5.631979e-02</td><td> 1.263348e-01</td><td> 4.463851e-02</td><td>-5.328996e-02</td><td> 7.140425e-03</td><td> 3.423115e-02</td><td>-3.465617e-03</td><td>-7.010727e-02</td><td> 0.0392660931</td><td> 2.686016e-02</td></tr>\n",
       "</tbody>\n",
       "</table>\n"
      ],
      "text/latex": [
       "\\begin{tabular}{r|lllllllllllllllllllllllllllllllllllllllllllllllllllllllllllllllllllllllllllllllllllllllllllllllllllllllllllllllllllllllllllllllllllllllllllllllllllllllllllllllllllllllllllllllllllllllllllllllllllllllllllllllllllllllllllllllllllllllllllllllllllllllllllllllllllllllllllllllllllllllllllllllllllllllllllllllllllllllllllllllll}\n",
       "  & PC1 & PC2 & PC3 & PC4 & PC5 & PC6 & PC7 & PC8 & PC9 & PC10 & ⋯ & PC312 & PC313 & PC314 & PC315 & PC316 & PC317 & PC318 & PC319 & PC320 & PC321\\\\\n",
       "\\hline\n",
       "\ty & -0.01033838   &  0.03849341   &  0.063976303  & -0.02371934   &  0.01274300   & -0.089003828  &  0.015827878  & -0.08354051   &  0.083537382  & -0.01778078   & ⋯             & -4.729933e-05 & -3.586429e-06 & -5.421114e-05 & -3.477941e-05 & -1.218937e-05 & -4.448995e-05 & -1.308973e-05 & -1.105378e-05 & -0.0000255699 & -5.018065e-06\\\\\n",
       "\tX1 &  0.05741723   & -0.06124949   & -0.005933929  &  0.10392750   &  0.04251490   &  0.056079291  & -0.004045930  & -0.04908806   & -0.007101369  &  0.05911935   & ⋯             &  2.788780e-02 &  3.269164e-02 & -9.317482e-02 &  3.786250e-02 & -8.984456e-03 &  4.454105e-02 & -8.224384e-03 & -2.944805e-02 & -0.0361412105 &  1.063532e-02\\\\\n",
       "\tX2 &  0.05566149   & -0.07349070   & -0.011546292  &  0.10445281   &  0.01738126   &  0.043284569  & -0.001861425  & -0.01937142   & -0.011437089  &  0.05527825   & ⋯             & -5.394215e-02 & -6.509444e-02 &  1.870743e-01 &  2.660271e-02 &  6.746467e-03 & -3.386666e-02 &  2.996944e-02 &  7.728480e-02 &  0.0724556732 & -3.214959e-02\\\\\n",
       "\tX3 &  0.05359281   & -0.08256940   & -0.019270958  &  0.09493344   & -0.01637802   &  0.026674655  &  0.001144030  &  0.01701864   & -0.020998379  &  0.04705129   & ⋯             &  6.744204e-02 &  1.046257e-01 & -1.602999e-01 & -7.749776e-02 &  6.811432e-03 & -5.471465e-02 & -3.931964e-02 & -1.222248e-01 & -0.0491785387 &  5.180364e-02\\\\\n",
       "\tX4 &  0.05088586   & -0.08731191   & -0.028954925  &  0.07690739   & -0.05450316   &  0.009885426  &  0.003652367  &  0.05396004   & -0.035089192  &  0.03634028   & ⋯             & -8.592195e-02 & -1.923949e-01 &  2.902058e-02 &  1.436260e-02 & -9.890413e-03 &  5.363753e-02 &  2.400315e-02 &  1.254055e-01 & -0.0153489384 & -5.217143e-02\\\\\n",
       "\tX5 &  0.04737046   & -0.08697689   & -0.039806800  &  0.05395598   & -0.09182473   & -0.005060131  &  0.004280090  &  0.08445480   & -0.051318770  &  0.02471588   & ⋯             &  5.631979e-02 &  1.263348e-01 &  4.463851e-02 & -5.328996e-02 &  7.140425e-03 &  3.423115e-02 & -3.465617e-03 & -7.010727e-02 &  0.0392660931 &  2.686016e-02\\\\\n",
       "\\end{tabular}\n"
      ],
      "text/markdown": [
       "\n",
       "| <!--/--> | PC1 | PC2 | PC3 | PC4 | PC5 | PC6 | PC7 | PC8 | PC9 | PC10 | ⋯ | PC312 | PC313 | PC314 | PC315 | PC316 | PC317 | PC318 | PC319 | PC320 | PC321 | \n",
       "|---|---|---|---|---|---|\n",
       "| y | -0.01033838   |  0.03849341   |  0.063976303  | -0.02371934   |  0.01274300   | -0.089003828  |  0.015827878  | -0.08354051   |  0.083537382  | -0.01778078   | ⋯             | -4.729933e-05 | -3.586429e-06 | -5.421114e-05 | -3.477941e-05 | -1.218937e-05 | -4.448995e-05 | -1.308973e-05 | -1.105378e-05 | -0.0000255699 | -5.018065e-06 | \n",
       "| X1 |  0.05741723   | -0.06124949   | -0.005933929  |  0.10392750   |  0.04251490   |  0.056079291  | -0.004045930  | -0.04908806   | -0.007101369  |  0.05911935   | ⋯             |  2.788780e-02 |  3.269164e-02 | -9.317482e-02 |  3.786250e-02 | -8.984456e-03 |  4.454105e-02 | -8.224384e-03 | -2.944805e-02 | -0.0361412105 |  1.063532e-02 | \n",
       "| X2 |  0.05566149   | -0.07349070   | -0.011546292  |  0.10445281   |  0.01738126   |  0.043284569  | -0.001861425  | -0.01937142   | -0.011437089  |  0.05527825   | ⋯             | -5.394215e-02 | -6.509444e-02 |  1.870743e-01 |  2.660271e-02 |  6.746467e-03 | -3.386666e-02 |  2.996944e-02 |  7.728480e-02 |  0.0724556732 | -3.214959e-02 | \n",
       "| X3 |  0.05359281   | -0.08256940   | -0.019270958  |  0.09493344   | -0.01637802   |  0.026674655  |  0.001144030  |  0.01701864   | -0.020998379  |  0.04705129   | ⋯             |  6.744204e-02 |  1.046257e-01 | -1.602999e-01 | -7.749776e-02 |  6.811432e-03 | -5.471465e-02 | -3.931964e-02 | -1.222248e-01 | -0.0491785387 |  5.180364e-02 | \n",
       "| X4 |  0.05088586   | -0.08731191   | -0.028954925  |  0.07690739   | -0.05450316   |  0.009885426  |  0.003652367  |  0.05396004   | -0.035089192  |  0.03634028   | ⋯             | -8.592195e-02 | -1.923949e-01 |  2.902058e-02 |  1.436260e-02 | -9.890413e-03 |  5.363753e-02 |  2.400315e-02 |  1.254055e-01 | -0.0153489384 | -5.217143e-02 | \n",
       "| X5 |  0.04737046   | -0.08697689   | -0.039806800  |  0.05395598   | -0.09182473   | -0.005060131  |  0.004280090  |  0.08445480   | -0.051318770  |  0.02471588   | ⋯             |  5.631979e-02 |  1.263348e-01 |  4.463851e-02 | -5.328996e-02 |  7.140425e-03 |  3.423115e-02 | -3.465617e-03 | -7.010727e-02 |  0.0392660931 |  2.686016e-02 | \n",
       "\n",
       "\n"
      ],
      "text/plain": [
       "   PC1         PC2         PC3          PC4         PC5         PC6         \n",
       "y  -0.01033838  0.03849341  0.063976303 -0.02371934  0.01274300 -0.089003828\n",
       "X1  0.05741723 -0.06124949 -0.005933929  0.10392750  0.04251490  0.056079291\n",
       "X2  0.05566149 -0.07349070 -0.011546292  0.10445281  0.01738126  0.043284569\n",
       "X3  0.05359281 -0.08256940 -0.019270958  0.09493344 -0.01637802  0.026674655\n",
       "X4  0.05088586 -0.08731191 -0.028954925  0.07690739 -0.05450316  0.009885426\n",
       "X5  0.04737046 -0.08697689 -0.039806800  0.05395598 -0.09182473 -0.005060131\n",
       "   PC7          PC8         PC9          PC10        ⋯ PC312        \n",
       "y   0.015827878 -0.08354051  0.083537382 -0.01778078 ⋯ -4.729933e-05\n",
       "X1 -0.004045930 -0.04908806 -0.007101369  0.05911935 ⋯  2.788780e-02\n",
       "X2 -0.001861425 -0.01937142 -0.011437089  0.05527825 ⋯ -5.394215e-02\n",
       "X3  0.001144030  0.01701864 -0.020998379  0.04705129 ⋯  6.744204e-02\n",
       "X4  0.003652367  0.05396004 -0.035089192  0.03634028 ⋯ -8.592195e-02\n",
       "X5  0.004280090  0.08445480 -0.051318770  0.02471588 ⋯  5.631979e-02\n",
       "   PC313         PC314         PC315         PC316         PC317        \n",
       "y  -3.586429e-06 -5.421114e-05 -3.477941e-05 -1.218937e-05 -4.448995e-05\n",
       "X1  3.269164e-02 -9.317482e-02  3.786250e-02 -8.984456e-03  4.454105e-02\n",
       "X2 -6.509444e-02  1.870743e-01  2.660271e-02  6.746467e-03 -3.386666e-02\n",
       "X3  1.046257e-01 -1.602999e-01 -7.749776e-02  6.811432e-03 -5.471465e-02\n",
       "X4 -1.923949e-01  2.902058e-02  1.436260e-02 -9.890413e-03  5.363753e-02\n",
       "X5  1.263348e-01  4.463851e-02 -5.328996e-02  7.140425e-03  3.423115e-02\n",
       "   PC318         PC319         PC320         PC321        \n",
       "y  -1.308973e-05 -1.105378e-05 -0.0000255699 -5.018065e-06\n",
       "X1 -8.224384e-03 -2.944805e-02 -0.0361412105  1.063532e-02\n",
       "X2  2.996944e-02  7.728480e-02  0.0724556732 -3.214959e-02\n",
       "X3 -3.931964e-02 -1.222248e-01 -0.0491785387  5.180364e-02\n",
       "X4  2.400315e-02  1.254055e-01 -0.0153489384 -5.217143e-02\n",
       "X5 -3.465617e-03 -7.010727e-02  0.0392660931  2.686016e-02"
      ]
     },
     "metadata": {},
     "output_type": "display_data"
    }
   ],
   "source": [
    "dim(pca_full_scaled$rotation)\n",
    "head(pca_full_scaled$rotation)"
   ]
  },
  {
   "cell_type": "code",
   "execution_count": 29,
   "metadata": {},
   "outputs": [
    {
     "data": {
      "text/html": [
       "<dl class=dl-horizontal>\n",
       "\t<dt>y</dt>\n",
       "\t\t<dd>1.98818215002738</dd>\n",
       "\t<dt>X1</dt>\n",
       "\t\t<dd>56484.4756998312</dd>\n",
       "\t<dt>X2</dt>\n",
       "\t\t<dd>56314.6228322772</dd>\n",
       "\t<dt>X3</dt>\n",
       "\t\t<dd>56141.1157288054</dd>\n",
       "\t<dt>X4</dt>\n",
       "\t\t<dd>55955.8644454964</dd>\n",
       "\t<dt>X5</dt>\n",
       "\t\t<dd>55750.4747929595</dd>\n",
       "</dl>\n"
      ],
      "text/latex": [
       "\\begin{description*}\n",
       "\\item[y] 1.98818215002738\n",
       "\\item[X1] 56484.4756998312\n",
       "\\item[X2] 56314.6228322772\n",
       "\\item[X3] 56141.1157288054\n",
       "\\item[X4] 55955.8644454964\n",
       "\\item[X5] 55750.4747929595\n",
       "\\end{description*}\n"
      ],
      "text/markdown": [
       "y\n",
       ":   1.98818215002738X1\n",
       ":   56484.4756998312X2\n",
       ":   56314.6228322772X3\n",
       ":   56141.1157288054X4\n",
       ":   55955.8644454964X5\n",
       ":   55750.4747929595\n",
       "\n"
      ],
      "text/plain": [
       "           y           X1           X2           X3           X4           X5 \n",
       "    1.988182 56484.475700 56314.622832 56141.115729 55955.864445 55750.474793 "
      ]
     },
     "metadata": {},
     "output_type": "display_data"
    }
   ],
   "source": [
    "head(pca_full_scaled$center)"
   ]
  },
  {
   "cell_type": "code",
   "execution_count": 30,
   "metadata": {},
   "outputs": [
    {
     "data": {
      "text/html": [
       "<dl class=dl-horizontal>\n",
       "\t<dt>y</dt>\n",
       "\t\t<dd>6.26496696257152</dd>\n",
       "\t<dt>X1</dt>\n",
       "\t\t<dd>1070.28504080649</dd>\n",
       "\t<dt>X2</dt>\n",
       "\t\t<dd>1123.64109290713</dd>\n",
       "\t<dt>X3</dt>\n",
       "\t\t<dd>1174.55820942505</dd>\n",
       "\t<dt>X4</dt>\n",
       "\t\t<dd>1226.69231845364</dd>\n",
       "\t<dt>X5</dt>\n",
       "\t\t<dd>1283.97294040301</dd>\n",
       "</dl>\n"
      ],
      "text/latex": [
       "\\begin{description*}\n",
       "\\item[y] 6.26496696257152\n",
       "\\item[X1] 1070.28504080649\n",
       "\\item[X2] 1123.64109290713\n",
       "\\item[X3] 1174.55820942505\n",
       "\\item[X4] 1226.69231845364\n",
       "\\item[X5] 1283.97294040301\n",
       "\\end{description*}\n"
      ],
      "text/markdown": [
       "y\n",
       ":   6.26496696257152X1\n",
       ":   1070.28504080649X2\n",
       ":   1123.64109290713X3\n",
       ":   1174.55820942505X4\n",
       ":   1226.69231845364X5\n",
       ":   1283.97294040301\n",
       "\n"
      ],
      "text/plain": [
       "          y          X1          X2          X3          X4          X5 \n",
       "   6.264967 1070.285041 1123.641093 1174.558209 1226.692318 1283.972940 "
      ]
     },
     "metadata": {},
     "output_type": "display_data"
    }
   ],
   "source": [
    "head(pca_full_scaled$scale)"
   ]
  },
  {
   "cell_type": "markdown",
   "metadata": {},
   "source": [
    "**::GMG::** se puede ver aquí que la escala de **y** es mucho menor que las de las características (lo cual puede explicar su poco loading en el caso sin estandarizar)"
   ]
  },
  {
   "cell_type": "code",
   "execution_count": 31,
   "metadata": {},
   "outputs": [
    {
     "data": {
      "text/html": [
       "<ol class=list-inline>\n",
       "\t<li>10958</li>\n",
       "\t<li>321</li>\n",
       "</ol>\n"
      ],
      "text/latex": [
       "\\begin{enumerate*}\n",
       "\\item 10958\n",
       "\\item 321\n",
       "\\end{enumerate*}\n"
      ],
      "text/markdown": [
       "1. 10958\n",
       "2. 321\n",
       "\n",
       "\n"
      ],
      "text/plain": [
       "[1] 10958   321"
      ]
     },
     "metadata": {},
     "output_type": "display_data"
    },
    {
     "data": {
      "text/html": [
       "<table>\n",
       "<thead><tr><th scope=col>PC1</th><th scope=col>PC2</th><th scope=col>PC3</th><th scope=col>PC4</th><th scope=col>PC5</th><th scope=col>PC6</th><th scope=col>PC7</th><th scope=col>PC8</th><th scope=col>PC9</th><th scope=col>PC10</th><th scope=col>⋯</th><th scope=col>PC312</th><th scope=col>PC313</th><th scope=col>PC314</th><th scope=col>PC315</th><th scope=col>PC316</th><th scope=col>PC317</th><th scope=col>PC318</th><th scope=col>PC319</th><th scope=col>PC320</th><th scope=col>PC321</th></tr></thead>\n",
       "<tbody>\n",
       "\t<tr><td> -8.294542   </td><td> 1.7529006   </td><td> 3.4272835   </td><td> 4.9363043   </td><td> 1.26243566  </td><td> 1.9436556   </td><td>-3.311523    </td><td>-4.7020847   </td><td>2.4189086    </td><td>-0.4466268   </td><td>⋯            </td><td>-0.0022011886</td><td>-0.0038107516</td><td> 0.0016705232</td><td>-0.0040015485</td><td>-0.0001974073</td><td> 0.0034875217</td><td>-3.105494e-03</td><td>-0.0021721219</td><td> 4.130096e-04</td><td>-1.128549e-05</td></tr>\n",
       "\t<tr><td>-15.142910   </td><td>-3.4703357   </td><td> 1.5209198   </td><td> 6.2259439   </td><td>-3.43958450  </td><td> 0.9868435   </td><td>-4.159894    </td><td>-4.6768055   </td><td>2.5596682    </td><td>-2.6093652   </td><td>⋯            </td><td> 0.0053505306</td><td> 0.0001754836</td><td> 0.0004034925</td><td> 0.0028020316</td><td>-0.0005567413</td><td> 0.0003017132</td><td>-6.549340e-04</td><td>-0.0006712971</td><td>-1.618094e-03</td><td>-9.309698e-05</td></tr>\n",
       "\t<tr><td>-11.260958   </td><td>-0.1316717   </td><td> 8.4162453   </td><td> 3.6117303   </td><td>-0.19672861  </td><td>-3.2010356   </td><td>-1.898714    </td><td>-2.4086650   </td><td>4.4356878    </td><td>-1.0901738   </td><td>⋯            </td><td> 0.0022807238</td><td> 0.0034662758</td><td>-0.0021533526</td><td>-0.0028494159</td><td> 0.0011886535</td><td>-0.0002033106</td><td> 3.584044e-03</td><td>-0.0023545258</td><td>-1.941394e-06</td><td>-6.455180e-05</td></tr>\n",
       "\t<tr><td>-15.855907   </td><td>15.5537104   </td><td>-0.4502017   </td><td>-0.3512601   </td><td> 1.77818839  </td><td>-0.9934841   </td><td>-3.464867    </td><td>-2.2241348   </td><td>1.9962999    </td><td> 1.7488825   </td><td>⋯            </td><td> 0.0017318559</td><td>-0.0017079591</td><td>-0.0006261300</td><td>-0.0034205531</td><td> 0.0004123261</td><td>-0.0026994394</td><td> 7.681436e-04</td><td>-0.0002056876</td><td> 4.566138e-04</td><td>-3.116398e-04</td></tr>\n",
       "\t<tr><td>-19.399068   </td><td>12.9406712   </td><td>-1.1944702   </td><td>-2.9755920   </td><td> 0.05083286  </td><td> 0.4304092   </td><td>-4.449351    </td><td> 0.9822472   </td><td>0.9387145    </td><td>-1.0667325   </td><td>⋯            </td><td>-0.0002004088</td><td> 0.0031071312</td><td> 0.0007708471</td><td>-0.0009478624</td><td> 0.0004890266</td><td>-0.0010008738</td><td> 9.313774e-05</td><td> 0.0003018010</td><td>-6.143089e-04</td><td> 2.578705e-04</td></tr>\n",
       "\t<tr><td>-15.557928   </td><td> 2.7584064   </td><td>-1.1838834   </td><td>-3.6058767   </td><td>-2.70000825  </td><td> 1.8759788   </td><td>-5.290855    </td><td> 1.8169393   </td><td>0.3741114    </td><td>-1.9965908   </td><td>⋯            </td><td> 0.0009991501</td><td>-0.0038776726</td><td> 0.0004274243</td><td> 0.0018441023</td><td> 0.0003471951</td><td> 0.0006926932</td><td> 2.418694e-03</td><td> 0.0014030443</td><td>-6.352221e-04</td><td> 9.353934e-04</td></tr>\n",
       "</tbody>\n",
       "</table>\n"
      ],
      "text/latex": [
       "\\begin{tabular}{lllllllllllllllllllllllllllllllllllllllllllllllllllllllllllllllllllllllllllllllllllllllllllllllllllllllllllllllllllllllllllllllllllllllllllllllllllllllllllllllllllllllllllllllllllllllllllllllllllllllllllllllllllllllllllllllllllllllllllllllllllllllllllllllllllllllllllllllllllllllllllllllllllllllllllllllllllllllllllllllll}\n",
       " PC1 & PC2 & PC3 & PC4 & PC5 & PC6 & PC7 & PC8 & PC9 & PC10 & ⋯ & PC312 & PC313 & PC314 & PC315 & PC316 & PC317 & PC318 & PC319 & PC320 & PC321\\\\\n",
       "\\hline\n",
       "\t  -8.294542    &  1.7529006    &  3.4272835    &  4.9363043    &  1.26243566   &  1.9436556    & -3.311523     & -4.7020847    & 2.4189086     & -0.4466268    & ⋯             & -0.0022011886 & -0.0038107516 &  0.0016705232 & -0.0040015485 & -0.0001974073 &  0.0034875217 & -3.105494e-03 & -0.0021721219 &  4.130096e-04 & -1.128549e-05\\\\\n",
       "\t -15.142910    & -3.4703357    &  1.5209198    &  6.2259439    & -3.43958450   &  0.9868435    & -4.159894     & -4.6768055    & 2.5596682     & -2.6093652    & ⋯             &  0.0053505306 &  0.0001754836 &  0.0004034925 &  0.0028020316 & -0.0005567413 &  0.0003017132 & -6.549340e-04 & -0.0006712971 & -1.618094e-03 & -9.309698e-05\\\\\n",
       "\t -11.260958    & -0.1316717    &  8.4162453    &  3.6117303    & -0.19672861   & -3.2010356    & -1.898714     & -2.4086650    & 4.4356878     & -1.0901738    & ⋯             &  0.0022807238 &  0.0034662758 & -0.0021533526 & -0.0028494159 &  0.0011886535 & -0.0002033106 &  3.584044e-03 & -0.0023545258 & -1.941394e-06 & -6.455180e-05\\\\\n",
       "\t -15.855907    & 15.5537104    & -0.4502017    & -0.3512601    &  1.77818839   & -0.9934841    & -3.464867     & -2.2241348    & 1.9962999     &  1.7488825    & ⋯             &  0.0017318559 & -0.0017079591 & -0.0006261300 & -0.0034205531 &  0.0004123261 & -0.0026994394 &  7.681436e-04 & -0.0002056876 &  4.566138e-04 & -3.116398e-04\\\\\n",
       "\t -19.399068    & 12.9406712    & -1.1944702    & -2.9755920    &  0.05083286   &  0.4304092    & -4.449351     &  0.9822472    & 0.9387145     & -1.0667325    & ⋯             & -0.0002004088 &  0.0031071312 &  0.0007708471 & -0.0009478624 &  0.0004890266 & -0.0010008738 &  9.313774e-05 &  0.0003018010 & -6.143089e-04 &  2.578705e-04\\\\\n",
       "\t -15.557928    &  2.7584064    & -1.1838834    & -3.6058767    & -2.70000825   &  1.8759788    & -5.290855     &  1.8169393    & 0.3741114     & -1.9965908    & ⋯             &  0.0009991501 & -0.0038776726 &  0.0004274243 &  0.0018441023 &  0.0003471951 &  0.0006926932 &  2.418694e-03 &  0.0014030443 & -6.352221e-04 &  9.353934e-04\\\\\n",
       "\\end{tabular}\n"
      ],
      "text/markdown": [
       "\n",
       "PC1 | PC2 | PC3 | PC4 | PC5 | PC6 | PC7 | PC8 | PC9 | PC10 | ⋯ | PC312 | PC313 | PC314 | PC315 | PC316 | PC317 | PC318 | PC319 | PC320 | PC321 | \n",
       "|---|---|---|---|---|---|\n",
       "|  -8.294542    |  1.7529006    |  3.4272835    |  4.9363043    |  1.26243566   |  1.9436556    | -3.311523     | -4.7020847    | 2.4189086     | -0.4466268    | ⋯             | -0.0022011886 | -0.0038107516 |  0.0016705232 | -0.0040015485 | -0.0001974073 |  0.0034875217 | -3.105494e-03 | -0.0021721219 |  4.130096e-04 | -1.128549e-05 | \n",
       "| -15.142910    | -3.4703357    |  1.5209198    |  6.2259439    | -3.43958450   |  0.9868435    | -4.159894     | -4.6768055    | 2.5596682     | -2.6093652    | ⋯             |  0.0053505306 |  0.0001754836 |  0.0004034925 |  0.0028020316 | -0.0005567413 |  0.0003017132 | -6.549340e-04 | -0.0006712971 | -1.618094e-03 | -9.309698e-05 | \n",
       "| -11.260958    | -0.1316717    |  8.4162453    |  3.6117303    | -0.19672861   | -3.2010356    | -1.898714     | -2.4086650    | 4.4356878     | -1.0901738    | ⋯             |  0.0022807238 |  0.0034662758 | -0.0021533526 | -0.0028494159 |  0.0011886535 | -0.0002033106 |  3.584044e-03 | -0.0023545258 | -1.941394e-06 | -6.455180e-05 | \n",
       "| -15.855907    | 15.5537104    | -0.4502017    | -0.3512601    |  1.77818839   | -0.9934841    | -3.464867     | -2.2241348    | 1.9962999     |  1.7488825    | ⋯             |  0.0017318559 | -0.0017079591 | -0.0006261300 | -0.0034205531 |  0.0004123261 | -0.0026994394 |  7.681436e-04 | -0.0002056876 |  4.566138e-04 | -3.116398e-04 | \n",
       "| -19.399068    | 12.9406712    | -1.1944702    | -2.9755920    |  0.05083286   |  0.4304092    | -4.449351     |  0.9822472    | 0.9387145     | -1.0667325    | ⋯             | -0.0002004088 |  0.0031071312 |  0.0007708471 | -0.0009478624 |  0.0004890266 | -0.0010008738 |  9.313774e-05 |  0.0003018010 | -6.143089e-04 |  2.578705e-04 | \n",
       "| -15.557928    |  2.7584064    | -1.1838834    | -3.6058767    | -2.70000825   |  1.8759788    | -5.290855     |  1.8169393    | 0.3741114     | -1.9965908    | ⋯             |  0.0009991501 | -0.0038776726 |  0.0004274243 |  0.0018441023 |  0.0003471951 |  0.0006926932 |  2.418694e-03 |  0.0014030443 | -6.352221e-04 |  9.353934e-04 | \n",
       "\n",
       "\n"
      ],
      "text/plain": [
       "     PC1        PC2        PC3        PC4        PC5         PC6       \n",
       "[1,]  -8.294542  1.7529006  3.4272835  4.9363043  1.26243566  1.9436556\n",
       "[2,] -15.142910 -3.4703357  1.5209198  6.2259439 -3.43958450  0.9868435\n",
       "[3,] -11.260958 -0.1316717  8.4162453  3.6117303 -0.19672861 -3.2010356\n",
       "[4,] -15.855907 15.5537104 -0.4502017 -0.3512601  1.77818839 -0.9934841\n",
       "[5,] -19.399068 12.9406712 -1.1944702 -2.9755920  0.05083286  0.4304092\n",
       "[6,] -15.557928  2.7584064 -1.1838834 -3.6058767 -2.70000825  1.8759788\n",
       "     PC7       PC8        PC9       PC10       ⋯ PC312         PC313        \n",
       "[1,] -3.311523 -4.7020847 2.4189086 -0.4466268 ⋯ -0.0022011886 -0.0038107516\n",
       "[2,] -4.159894 -4.6768055 2.5596682 -2.6093652 ⋯  0.0053505306  0.0001754836\n",
       "[3,] -1.898714 -2.4086650 4.4356878 -1.0901738 ⋯  0.0022807238  0.0034662758\n",
       "[4,] -3.464867 -2.2241348 1.9962999  1.7488825 ⋯  0.0017318559 -0.0017079591\n",
       "[5,] -4.449351  0.9822472 0.9387145 -1.0667325 ⋯ -0.0002004088  0.0031071312\n",
       "[6,] -5.290855  1.8169393 0.3741114 -1.9965908 ⋯  0.0009991501 -0.0038776726\n",
       "     PC314         PC315         PC316         PC317         PC318        \n",
       "[1,]  0.0016705232 -0.0040015485 -0.0001974073  0.0034875217 -3.105494e-03\n",
       "[2,]  0.0004034925  0.0028020316 -0.0005567413  0.0003017132 -6.549340e-04\n",
       "[3,] -0.0021533526 -0.0028494159  0.0011886535 -0.0002033106  3.584044e-03\n",
       "[4,] -0.0006261300 -0.0034205531  0.0004123261 -0.0026994394  7.681436e-04\n",
       "[5,]  0.0007708471 -0.0009478624  0.0004890266 -0.0010008738  9.313774e-05\n",
       "[6,]  0.0004274243  0.0018441023  0.0003471951  0.0006926932  2.418694e-03\n",
       "     PC319         PC320         PC321        \n",
       "[1,] -0.0021721219  4.130096e-04 -1.128549e-05\n",
       "[2,] -0.0006712971 -1.618094e-03 -9.309698e-05\n",
       "[3,] -0.0023545258 -1.941394e-06 -6.455180e-05\n",
       "[4,] -0.0002056876  4.566138e-04 -3.116398e-04\n",
       "[5,]  0.0003018010 -6.143089e-04  2.578705e-04\n",
       "[6,]  0.0014030443 -6.352221e-04  9.353934e-04"
      ]
     },
     "metadata": {},
     "output_type": "display_data"
    }
   ],
   "source": [
    "dim(pca_full_scaled$x)\n",
    "head(pca_full_scaled$x)"
   ]
  },
  {
   "cell_type": "markdown",
   "metadata": {},
   "source": [
    "**::GMG::** Aquí vemos que las ahora hay diferentes PC que aparecen tienen combinaciones lineales de variables normalizadas todas N(0,1) (*standarized*) y explican la variabilidad real de las combinaciones lineales dentro del dataset."
   ]
  },
  {
   "cell_type": "code",
   "execution_count": 32,
   "metadata": {},
   "outputs": [
    {
     "data": {
      "image/png": "[encoded data removed]",
      "text/plain": [
       "Plot with title “pca_full_scaled”"
      ]
     },
     "metadata": {},
     "output_type": "display_data"
    }
   ],
   "source": [
    "plot(pca_full_scaled, type='l')"
   ]
  },
  {
   "cell_type": "code",
   "execution_count": 63,
   "metadata": {},
   "outputs": [
    {
     "data": {
      "image/png": "[encoded data removed]",
      "text/plain": [
       "plot without title"
      ]
     },
     "metadata": {},
     "output_type": "display_data"
    }
   ],
   "source": [
    "#::GMG:: cumulative scree plot\n",
    "plot(100*cumsum(pca_full_scaled$sdev^2/sum(pca_full_scaled$sdev^2)), \n",
    "            xlab = \"Principal Component\",\n",
    "            ylab = \"Cumulative Proportion of Variance Explained\",\n",
    "            type = \"b\")"
   ]
  },
  {
   "cell_type": "markdown",
   "metadata": {
    "button": false,
    "new_sheet": false,
    "run_control": {
     "read_only": false
    }
   },
   "source": [
    "* ¿Cómo contribuye en cada caso la variable objetivo a la primera componente principal?"
   ]
  },
  {
   "cell_type": "markdown",
   "metadata": {},
   "source": [
    "**::GMG::** La \"contribución\" de una característica (*feature*) a una componente principal se extrae del *loading vector* de la componente principal. En el caso de la PC1 tenemos dos vectores, uno para el caso sin estandarizar y otro para el caso estandarizado."
   ]
  },
  {
   "cell_type": "code",
   "execution_count": 35,
   "metadata": {},
   "outputs": [
    {
     "data": {
      "text/html": [
       "<table>\n",
       "<thead><tr><th scope=col>y</th><th scope=col>X1</th><th scope=col>X2</th><th scope=col>X3</th><th scope=col>X4</th><th scope=col>X5</th><th scope=col>X6</th><th scope=col>X7</th><th scope=col>X8</th><th scope=col>X9</th><th scope=col>⋯</th><th scope=col>X311</th><th scope=col>X312</th><th scope=col>X313</th><th scope=col>X314</th><th scope=col>X315</th><th scope=col>X316</th><th scope=col>X317</th><th scope=col>X318</th><th scope=col>X319</th><th scope=col>X320</th></tr></thead>\n",
       "<tbody>\n",
       "\t<tr><td>-2.684716e-06</td><td>-0.07684453  </td><td>-0.0766146   </td><td>-0.07637951  </td><td>-0.07612812  </td><td>-0.07584893  </td><td>-0.0768408   </td><td>-0.07659804  </td><td>-0.07635437  </td><td>-0.07609918  </td><td>⋯            </td><td>-0.138434    </td><td>-0.138366    </td><td>-0.1383693   </td><td>-0.1384473   </td><td>-0.1385171   </td><td>-0.1384371   </td><td>-0.1383525   </td><td>-0.1383503   </td><td>-0.1383308   </td><td>-0.1384048   </td></tr>\n",
       "</tbody>\n",
       "</table>\n"
      ],
      "text/latex": [
       "\\begin{tabular}{lllllllllllllllllllllllllllllllllllllllllllllllllllllllllllllllllllllllllllllllllllllllllllllllllllllllllllllllllllllllllllllllllllllllllllllllllllllllllllllllllllllllllllllllllllllllllllllllllllllllllllllllllllllllllllllllllllllllllllllllllllllllllllllllllllllllllllllllllllllllllllllllllllllllllllllllllllllllllllllllll}\n",
       " y & X1 & X2 & X3 & X4 & X5 & X6 & X7 & X8 & X9 & ⋯ & X311 & X312 & X313 & X314 & X315 & X316 & X317 & X318 & X319 & X320\\\\\n",
       "\\hline\n",
       "\t -2.684716e-06 & -0.07684453   & -0.0766146    & -0.07637951   & -0.07612812   & -0.07584893   & -0.0768408    & -0.07659804   & -0.07635437   & -0.07609918   & ⋯             & -0.138434     & -0.138366     & -0.1383693    & -0.1384473    & -0.1385171    & -0.1384371    & -0.1383525    & -0.1383503    & -0.1383308    & -0.1384048   \\\\\n",
       "\\end{tabular}\n"
      ],
      "text/markdown": [
       "\n",
       "y | X1 | X2 | X3 | X4 | X5 | X6 | X7 | X8 | X9 | ⋯ | X311 | X312 | X313 | X314 | X315 | X316 | X317 | X318 | X319 | X320 | \n",
       "|---|\n",
       "| -2.684716e-06 | -0.07684453   | -0.0766146    | -0.07637951   | -0.07612812   | -0.07584893   | -0.0768408    | -0.07659804   | -0.07635437   | -0.07609918   | ⋯             | -0.138434     | -0.138366     | -0.1383693    | -0.1384473    | -0.1385171    | -0.1384371    | -0.1383525    | -0.1383503    | -0.1383308    | -0.1384048    | \n",
       "\n",
       "\n"
      ],
      "text/plain": [
       "     y             X1          X2         X3          X4          X5         \n",
       "[1,] -2.684716e-06 -0.07684453 -0.0766146 -0.07637951 -0.07612812 -0.07584893\n",
       "     X6         X7          X8          X9          ⋯ X311      X312     \n",
       "[1,] -0.0768408 -0.07659804 -0.07635437 -0.07609918 ⋯ -0.138434 -0.138366\n",
       "     X313       X314       X315       X316       X317       X318      \n",
       "[1,] -0.1383693 -0.1384473 -0.1385171 -0.1384371 -0.1383525 -0.1383503\n",
       "     X319       X320      \n",
       "[1,] -0.1383308 -0.1384048"
      ]
     },
     "metadata": {},
     "output_type": "display_data"
    }
   ],
   "source": [
    "#::GMG::Esta es la \"contribución\" de y y X_i a la PC1 sin estandarizar\n",
    "t(pca_full_ns$rotation[,1])"
   ]
  },
  {
   "cell_type": "code",
   "execution_count": 36,
   "metadata": {},
   "outputs": [
    {
     "data": {
      "text/html": [
       "<table>\n",
       "<thead><tr><th scope=col>y</th><th scope=col>X1</th><th scope=col>X2</th><th scope=col>X3</th><th scope=col>X4</th><th scope=col>X5</th><th scope=col>X6</th><th scope=col>X7</th><th scope=col>X8</th><th scope=col>X9</th><th scope=col>⋯</th><th scope=col>X311</th><th scope=col>X312</th><th scope=col>X313</th><th scope=col>X314</th><th scope=col>X315</th><th scope=col>X316</th><th scope=col>X317</th><th scope=col>X318</th><th scope=col>X319</th><th scope=col>X320</th></tr></thead>\n",
       "<tbody>\n",
       "\t<tr><td>-0.01033838 </td><td>0.05741723  </td><td>0.05566149  </td><td>0.05359281  </td><td>0.05088586  </td><td>0.04737046  </td><td>0.06062457  </td><td>0.05912541  </td><td>0.05715152  </td><td>0.05443809  </td><td>⋯           </td><td>-0.008269296</td><td>-0.002012563</td><td>0.002044729 </td><td>0.00452874  </td><td>0.0003114627</td><td>-0.00561639 </td><td>0.0001213253</td><td>0.004728206 </td><td>0.003996039 </td><td>0.002241745 </td></tr>\n",
       "</tbody>\n",
       "</table>\n"
      ],
      "text/latex": [
       "\\begin{tabular}{lllllllllllllllllllllllllllllllllllllllllllllllllllllllllllllllllllllllllllllllllllllllllllllllllllllllllllllllllllllllllllllllllllllllllllllllllllllllllllllllllllllllllllllllllllllllllllllllllllllllllllllllllllllllllllllllllllllllllllllllllllllllllllllllllllllllllllllllllllllllllllllllllllllllllllllllllllllllllllllllll}\n",
       " y & X1 & X2 & X3 & X4 & X5 & X6 & X7 & X8 & X9 & ⋯ & X311 & X312 & X313 & X314 & X315 & X316 & X317 & X318 & X319 & X320\\\\\n",
       "\\hline\n",
       "\t -0.01033838  & 0.05741723   & 0.05566149   & 0.05359281   & 0.05088586   & 0.04737046   & 0.06062457   & 0.05912541   & 0.05715152   & 0.05443809   & ⋯            & -0.008269296 & -0.002012563 & 0.002044729  & 0.00452874   & 0.0003114627 & -0.00561639  & 0.0001213253 & 0.004728206  & 0.003996039  & 0.002241745 \\\\\n",
       "\\end{tabular}\n"
      ],
      "text/markdown": [
       "\n",
       "y | X1 | X2 | X3 | X4 | X5 | X6 | X7 | X8 | X9 | ⋯ | X311 | X312 | X313 | X314 | X315 | X316 | X317 | X318 | X319 | X320 | \n",
       "|---|\n",
       "| -0.01033838  | 0.05741723   | 0.05566149   | 0.05359281   | 0.05088586   | 0.04737046   | 0.06062457   | 0.05912541   | 0.05715152   | 0.05443809   | ⋯            | -0.008269296 | -0.002012563 | 0.002044729  | 0.00452874   | 0.0003114627 | -0.00561639  | 0.0001213253 | 0.004728206  | 0.003996039  | 0.002241745  | \n",
       "\n",
       "\n"
      ],
      "text/plain": [
       "     y           X1         X2         X3         X4         X5        \n",
       "[1,] -0.01033838 0.05741723 0.05566149 0.05359281 0.05088586 0.04737046\n",
       "     X6         X7         X8         X9         ⋯ X311         X312        \n",
       "[1,] 0.06062457 0.05912541 0.05715152 0.05443809 ⋯ -0.008269296 -0.002012563\n",
       "     X313        X314       X315         X316        X317         X318       \n",
       "[1,] 0.002044729 0.00452874 0.0003114627 -0.00561639 0.0001213253 0.004728206\n",
       "     X319        X320       \n",
       "[1,] 0.003996039 0.002241745"
      ]
     },
     "metadata": {},
     "output_type": "display_data"
    }
   ],
   "source": [
    "#::GMG::Esta es la \"contribución\" de y y X_i a la PC1 estandarizando\n",
    "t(pca_full_scaled$rotation[,1])"
   ]
  },
  {
   "cell_type": "markdown",
   "metadata": {},
   "source": [
    "**::GMG::** Para interpretar la aportación hay que hacer notar que los *loadings\" tienen la restricción de que la suma de sus cuadrados da 1."
   ]
  },
  {
   "cell_type": "code",
   "execution_count": 46,
   "metadata": {},
   "outputs": [
    {
     "data": {
      "text/html": [
       "<span style=white-space:pre-wrap>'299  --  0.138612349268337'</span>"
      ],
      "text/latex": [
       "'299  --  0.138612349268337'"
      ],
      "text/markdown": [
       "<span style=white-space:pre-wrap>'299  --  0.138612349268337'</span>"
      ],
      "text/plain": [
       "[1] \"299  --  0.138612349268337\""
      ]
     },
     "metadata": {},
     "output_type": "display_data"
    }
   ],
   "source": [
    "#::GMG::Para comparar\n",
    "#       Sin estándarizar: la feature que aporta más a PC1, i.e. tiene el loading más alto \n",
    "#       (en valor absoluto)\n",
    "paste(which.max(abs(pca_full_ns$rotation[-1,1])), ' -- ',\n",
    "      abs(pca_full_ns$rotation[which.max(abs(pca_full_ns$rotation[,1])),1])\n",
    "     )"
   ]
  },
  {
   "cell_type": "code",
   "execution_count": 48,
   "metadata": {},
   "outputs": [
    {
     "data": {
      "text/html": [
       "<span style=white-space:pre-wrap>'103  --  0.0699745353149145'</span>"
      ],
      "text/latex": [
       "'103  --  0.0699745353149145'"
      ],
      "text/markdown": [
       "<span style=white-space:pre-wrap>'103  --  0.0699745353149145'</span>"
      ],
      "text/plain": [
       "[1] \"103  --  0.0699745353149145\""
      ]
     },
     "metadata": {},
     "output_type": "display_data"
    }
   ],
   "source": [
    "#::GMG::Para comparar\n",
    "#       Estandarizando: la feature que aporta más a PC1, i.e. tiene el loading más alto \n",
    "#       (en valor absoluto)\n",
    "paste(which.max(abs(pca_full_scaled$rotation[-1,1])), ' -- ',\n",
    "      abs(pca_full_scaled$rotation[which.max(abs(pca_full_scaled$rotation[,1])),1])\n",
    "     )"
   ]
  },
  {
   "cell_type": "markdown",
   "metadata": {},
   "source": [
    "**::GMG::** En este caso la diferencia enre \"contribuciones\" no es tan grande como en el caso sin estandarizar. Esto significa que al estandarizar tenemos que la aportación a la primera componente principal de y es significativa."
   ]
  },
  {
   "cell_type": "markdown",
   "metadata": {
    "button": false,
    "new_sheet": false,
    "run_control": {
     "read_only": false
    }
   },
   "source": [
    "* ¿A qué componente principal contribuye principalmente la variable objetivo? ¿qué porcentaje de varianza se explica hasta dicha componente?"
   ]
  },
  {
   "cell_type": "markdown",
   "metadata": {},
   "source": [
    "**::GMG::** Ahora tenemos que ver la contribución (componente de loading) de y a lo largo de todas las componentes principales que hemos obtenido."
   ]
  },
  {
   "cell_type": "code",
   "execution_count": 50,
   "metadata": {},
   "outputs": [
    {
     "data": {
      "text/html": [
       "<table>\n",
       "<thead><tr><th scope=col>PC1</th><th scope=col>PC2</th><th scope=col>PC3</th><th scope=col>PC4</th><th scope=col>PC5</th><th scope=col>PC6</th><th scope=col>PC7</th><th scope=col>PC8</th><th scope=col>PC9</th><th scope=col>PC10</th><th scope=col>⋯</th><th scope=col>PC312</th><th scope=col>PC313</th><th scope=col>PC314</th><th scope=col>PC315</th><th scope=col>PC316</th><th scope=col>PC317</th><th scope=col>PC318</th><th scope=col>PC319</th><th scope=col>PC320</th><th scope=col>PC321</th></tr></thead>\n",
       "<tbody>\n",
       "\t<tr><td>-2.684716e-06</td><td>-0.0001886918</td><td>-0.0009897637</td><td>4.462896e-05 </td><td>-0.001370433 </td><td>0.001222185  </td><td>-0.000186068 </td><td>0.0007164657 </td><td>-0.002114419 </td><td>0.001635352  </td><td>⋯            </td><td>3.948372e-08 </td><td>9.82247e-08  </td><td>2.443286e-08 </td><td>5.725554e-08 </td><td>1.272105e-07 </td><td>6.837465e-08 </td><td>1.099774e-07 </td><td>1.497431e-07 </td><td>8.459199e-08 </td><td>3.039821e-08 </td></tr>\n",
       "</tbody>\n",
       "</table>\n"
      ],
      "text/latex": [
       "\\begin{tabular}{lllllllllllllllllllllllllllllllllllllllllllllllllllllllllllllllllllllllllllllllllllllllllllllllllllllllllllllllllllllllllllllllllllllllllllllllllllllllllllllllllllllllllllllllllllllllllllllllllllllllllllllllllllllllllllllllllllllllllllllllllllllllllllllllllllllllllllllllllllllllllllllllllllllllllllllllllllllllllllllllll}\n",
       " PC1 & PC2 & PC3 & PC4 & PC5 & PC6 & PC7 & PC8 & PC9 & PC10 & ⋯ & PC312 & PC313 & PC314 & PC315 & PC316 & PC317 & PC318 & PC319 & PC320 & PC321\\\\\n",
       "\\hline\n",
       "\t -2.684716e-06 & -0.0001886918 & -0.0009897637 & 4.462896e-05  & -0.001370433  & 0.001222185   & -0.000186068  & 0.0007164657  & -0.002114419  & 0.001635352   & ⋯             & 3.948372e-08  & 9.82247e-08   & 2.443286e-08  & 5.725554e-08  & 1.272105e-07  & 6.837465e-08  & 1.099774e-07  & 1.497431e-07  & 8.459199e-08  & 3.039821e-08 \\\\\n",
       "\\end{tabular}\n"
      ],
      "text/markdown": [
       "\n",
       "PC1 | PC2 | PC3 | PC4 | PC5 | PC6 | PC7 | PC8 | PC9 | PC10 | ⋯ | PC312 | PC313 | PC314 | PC315 | PC316 | PC317 | PC318 | PC319 | PC320 | PC321 | \n",
       "|---|\n",
       "| -2.684716e-06 | -0.0001886918 | -0.0009897637 | 4.462896e-05  | -0.001370433  | 0.001222185   | -0.000186068  | 0.0007164657  | -0.002114419  | 0.001635352   | ⋯             | 3.948372e-08  | 9.82247e-08   | 2.443286e-08  | 5.725554e-08  | 1.272105e-07  | 6.837465e-08  | 1.099774e-07  | 1.497431e-07  | 8.459199e-08  | 3.039821e-08  | \n",
       "\n",
       "\n"
      ],
      "text/plain": [
       "     PC1           PC2           PC3           PC4          PC5         \n",
       "[1,] -2.684716e-06 -0.0001886918 -0.0009897637 4.462896e-05 -0.001370433\n",
       "     PC6         PC7          PC8          PC9          PC10        ⋯\n",
       "[1,] 0.001222185 -0.000186068 0.0007164657 -0.002114419 0.001635352 ⋯\n",
       "     PC312        PC313       PC314        PC315        PC316       \n",
       "[1,] 3.948372e-08 9.82247e-08 2.443286e-08 5.725554e-08 1.272105e-07\n",
       "     PC317        PC318        PC319        PC320        PC321       \n",
       "[1,] 6.837465e-08 1.099774e-07 1.497431e-07 8.459199e-08 3.039821e-08"
      ]
     },
     "metadata": {},
     "output_type": "display_data"
    }
   ],
   "source": [
    "#::GMG::Caso sin estandarizar\n",
    "t(pca_full_ns$rotation[1,])"
   ]
  },
  {
   "cell_type": "code",
   "execution_count": 54,
   "metadata": {},
   "outputs": [
    {
     "data": {
      "text/html": [
       "<span style=white-space:pre-wrap>'74  --  0.81288070396197'</span>"
      ],
      "text/latex": [
       "'74  --  0.81288070396197'"
      ],
      "text/markdown": [
       "<span style=white-space:pre-wrap>'74  --  0.81288070396197'</span>"
      ],
      "text/plain": [
       "[1] \"74  --  0.81288070396197\""
      ]
     },
     "metadata": {},
     "output_type": "display_data"
    }
   ],
   "source": [
    "#::GMG::Para ver qué componente principal tiene en mayor loading de y\n",
    "paste(which.max(abs(t(pca_full_ns$rotation[1,]))), ' -- ',\n",
    "      abs(pca_full_ns$rotation[1,which.max(abs(pca_full_ns$rotation[1,]))]))"
   ]
  },
  {
   "cell_type": "code",
   "execution_count": 65,
   "metadata": {},
   "outputs": [
    {
     "data": {
      "text/html": [
       "99.2673547356589"
      ],
      "text/latex": [
       "99.2673547356589"
      ],
      "text/markdown": [
       "99.2673547356589"
      ],
      "text/plain": [
       "[1] 99.26735"
      ]
     },
     "metadata": {},
     "output_type": "display_data"
    }
   ],
   "source": [
    "#::GMG::La varianza explicada hasta la PC74 en el caso no estandarizado\n",
    "100*cumsum(\n",
    "    pca_full_scaled$sdev^2/sum(pca_full_scaled$sdev^2)\n",
    "    )[which.max(abs(t(pca_full_ns$rotation[1,])))]"
   ]
  },
  {
   "cell_type": "code",
   "execution_count": 51,
   "metadata": {},
   "outputs": [
    {
     "data": {
      "text/html": [
       "<table>\n",
       "<thead><tr><th scope=col>PC1</th><th scope=col>PC2</th><th scope=col>PC3</th><th scope=col>PC4</th><th scope=col>PC5</th><th scope=col>PC6</th><th scope=col>PC7</th><th scope=col>PC8</th><th scope=col>PC9</th><th scope=col>PC10</th><th scope=col>⋯</th><th scope=col>PC312</th><th scope=col>PC313</th><th scope=col>PC314</th><th scope=col>PC315</th><th scope=col>PC316</th><th scope=col>PC317</th><th scope=col>PC318</th><th scope=col>PC319</th><th scope=col>PC320</th><th scope=col>PC321</th></tr></thead>\n",
       "<tbody>\n",
       "\t<tr><td>-0.01033838  </td><td>0.03849341   </td><td>0.0639763    </td><td>-0.02371934  </td><td>0.012743     </td><td>-0.08900383  </td><td>0.01582788   </td><td>-0.08354051  </td><td>0.08353738   </td><td>-0.01778078  </td><td>⋯            </td><td>-4.729933e-05</td><td>-3.586429e-06</td><td>-5.421114e-05</td><td>-3.477941e-05</td><td>-1.218937e-05</td><td>-4.448995e-05</td><td>-1.308973e-05</td><td>-1.105378e-05</td><td>-2.55699e-05 </td><td>-5.018065e-06</td></tr>\n",
       "</tbody>\n",
       "</table>\n"
      ],
      "text/latex": [
       "\\begin{tabular}{lllllllllllllllllllllllllllllllllllllllllllllllllllllllllllllllllllllllllllllllllllllllllllllllllllllllllllllllllllllllllllllllllllllllllllllllllllllllllllllllllllllllllllllllllllllllllllllllllllllllllllllllllllllllllllllllllllllllllllllllllllllllllllllllllllllllllllllllllllllllllllllllllllllllllllllllllllllllllllllllll}\n",
       " PC1 & PC2 & PC3 & PC4 & PC5 & PC6 & PC7 & PC8 & PC9 & PC10 & ⋯ & PC312 & PC313 & PC314 & PC315 & PC316 & PC317 & PC318 & PC319 & PC320 & PC321\\\\\n",
       "\\hline\n",
       "\t -0.01033838   & 0.03849341    & 0.0639763     & -0.02371934   & 0.012743      & -0.08900383   & 0.01582788    & -0.08354051   & 0.08353738    & -0.01778078   & ⋯             & -4.729933e-05 & -3.586429e-06 & -5.421114e-05 & -3.477941e-05 & -1.218937e-05 & -4.448995e-05 & -1.308973e-05 & -1.105378e-05 & -2.55699e-05  & -5.018065e-06\\\\\n",
       "\\end{tabular}\n"
      ],
      "text/markdown": [
       "\n",
       "PC1 | PC2 | PC3 | PC4 | PC5 | PC6 | PC7 | PC8 | PC9 | PC10 | ⋯ | PC312 | PC313 | PC314 | PC315 | PC316 | PC317 | PC318 | PC319 | PC320 | PC321 | \n",
       "|---|\n",
       "| -0.01033838   | 0.03849341    | 0.0639763     | -0.02371934   | 0.012743      | -0.08900383   | 0.01582788    | -0.08354051   | 0.08353738    | -0.01778078   | ⋯             | -4.729933e-05 | -3.586429e-06 | -5.421114e-05 | -3.477941e-05 | -1.218937e-05 | -4.448995e-05 | -1.308973e-05 | -1.105378e-05 | -2.55699e-05  | -5.018065e-06 | \n",
       "\n",
       "\n"
      ],
      "text/plain": [
       "     PC1         PC2        PC3       PC4         PC5      PC6        \n",
       "[1,] -0.01033838 0.03849341 0.0639763 -0.02371934 0.012743 -0.08900383\n",
       "     PC7        PC8         PC9        PC10        ⋯ PC312        \n",
       "[1,] 0.01582788 -0.08354051 0.08353738 -0.01778078 ⋯ -4.729933e-05\n",
       "     PC313         PC314         PC315         PC316         PC317        \n",
       "[1,] -3.586429e-06 -5.421114e-05 -3.477941e-05 -1.218937e-05 -4.448995e-05\n",
       "     PC318         PC319         PC320        PC321        \n",
       "[1,] -1.308973e-05 -1.105378e-05 -2.55699e-05 -5.018065e-06"
      ]
     },
     "metadata": {},
     "output_type": "display_data"
    }
   ],
   "source": [
    "#::GMG::Caso estandarizado\n",
    "t(pca_full_scaled$rotation[1,])"
   ]
  },
  {
   "cell_type": "code",
   "execution_count": 56,
   "metadata": {},
   "outputs": [
    {
     "data": {
      "text/html": [
       "<span style=white-space:pre-wrap>'23  --  0.552827322741536'</span>"
      ],
      "text/latex": [
       "'23  --  0.552827322741536'"
      ],
      "text/markdown": [
       "<span style=white-space:pre-wrap>'23  --  0.552827322741536'</span>"
      ],
      "text/plain": [
       "[1] \"23  --  0.552827322741536\""
      ]
     },
     "metadata": {},
     "output_type": "display_data"
    }
   ],
   "source": [
    "#::GMG::Para ver qué componente principal tiene en mayor loading de y\n",
    "paste(which.max(abs(t(pca_full_scaled$rotation[1,]))),' -- ',\n",
    "      abs(pca_full_scaled$rotation[1,which.max(abs(pca_full_scaled$rotation[1,]))]))"
   ]
  },
  {
   "cell_type": "code",
   "execution_count": 66,
   "metadata": {},
   "outputs": [
    {
     "data": {
      "text/html": [
       "95.6250862975641"
      ],
      "text/latex": [
       "95.6250862975641"
      ],
      "text/markdown": [
       "95.6250862975641"
      ],
      "text/plain": [
       "[1] 95.62509"
      ]
     },
     "metadata": {},
     "output_type": "display_data"
    }
   ],
   "source": [
    "#::GMG::La varianza explicada hasta la PC23 en el caso estandarizado\n",
    "100*cumsum(\n",
    "    pca_full_scaled$sdev^2/sum(pca_full_scaled$sdev^2)\n",
    "    )[which.max(abs(t(pca_full_scaled$rotation[1,])))]"
   ]
  },
  {
   "cell_type": "markdown",
   "metadata": {},
   "source": [
    "**::DUDA::** No entiendo el sentido de estos cálculos"
   ]
  },
  {
   "cell_type": "markdown",
   "metadata": {
    "button": false,
    "new_sheet": false,
    "run_control": {
     "read_only": false
    }
   },
   "source": [
    "* En base a los puntos anteriores, ¿puede considerarse en alguno de los casos que la variable objetivo se \"eliminaría\" del modelo debido a su contribución a cada una de las componentes principales?"
   ]
  },
  {
   "cell_type": "markdown",
   "metadata": {},
   "source": [
    "**::GMG::** Las variables que se incluyen en las componentes primcipales no se \"eliminan\". Todas están presentes con diferentes \"pesos\" (*loadings*) en todas las PCs. Ciertas variables pueden tener pesos muy pequeños y el efecto podría ser de cierta \"eliminación\" en el sentido de que su contribución es despreciable. Esto ocurre con **y** en el caso no estandarizado en la PC1 pero su poca contribución se puede antribuir a su escala y variabilidad comparada con la de las otras variables. Es cierto que tiene una gran contribución en PC74 pero dado que jamás se elegiría esa PC ya que con la PC1 se tiene \"suficiente\" no lo tenemos en cuenta. \n",
    "\n",
    "En el caso estándarizado si tiene una contribución (*loading*) significativo en las PCs, especialmente en la 23, por lo que no se podría considerar \"eliminada\" sea cual sea la selección que se haga (más si se incluye la PC23, claro)"
   ]
  },
  {
   "cell_type": "markdown",
   "metadata": {},
   "source": [
    "**::DUDA**:: No entiendo el sentido de esta pregunta. La variable y (*response*) se debería haber eliminado de entrada ya que estamos aplicando una técnica no supervisada y no tiene sentido incluir esa variable en el análisis de las características (*features*). Para hacer esto bien tendría que haberse usado la técnica supervisada **PLS** (*Partial Least Squares*), que no nos han explicado en clase.\n",
    "\n",
    "_Referencias_\n",
    "\n",
    "1. Quora: [What is the difference between PLS and PCA?] (https://www.quora.com/What-is-the-difference-between-PLS-and-PCA)\n",
    "2. [Principle Component Analysis and Partial Least Squares: Two Dimension Reduction Techniques for Regression](https://www.casact.org/pubs/dpp/dpp08/08dpp76.pdf). Saikat Maitra and Jun Yan. Casualty Actuarial Society, 2008 Discussion Paper Program. "
   ]
  },
  {
   "cell_type": "markdown",
   "metadata": {
    "button": false,
    "new_sheet": false,
    "run_control": {
     "read_only": false
    }
   },
   "source": [
    "* ¿Cómo se distribuye la contribución de las diferentes variables del espacio original a la primera componente principal? En caso de no estandarizar, ¿puede inferirse alguna relación entre el rango de las variables y su contribución a la primera componente principal?"
   ]
  },
  {
   "cell_type": "code",
   "execution_count": null,
   "metadata": {},
   "outputs": [],
   "source": []
  },
  {
   "cell_type": "markdown",
   "metadata": {
    "button": false,
    "new_sheet": false,
    "run_control": {
     "read_only": false
    }
   },
   "source": [
    "### Punto 2 (3 puntos):\n",
    "\n",
    "A continuación, consideraremos la serie de precipitación discretizada a partir del valor 1 mm, que es el estándar definido para establecer los días en que ha llovido. El objetivo de este apartado es predecir la ocurrencia de precipitación en Lisboa a partir de los predictores antes definidos. Para ello consideraremos, por un lado, las componentes principales obtenidas estandarizando los datos originales y, por otro lado, el método `KNN`. Dividir la muestra en dos subconjuntos, el primero (20 primeros años) lo utilizaremos para calibrar el modelo y obtener su configuración óptima, mientras que el segundo (10 últimos años) lo utilizaremos como test independiente de cara a comparar diferentes métodos.\n",
    "\n",
    "* Considerad diferentes umbrales de varianza explicada y el número de PCs asociado (p.e. 40%, 60%, 80% y 90%) y obtend el valor óptimo de `K` en cada caso rastreando valores entre 1 y 15, ¿cómo cambia el valor óptimo? En base a los resultados obtenidos, ¿cuantas PCs considerarías para entrenar el modelo? (`Nota:` ver práctica de `KNN`)\n",
    "* Para la configuración óptima calibrada con el conjunto de entrenamiento realizad la predicción sobre el conjunto de test y estimad los errores cometidos sobre este conjunto.\n",
    "\n",
    "### Punto 3 (2 puntos):\n",
    "\n",
    "Repetid el experimento anterior considerando la precipitación discretizada a partir del valor 20 mm, que es el estándar definido para establecer los días en que ha llovido de forma intensa.\n",
    "\n",
    "* ¿Cómo cambian los valores óptimos de `K` y de número de PCs? \n",
    "* ¿Cómo cambian los errores sobre el conjunto de test en este caso?\n",
    "* En caso de existir diferentes significativas en ambos casos, ¿a qué crees que puede ser debido? ¿La frecuencia en la muestra del evento a predecir puede influir en la calidad de la predicción?\n",
    "\n",
    "### Punto 4 (2 puntos):\n",
    "\n",
    "Considerando el número de PCs óptimo obtenido en el apartado anterior, predecid el conjunto de test utilizando en este caso la regresión logística como método de clasificación (`Nota:` ver `Práctica Clasificacion Lineal` en el Moodle de la asignatura de Estadística o en la de Minería de Datos). \n",
    "\n",
    "* Comparad los resultados obtenidos utilizando ambos métodos para la predicción de la ocurrencia de precipitación y de precipitación intensa (`Nota:` considerar, por ejemplo, la curva ROC para la comparación), ¿alguno de los métodos se comporta mejor que el otro de forma sistemática?"
   ]
  }
 ],
 "metadata": {
  "kernelspec": {
   "display_name": "R",
   "language": "R",
   "name": "ir"
  },
  "language_info": {
   "codemirror_mode": "r",
   "file_extension": ".r",
   "mimetype": "text/x-r-source",
   "name": "R",
   "pygments_lexer": "r",
   "version": "3.4.4"
  }
 },
 "nbformat": 4,
 "nbformat_minor": 2
}
