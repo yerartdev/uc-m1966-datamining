{
 "cells": [
  {
   "cell_type": "markdown",
   "metadata": {
    "button": false,
    "new_sheet": false,
    "run_control": {
     "read_only": false
    }
   },
   "source": [
    "## Minería de Datos (Master en Data Science, UIMP-UC) "
   ]
  },
  {
   "cell_type": "markdown",
   "metadata": {
    "button": false,
    "new_sheet": false,
    "run_control": {
     "read_only": false
    }
   },
   "source": [
    "## Profesores: Sixto Herrera y Rodrigo García"
   ]
  },
  {
   "cell_type": "markdown",
   "metadata": {},
   "source": [
    "## Alumno: Gerardo de Miguel González"
   ]
  },
  {
   "cell_type": "markdown",
   "metadata": {
    "button": false,
    "new_sheet": false,
    "run_control": {
     "read_only": false
    }
   },
   "source": [
    "## Variables Categóricas: Reglas de Asociación y Árboles de Clasificación\n",
    "\n",
    "En la presente tarea consideraremos el dataset `Mushroom`, incluido tanto en la La librería [arulesViz](https://cran.r-project.org/web/packages/arulesViz/arulesViz.pdf) como en las diferentes plataformas descritas en el marco de la asignatura y en el GitHub dedicado a este Máster ([Mushroom](https://github.com/SantanderMetGroup/Master-Data-Science/blob/master/Data_mining/datasets/mushrooms.csv.)), para aplicar las diferentes técnicas vistas en el curso para variables categóricas: Reglas de Asociación y Árboles de Clasificación.\n",
    "\n",
    "Para el desarrollo de la tarea se permitirá el uso de todo el material incluido en el Moodle de las asignatura así como el desarrollado por el alumno durante la realización de las prácticas.\n",
    "\n",
    "La entrega consisitirá de un notebook de Jupyter ó un R-MarkDown, junto con el archivo html que éste genera. Ambos ficheros se entregarán a través del Moodle de la asignatura en la tarea correspondiente."
   ]
  },
  {
   "cell_type": "markdown",
   "metadata": {
    "slideshow": {
     "slide_type": "fragment"
    }
   },
   "source": [
    "### ::GMG::Punto 0. Bibliotecas, Carga y limpieza de datos"
   ]
  },
  {
   "cell_type": "code",
   "execution_count": 1,
   "metadata": {},
   "outputs": [
    {
     "name": "stderr",
     "output_type": "stream",
     "text": [
      "Loading required package: bitops\n"
     ]
    }
   ],
   "source": [
    "#::GMG::El primer paso es cargar las bibliotecas necesarias pra hace la práctica\n",
    "library(RCurl) #::GMG::Get remote dataset"
   ]
  },
  {
   "cell_type": "code",
   "execution_count": 2,
   "metadata": {},
   "outputs": [],
   "source": [
    "#::GMG::También necesitamos el dataset\n",
    "#       http://archive.ics.uci.edu/ml/datasets/Mushroom\n",
    "# specify the URL for the Iris data CSV\n",
    "urlfile <-'http://archive.ics.uci.edu/ml/machine-learning-databases/mushroom/agaricus-lepiota.data'\n",
    "downloaded <- getURL(urlfile, ssl.verifypeer=FALSE)\n",
    "connection <- textConnection(downloaded)\n",
    "dataset <- read.csv(connection, header=FALSE)"
   ]
  },
  {
   "cell_type": "code",
   "execution_count": 3,
   "metadata": {
    "scrolled": true
   },
   "outputs": [],
   "source": [
    "#::GMG::Vemos lo que hemos descargado\n",
    "#str(dataset)"
   ]
  },
  {
   "cell_type": "code",
   "execution_count": 4,
   "metadata": {
    "scrolled": true
   },
   "outputs": [
    {
     "data": {
      "text/html": [
       "<table>\n",
       "<thead><tr><th scope=col>V1</th><th scope=col>V2</th><th scope=col>V3</th><th scope=col>V4</th><th scope=col>V5</th><th scope=col>V6</th><th scope=col>V7</th><th scope=col>V8</th><th scope=col>V9</th><th scope=col>V10</th><th scope=col>...</th><th scope=col>V14</th><th scope=col>V15</th><th scope=col>V16</th><th scope=col>V17</th><th scope=col>V18</th><th scope=col>V19</th><th scope=col>V20</th><th scope=col>V21</th><th scope=col>V22</th><th scope=col>V23</th></tr></thead>\n",
       "<tbody>\n",
       "\t<tr><td>p  </td><td>x  </td><td>s  </td><td>n  </td><td>t  </td><td>p  </td><td>f  </td><td>c  </td><td>n  </td><td>k  </td><td>...</td><td>s  </td><td>w  </td><td>w  </td><td>p  </td><td>w  </td><td>o  </td><td>p  </td><td>k  </td><td>s  </td><td>u  </td></tr>\n",
       "\t<tr><td>e  </td><td>x  </td><td>s  </td><td>y  </td><td>t  </td><td>a  </td><td>f  </td><td>c  </td><td>b  </td><td>k  </td><td>...</td><td>s  </td><td>w  </td><td>w  </td><td>p  </td><td>w  </td><td>o  </td><td>p  </td><td>n  </td><td>n  </td><td>g  </td></tr>\n",
       "\t<tr><td>e  </td><td>b  </td><td>s  </td><td>w  </td><td>t  </td><td>l  </td><td>f  </td><td>c  </td><td>b  </td><td>n  </td><td>...</td><td>s  </td><td>w  </td><td>w  </td><td>p  </td><td>w  </td><td>o  </td><td>p  </td><td>n  </td><td>n  </td><td>m  </td></tr>\n",
       "\t<tr><td>p  </td><td>x  </td><td>y  </td><td>w  </td><td>t  </td><td>p  </td><td>f  </td><td>c  </td><td>n  </td><td>n  </td><td>...</td><td>s  </td><td>w  </td><td>w  </td><td>p  </td><td>w  </td><td>o  </td><td>p  </td><td>k  </td><td>s  </td><td>u  </td></tr>\n",
       "\t<tr><td>e  </td><td>x  </td><td>s  </td><td>g  </td><td>f  </td><td>n  </td><td>f  </td><td>w  </td><td>b  </td><td>k  </td><td>...</td><td>s  </td><td>w  </td><td>w  </td><td>p  </td><td>w  </td><td>o  </td><td>e  </td><td>n  </td><td>a  </td><td>g  </td></tr>\n",
       "\t<tr><td>e  </td><td>x  </td><td>y  </td><td>y  </td><td>t  </td><td>a  </td><td>f  </td><td>c  </td><td>b  </td><td>n  </td><td>...</td><td>s  </td><td>w  </td><td>w  </td><td>p  </td><td>w  </td><td>o  </td><td>p  </td><td>k  </td><td>n  </td><td>g  </td></tr>\n",
       "</tbody>\n",
       "</table>\n"
      ],
      "text/latex": [
       "\\begin{tabular}{r|lllllllllllllllllllllll}\n",
       " V1 & V2 & V3 & V4 & V5 & V6 & V7 & V8 & V9 & V10 & ... & V14 & V15 & V16 & V17 & V18 & V19 & V20 & V21 & V22 & V23\\\\\n",
       "\\hline\n",
       "\t p   & x   & s   & n   & t   & p   & f   & c   & n   & k   & ... & s   & w   & w   & p   & w   & o   & p   & k   & s   & u  \\\\\n",
       "\t e   & x   & s   & y   & t   & a   & f   & c   & b   & k   & ... & s   & w   & w   & p   & w   & o   & p   & n   & n   & g  \\\\\n",
       "\t e   & b   & s   & w   & t   & l   & f   & c   & b   & n   & ... & s   & w   & w   & p   & w   & o   & p   & n   & n   & m  \\\\\n",
       "\t p   & x   & y   & w   & t   & p   & f   & c   & n   & n   & ... & s   & w   & w   & p   & w   & o   & p   & k   & s   & u  \\\\\n",
       "\t e   & x   & s   & g   & f   & n   & f   & w   & b   & k   & ... & s   & w   & w   & p   & w   & o   & e   & n   & a   & g  \\\\\n",
       "\t e   & x   & y   & y   & t   & a   & f   & c   & b   & n   & ... & s   & w   & w   & p   & w   & o   & p   & k   & n   & g  \\\\\n",
       "\\end{tabular}\n"
      ],
      "text/markdown": [
       "\n",
       "| V1 | V2 | V3 | V4 | V5 | V6 | V7 | V8 | V9 | V10 | ... | V14 | V15 | V16 | V17 | V18 | V19 | V20 | V21 | V22 | V23 |\n",
       "|---|---|---|---|---|---|---|---|---|---|---|---|---|---|---|---|---|---|---|---|---|\n",
       "| p   | x   | s   | n   | t   | p   | f   | c   | n   | k   | ... | s   | w   | w   | p   | w   | o   | p   | k   | s   | u   |\n",
       "| e   | x   | s   | y   | t   | a   | f   | c   | b   | k   | ... | s   | w   | w   | p   | w   | o   | p   | n   | n   | g   |\n",
       "| e   | b   | s   | w   | t   | l   | f   | c   | b   | n   | ... | s   | w   | w   | p   | w   | o   | p   | n   | n   | m   |\n",
       "| p   | x   | y   | w   | t   | p   | f   | c   | n   | n   | ... | s   | w   | w   | p   | w   | o   | p   | k   | s   | u   |\n",
       "| e   | x   | s   | g   | f   | n   | f   | w   | b   | k   | ... | s   | w   | w   | p   | w   | o   | e   | n   | a   | g   |\n",
       "| e   | x   | y   | y   | t   | a   | f   | c   | b   | n   | ... | s   | w   | w   | p   | w   | o   | p   | k   | n   | g   |\n",
       "\n"
      ],
      "text/plain": [
       "  V1 V2 V3 V4 V5 V6 V7 V8 V9 V10 ... V14 V15 V16 V17 V18 V19 V20 V21 V22 V23\n",
       "1 p  x  s  n  t  p  f  c  n  k   ... s   w   w   p   w   o   p   k   s   u  \n",
       "2 e  x  s  y  t  a  f  c  b  k   ... s   w   w   p   w   o   p   n   n   g  \n",
       "3 e  b  s  w  t  l  f  c  b  n   ... s   w   w   p   w   o   p   n   n   m  \n",
       "4 p  x  y  w  t  p  f  c  n  n   ... s   w   w   p   w   o   p   k   s   u  \n",
       "5 e  x  s  g  f  n  f  w  b  k   ... s   w   w   p   w   o   e   n   a   g  \n",
       "6 e  x  y  y  t  a  f  c  b  n   ... s   w   w   p   w   o   p   k   n   g  "
      ]
     },
     "metadata": {},
     "output_type": "display_data"
    }
   ],
   "source": [
    "head(dataset)"
   ]
  },
  {
   "cell_type": "code",
   "execution_count": 5,
   "metadata": {},
   "outputs": [],
   "source": [
    "#::GMG::Hay que poner nombres a las columnas\n",
    "#::nota:: LEER\n",
    "# http://archive.ics.uci.edu/ml/machine-learning-databases/mushroom/agaricus-lepiota.names\n",
    "#::nota::no se pueden poner '-' en los nombres de las columnas\n",
    "names(dataset) = c('class','cap.shape','cap.surface','cap.color','bruises','odor',\n",
    "                   'gill.attachment','gill.spacing','gill.size','gill.color','stalk.shape',\n",
    "                   'stalk.root','stalk.surface.above.ring', 'stalk.surface.below.ring',\n",
    "                   'stalk.color.above.ring','stalk.color.below.ring','veil.type',\n",
    "                   'veil.color','ring.number','ring.type','spore.print.color',\n",
    "                   'population','habitat')"
   ]
  },
  {
   "cell_type": "code",
   "execution_count": 6,
   "metadata": {
    "scrolled": true
   },
   "outputs": [
    {
     "name": "stdout",
     "output_type": "stream",
     "text": [
      "'data.frame':\t8124 obs. of  23 variables:\n",
      " $ class                   : Factor w/ 2 levels \"e\",\"p\": 2 1 1 2 1 1 1 1 2 1 ...\n",
      " $ cap.shape               : Factor w/ 6 levels \"b\",\"c\",\"f\",\"k\",..: 6 6 1 6 6 6 1 1 6 1 ...\n",
      " $ cap.surface             : Factor w/ 4 levels \"f\",\"g\",\"s\",\"y\": 3 3 3 4 3 4 3 4 4 3 ...\n",
      " $ cap.color               : Factor w/ 10 levels \"b\",\"c\",\"e\",\"g\",..: 5 10 9 9 4 10 9 9 9 10 ...\n",
      " $ bruises                 : Factor w/ 2 levels \"f\",\"t\": 2 2 2 2 1 2 2 2 2 2 ...\n",
      " $ odor                    : Factor w/ 9 levels \"a\",\"c\",\"f\",\"l\",..: 7 1 4 7 6 1 1 4 7 1 ...\n",
      " $ gill.attachment         : Factor w/ 2 levels \"a\",\"f\": 2 2 2 2 2 2 2 2 2 2 ...\n",
      " $ gill.spacing            : Factor w/ 2 levels \"c\",\"w\": 1 1 1 1 2 1 1 1 1 1 ...\n",
      " $ gill.size               : Factor w/ 2 levels \"b\",\"n\": 2 1 1 2 1 1 1 1 2 1 ...\n",
      " $ gill.color              : Factor w/ 12 levels \"b\",\"e\",\"g\",\"h\",..: 5 5 6 6 5 6 3 6 8 3 ...\n",
      " $ stalk.shape             : Factor w/ 2 levels \"e\",\"t\": 1 1 1 1 2 1 1 1 1 1 ...\n",
      " $ stalk.root              : Factor w/ 5 levels \"?\",\"b\",\"c\",\"e\",..: 4 3 3 4 4 3 3 3 4 3 ...\n",
      " $ stalk.surface.above.ring: Factor w/ 4 levels \"f\",\"k\",\"s\",\"y\": 3 3 3 3 3 3 3 3 3 3 ...\n",
      " $ stalk.surface.below.ring: Factor w/ 4 levels \"f\",\"k\",\"s\",\"y\": 3 3 3 3 3 3 3 3 3 3 ...\n",
      " $ stalk.color.above.ring  : Factor w/ 9 levels \"b\",\"c\",\"e\",\"g\",..: 8 8 8 8 8 8 8 8 8 8 ...\n",
      " $ stalk.color.below.ring  : Factor w/ 9 levels \"b\",\"c\",\"e\",\"g\",..: 8 8 8 8 8 8 8 8 8 8 ...\n",
      " $ veil.type               : Factor w/ 1 level \"p\": 1 1 1 1 1 1 1 1 1 1 ...\n",
      " $ veil.color              : Factor w/ 4 levels \"n\",\"o\",\"w\",\"y\": 3 3 3 3 3 3 3 3 3 3 ...\n",
      " $ ring.number             : Factor w/ 3 levels \"n\",\"o\",\"t\": 2 2 2 2 2 2 2 2 2 2 ...\n",
      " $ ring.type               : Factor w/ 5 levels \"e\",\"f\",\"l\",\"n\",..: 5 5 5 5 1 5 5 5 5 5 ...\n",
      " $ spore.print.color       : Factor w/ 9 levels \"b\",\"h\",\"k\",\"n\",..: 3 4 4 3 4 3 3 4 3 3 ...\n",
      " $ population              : Factor w/ 6 levels \"a\",\"c\",\"n\",\"s\",..: 4 3 3 4 1 3 3 4 5 4 ...\n",
      " $ habitat                 : Factor w/ 7 levels \"d\",\"g\",\"l\",\"m\",..: 6 2 4 6 2 2 4 4 2 4 ...\n"
     ]
    }
   ],
   "source": [
    "#::GMG::Resultado que obtenemos\n",
    "str(dataset)"
   ]
  },
  {
   "cell_type": "code",
   "execution_count": 7,
   "metadata": {
    "scrolled": true
   },
   "outputs": [
    {
     "data": {
      "text/html": [
       "<table>\n",
       "<thead><tr><th scope=col>class</th><th scope=col>cap.shape</th><th scope=col>cap.surface</th><th scope=col>cap.color</th><th scope=col>bruises</th><th scope=col>odor</th><th scope=col>gill.attachment</th><th scope=col>gill.spacing</th><th scope=col>gill.size</th><th scope=col>gill.color</th><th scope=col>...</th><th scope=col>stalk.surface.below.ring</th><th scope=col>stalk.color.above.ring</th><th scope=col>stalk.color.below.ring</th><th scope=col>veil.type</th><th scope=col>veil.color</th><th scope=col>ring.number</th><th scope=col>ring.type</th><th scope=col>spore.print.color</th><th scope=col>population</th><th scope=col>habitat</th></tr></thead>\n",
       "<tbody>\n",
       "\t<tr><td>p  </td><td>x  </td><td>s  </td><td>n  </td><td>t  </td><td>p  </td><td>f  </td><td>c  </td><td>n  </td><td>k  </td><td>...</td><td>s  </td><td>w  </td><td>w  </td><td>p  </td><td>w  </td><td>o  </td><td>p  </td><td>k  </td><td>s  </td><td>u  </td></tr>\n",
       "\t<tr><td>e  </td><td>x  </td><td>s  </td><td>y  </td><td>t  </td><td>a  </td><td>f  </td><td>c  </td><td>b  </td><td>k  </td><td>...</td><td>s  </td><td>w  </td><td>w  </td><td>p  </td><td>w  </td><td>o  </td><td>p  </td><td>n  </td><td>n  </td><td>g  </td></tr>\n",
       "\t<tr><td>e  </td><td>b  </td><td>s  </td><td>w  </td><td>t  </td><td>l  </td><td>f  </td><td>c  </td><td>b  </td><td>n  </td><td>...</td><td>s  </td><td>w  </td><td>w  </td><td>p  </td><td>w  </td><td>o  </td><td>p  </td><td>n  </td><td>n  </td><td>m  </td></tr>\n",
       "\t<tr><td>p  </td><td>x  </td><td>y  </td><td>w  </td><td>t  </td><td>p  </td><td>f  </td><td>c  </td><td>n  </td><td>n  </td><td>...</td><td>s  </td><td>w  </td><td>w  </td><td>p  </td><td>w  </td><td>o  </td><td>p  </td><td>k  </td><td>s  </td><td>u  </td></tr>\n",
       "\t<tr><td>e  </td><td>x  </td><td>s  </td><td>g  </td><td>f  </td><td>n  </td><td>f  </td><td>w  </td><td>b  </td><td>k  </td><td>...</td><td>s  </td><td>w  </td><td>w  </td><td>p  </td><td>w  </td><td>o  </td><td>e  </td><td>n  </td><td>a  </td><td>g  </td></tr>\n",
       "\t<tr><td>e  </td><td>x  </td><td>y  </td><td>y  </td><td>t  </td><td>a  </td><td>f  </td><td>c  </td><td>b  </td><td>n  </td><td>...</td><td>s  </td><td>w  </td><td>w  </td><td>p  </td><td>w  </td><td>o  </td><td>p  </td><td>k  </td><td>n  </td><td>g  </td></tr>\n",
       "</tbody>\n",
       "</table>\n"
      ],
      "text/latex": [
       "\\begin{tabular}{r|lllllllllllllllllllllll}\n",
       " class & cap.shape & cap.surface & cap.color & bruises & odor & gill.attachment & gill.spacing & gill.size & gill.color & ... & stalk.surface.below.ring & stalk.color.above.ring & stalk.color.below.ring & veil.type & veil.color & ring.number & ring.type & spore.print.color & population & habitat\\\\\n",
       "\\hline\n",
       "\t p   & x   & s   & n   & t   & p   & f   & c   & n   & k   & ... & s   & w   & w   & p   & w   & o   & p   & k   & s   & u  \\\\\n",
       "\t e   & x   & s   & y   & t   & a   & f   & c   & b   & k   & ... & s   & w   & w   & p   & w   & o   & p   & n   & n   & g  \\\\\n",
       "\t e   & b   & s   & w   & t   & l   & f   & c   & b   & n   & ... & s   & w   & w   & p   & w   & o   & p   & n   & n   & m  \\\\\n",
       "\t p   & x   & y   & w   & t   & p   & f   & c   & n   & n   & ... & s   & w   & w   & p   & w   & o   & p   & k   & s   & u  \\\\\n",
       "\t e   & x   & s   & g   & f   & n   & f   & w   & b   & k   & ... & s   & w   & w   & p   & w   & o   & e   & n   & a   & g  \\\\\n",
       "\t e   & x   & y   & y   & t   & a   & f   & c   & b   & n   & ... & s   & w   & w   & p   & w   & o   & p   & k   & n   & g  \\\\\n",
       "\\end{tabular}\n"
      ],
      "text/markdown": [
       "\n",
       "| class | cap.shape | cap.surface | cap.color | bruises | odor | gill.attachment | gill.spacing | gill.size | gill.color | ... | stalk.surface.below.ring | stalk.color.above.ring | stalk.color.below.ring | veil.type | veil.color | ring.number | ring.type | spore.print.color | population | habitat |\n",
       "|---|---|---|---|---|---|---|---|---|---|---|---|---|---|---|---|---|---|---|---|---|\n",
       "| p   | x   | s   | n   | t   | p   | f   | c   | n   | k   | ... | s   | w   | w   | p   | w   | o   | p   | k   | s   | u   |\n",
       "| e   | x   | s   | y   | t   | a   | f   | c   | b   | k   | ... | s   | w   | w   | p   | w   | o   | p   | n   | n   | g   |\n",
       "| e   | b   | s   | w   | t   | l   | f   | c   | b   | n   | ... | s   | w   | w   | p   | w   | o   | p   | n   | n   | m   |\n",
       "| p   | x   | y   | w   | t   | p   | f   | c   | n   | n   | ... | s   | w   | w   | p   | w   | o   | p   | k   | s   | u   |\n",
       "| e   | x   | s   | g   | f   | n   | f   | w   | b   | k   | ... | s   | w   | w   | p   | w   | o   | e   | n   | a   | g   |\n",
       "| e   | x   | y   | y   | t   | a   | f   | c   | b   | n   | ... | s   | w   | w   | p   | w   | o   | p   | k   | n   | g   |\n",
       "\n"
      ],
      "text/plain": [
       "  class cap.shape cap.surface cap.color bruises odor gill.attachment\n",
       "1 p     x         s           n         t       p    f              \n",
       "2 e     x         s           y         t       a    f              \n",
       "3 e     b         s           w         t       l    f              \n",
       "4 p     x         y           w         t       p    f              \n",
       "5 e     x         s           g         f       n    f              \n",
       "6 e     x         y           y         t       a    f              \n",
       "  gill.spacing gill.size gill.color ... stalk.surface.below.ring\n",
       "1 c            n         k          ... s                       \n",
       "2 c            b         k          ... s                       \n",
       "3 c            b         n          ... s                       \n",
       "4 c            n         n          ... s                       \n",
       "5 w            b         k          ... s                       \n",
       "6 c            b         n          ... s                       \n",
       "  stalk.color.above.ring stalk.color.below.ring veil.type veil.color\n",
       "1 w                      w                      p         w         \n",
       "2 w                      w                      p         w         \n",
       "3 w                      w                      p         w         \n",
       "4 w                      w                      p         w         \n",
       "5 w                      w                      p         w         \n",
       "6 w                      w                      p         w         \n",
       "  ring.number ring.type spore.print.color population habitat\n",
       "1 o           p         k                 s          u      \n",
       "2 o           p         n                 n          g      \n",
       "3 o           p         n                 n          m      \n",
       "4 o           p         k                 s          u      \n",
       "5 o           e         n                 a          g      \n",
       "6 o           p         k                 n          g      "
      ]
     },
     "metadata": {},
     "output_type": "display_data"
    }
   ],
   "source": [
    "#::GMG::Vemos unas cuentas muestras\n",
    "head(dataset)"
   ]
  },
  {
   "cell_type": "code",
   "execution_count": 8,
   "metadata": {
    "scrolled": true
   },
   "outputs": [
    {
     "data": {
      "text/plain": [
       " class    cap.shape cap.surface   cap.color    bruises       odor     \n",
       " e:4208   b: 452    f:2320      n      :2284   f:4748   n      :3528  \n",
       " p:3916   c:   4    g:   4      g      :1840   t:3376   f      :2160  \n",
       "          f:3152    s:2556      e      :1500            s      : 576  \n",
       "          k: 828    y:3244      y      :1072            y      : 576  \n",
       "          s:  32                w      :1040            a      : 400  \n",
       "          x:3656                b      : 168            l      : 400  \n",
       "                                (Other): 220            (Other): 484  \n",
       " gill.attachment gill.spacing gill.size   gill.color   stalk.shape stalk.root\n",
       " a: 210          c:6812       b:5612    b      :1728   e:3516      ?:2480    \n",
       " f:7914          w:1312       n:2512    p      :1492   t:4608      b:3776    \n",
       "                                        w      :1202               c: 556    \n",
       "                                        n      :1048               e:1120    \n",
       "                                        g      : 752               r: 192    \n",
       "                                        h      : 732                         \n",
       "                                        (Other):1170                         \n",
       " stalk.surface.above.ring stalk.surface.below.ring stalk.color.above.ring\n",
       " f: 552                   f: 600                   w      :4464          \n",
       " k:2372                   k:2304                   p      :1872          \n",
       " s:5176                   s:4936                   g      : 576          \n",
       " y:  24                   y: 284                   n      : 448          \n",
       "                                                   b      : 432          \n",
       "                                                   o      : 192          \n",
       "                                                   (Other): 140          \n",
       " stalk.color.below.ring veil.type veil.color ring.number ring.type\n",
       " w      :4384           p:8124    n:  96     n:  36      e:2776   \n",
       " p      :1872                     o:  96     o:7488      f:  48   \n",
       " g      : 576                     w:7924     t: 600      l:1296   \n",
       " n      : 512                     y:   8                 n:  36   \n",
       " b      : 432                                            p:3968   \n",
       " o      : 192                                                     \n",
       " (Other): 156                                                     \n",
       " spore.print.color population habitat \n",
       " w      :2388      a: 384     d:3148  \n",
       " n      :1968      c: 340     g:2148  \n",
       " k      :1872      n: 400     l: 832  \n",
       " h      :1632      s:1248     m: 292  \n",
       " r      :  72      v:4040     p:1144  \n",
       " b      :  48      y:1712     u: 368  \n",
       " (Other): 144                 w: 192  "
      ]
     },
     "metadata": {},
     "output_type": "display_data"
    }
   ],
   "source": [
    "#::GMG::Analizamos el dataset\n",
    "#\n",
    "#::nota:: 8. Missing Attribute Values: 2480 of them (denoted by \"?\"), all for\n",
    "#         attribute #11 (stalk-root)\n",
    "# en http://archive.ics.uci.edu/ml/machine-learning-databases/mushroom/agaricus-lepiota.names\n",
    "#::nota::veil-type (as it has only one type i.e. ‘partial’.\n",
    "# veil_type_idx <- which(colnames(dataset) == \"veil-type\")\n",
    "# dataset <- dataset[-veil_type_idx]\n",
    "#\n",
    "summary(dataset)"
   ]
  },
  {
   "cell_type": "code",
   "execution_count": 9,
   "metadata": {},
   "outputs": [
    {
     "name": "stdout",
     "output_type": "stream",
     "text": [
      "[1] \"=======================\"\n",
      "[1] \"cap.shape\"\n",
      "   \n",
      "       b    c    f    k    s    x\n",
      "  e  404    0 1596  228   32 1948\n",
      "  p   48    4 1556  600    0 1708\n",
      "[1] \"=======================\"\n",
      "[1] \"cap.surface\"\n",
      "   \n",
      "       f    g    s    y\n",
      "  e 1560    0 1144 1504\n",
      "  p  760    4 1412 1740\n",
      "[1] \"=======================\"\n",
      "[1] \"cap.color\"\n",
      "   \n",
      "       b    c    e    g    n    p    r    u    w    y\n",
      "  e   48   32  624 1032 1264   56   16   16  720  400\n",
      "  p  120   12  876  808 1020   88    0    0  320  672\n",
      "[1] \"=======================\"\n",
      "[1] \"bruises\"\n",
      "   \n",
      "       f    t\n",
      "  e 1456 2752\n",
      "  p 3292  624\n",
      "[1] \"=======================\"\n",
      "[1] \"odor\"\n",
      "   \n",
      "       a    c    f    l    m    n    p    s    y\n",
      "  e  400    0    0  400    0 3408    0    0    0\n",
      "  p    0  192 2160    0   36  120  256  576  576\n",
      "[1] \"=======================\"\n",
      "[1] \"gill.attachment\"\n",
      "   \n",
      "       a    f\n",
      "  e  192 4016\n",
      "  p   18 3898\n",
      "[1] \"=======================\"\n",
      "[1] \"gill.spacing\"\n",
      "   \n",
      "       c    w\n",
      "  e 3008 1200\n",
      "  p 3804  112\n",
      "[1] \"=======================\"\n",
      "[1] \"gill.size\"\n",
      "   \n",
      "       b    n\n",
      "  e 3920  288\n",
      "  p 1692 2224\n",
      "[1] \"=======================\"\n",
      "[1] \"gill.color\"\n",
      "   \n",
      "       b    e    g    h    k    n    o    p    r    u    w    y\n",
      "  e    0   96  248  204  344  936   64  852    0  444  956   64\n",
      "  p 1728    0  504  528   64  112    0  640   24   48  246   22\n",
      "[1] \"=======================\"\n",
      "[1] \"stalk.shape\"\n",
      "   \n",
      "       e    t\n",
      "  e 1616 2592\n",
      "  p 1900 2016\n",
      "[1] \"=======================\"\n",
      "[1] \"stalk.root\"\n",
      "   \n",
      "       ?    b    c    e    r\n",
      "  e  720 1920  512  864  192\n",
      "  p 1760 1856   44  256    0\n",
      "[1] \"=======================\"\n",
      "[1] \"stalk.surface.above.ring\"\n",
      "   \n",
      "       f    k    s    y\n",
      "  e  408  144 3640   16\n",
      "  p  144 2228 1536    8\n",
      "[1] \"=======================\"\n",
      "[1] \"stalk.surface.below.ring\"\n",
      "   \n",
      "       f    k    s    y\n",
      "  e  456  144 3400  208\n",
      "  p  144 2160 1536   76\n",
      "[1] \"=======================\"\n",
      "[1] \"stalk.color.above.ring\"\n",
      "   \n",
      "       b    c    e    g    n    o    p    w    y\n",
      "  e    0    0   96  576   16  192  576 2752    0\n",
      "  p  432   36    0    0  432    0 1296 1712    8\n",
      "[1] \"=======================\"\n",
      "[1] \"stalk.color.below.ring\"\n",
      "   \n",
      "       b    c    e    g    n    o    p    w    y\n",
      "  e    0    0   96  576   64  192  576 2704    0\n",
      "  p  432   36    0    0  448    0 1296 1680   24\n",
      "[1] \"=======================\"\n",
      "[1] \"veil.type\"\n",
      "   \n",
      "       p\n",
      "  e 4208\n",
      "  p 3916\n",
      "[1] \"=======================\"\n",
      "[1] \"veil.color\"\n",
      "   \n",
      "       n    o    w    y\n",
      "  e   96   96 4016    0\n",
      "  p    0    0 3908    8\n",
      "[1] \"=======================\"\n",
      "[1] \"ring.number\"\n",
      "   \n",
      "       n    o    t\n",
      "  e    0 3680  528\n",
      "  p   36 3808   72\n",
      "[1] \"=======================\"\n",
      "[1] \"ring.type\"\n",
      "   \n",
      "       e    f    l    n    p\n",
      "  e 1008   48    0    0 3152\n",
      "  p 1768    0 1296   36  816\n",
      "[1] \"=======================\"\n",
      "[1] \"spore.print.color\"\n",
      "   \n",
      "       b    h    k    n    o    r    u    w    y\n",
      "  e   48   48 1648 1744   48    0   48  576   48\n",
      "  p    0 1584  224  224    0   72    0 1812    0\n",
      "[1] \"=======================\"\n",
      "[1] \"population\"\n",
      "   \n",
      "       a    c    n    s    v    y\n",
      "  e  384  288  400  880 1192 1064\n",
      "  p    0   52    0  368 2848  648\n",
      "[1] \"=======================\"\n",
      "[1] \"habitat\"\n",
      "   \n",
      "       d    g    l    m    p    u    w\n",
      "  e 1880 1408  240  256  136   96  192\n",
      "  p 1268  740  592   36 1008  272    0\n"
     ]
    }
   ],
   "source": [
    "# https://www.kaggle.com/giorgiogarziano/mushrooms-classification-with-caret-package\n",
    "mushroom_table <- lapply(seq(from=2, to=ncol(dataset)), \n",
    "                         function(x) {table(dataset$class, dataset[,x])})\n",
    "names(mushroom_table) <- colnames(dataset)[2:ncol(dataset)]\n",
    "for(i in 1:length(mushroom_table)) {\n",
    "    print(\"=======================\")\n",
    "    print(names(mushroom_table)[i])\n",
    "    print(mushroom_table[[i]]) \n",
    "}"
   ]
  },
  {
   "cell_type": "markdown",
   "metadata": {
    "button": false,
    "new_sheet": false,
    "run_control": {
     "read_only": false
    }
   },
   "source": [
    "### Punto 1 (3 puntos):\n",
    "\n",
    "Considerar uno de los algoritmos de asociación vistos en clase y obtener las reglas representativas del dataset fijando los parámetros de aprendizaje (soporte, confianza, etc...). Analizar los resultados en términos generales:\n",
    "* ¿Cuantas reglas se han generado?\n",
    "* ¿Existe alguna regla redundante?, ¿Cuántas?\n",
    "* ¿Existe alguna regla que incluya la variable objetivo: `Class=edible` ó `Class=poisonous`?, ¿Cuantas?\n",
    "* De cara a ser utilizada como modelo predictivo es adecuado que la variable objetivo se encuentre en el consecuente de la regla de asociación, ¿se da esta propiedad en alguna regla?\n",
    "* Considerar los subconjuntos de reglas con ambas clases como consecuente e ilustrar las variables implicadas en cada caso. Considerar alguno de los grafos vistos para apoyar las conclusiones obtenidas.\n",
    "\n",
    "NOTA: Usar soportes superiores a 0.1 para evitar problemas de memoria."
   ]
  },
  {
   "cell_type": "markdown",
   "metadata": {
    "button": false,
    "new_sheet": false,
    "run_control": {
     "read_only": false
    }
   },
   "source": [
    "### Punto 2 (4 puntos):\n",
    "\n",
    "En este apartado aplicaremos árboles de clasificación para obtener un modelo que permita clasificar una nueva entrada. Para ello, vamos a utilizaremos el paquete `CaReT`. Este paquete (y los demás que hemos visto para trabajar con árboles en `R`) no aceptan objetos del tipo `transactions` como los del apartado anterior. Por tanto, hemos preparado un fichero *csv* con el dataset *Mushrooms*; puedes descargarlo desde esta aquí:\n",
    "https://github.com/SantanderMetGroup/Master-Data-Science/tree/master/Data_mining/datasets. Lee el dataset con la función `read.csv`.  \n",
    "Ahora ya tenemos un data.frame con el que podemos empezar a trabajar. En primer lugar tendremos que eliminar la columna 17 (`veil.type`), ya que contiene un único nivel y daría errores en `CaReT`(esta columna podría eliminarse también en el caso de las reglas de asociación ya que no aporta información al dataset).  \n",
    "Nuestro objetivo será encontrar la configuración (profundidad) óptima del árbol. Para ello, partiremos el dataset en dos subconjuntos indpendedientes de train y test (75% y 25% del total, respectivamente). Sobre el dataset de train, aplicaremos una cross-validación con 3 folds y la repetiremos 50 veces (recuerda que los árboles son sensibles a la partición train/test que se considere). \n",
    "\n",
    "* ¿Cuál es la configuración óptima del árbol? ¿Hay alguna diferencia entre el árbol *completo* y el óptimo? ¿Por qué crees que ocurre esto?\n",
    "* ¿Cuáles son las dos variables que mayor peso tienen a la hora de clasificar? Entrena un nuevo árbol considerando como predictores únicamente esas dos variables. ¿Qué resultados obtienes? \n",
    "* Entrena un nuevo árbol considerando como predictores cualesquiera otras dos variables que no sean las utilizadas en la pregunta anterior. ¿Cuál es el error de test de este árbol?"
   ]
  },
  {
   "cell_type": "markdown",
   "metadata": {
    "button": false,
    "new_sheet": false,
    "run_control": {
     "read_only": false
    }
   },
   "source": [
    "### Punto 3 (3 puntos):\n",
    "\n",
    "Por un lado, las ramas del árbol pueden ser interpretadas como reglas de forma similar a las obtenidas por el algoritmo de reglas aplicado. Por ejemplo, en el caso del árbol obtenido con el dataset `Play Tennis` puede obtenerse las siguientes `reglas`: SI Outlook = Overcast -> Play Tennis = Yes ó SI (Outlook = Sunny) AND (Humidity = Normal) -> Play Tennis = Yes, cuya confianza asociada viene dada por la frecuencia relativa de cada caso en esa rama del árbol. Por otro lado, considerando las reglas que implican a nuestra variable objetivo tendríamos un `modelo` similar al dado por el árbol. Considerar y comparar ambas aproximaciones (p.e. ¿coinciden los antecedentes de las reglas? ¿alguna de las variables más frecuentes como antecedente en las reglas se corresponde con alguna de las variables con mayor capacidad de discriminación? etc.). "
   ]
  }
 ],
 "metadata": {
  "kernelspec": {
   "display_name": "R",
   "language": "R",
   "name": "r"
  },
  "language_info": {
   "codemirror_mode": "r",
   "file_extension": ".r",
   "mimetype": "text/x-r-source",
   "name": "R",
   "pygments_lexer": "r",
   "version": "3.4.1"
  }
 },
 "nbformat": 4,
 "nbformat_minor": 2
}
