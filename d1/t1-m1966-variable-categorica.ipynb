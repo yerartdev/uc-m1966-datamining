{
 "cells": [
  {
   "cell_type": "markdown",
   "metadata": {
    "button": false,
    "new_sheet": false,
    "run_control": {
     "read_only": false
    }
   },
   "source": [
    "## Minería de Datos (Master en Data Science, UIMP-UC) "
   ]
  },
  {
   "cell_type": "markdown",
   "metadata": {
    "button": false,
    "new_sheet": false,
    "run_control": {
     "read_only": false
    }
   },
   "source": [
    "## Profesores: Sixto Herrera y Rodrigo García"
   ]
  },
  {
   "cell_type": "markdown",
   "metadata": {},
   "source": [
    "## Alumno: Gerardo de Miguel González"
   ]
  },
  {
   "cell_type": "markdown",
   "metadata": {
    "button": false,
    "new_sheet": false,
    "run_control": {
     "read_only": false
    }
   },
   "source": [
    "## Variables Categóricas: Reglas de Asociación y Árboles de Clasificación\n",
    "\n",
    "En la presente tarea consideraremos el dataset `Mushroom`, incluido tanto en la La librería [arulesViz](https://cran.r-project.org/web/packages/arulesViz/arulesViz.pdf) como en las diferentes plataformas descritas en el marco de la asignatura y en el GitHub dedicado a este Máster ([Mushroom](https://github.com/SantanderMetGroup/Master-Data-Science/blob/master/Data_mining/datasets/mushrooms.csv.)), para aplicar las diferentes técnicas vistas en el curso para variables categóricas: Reglas de Asociación y Árboles de Clasificación.\n",
    "\n",
    "Para el desarrollo de la tarea se permitirá el uso de todo el material incluido en el Moodle de las asignatura así como el desarrollado por el alumno durante la realización de las prácticas.\n",
    "\n",
    "La entrega consisitirá de un notebook de Jupyter ó un R-MarkDown, junto con el archivo html que éste genera. Ambos ficheros se entregarán a través del Moodle de la asignatura en la tarea correspondiente."
   ]
  },
  {
   "cell_type": "markdown",
   "metadata": {
    "slideshow": {
     "slide_type": "fragment"
    }
   },
   "source": [
    "### ::GMG::Punto 0."
   ]
  },
  {
   "cell_type": "markdown",
   "metadata": {},
   "source": [
    "#### Bibliotecas"
   ]
  },
  {
   "cell_type": "code",
   "execution_count": 1,
   "metadata": {},
   "outputs": [
    {
     "name": "stderr",
     "output_type": "stream",
     "text": [
      "Loading required package: bitops\n"
     ]
    }
   ],
   "source": [
    "#::GMG::El primer paso es cargar las bibliotecas necesarias pra hace la práctica\n",
    "library(RCurl) #::GMG::Get remote dataset"
   ]
  },
  {
   "cell_type": "markdown",
   "metadata": {},
   "source": [
    "#### Carga de datos"
   ]
  },
  {
   "cell_type": "code",
   "execution_count": 2,
   "metadata": {},
   "outputs": [],
   "source": [
    "#::GMG::También necesitamos el dataset\n",
    "#       http://archive.ics.uci.edu/ml/datasets/Mushroom\n",
    "# specify the URL for the Iris data CSV\n",
    "urlfile <-'http://archive.ics.uci.edu/ml/machine-learning-databases/mushroom/agaricus-lepiota.data'\n",
    "downloaded <- getURL(urlfile, ssl.verifypeer=FALSE)\n",
    "connection <- textConnection(downloaded)\n",
    "dataset <- read.csv(connection, header=FALSE)"
   ]
  },
  {
   "cell_type": "markdown",
   "metadata": {},
   "source": [
    "#### Exploración  y limpieza "
   ]
  },
  {
   "cell_type": "code",
   "execution_count": 3,
   "metadata": {
    "scrolled": true
   },
   "outputs": [
    {
     "data": {
      "text/html": [
       "<table>\n",
       "<thead><tr><th scope=col>V1</th><th scope=col>V2</th><th scope=col>V3</th><th scope=col>V4</th><th scope=col>V5</th><th scope=col>V6</th><th scope=col>V7</th><th scope=col>V8</th><th scope=col>V9</th><th scope=col>V10</th><th scope=col>⋯</th><th scope=col>V14</th><th scope=col>V15</th><th scope=col>V16</th><th scope=col>V17</th><th scope=col>V18</th><th scope=col>V19</th><th scope=col>V20</th><th scope=col>V21</th><th scope=col>V22</th><th scope=col>V23</th></tr></thead>\n",
       "<tbody>\n",
       "\t<tr><td>p</td><td>x</td><td>s</td><td>n</td><td>t</td><td>p</td><td>f</td><td>c</td><td>n</td><td>k</td><td>⋯</td><td>s</td><td>w</td><td>w</td><td>p</td><td>w</td><td>o</td><td>p</td><td>k</td><td>s</td><td>u</td></tr>\n",
       "\t<tr><td>e</td><td>x</td><td>s</td><td>y</td><td>t</td><td>a</td><td>f</td><td>c</td><td>b</td><td>k</td><td>⋯</td><td>s</td><td>w</td><td>w</td><td>p</td><td>w</td><td>o</td><td>p</td><td>n</td><td>n</td><td>g</td></tr>\n",
       "\t<tr><td>e</td><td>b</td><td>s</td><td>w</td><td>t</td><td>l</td><td>f</td><td>c</td><td>b</td><td>n</td><td>⋯</td><td>s</td><td>w</td><td>w</td><td>p</td><td>w</td><td>o</td><td>p</td><td>n</td><td>n</td><td>m</td></tr>\n",
       "\t<tr><td>p</td><td>x</td><td>y</td><td>w</td><td>t</td><td>p</td><td>f</td><td>c</td><td>n</td><td>n</td><td>⋯</td><td>s</td><td>w</td><td>w</td><td>p</td><td>w</td><td>o</td><td>p</td><td>k</td><td>s</td><td>u</td></tr>\n",
       "\t<tr><td>e</td><td>x</td><td>s</td><td>g</td><td>f</td><td>n</td><td>f</td><td>w</td><td>b</td><td>k</td><td>⋯</td><td>s</td><td>w</td><td>w</td><td>p</td><td>w</td><td>o</td><td>e</td><td>n</td><td>a</td><td>g</td></tr>\n",
       "\t<tr><td>e</td><td>x</td><td>y</td><td>y</td><td>t</td><td>a</td><td>f</td><td>c</td><td>b</td><td>n</td><td>⋯</td><td>s</td><td>w</td><td>w</td><td>p</td><td>w</td><td>o</td><td>p</td><td>k</td><td>n</td><td>g</td></tr>\n",
       "</tbody>\n",
       "</table>\n"
      ],
      "text/latex": [
       "\\begin{tabular}{r|lllllllllllllllllllllll}\n",
       " V1 & V2 & V3 & V4 & V5 & V6 & V7 & V8 & V9 & V10 & ⋯ & V14 & V15 & V16 & V17 & V18 & V19 & V20 & V21 & V22 & V23\\\\\n",
       "\\hline\n",
       "\t p & x & s & n & t & p & f & c & n & k & ⋯ & s & w & w & p & w & o & p & k & s & u\\\\\n",
       "\t e & x & s & y & t & a & f & c & b & k & ⋯ & s & w & w & p & w & o & p & n & n & g\\\\\n",
       "\t e & b & s & w & t & l & f & c & b & n & ⋯ & s & w & w & p & w & o & p & n & n & m\\\\\n",
       "\t p & x & y & w & t & p & f & c & n & n & ⋯ & s & w & w & p & w & o & p & k & s & u\\\\\n",
       "\t e & x & s & g & f & n & f & w & b & k & ⋯ & s & w & w & p & w & o & e & n & a & g\\\\\n",
       "\t e & x & y & y & t & a & f & c & b & n & ⋯ & s & w & w & p & w & o & p & k & n & g\\\\\n",
       "\\end{tabular}\n"
      ],
      "text/markdown": [
       "\n",
       "V1 | V2 | V3 | V4 | V5 | V6 | V7 | V8 | V9 | V10 | ⋯ | V14 | V15 | V16 | V17 | V18 | V19 | V20 | V21 | V22 | V23 | \n",
       "|---|---|---|---|---|---|\n",
       "| p | x | s | n | t | p | f | c | n | k | ⋯ | s | w | w | p | w | o | p | k | s | u | \n",
       "| e | x | s | y | t | a | f | c | b | k | ⋯ | s | w | w | p | w | o | p | n | n | g | \n",
       "| e | b | s | w | t | l | f | c | b | n | ⋯ | s | w | w | p | w | o | p | n | n | m | \n",
       "| p | x | y | w | t | p | f | c | n | n | ⋯ | s | w | w | p | w | o | p | k | s | u | \n",
       "| e | x | s | g | f | n | f | w | b | k | ⋯ | s | w | w | p | w | o | e | n | a | g | \n",
       "| e | x | y | y | t | a | f | c | b | n | ⋯ | s | w | w | p | w | o | p | k | n | g | \n",
       "\n",
       "\n"
      ],
      "text/plain": [
       "  V1 V2 V3 V4 V5 V6 V7 V8 V9 V10 ⋯ V14 V15 V16 V17 V18 V19 V20 V21 V22 V23\n",
       "1 p  x  s  n  t  p  f  c  n  k   ⋯ s   w   w   p   w   o   p   k   s   u  \n",
       "2 e  x  s  y  t  a  f  c  b  k   ⋯ s   w   w   p   w   o   p   n   n   g  \n",
       "3 e  b  s  w  t  l  f  c  b  n   ⋯ s   w   w   p   w   o   p   n   n   m  \n",
       "4 p  x  y  w  t  p  f  c  n  n   ⋯ s   w   w   p   w   o   p   k   s   u  \n",
       "5 e  x  s  g  f  n  f  w  b  k   ⋯ s   w   w   p   w   o   e   n   a   g  \n",
       "6 e  x  y  y  t  a  f  c  b  n   ⋯ s   w   w   p   w   o   p   k   n   g  "
      ]
     },
     "metadata": {},
     "output_type": "display_data"
    }
   ],
   "source": [
    "#::GMG::Vemos lo que hemos descargado\n",
    "head(dataset)"
   ]
  },
  {
   "cell_type": "code",
   "execution_count": 4,
   "metadata": {},
   "outputs": [
    {
     "data": {
      "text/html": [
       "<table>\n",
       "<thead><tr><th scope=col>class</th><th scope=col>cap.shape</th><th scope=col>cap.surface</th><th scope=col>cap.color</th><th scope=col>bruises</th><th scope=col>odor</th><th scope=col>gill.attachment</th><th scope=col>gill.spacing</th><th scope=col>gill.size</th><th scope=col>gill.color</th><th scope=col>⋯</th><th scope=col>stalk.surface.below.ring</th><th scope=col>stalk.color.above.ring</th><th scope=col>stalk.color.below.ring</th><th scope=col>veil.type</th><th scope=col>veil.color</th><th scope=col>ring.number</th><th scope=col>ring.type</th><th scope=col>spore.print.color</th><th scope=col>population</th><th scope=col>habitat</th></tr></thead>\n",
       "<tbody>\n",
       "\t<tr><td>p</td><td>x</td><td>s</td><td>n</td><td>t</td><td>p</td><td>f</td><td>c</td><td>n</td><td>k</td><td>⋯</td><td>s</td><td>w</td><td>w</td><td>p</td><td>w</td><td>o</td><td>p</td><td>k</td><td>s</td><td>u</td></tr>\n",
       "\t<tr><td>e</td><td>x</td><td>s</td><td>y</td><td>t</td><td>a</td><td>f</td><td>c</td><td>b</td><td>k</td><td>⋯</td><td>s</td><td>w</td><td>w</td><td>p</td><td>w</td><td>o</td><td>p</td><td>n</td><td>n</td><td>g</td></tr>\n",
       "\t<tr><td>e</td><td>b</td><td>s</td><td>w</td><td>t</td><td>l</td><td>f</td><td>c</td><td>b</td><td>n</td><td>⋯</td><td>s</td><td>w</td><td>w</td><td>p</td><td>w</td><td>o</td><td>p</td><td>n</td><td>n</td><td>m</td></tr>\n",
       "\t<tr><td>p</td><td>x</td><td>y</td><td>w</td><td>t</td><td>p</td><td>f</td><td>c</td><td>n</td><td>n</td><td>⋯</td><td>s</td><td>w</td><td>w</td><td>p</td><td>w</td><td>o</td><td>p</td><td>k</td><td>s</td><td>u</td></tr>\n",
       "\t<tr><td>e</td><td>x</td><td>s</td><td>g</td><td>f</td><td>n</td><td>f</td><td>w</td><td>b</td><td>k</td><td>⋯</td><td>s</td><td>w</td><td>w</td><td>p</td><td>w</td><td>o</td><td>e</td><td>n</td><td>a</td><td>g</td></tr>\n",
       "\t<tr><td>e</td><td>x</td><td>y</td><td>y</td><td>t</td><td>a</td><td>f</td><td>c</td><td>b</td><td>n</td><td>⋯</td><td>s</td><td>w</td><td>w</td><td>p</td><td>w</td><td>o</td><td>p</td><td>k</td><td>n</td><td>g</td></tr>\n",
       "</tbody>\n",
       "</table>\n"
      ],
      "text/latex": [
       "\\begin{tabular}{r|lllllllllllllllllllllll}\n",
       " class & cap.shape & cap.surface & cap.color & bruises & odor & gill.attachment & gill.spacing & gill.size & gill.color & ⋯ & stalk.surface.below.ring & stalk.color.above.ring & stalk.color.below.ring & veil.type & veil.color & ring.number & ring.type & spore.print.color & population & habitat\\\\\n",
       "\\hline\n",
       "\t p & x & s & n & t & p & f & c & n & k & ⋯ & s & w & w & p & w & o & p & k & s & u\\\\\n",
       "\t e & x & s & y & t & a & f & c & b & k & ⋯ & s & w & w & p & w & o & p & n & n & g\\\\\n",
       "\t e & b & s & w & t & l & f & c & b & n & ⋯ & s & w & w & p & w & o & p & n & n & m\\\\\n",
       "\t p & x & y & w & t & p & f & c & n & n & ⋯ & s & w & w & p & w & o & p & k & s & u\\\\\n",
       "\t e & x & s & g & f & n & f & w & b & k & ⋯ & s & w & w & p & w & o & e & n & a & g\\\\\n",
       "\t e & x & y & y & t & a & f & c & b & n & ⋯ & s & w & w & p & w & o & p & k & n & g\\\\\n",
       "\\end{tabular}\n"
      ],
      "text/markdown": [
       "\n",
       "class | cap.shape | cap.surface | cap.color | bruises | odor | gill.attachment | gill.spacing | gill.size | gill.color | ⋯ | stalk.surface.below.ring | stalk.color.above.ring | stalk.color.below.ring | veil.type | veil.color | ring.number | ring.type | spore.print.color | population | habitat | \n",
       "|---|---|---|---|---|---|\n",
       "| p | x | s | n | t | p | f | c | n | k | ⋯ | s | w | w | p | w | o | p | k | s | u | \n",
       "| e | x | s | y | t | a | f | c | b | k | ⋯ | s | w | w | p | w | o | p | n | n | g | \n",
       "| e | b | s | w | t | l | f | c | b | n | ⋯ | s | w | w | p | w | o | p | n | n | m | \n",
       "| p | x | y | w | t | p | f | c | n | n | ⋯ | s | w | w | p | w | o | p | k | s | u | \n",
       "| e | x | s | g | f | n | f | w | b | k | ⋯ | s | w | w | p | w | o | e | n | a | g | \n",
       "| e | x | y | y | t | a | f | c | b | n | ⋯ | s | w | w | p | w | o | p | k | n | g | \n",
       "\n",
       "\n"
      ],
      "text/plain": [
       "  class cap.shape cap.surface cap.color bruises odor gill.attachment\n",
       "1 p     x         s           n         t       p    f              \n",
       "2 e     x         s           y         t       a    f              \n",
       "3 e     b         s           w         t       l    f              \n",
       "4 p     x         y           w         t       p    f              \n",
       "5 e     x         s           g         f       n    f              \n",
       "6 e     x         y           y         t       a    f              \n",
       "  gill.spacing gill.size gill.color ⋯ stalk.surface.below.ring\n",
       "1 c            n         k          ⋯ s                       \n",
       "2 c            b         k          ⋯ s                       \n",
       "3 c            b         n          ⋯ s                       \n",
       "4 c            n         n          ⋯ s                       \n",
       "5 w            b         k          ⋯ s                       \n",
       "6 c            b         n          ⋯ s                       \n",
       "  stalk.color.above.ring stalk.color.below.ring veil.type veil.color\n",
       "1 w                      w                      p         w         \n",
       "2 w                      w                      p         w         \n",
       "3 w                      w                      p         w         \n",
       "4 w                      w                      p         w         \n",
       "5 w                      w                      p         w         \n",
       "6 w                      w                      p         w         \n",
       "  ring.number ring.type spore.print.color population habitat\n",
       "1 o           p         k                 s          u      \n",
       "2 o           p         n                 n          g      \n",
       "3 o           p         n                 n          m      \n",
       "4 o           p         k                 s          u      \n",
       "5 o           e         n                 a          g      \n",
       "6 o           p         k                 n          g      "
      ]
     },
     "metadata": {},
     "output_type": "display_data"
    }
   ],
   "source": [
    "#::GMG::Hay que poner nombres a las columnas\n",
    "#::nota:: LEER\n",
    "# http://archive.ics.uci.edu/ml/machine-learning-databases/mushroom/agaricus-lepiota.names\n",
    "#::nota::no se pueden poner '-' en los nombres de las columnas\n",
    "names(dataset) = c('class','cap.shape','cap.surface','cap.color','bruises','odor',\n",
    "                   'gill.attachment','gill.spacing','gill.size','gill.color','stalk.shape',\n",
    "                   'stalk.root','stalk.surface.above.ring', 'stalk.surface.below.ring',\n",
    "                   'stalk.color.above.ring','stalk.color.below.ring','veil.type',\n",
    "                   'veil.color','ring.number','ring.type','spore.print.color',\n",
    "                   'population','habitat')\n",
    "head(dataset)"
   ]
  },
  {
   "cell_type": "code",
   "execution_count": 5,
   "metadata": {
    "scrolled": true
   },
   "outputs": [
    {
     "name": "stdout",
     "output_type": "stream",
     "text": [
      "'data.frame':\t8124 obs. of  23 variables:\n",
      " $ class                   : Factor w/ 2 levels \"e\",\"p\": 2 1 1 2 1 1 1 1 2 1 ...\n",
      " $ cap.shape               : Factor w/ 6 levels \"b\",\"c\",\"f\",\"k\",..: 6 6 1 6 6 6 1 1 6 1 ...\n",
      " $ cap.surface             : Factor w/ 4 levels \"f\",\"g\",\"s\",\"y\": 3 3 3 4 3 4 3 4 4 3 ...\n",
      " $ cap.color               : Factor w/ 10 levels \"b\",\"c\",\"e\",\"g\",..: 5 10 9 9 4 10 9 9 9 10 ...\n",
      " $ bruises                 : Factor w/ 2 levels \"f\",\"t\": 2 2 2 2 1 2 2 2 2 2 ...\n",
      " $ odor                    : Factor w/ 9 levels \"a\",\"c\",\"f\",\"l\",..: 7 1 4 7 6 1 1 4 7 1 ...\n",
      " $ gill.attachment         : Factor w/ 2 levels \"a\",\"f\": 2 2 2 2 2 2 2 2 2 2 ...\n",
      " $ gill.spacing            : Factor w/ 2 levels \"c\",\"w\": 1 1 1 1 2 1 1 1 1 1 ...\n",
      " $ gill.size               : Factor w/ 2 levels \"b\",\"n\": 2 1 1 2 1 1 1 1 2 1 ...\n",
      " $ gill.color              : Factor w/ 12 levels \"b\",\"e\",\"g\",\"h\",..: 5 5 6 6 5 6 3 6 8 3 ...\n",
      " $ stalk.shape             : Factor w/ 2 levels \"e\",\"t\": 1 1 1 1 2 1 1 1 1 1 ...\n",
      " $ stalk.root              : Factor w/ 5 levels \"?\",\"b\",\"c\",\"e\",..: 4 3 3 4 4 3 3 3 4 3 ...\n",
      " $ stalk.surface.above.ring: Factor w/ 4 levels \"f\",\"k\",\"s\",\"y\": 3 3 3 3 3 3 3 3 3 3 ...\n",
      " $ stalk.surface.below.ring: Factor w/ 4 levels \"f\",\"k\",\"s\",\"y\": 3 3 3 3 3 3 3 3 3 3 ...\n",
      " $ stalk.color.above.ring  : Factor w/ 9 levels \"b\",\"c\",\"e\",\"g\",..: 8 8 8 8 8 8 8 8 8 8 ...\n",
      " $ stalk.color.below.ring  : Factor w/ 9 levels \"b\",\"c\",\"e\",\"g\",..: 8 8 8 8 8 8 8 8 8 8 ...\n",
      " $ veil.type               : Factor w/ 1 level \"p\": 1 1 1 1 1 1 1 1 1 1 ...\n",
      " $ veil.color              : Factor w/ 4 levels \"n\",\"o\",\"w\",\"y\": 3 3 3 3 3 3 3 3 3 3 ...\n",
      " $ ring.number             : Factor w/ 3 levels \"n\",\"o\",\"t\": 2 2 2 2 2 2 2 2 2 2 ...\n",
      " $ ring.type               : Factor w/ 5 levels \"e\",\"f\",\"l\",\"n\",..: 5 5 5 5 1 5 5 5 5 5 ...\n",
      " $ spore.print.color       : Factor w/ 9 levels \"b\",\"h\",\"k\",\"n\",..: 3 4 4 3 4 3 3 4 3 3 ...\n",
      " $ population              : Factor w/ 6 levels \"a\",\"c\",\"n\",\"s\",..: 4 3 3 4 1 3 3 4 5 4 ...\n",
      " $ habitat                 : Factor w/ 7 levels \"d\",\"g\",\"l\",\"m\",..: 6 2 4 6 2 2 4 4 2 4 ...\n"
     ]
    }
   ],
   "source": [
    "#::GMG::Resultado que obtenemos\n",
    "str(dataset)"
   ]
  },
  {
   "cell_type": "code",
   "execution_count": 6,
   "metadata": {},
   "outputs": [
    {
     "data": {
      "text/html": [
       "<ol class=list-inline>\n",
       "\t<li>8124</li>\n",
       "\t<li>23</li>\n",
       "</ol>\n"
      ],
      "text/latex": [
       "\\begin{enumerate*}\n",
       "\\item 8124\n",
       "\\item 23\n",
       "\\end{enumerate*}\n"
      ],
      "text/markdown": [
       "1. 8124\n",
       "2. 23\n",
       "\n",
       "\n"
      ],
      "text/plain": [
       "[1] 8124   23"
      ]
     },
     "metadata": {},
     "output_type": "display_data"
    }
   ],
   "source": [
    "#::Tamaño del dataset\n",
    "dim(dataset)"
   ]
  },
  {
   "cell_type": "code",
   "execution_count": 7,
   "metadata": {},
   "outputs": [
    {
     "data": {
      "text/plain": [
       "\n",
       "   e    p \n",
       "4208 3916 "
      ]
     },
     "metadata": {},
     "output_type": "display_data"
    },
    {
     "data": {
      "image/png": "[encoded data removed]",
      "text/plain": [
       "plot without title"
      ]
     },
     "metadata": {},
     "output_type": "display_data"
    }
   ],
   "source": [
    "#::GMG::Proporción de clases en el dataset\n",
    "table(dataset$class)\n",
    "barplot(height = table(dataset$class),\n",
    "        col = c('blue','red'),\n",
    "        names.arg = c('edible','poisonous'))"
   ]
  },
  {
   "cell_type": "code",
   "execution_count": 8,
   "metadata": {},
   "outputs": [
    {
     "data": {
      "text/html": [
       "<dl class=dl-horizontal>\n",
       "\t<dt>?</dt>\n",
       "\t\t<dd>2480</dd>\n",
       "\t<dt>b</dt>\n",
       "\t\t<dd>3776</dd>\n",
       "\t<dt>c</dt>\n",
       "\t\t<dd>556</dd>\n",
       "\t<dt>e</dt>\n",
       "\t\t<dd>1120</dd>\n",
       "\t<dt>r</dt>\n",
       "\t\t<dd>192</dd>\n",
       "</dl>\n"
      ],
      "text/latex": [
       "\\begin{description*}\n",
       "\\item[?] 2480\n",
       "\\item[b] 3776\n",
       "\\item[c] 556\n",
       "\\item[e] 1120\n",
       "\\item[r] 192\n",
       "\\end{description*}\n"
      ],
      "text/markdown": [
       "?\n",
       ":   2480b\n",
       ":   3776c\n",
       ":   556e\n",
       ":   1120r\n",
       ":   192\n",
       "\n"
      ],
      "text/plain": [
       "   ?    b    c    e    r \n",
       "2480 3776  556 1120  192 "
      ]
     },
     "metadata": {},
     "output_type": "display_data"
    }
   ],
   "source": [
    "#::GMG::Dos observaciones\n",
    "#::nota 1:: 8. Missing Attribute Values: 2480 of them (denoted by \"?\"), all for\n",
    "#         attribute #11 (stalk-root)\n",
    "# en http://archive.ics.uci.edu/ml/machine-learning-databases/mushroom/agaricus-lepiota.names\n",
    "#\n",
    "summary(dataset$stalk.root)"
   ]
  },
  {
   "cell_type": "code",
   "execution_count": 9,
   "metadata": {},
   "outputs": [
    {
     "data": {
      "text/html": [
       "<strong>p:</strong> 8124"
      ],
      "text/latex": [
       "\\textbf{p:} 8124"
      ],
      "text/markdown": [
       "**p:** 8124"
      ],
      "text/plain": [
       "   p \n",
       "8124 "
      ]
     },
     "metadata": {},
     "output_type": "display_data"
    }
   ],
   "source": [
    "#::nota 2::veil-type solamente tiene un valor 'p'\n",
    "#\n",
    "# veil_type_idx <- which(colnames(dataset) == \"veil-type\")\n",
    "# dataset <- dataset[-veil_type_idx]\n",
    "summary(dataset$veil.type)"
   ]
  },
  {
   "cell_type": "code",
   "execution_count": 10,
   "metadata": {},
   "outputs": [
    {
     "data": {
      "text/html": [
       "<dl class=dl-horizontal>\n",
       "\t<dt>?</dt>\n",
       "\t\t<dd>0</dd>\n",
       "\t<dt>b</dt>\n",
       "\t\t<dd>3776</dd>\n",
       "\t<dt>c</dt>\n",
       "\t\t<dd>556</dd>\n",
       "\t<dt>e</dt>\n",
       "\t\t<dd>1120</dd>\n",
       "\t<dt>r</dt>\n",
       "\t\t<dd>192</dd>\n",
       "\t<dt>NA's</dt>\n",
       "\t\t<dd>2480</dd>\n",
       "</dl>\n"
      ],
      "text/latex": [
       "\\begin{description*}\n",
       "\\item[?] 0\n",
       "\\item[b] 3776\n",
       "\\item[c] 556\n",
       "\\item[e] 1120\n",
       "\\item[r] 192\n",
       "\\item[NA's] 2480\n",
       "\\end{description*}\n"
      ],
      "text/markdown": [
       "?\n",
       ":   0b\n",
       ":   3776c\n",
       ":   556e\n",
       ":   1120r\n",
       ":   192NA's\n",
       ":   2480\n",
       "\n"
      ],
      "text/plain": [
       "   ?    b    c    e    r NA's \n",
       "   0 3776  556 1120  192 2480 "
      ]
     },
     "metadata": {},
     "output_type": "display_data"
    }
   ],
   "source": [
    "#::GMG::Anotamos de forma apropiada los missing values\n",
    "dataset_complete <- dataset\n",
    "dataset_complete$stalk.root[dataset_complete$stalk.root == '?'] <- NA\n",
    "summary(dataset_complete$stalk.root)"
   ]
  },
  {
   "cell_type": "code",
   "execution_count": 11,
   "metadata": {},
   "outputs": [
    {
     "data": {
      "text/html": [
       "FALSE"
      ],
      "text/latex": [
       "FALSE"
      ],
      "text/markdown": [
       "FALSE"
      ],
      "text/plain": [
       "[1] FALSE"
      ]
     },
     "metadata": {},
     "output_type": "display_data"
    }
   ],
   "source": [
    "#::GMG::Decido deshacerme de todas las instancias con NAs\n",
    "#       https://www.statmethods.net/input/missingdata.html\n",
    "dataset_complete <- dataset_complete[complete.cases(dataset_complete),]\n",
    "any(is.na(dataset_complete))"
   ]
  },
  {
   "cell_type": "code",
   "execution_count": 12,
   "metadata": {},
   "outputs": [
    {
     "data": {
      "text/html": [
       "<dl class=dl-horizontal>\n",
       "\t<dt>b</dt>\n",
       "\t\t<dd>3776</dd>\n",
       "\t<dt>c</dt>\n",
       "\t\t<dd>556</dd>\n",
       "\t<dt>e</dt>\n",
       "\t\t<dd>1120</dd>\n",
       "\t<dt>r</dt>\n",
       "\t\t<dd>192</dd>\n",
       "</dl>\n"
      ],
      "text/latex": [
       "\\begin{description*}\n",
       "\\item[b] 3776\n",
       "\\item[c] 556\n",
       "\\item[e] 1120\n",
       "\\item[r] 192\n",
       "\\end{description*}\n"
      ],
      "text/markdown": [
       "b\n",
       ":   3776c\n",
       ":   556e\n",
       ":   1120r\n",
       ":   192\n",
       "\n"
      ],
      "text/plain": [
       "   b    c    e    r \n",
       "3776  556 1120  192 "
      ]
     },
     "metadata": {},
     "output_type": "display_data"
    }
   ],
   "source": [
    "#::GMG::Me deshago el level '?' en stalk_root\n",
    "# https://www.rdocumentation.org/packages/base/versions/3.5.1/topics/droplevels\n",
    "dataset_complete$stalk.root<-droplevels(dataset_complete$stalk.root)\n",
    "summary(dataset_complete$stalk.root)"
   ]
  },
  {
   "cell_type": "code",
   "execution_count": 13,
   "metadata": {},
   "outputs": [],
   "source": [
    "#::GMG::Nos cargamos el feature que vale siempre lo mismo y ni aporta\n",
    "#       nada, nos quedamos con 22 factores\n",
    "dataset_complete$veil.type <- NULL"
   ]
  },
  {
   "cell_type": "code",
   "execution_count": 14,
   "metadata": {},
   "outputs": [
    {
     "name": "stdout",
     "output_type": "stream",
     "text": [
      "'data.frame':\t5644 obs. of  22 variables:\n",
      " $ class                   : Factor w/ 2 levels \"e\",\"p\": 2 1 1 2 1 1 1 1 2 1 ...\n",
      " $ cap.shape               : Factor w/ 6 levels \"b\",\"c\",\"f\",\"k\",..: 6 6 1 6 6 6 1 1 6 1 ...\n",
      " $ cap.surface             : Factor w/ 4 levels \"f\",\"g\",\"s\",\"y\": 3 3 3 4 3 4 3 4 4 3 ...\n",
      " $ cap.color               : Factor w/ 10 levels \"b\",\"c\",\"e\",\"g\",..: 5 10 9 9 4 10 9 9 9 10 ...\n",
      " $ bruises                 : Factor w/ 2 levels \"f\",\"t\": 2 2 2 2 1 2 2 2 2 2 ...\n",
      " $ odor                    : Factor w/ 9 levels \"a\",\"c\",\"f\",\"l\",..: 7 1 4 7 6 1 1 4 7 1 ...\n",
      " $ gill.attachment         : Factor w/ 2 levels \"a\",\"f\": 2 2 2 2 2 2 2 2 2 2 ...\n",
      " $ gill.spacing            : Factor w/ 2 levels \"c\",\"w\": 1 1 1 1 2 1 1 1 1 1 ...\n",
      " $ gill.size               : Factor w/ 2 levels \"b\",\"n\": 2 1 1 2 1 1 1 1 2 1 ...\n",
      " $ gill.color              : Factor w/ 12 levels \"b\",\"e\",\"g\",\"h\",..: 5 5 6 6 5 6 3 6 8 3 ...\n",
      " $ stalk.shape             : Factor w/ 2 levels \"e\",\"t\": 1 1 1 1 2 1 1 1 1 1 ...\n",
      " $ stalk.root              : Factor w/ 4 levels \"b\",\"c\",\"e\",\"r\": 3 2 2 3 3 2 2 2 3 2 ...\n",
      " $ stalk.surface.above.ring: Factor w/ 4 levels \"f\",\"k\",\"s\",\"y\": 3 3 3 3 3 3 3 3 3 3 ...\n",
      " $ stalk.surface.below.ring: Factor w/ 4 levels \"f\",\"k\",\"s\",\"y\": 3 3 3 3 3 3 3 3 3 3 ...\n",
      " $ stalk.color.above.ring  : Factor w/ 9 levels \"b\",\"c\",\"e\",\"g\",..: 8 8 8 8 8 8 8 8 8 8 ...\n",
      " $ stalk.color.below.ring  : Factor w/ 9 levels \"b\",\"c\",\"e\",\"g\",..: 8 8 8 8 8 8 8 8 8 8 ...\n",
      " $ veil.color              : Factor w/ 4 levels \"n\",\"o\",\"w\",\"y\": 3 3 3 3 3 3 3 3 3 3 ...\n",
      " $ ring.number             : Factor w/ 3 levels \"n\",\"o\",\"t\": 2 2 2 2 2 2 2 2 2 2 ...\n",
      " $ ring.type               : Factor w/ 5 levels \"e\",\"f\",\"l\",\"n\",..: 5 5 5 5 1 5 5 5 5 5 ...\n",
      " $ spore.print.color       : Factor w/ 9 levels \"b\",\"h\",\"k\",\"n\",..: 3 4 4 3 4 3 3 4 3 3 ...\n",
      " $ population              : Factor w/ 6 levels \"a\",\"c\",\"n\",\"s\",..: 4 3 3 4 1 3 3 4 5 4 ...\n",
      " $ habitat                 : Factor w/ 7 levels \"d\",\"g\",\"l\",\"m\",..: 6 2 4 6 2 2 4 4 2 4 ...\n"
     ]
    }
   ],
   "source": [
    "str(dataset_complete)"
   ]
  },
  {
   "cell_type": "code",
   "execution_count": 15,
   "metadata": {},
   "outputs": [
    {
     "data": {
      "image/png": "[encoded data removed]",
      "text/plain": [
       "plot without title"
      ]
     },
     "metadata": {},
     "output_type": "display_data"
    }
   ],
   "source": [
    "#::GMG::Vemos si hemos dañado el balance de clases ... \n",
    "#       un poco, pero creo que podemos aceptarlo por el momento, veremos (!)\n",
    "barplot(height = table(dataset_complete$class),\n",
    "        col = c('blue','red'),\n",
    "        names.arg = c('edible','poisonous'))"
   ]
  },
  {
   "cell_type": "markdown",
   "metadata": {
    "button": false,
    "new_sheet": false,
    "run_control": {
     "read_only": false
    }
   },
   "source": [
    "### Punto 1 (3 puntos):\n",
    "\n",
    "Considerar uno de los algoritmos de asociación vistos en clase y obtener las reglas representativas del dataset fijando los parámetros de aprendizaje (soporte, confianza, etc...). "
   ]
  },
  {
   "cell_type": "markdown",
   "metadata": {},
   "source": [
    "#### Bibliotecas "
   ]
  },
  {
   "cell_type": "code",
   "execution_count": 16,
   "metadata": {},
   "outputs": [
    {
     "name": "stderr",
     "output_type": "stream",
     "text": [
      "Loading required package: Matrix\n",
      "\n",
      "Attaching package: ‘arules’\n",
      "\n",
      "The following objects are masked from ‘package:base’:\n",
      "\n",
      "    abbreviate, write\n",
      "\n"
     ]
    }
   ],
   "source": [
    "library(\"arules\")"
   ]
  },
  {
   "cell_type": "code",
   "execution_count": 17,
   "metadata": {},
   "outputs": [
    {
     "name": "stderr",
     "output_type": "stream",
     "text": [
      "Loading required package: grid\n"
     ]
    }
   ],
   "source": [
    "library(\"arulesViz\")"
   ]
  },
  {
   "cell_type": "markdown",
   "metadata": {},
   "source": [
    "#### Eclat"
   ]
  },
  {
   "cell_type": "code",
   "execution_count": 18,
   "metadata": {},
   "outputs": [
    {
     "data": {
      "text/plain": [
       "transactions in sparse format with\n",
       " 5644 transactions (rows) and\n",
       " 117 items (columns)"
      ]
     },
     "metadata": {},
     "output_type": "display_data"
    }
   ],
   "source": [
    "#::GMG::Creamos las transacciones de base\n",
    "transactions.ms <- as(dataset_complete, 'transactions')\n",
    "transactions.ms"
   ]
  },
  {
   "cell_type": "code",
   "execution_count": 19,
   "metadata": {},
   "outputs": [
    {
     "name": "stdout",
     "output_type": "stream",
     "text": [
      "Eclat\n",
      "\n",
      "parameter specification:\n",
      " tidLists support minlen maxlen            target   ext\n",
      "    FALSE     0.1      1      5 frequent itemsets FALSE\n",
      "\n",
      "algorithmic control:\n",
      " sparse sort verbose\n",
      "      7   -2    TRUE\n",
      "\n",
      "Absolute minimum support count: 564 \n",
      "\n",
      "create itemset ... \n",
      "set transactions ...[99 item(s), 5644 transaction(s)] done [0.01s].\n",
      "sorting and recoding items ... [54 item(s)] done [0.00s].\n",
      "creating bit matrix ... [54 row(s), 5644 column(s)] done [0.00s].\n",
      "writing  ... [57733 set(s)] done [0.05s].\n",
      "Creating S4 object  ... done [0.02s].\n"
     ]
    },
    {
     "data": {
      "text/plain": [
       "set of 57733 itemsets "
      ]
     },
     "metadata": {},
     "output_type": "display_data"
    }
   ],
   "source": [
    "#::GMG::Fijo los parámetros iniciales de support y maxlen y aplico eclat\n",
    "#  para obtener los itemsets\n",
    "itemsets <- eclat(transactions.ms, parameter = list(supp = 0.1, maxlen = 5))\n",
    "itemsets"
   ]
  },
  {
   "cell_type": "code",
   "execution_count": 20,
   "metadata": {},
   "outputs": [],
   "source": [
    "#::GMG::Genero las reglas a partir de los itemsets fijando la métrica \n",
    "#       confidence\n",
    "rules <- ruleInduction(itemsets, transactions.ms, confidence = .9)"
   ]
  },
  {
   "cell_type": "markdown",
   "metadata": {},
   "source": [
    "#### Análisis General"
   ]
  },
  {
   "cell_type": "markdown",
   "metadata": {
    "button": false,
    "new_sheet": false,
    "run_control": {
     "read_only": false
    }
   },
   "source": [
    "Analizar los resultados en términos generales:"
   ]
  },
  {
   "cell_type": "markdown",
   "metadata": {
    "button": false,
    "new_sheet": false,
    "run_control": {
     "read_only": false
    }
   },
   "source": [
    "* ¿Cuantas reglas se han generado?"
   ]
  },
  {
   "cell_type": "code",
   "execution_count": 21,
   "metadata": {},
   "outputs": [
    {
     "data": {
      "text/plain": [
       "set of 157180 rules "
      ]
     },
     "metadata": {},
     "output_type": "display_data"
    }
   ],
   "source": [
    "rules"
   ]
  },
  {
   "cell_type": "code",
   "execution_count": 22,
   "metadata": {},
   "outputs": [
    {
     "name": "stdout",
     "output_type": "stream",
     "text": [
      "    lhs                    rhs                   support confidence     lift itemset\n",
      "[1] {gill.size=b,                                                                   \n",
      "     stalk.shape=e,                                                                 \n",
      "     veil.color=w,                                                                  \n",
      "     habitat=p}         => {gill.spacing=c}    0.1006378          1 1.221645       1\n",
      "[2] {gill.spacing=c,                                                                \n",
      "     stalk.shape=e,                                                                 \n",
      "     veil.color=w,                                                                  \n",
      "     habitat=p}         => {gill.size=b}       0.1006378          1 1.142510       1\n",
      "[3] {gill.spacing=c,                                                                \n",
      "     gill.size=b,                                                                   \n",
      "     veil.color=w,                                                                  \n",
      "     habitat=p}         => {stalk.shape=e}     0.1006378          1 2.041968       1\n",
      "[4] {gill.spacing=c,                                                                \n",
      "     gill.size=b,                                                                   \n",
      "     stalk.shape=e,                                                                 \n",
      "     habitat=p}         => {veil.color=w}      0.1006378          1 1.001419       1\n",
      "[5] {gill.spacing=c,                                                                \n",
      "     gill.size=b,                                                                   \n",
      "     stalk.shape=e,                                                                 \n",
      "     habitat=p}         => {gill.attachment=f} 0.1006378          1 1.003199       2\n",
      "[6] {gill.attachment=f,                                                             \n",
      "     gill.size=b,                                                                   \n",
      "     stalk.shape=e,                                                                 \n",
      "     habitat=p}         => {gill.spacing=c}    0.1006378          1 1.221645       2\n"
     ]
    }
   ],
   "source": [
    "inspect(head(rules))"
   ]
  },
  {
   "cell_type": "code",
   "execution_count": 23,
   "metadata": {},
   "outputs": [],
   "source": [
    "#inspect(head(sort(rules, by = \"confidence\"), n = 5))"
   ]
  },
  {
   "cell_type": "code",
   "execution_count": 24,
   "metadata": {},
   "outputs": [],
   "source": [
    "#inspect(head(sort(rules, by=\"lift\"), n = 5))"
   ]
  },
  {
   "cell_type": "markdown",
   "metadata": {
    "button": false,
    "new_sheet": false,
    "run_control": {
     "read_only": false
    }
   },
   "source": [
    "* ¿Existe alguna regla redundante?, ¿Cuántas?"
   ]
  },
  {
   "cell_type": "code",
   "execution_count": 25,
   "metadata": {},
   "outputs": [
    {
     "data": {
      "text/html": [
       "152273"
      ],
      "text/latex": [
       "152273"
      ],
      "text/markdown": [
       "152273"
      ],
      "text/plain": [
       "[1] 152273"
      ]
     },
     "metadata": {},
     "output_type": "display_data"
    }
   ],
   "source": [
    "#::GMG::Según S04_Association_Rules\n",
    "length(rules[is.redundant(rules)])"
   ]
  },
  {
   "cell_type": "code",
   "execution_count": 26,
   "metadata": {},
   "outputs": [
    {
     "data": {
      "text/html": [
       "4907"
      ],
      "text/latex": [
       "4907"
      ],
      "text/markdown": [
       "4907"
      ],
      "text/plain": [
       "[1] 4907"
      ]
     },
     "metadata": {},
     "output_type": "display_data"
    }
   ],
   "source": [
    "#::GMG::Filtramos las redundantes\n",
    "rules.filtered <- rules[!is.redundant(rules)]\n",
    "length(rules.filtered)"
   ]
  },
  {
   "cell_type": "markdown",
   "metadata": {
    "button": false,
    "new_sheet": false,
    "run_control": {
     "read_only": false
    }
   },
   "source": [
    "* ¿Existe alguna regla que incluya la variable objetivo: `Class=edible` ó `Class=poisonous`?, ¿Cuantas?"
   ]
  },
  {
   "cell_type": "code",
   "execution_count": 27,
   "metadata": {},
   "outputs": [
    {
     "data": {
      "text/html": [
       "1469"
      ],
      "text/latex": [
       "1469"
      ],
      "text/markdown": [
       "1469"
      ],
      "text/plain": [
       "[1] 1469"
      ]
     },
     "metadata": {},
     "output_type": "display_data"
    }
   ],
   "source": [
    "#::GMG::Para eso hay que usar inspect()/length() + subset()\n",
    "length(subset(rules.filtered, \n",
    "              subset = rhs %in% c(\"class=e\") | lhs %in% c(\"class=e\") |\n",
    "                       rhs %in% c(\"class=p\") | lhs %in% c(\"class=p\")\n",
    "             )\n",
    "      )"
   ]
  },
  {
   "cell_type": "markdown",
   "metadata": {
    "button": false,
    "new_sheet": false,
    "run_control": {
     "read_only": false
    }
   },
   "source": [
    "* De cara a ser utilizada como modelo predictivo es adecuado que la variable objetivo se encuentre en el consecuente de la regla de asociación, ¿se da esta propiedad en alguna regla?"
   ]
  },
  {
   "cell_type": "code",
   "execution_count": 28,
   "metadata": {},
   "outputs": [
    {
     "data": {
      "text/html": [
       "354"
      ],
      "text/latex": [
       "354"
      ],
      "text/markdown": [
       "354"
      ],
      "text/plain": [
       "[1] 354"
      ]
     },
     "metadata": {},
     "output_type": "display_data"
    }
   ],
   "source": [
    "#::GMG::Queremos que class se encuentre en rhs, claro :)\n",
    "length(subset(rules.filtered, \n",
    "              subset = rhs %in% c(\"class=e\") | rhs %in% c(\"class=p\")\n",
    "             )\n",
    "      )"
   ]
  },
  {
   "cell_type": "markdown",
   "metadata": {},
   "source": [
    "#### Análisis Detallado"
   ]
  },
  {
   "cell_type": "markdown",
   "metadata": {
    "button": false,
    "new_sheet": false,
    "run_control": {
     "read_only": false
    }
   },
   "source": [
    "* Considerar los subconjuntos de reglas con ambas clases como consecuente e ilustrar las variables implicadas en cada caso. Considerar alguno de los grafos vistos para apoyar las conclusiones obtenidas.\n",
    "\n",
    "NOTA: Usar soportes superiores a 0.1 para evitar problemas de memoria."
   ]
  },
  {
   "cell_type": "markdown",
   "metadata": {},
   "source": [
    "**::GMG::** Según una comunicación de Wlodek Duch (1997) que viene en la [descripción del dataset](http://archive.ics.uci.edu/ml/machine-learning-databases/mushroom/agaricus-lepiota.names) tenemos las reglas más simples, que podemos usar como *workbench*:\n",
    "\n",
    "> Disjunctive rules for poisonous mushrooms, from most general\n",
    "\tto most specific:\n",
    ">\n",
    ">\tP_1) odor=NOT(almond.OR.anise.OR.none)\n",
    ">\t     120 poisonous cases missed, 98.52% accuracy\n",
    ">\n",
    ">\tP_2) spore-print-color=green\n",
    ">\t     48 cases missed, 99.41% accuracy\n",
    ">        \n",
    ">\tP_3) odor=none.AND.stalk-surface-below-ring=scaly.AND.\n",
    ">\t          (stalk-color-above-ring=NOT.brown) \n",
    ">\t     8 cases missed, 99.90% accuracy\n",
    ">         \n",
    ">\tP_4) habitat=leaves.AND.cap-color=white\n",
    ">\t         100% accuracy     \n",
    ">\n",
    ">\tRule P_4) may also be\n",
    ">\n",
    ">\tP_4') population=clustered.AND.cap_color=white\n",
    ">\n",
    ">\tThese rule involve 6 attributes (out of 22). Rules for edible\n",
    ">\tmushrooms are obtained as negation of the rules given above, for\n",
    ">\texample the rule:\n",
    ">\n",
    ">\todor=(almond.OR.anise.OR.none).AND.spore-print-color=NOT.green\n",
    ">\n",
    ">\tgives 48 errors, or 99.41% accuracy on the whole dataset.\n",
    ">\n",
    ">\tSeveral slightly more complex variations on these rules exist,\n",
    ">\tinvolving other attributes, such as gill_size, gill_spacing,\n",
    ">\tstalk_surface_above_ring, but the rules given above are the simplest\n",
    ">\twe have found.\n"
   ]
  },
  {
   "cell_type": "code",
   "execution_count": 29,
   "metadata": {},
   "outputs": [],
   "source": [
    "#::GMG::Seleccionamos solamente las que tienen como consecuente class\n",
    "rules.class.filtered <- subset(rules.filtered, \n",
    "                               subset = rhs %in% c(\"class=e\") | rhs %in% c(\"class=p\")\n",
    "                              )"
   ]
  },
  {
   "cell_type": "code",
   "execution_count": 30,
   "metadata": {},
   "outputs": [
    {
     "data": {
      "text/html": [
       "'venenoso: 104 comestible: 250'"
      ],
      "text/latex": [
       "'venenoso: 104 comestible: 250'"
      ],
      "text/markdown": [
       "'venenoso: 104 comestible: 250'"
      ],
      "text/plain": [
       "[1] \"venenoso: 104 comestible: 250\""
      ]
     },
     "metadata": {},
     "output_type": "display_data"
    }
   ],
   "source": [
    "#::GMG::Dividamos las reglas entre el caso class=e y el caso class=p\n",
    "rules.class.edible <- subset(rules.class.filtered, \n",
    "                             subset = rhs %in% c(\"class=e\")\n",
    "                            )\n",
    "rules.class.poisonous <- subset(rules.class.filtered, \n",
    "                                subset = rhs %in% c(\"class=p\")\n",
    "                               )\n",
    "paste('venenoso:', length(rules.class.poisonous), 'comestible:', length(rules.class.edible))"
   ]
  },
  {
   "cell_type": "markdown",
   "metadata": {},
   "source": [
    "#### Venenosas (class=p)"
   ]
  },
  {
   "cell_type": "code",
   "execution_count": 31,
   "metadata": {},
   "outputs": [
    {
     "name": "stdout",
     "output_type": "stream",
     "text": [
      "    lhs                                        rhs       support   confidence\n",
      "[1] {spore.print.color=h}                   => {class=p} 0.2806520 1.0000000 \n",
      "[2] {odor=f}                                => {class=p} 0.2806520 1.0000000 \n",
      "[3] {stalk.shape=e,stalk.root=b}            => {class=p} 0.2778172 0.9423077 \n",
      "[4] {bruises=f,stalk.shape=e}               => {class=p} 0.2714387 0.9054374 \n",
      "[5] {bruises=f,stalk.shape=e,ring.number=o} => {class=p} 0.2650602 0.9121951 \n",
      "    lift     itemset\n",
      "[1] 2.617811 26530  \n",
      "[2] 2.617811 27760  \n",
      "[3] 2.466783 38449  \n",
      "[4] 2.370264 38361  \n",
      "[5] 2.387954 38293  \n"
     ]
    }
   ],
   "source": [
    "#::GMG::Vamos a ver las class=p que tienen mayor soporte ...\n",
    "inspect(head(sort(rules.class.poisonous, by = \"support\"), n = 5))"
   ]
  },
  {
   "cell_type": "code",
   "execution_count": 32,
   "metadata": {},
   "outputs": [
    {
     "name": "stdout",
     "output_type": "stream",
     "text": [
      "    lhs                                          rhs       support   confidence\n",
      "[1] {cap.color=y,stalk.shape=e,stalk.root=b}  => {class=p} 0.1148122 1         \n",
      "[2] {cap.color=y,gill.size=b,stalk.root=b}    => {class=p} 0.1148122 1         \n",
      "[3] {cap.color=y,gill.spacing=c,stalk.root=b} => {class=p} 0.1148122 1         \n",
      "[4] {cap.color=y,bruises=f}                   => {class=p} 0.1162296 1         \n",
      "[5] {stalk.surface.below.ring=k}              => {class=p} 0.2296244 1         \n",
      "    lift     itemset\n",
      "[1] 2.617811 12000  \n",
      "[2] 2.617811 12014  \n",
      "[3] 2.617811 12015  \n",
      "[4] 2.617811 12043  \n",
      "[5] 2.617811 19214  \n"
     ]
    }
   ],
   "source": [
    "#::GMG::... mayor confianza\n",
    "inspect(head(sort(rules.class.poisonous, by=\"confidence\"), n = 5))"
   ]
  },
  {
   "cell_type": "code",
   "execution_count": 33,
   "metadata": {},
   "outputs": [
    {
     "name": "stdout",
     "output_type": "stream",
     "text": [
      "    lhs                                          rhs       support   confidence\n",
      "[1] {cap.color=y,stalk.shape=e,stalk.root=b}  => {class=p} 0.1148122 1         \n",
      "[2] {cap.color=y,gill.size=b,stalk.root=b}    => {class=p} 0.1148122 1         \n",
      "[3] {cap.color=y,gill.spacing=c,stalk.root=b} => {class=p} 0.1148122 1         \n",
      "[4] {cap.color=y,bruises=f}                   => {class=p} 0.1162296 1         \n",
      "[5] {stalk.surface.below.ring=k}              => {class=p} 0.2296244 1         \n",
      "    lift     itemset\n",
      "[1] 2.617811 12000  \n",
      "[2] 2.617811 12014  \n",
      "[3] 2.617811 12015  \n",
      "[4] 2.617811 12043  \n",
      "[5] 2.617811 19214  \n"
     ]
    }
   ],
   "source": [
    "#::GMG::... mayor 'lift'\n",
    "inspect(head(sort(rules.class.poisonous, by=\"lift\"), n = 5))"
   ]
  },
  {
   "cell_type": "code",
   "execution_count": 34,
   "metadata": {},
   "outputs": [],
   "source": [
    "#::GMG::Vamos a ver cuántas reglas salen con soporte superior  a 0.2\n",
    "#length(subset(rules.class.filtered, subset = support > 0.2))"
   ]
  },
  {
   "cell_type": "code",
   "execution_count": 37,
   "metadata": {},
   "outputs": [
    {
     "name": "stderr",
     "output_type": "stream",
     "text": [
      "To reduce overplotting, jitter is added! Use jitter = 0 to prevent jitter.\n"
     ]
    },
    {
     "data": {
      "image/png": "[encoded data removed]",
      "text/plain": [
       "plot without title"
      ]
     },
     "metadata": {},
     "output_type": "display_data"
    }
   ],
   "source": [
    "#::GMG::Dibujamos las reglas class=p (hay que interpretarlo ...)\n",
    "plot(rules.class.poisonous)"
   ]
  },
  {
   "cell_type": "markdown",
   "metadata": {},
   "source": [
    "::GMG::[PTE] **Interpretación**"
   ]
  },
  {
   "cell_type": "markdown",
   "metadata": {},
   "source": [
    "#### Comestibles (class=e)"
   ]
  },
  {
   "cell_type": "code",
   "execution_count": 38,
   "metadata": {},
   "outputs": [
    {
     "name": "stdout",
     "output_type": "stream",
     "text": [
      "    lhs                             rhs         support confidence     lift itemset\n",
      "[1] {gill.size=b,                                                                  \n",
      "     stalk.surface.above.ring=s} => {class=e} 0.5046067  0.9295039 1.504048   57409\n",
      "[2] {gill.size=b,                                                                  \n",
      "     stalk.surface.above.ring=s,                                                   \n",
      "     ring.number=o}              => {class=e} 0.4989369  0.9513514 1.539400   57401\n",
      "[3] {odor=n,                                                                       \n",
      "     veil.color=w}               => {class=e} 0.4762580  0.9710983 1.571353   52791\n",
      "[4] {odor=n}                     => {class=e} 0.4762580  0.9682997 1.566824   52961\n",
      "[5] {gill.size=b,                                                                  \n",
      "     stalk.surface.below.ring=s} => {class=e} 0.4705882  0.9247911 1.496422   57367\n"
     ]
    }
   ],
   "source": [
    "#::GMG::Vamos a ver las class=e que tienen mayor soporte ...\n",
    "inspect(head(sort(rules.class.edible, by = \"support\"), n = 5))"
   ]
  },
  {
   "cell_type": "code",
   "execution_count": 39,
   "metadata": {},
   "outputs": [
    {
     "name": "stdout",
     "output_type": "stream",
     "text": [
      "    lhs                            rhs       support   confidence lift    \n",
      "[1] {stalk.color.above.ring=g}  => {class=e} 0.1020553 1          1.618119\n",
      "[2] {stalk.color.below.ring=g}  => {class=e} 0.1020553 1          1.618119\n",
      "[3] {cap.color=e,odor=n}        => {class=e} 0.1020553 1          1.618119\n",
      "[4] {cap.color=e,stalk.shape=t} => {class=e} 0.1020553 1          1.618119\n",
      "[5] {cap.color=e,bruises=t}     => {class=e} 0.1020553 1          1.618119\n",
      "    itemset\n",
      "[1] 1495   \n",
      "[2] 2965   \n",
      "[3] 3642   \n",
      "[4] 3874   \n",
      "[5] 4050   \n"
     ]
    }
   ],
   "source": [
    "#::GMG::... mayor confianza\n",
    "inspect(head(sort(rules.class.edible, by=\"confidence\"), n = 5))"
   ]
  },
  {
   "cell_type": "code",
   "execution_count": 40,
   "metadata": {},
   "outputs": [
    {
     "name": "stdout",
     "output_type": "stream",
     "text": [
      "    lhs                            rhs       support   confidence lift    \n",
      "[1] {stalk.color.above.ring=g}  => {class=e} 0.1020553 1          1.618119\n",
      "[2] {stalk.color.below.ring=g}  => {class=e} 0.1020553 1          1.618119\n",
      "[3] {cap.color=e,odor=n}        => {class=e} 0.1020553 1          1.618119\n",
      "[4] {cap.color=e,stalk.shape=t} => {class=e} 0.1020553 1          1.618119\n",
      "[5] {cap.color=e,bruises=t}     => {class=e} 0.1020553 1          1.618119\n",
      "    itemset\n",
      "[1] 1495   \n",
      "[2] 2965   \n",
      "[3] 3642   \n",
      "[4] 3874   \n",
      "[5] 4050   \n"
     ]
    }
   ],
   "source": [
    "#::GMG::... mayor 'lift'\n",
    "inspect(head(sort(rules.class.edible, by=\"lift\"), n = 5))"
   ]
  },
  {
   "cell_type": "code",
   "execution_count": 41,
   "metadata": {},
   "outputs": [
    {
     "name": "stderr",
     "output_type": "stream",
     "text": [
      "To reduce overplotting, jitter is added! Use jitter = 0 to prevent jitter.\n"
     ]
    },
    {
     "data": {
      "image/png": "[encoded data removed]",
      "text/plain": [
       "plot without title"
      ]
     },
     "metadata": {},
     "output_type": "display_data"
    }
   ],
   "source": [
    "#::GMG::Dibujamos las reglas class=p (hay que interpretarlo ...)\n",
    "plot(rules.class.edible)"
   ]
  },
  {
   "cell_type": "markdown",
   "metadata": {},
   "source": [
    "::GMG::[PTE] **Interpretación**"
   ]
  },
  {
   "cell_type": "markdown",
   "metadata": {
    "button": false,
    "new_sheet": false,
    "run_control": {
     "read_only": false
    }
   },
   "source": [
    "### Punto 2 (4 puntos):\n",
    "\n",
    "En este apartado aplicaremos árboles de clasificación para obtener un modelo que permita clasificar una nueva entrada. Para ello, vamos a utilizaremos el paquete `CaReT`. Este paquete (y los demás que hemos visto para trabajar con árboles en `R`) no aceptan objetos del tipo `transactions` como los del apartado anterior. Por tanto, hemos preparado un fichero *csv* con el dataset *Mushrooms*; puedes descargarlo desde esta aquí:\n",
    "https://github.com/SantanderMetGroup/Master-Data-Science/tree/master/Data_mining/datasets. Lee el dataset con la función `read.csv`.  \n",
    "Ahora ya tenemos un data.frame con el que podemos empezar a trabajar. En primer lugar tendremos que eliminar la columna 17 (`veil.type`), ya que contiene un único nivel y daría errores en `CaReT`(esta columna podría eliminarse también en el caso de las reglas de asociación ya que no aporta información al dataset).  \n",
    "Nuestro objetivo será encontrar la configuración (profundidad) óptima del árbol. Para ello, partiremos el dataset en dos subconjuntos indpendedientes de train y test (75% y 25% del total, respectivamente). Sobre el dataset de train, aplicaremos una cross-validación con 3 folds y la repetiremos 50 veces (recuerda que los árboles son sensibles a la partición train/test que se considere). \n",
    "\n",
    "* ¿Cuál es la configuración óptima del árbol? ¿Hay alguna diferencia entre el árbol *completo* y el óptimo? ¿Por qué crees que ocurre esto?\n",
    "* ¿Cuáles son las dos variables que mayor peso tienen a la hora de clasificar? Entrena un nuevo árbol considerando como predictores únicamente esas dos variables. ¿Qué resultados obtienes? \n",
    "* Entrena un nuevo árbol considerando como predictores cualesquiera otras dos variables que no sean las utilizadas en la pregunta anterior. ¿Cuál es el error de test de este árbol?"
   ]
  },
  {
   "cell_type": "markdown",
   "metadata": {
    "button": false,
    "new_sheet": false,
    "run_control": {
     "read_only": false
    }
   },
   "source": [
    "### Punto 3 (3 puntos):\n",
    "\n",
    "Por un lado, las ramas del árbol pueden ser interpretadas como reglas de forma similar a las obtenidas por el algoritmo de reglas aplicado. Por ejemplo, en el caso del árbol obtenido con el dataset `Play Tennis` puede obtenerse las siguientes `reglas`: SI Outlook = Overcast -> Play Tennis = Yes ó SI (Outlook = Sunny) AND (Humidity = Normal) -> Play Tennis = Yes, cuya confianza asociada viene dada por la frecuencia relativa de cada caso en esa rama del árbol. Por otro lado, considerando las reglas que implican a nuestra variable objetivo tendríamos un `modelo` similar al dado por el árbol. Considerar y comparar ambas aproximaciones (p.e. ¿coinciden los antecedentes de las reglas? ¿alguna de las variables más frecuentes como antecedente en las reglas se corresponde con alguna de las variables con mayor capacidad de discriminación? etc.). "
   ]
  }
 ],
 "metadata": {
  "kernelspec": {
   "display_name": "R",
   "language": "R",
   "name": "ir"
  },
  "language_info": {
   "codemirror_mode": "r",
   "file_extension": ".r",
   "mimetype": "text/x-r-source",
   "name": "R",
   "pygments_lexer": "r",
   "version": "3.4.4"
  }
 },
 "nbformat": 4,
 "nbformat_minor": 2
}
