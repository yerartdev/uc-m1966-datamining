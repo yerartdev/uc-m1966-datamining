{
 "cells": [
  {
   "cell_type": "markdown",
   "metadata": {},
   "source": [
    "# Reglas de Asociación: arulesViz R-package\n",
    "\n",
    "### Santander Meteorology Group\n",
    "\n",
    "La librería [arulesViz](https://cran.r-project.org/web/packages/arulesViz/arulesViz.pdf) desarrollada por [IDA@SMU](http://lyle.smu.edu/IDA/arules/) considera diferentes técnicas para la obtención y visualización de reglas de asociación a partir de un conjunto de datos, así como herramientas para explorar dichas reglas.\n",
    "\n",
    "El objetivo de la presente tarea es familiarizar a los alumnos con el manejo de librería en el marco de R, así como presentar este tipo de algoritmos de aprendizaje el cual, a pesar de no profundizar en el presente curso en él, presenta diversas aplicaciones y nos servirá de introducción a los modelos probabilísticos que analizaremos en profundidad.\n",
    "\n",
    "## Instalación de la librería arulesViz\n",
    "\n",
    "Dado que la librería está incluida en el CRAN ([The Comprehensive R Archive Network](https://cran.r-project.org/)), el respositorio central de librerías de R, la instalación puede realizarse a través del comando `install.package`. En caso de tener ya instalado el paquete no hace falta instalarlo de nuevo y basta con activarlo con el comando `library`."
   ]
  },
  {
   "cell_type": "code",
   "execution_count": 1,
   "metadata": {},
   "outputs": [
    {
     "name": "stderr",
     "output_type": "stream",
     "text": [
      "Loading required package: arules\n",
      "Loading required package: Matrix\n",
      "\n",
      "Attaching package: ‘arules’\n",
      "\n",
      "The following objects are masked from ‘package:base’:\n",
      "\n",
      "    abbreviate, write\n",
      "\n",
      "Loading required package: grid\n"
     ]
    }
   ],
   "source": [
    "# If we have not installed the \"arulesViz\" library we should do it:\n",
    "# install.packages(\"arulesViz\")\n",
    "library(arulesViz)"
   ]
  },
  {
   "cell_type": "markdown",
   "metadata": {},
   "source": [
    "Nota que la instalación de la libería requiere de la instalación de sus dependencias. En particular de la librería `arules`, la cual se activa al activar `arulesViz`."
   ]
  },
  {
   "cell_type": "markdown",
   "metadata": {},
   "source": [
    "## Ejemplo realizado en clase:\n",
    "\n",
    "Inicialmente consideraremos el ejemplo realizado en clase para familiarizarnos con los comandos y sus opciones para luego aplicarlo en un problema más general. Para ello, primero definiremos la tabla de transacciones del problema:"
   ]
  },
  {
   "cell_type": "code",
   "execution_count": 2,
   "metadata": {},
   "outputs": [
    {
     "name": "stdout",
     "output_type": "stream",
     "text": [
      "    items    \n",
      "[1] {b,l,O,p}\n",
      "[2] {l,p}    \n",
      "[3] {c,O,p}  \n",
      "[4] {c,l,O,p}\n"
     ]
    }
   ],
   "source": [
    "table <- list(c(\"p\",\"l\",\"O\",\"b\"), c(\"p\",\"l\"), c(\"p\",\"O\",\"c\"), c(\"p\",\"l\",\"O\",\"c\"))\n",
    "transactions <- as(table, \"transactions\")\n",
    "inspect(transactions)"
   ]
  },
  {
   "cell_type": "markdown",
   "metadata": {},
   "source": [
    "Podemos ver el soporte, absoluto o relativo: de cada item:"
   ]
  },
  {
   "cell_type": "code",
   "execution_count": 3,
   "metadata": {},
   "outputs": [
    {
     "data": {
      "text/html": [
       "<dl class=dl-horizontal>\n",
       "\t<dt>b</dt>\n",
       "\t\t<dd>1</dd>\n",
       "\t<dt>c</dt>\n",
       "\t\t<dd>2</dd>\n",
       "\t<dt>l</dt>\n",
       "\t\t<dd>3</dd>\n",
       "\t<dt>O</dt>\n",
       "\t\t<dd>3</dd>\n",
       "\t<dt>p</dt>\n",
       "\t\t<dd>4</dd>\n",
       "</dl>\n"
      ],
      "text/latex": [
       "\\begin{description*}\n",
       "\\item[b] 1\n",
       "\\item[c] 2\n",
       "\\item[l] 3\n",
       "\\item[O] 3\n",
       "\\item[p] 4\n",
       "\\end{description*}\n"
      ],
      "text/markdown": [
       "b\n",
       ":   1c\n",
       ":   2l\n",
       ":   3O\n",
       ":   3p\n",
       ":   4\n",
       "\n"
      ],
      "text/plain": [
       "b c l O p \n",
       "1 2 3 3 4 "
      ]
     },
     "metadata": {},
     "output_type": "display_data"
    },
    {
     "data": {
      "text/html": [
       "<dl class=dl-horizontal>\n",
       "\t<dt>b</dt>\n",
       "\t\t<dd>0.25</dd>\n",
       "\t<dt>c</dt>\n",
       "\t\t<dd>0.5</dd>\n",
       "\t<dt>l</dt>\n",
       "\t\t<dd>0.75</dd>\n",
       "\t<dt>O</dt>\n",
       "\t\t<dd>0.75</dd>\n",
       "\t<dt>p</dt>\n",
       "\t\t<dd>1</dd>\n",
       "</dl>\n"
      ],
      "text/latex": [
       "\\begin{description*}\n",
       "\\item[b] 0.25\n",
       "\\item[c] 0.5\n",
       "\\item[l] 0.75\n",
       "\\item[O] 0.75\n",
       "\\item[p] 1\n",
       "\\end{description*}\n"
      ],
      "text/markdown": [
       "b\n",
       ":   0.25c\n",
       ":   0.5l\n",
       ":   0.75O\n",
       ":   0.75p\n",
       ":   1\n",
       "\n"
      ],
      "text/plain": [
       "   b    c    l    O    p \n",
       "0.25 0.50 0.75 0.75 1.00 "
      ]
     },
     "metadata": {},
     "output_type": "display_data"
    },
    {
     "data": {
      "image/png": "[encoded data removed]",
      "text/plain": [
       "plot without title"
      ]
     },
     "metadata": {},
     "output_type": "display_data"
    }
   ],
   "source": [
    "itemFrequency(transactions, type=\"a\")\n",
    "itemFrequency(transactions, type=\"r\")\n",
    "itemFrequencyPlot(transactions)"
   ]
  },
  {
   "cell_type": "markdown",
   "metadata": {},
   "source": [
    "Una vez definida la tabla de transacciones, buscaremos los itemsets más frecuentes a través de los dos algoritmos explicados, APRIORI"
   ]
  },
  {
   "cell_type": "markdown",
   "metadata": {},
   "source": [
    "::GMG::Apriori no se aplica la conf(ianza) y se requiere un nivel de supp(ort(e)) mayor que cero\n",
    "::GMG::Eclat fijamos el másximo número de itemsets que son todos en este caso y el eclat quita directamente los que tienen soporte cero (!!)"
   ]
  },
  {
   "cell_type": "code",
   "execution_count": 4,
   "metadata": {},
   "outputs": [
    {
     "name": "stdout",
     "output_type": "stream",
     "text": [
      "Apriori\n",
      "\n",
      "Parameter specification:\n",
      " confidence minval smax arem  aval originalSupport maxtime support minlen\n",
      "         NA    0.1    1 none FALSE            TRUE       5       0      1\n",
      " maxlen            target   ext\n",
      "     10 frequent itemsets FALSE\n",
      "\n",
      "Algorithmic control:\n",
      " filter tree heap memopt load sort verbose\n",
      "    0.1 TRUE TRUE  FALSE TRUE    2    TRUE\n",
      "\n",
      "Absolute minimum support count: 0 \n",
      "\n",
      "set item appearances ...[0 item(s)] done [0.00s].\n",
      "set transactions ...[5 item(s), 4 transaction(s)] done [0.00s].\n",
      "sorting and recoding items ... [5 item(s)] done [0.00s].\n",
      "creating transaction tree ... done [0.00s].\n",
      "checking subsets of size 1 2 3 4 done [0.00s].\n",
      "writing ... [30 set(s)] done [0.00s].\n",
      "creating S4 object  ... done [0.00s].\n",
      "     items     support count\n",
      "[1]  {b}       0.25    1    \n",
      "[2]  {c}       0.50    2    \n",
      "[3]  {l}       0.75    3    \n",
      "[4]  {O}       0.75    3    \n",
      "[5]  {p}       1.00    4    \n",
      "[6]  {b,c}     0.00    0    \n",
      "[7]  {b,l}     0.25    1    \n",
      "[8]  {b,O}     0.25    1    \n",
      "[9]  {b,p}     0.25    1    \n",
      "[10] {c,l}     0.25    1    \n",
      "[11] {c,O}     0.50    2    \n",
      "[12] {c,p}     0.50    2    \n",
      "[13] {l,O}     0.50    2    \n",
      "[14] {l,p}     0.75    3    \n",
      "[15] {O,p}     0.75    3    \n",
      "[16] {b,c,l}   0.00    0    \n",
      "[17] {b,c,O}   0.00    0    \n",
      "[18] {b,c,p}   0.00    0    \n",
      "[19] {b,l,O}   0.25    1    \n",
      "[20] {b,l,p}   0.25    1    \n",
      "[21] {b,O,p}   0.25    1    \n",
      "[22] {c,l,O}   0.25    1    \n",
      "[23] {c,l,p}   0.25    1    \n",
      "[24] {c,O,p}   0.50    2    \n",
      "[25] {l,O,p}   0.50    2    \n",
      "[26] {b,c,l,O} 0.00    0    \n",
      "[27] {b,c,l,p} 0.00    0    \n",
      "[28] {b,c,O,p} 0.00    0    \n",
      "[29] {b,l,O,p} 0.25    1    \n",
      "[30] {c,l,O,p} 0.25    1    \n"
     ]
    }
   ],
   "source": [
    "iApriori <- apriori(transactions, parameter = list(supp=0, conf=0, target = \"frequent itemsets\"))\n",
    "inspect(iApriori)"
   ]
  },
  {
   "cell_type": "code",
   "execution_count": 6,
   "metadata": {},
   "outputs": [
    {
     "name": "stdout",
     "output_type": "stream",
     "text": [
      "Eclat\n",
      "\n",
      "parameter specification:\n",
      " tidLists support minlen maxlen            target   ext\n",
      "     TRUE       0      1      5 frequent itemsets FALSE\n",
      "\n",
      "algorithmic control:\n",
      " sparse sort verbose\n",
      "      7   -2    TRUE\n",
      "\n",
      "Absolute minimum support count: 0 \n",
      "\n"
     ]
    },
    {
     "name": "stderr",
     "output_type": "stream",
     "text": [
      "Warning message in eclat(transactions, parameter = list(support = 0, maxlen = 5, :\n",
      "“You chose a very low absolute support count of 0. You might run out of memory! Increase minimum support.\n",
      "”"
     ]
    },
    {
     "name": "stdout",
     "output_type": "stream",
     "text": [
      "create itemset ... \n",
      "set transactions ...[5 item(s), 4 transaction(s)] done [0.00s].\n",
      "sorting and recoding items ... [5 item(s)] done [0.00s].\n",
      "creating bit matrix ... [5 row(s), 4 column(s)] done [0.00s].\n",
      "writing  ... [23 set(s)] done [0.00s].\n",
      "Creating S4 object  ... done [0.00s].\n",
      "     items     support count\n",
      "[1]  {b,l,O,p} 0.25    1    \n",
      "[2]  {b,l,p}   0.25    1    \n",
      "[3]  {b,l,O}   0.25    1    \n",
      "[4]  {b,O,p}   0.25    1    \n",
      "[5]  {b,p}     0.25    1    \n",
      "[6]  {b,O}     0.25    1    \n",
      "[7]  {b,l}     0.25    1    \n",
      "[8]  {c,l,O,p} 0.25    1    \n",
      "[9]  {c,l,p}   0.25    1    \n",
      "[10] {c,l,O}   0.25    1    \n",
      "[11] {c,O,p}   0.50    2    \n",
      "[12] {c,p}     0.50    2    \n",
      "[13] {c,O}     0.50    2    \n",
      "[14] {c,l}     0.25    1    \n",
      "[15] {l,O,p}   0.50    2    \n",
      "[16] {l,p}     0.75    3    \n",
      "[17] {l,O}     0.50    2    \n",
      "[18] {O,p}     0.75    3    \n",
      "[19] {p}       1.00    4    \n",
      "[20] {O}       0.75    3    \n",
      "[21] {l}       0.75    3    \n",
      "[22] {c}       0.50    2    \n",
      "[23] {b}       0.25    1    \n"
     ]
    }
   ],
   "source": [
    "iEclat <- eclat(transactions, parameter = list(support = 0, maxlen = 5, tidLists = TRUE))\n",
    "inspect(iEclat)"
   ]
  },
  {
   "cell_type": "markdown",
   "metadata": {},
   "source": [
    "Notar que ECLAT suprime aquellos itemsets que no ocurren mientras que, si no se establecen restricciones, APRIORI devuelve todas las combinaciones, salvo el conjunto vacío y el total. Podemos filtrar las transacciones según incluyan ciertos productos con la función subset. La sintaxis `%in%`, `%ain%` y `%pin%`, define que incluyan alguno, todos o parte de los items incluidos en la lista."
   ]
  },
  {
   "cell_type": "markdown",
   "metadata": {},
   "source": [
    "::GMG::consultas sobre elmentos que están in (?), ain (totalmente) o pin (parcialmente)"
   ]
  },
  {
   "cell_type": "code",
   "execution_count": 7,
   "metadata": {},
   "outputs": [
    {
     "name": "stdout",
     "output_type": "stream",
     "text": [
      "     items     support count\n",
      "[1]  {b}       0.25    1    \n",
      "[2]  {l}       0.75    3    \n",
      "[3]  {b,c}     0.00    0    \n",
      "[4]  {b,l}     0.25    1    \n",
      "[5]  {b,O}     0.25    1    \n",
      "[6]  {b,p}     0.25    1    \n",
      "[7]  {c,l}     0.25    1    \n",
      "[8]  {l,O}     0.50    2    \n",
      "[9]  {l,p}     0.75    3    \n",
      "[10] {b,c,l}   0.00    0    \n",
      "[11] {b,c,O}   0.00    0    \n",
      "[12] {b,c,p}   0.00    0    \n",
      "[13] {b,l,O}   0.25    1    \n",
      "[14] {b,l,p}   0.25    1    \n",
      "[15] {b,O,p}   0.25    1    \n",
      "[16] {c,l,O}   0.25    1    \n",
      "[17] {c,l,p}   0.25    1    \n",
      "[18] {l,O,p}   0.50    2    \n",
      "[19] {b,c,l,O} 0.00    0    \n",
      "[20] {b,c,l,p} 0.00    0    \n",
      "[21] {b,c,O,p} 0.00    0    \n",
      "[22] {b,l,O,p} 0.25    1    \n",
      "[23] {c,l,O,p} 0.25    1    \n"
     ]
    }
   ],
   "source": [
    "inspect(subset(iApriori, subset = items %in% c(\"b\",\"l\")))"
   ]
  },
  {
   "cell_type": "code",
   "execution_count": 8,
   "metadata": {},
   "outputs": [
    {
     "name": "stdout",
     "output_type": "stream",
     "text": [
      "    items     support count\n",
      "[1] {b,l}     0.25    1    \n",
      "[2] {b,c,l}   0.00    0    \n",
      "[3] {b,l,O}   0.25    1    \n",
      "[4] {b,l,p}   0.25    1    \n",
      "[5] {b,c,l,O} 0.00    0    \n",
      "[6] {b,c,l,p} 0.00    0    \n",
      "[7] {b,l,O,p} 0.25    1    \n"
     ]
    }
   ],
   "source": [
    "inspect(subset(iApriori, subset = items %ain% c(\"b\",\"l\")))"
   ]
  },
  {
   "cell_type": "code",
   "execution_count": 9,
   "metadata": {},
   "outputs": [
    {
     "name": "stderr",
     "output_type": "stream",
     "text": [
      "Warning message in items %pin% c(\"b\", \"l\"):\n",
      "“table contains more than one item label pattern and only the first element will be used”"
     ]
    },
    {
     "name": "stdout",
     "output_type": "stream",
     "text": [
      "     items     support count\n",
      "[1]  {b}       0.25    1    \n",
      "[2]  {b,c}     0.00    0    \n",
      "[3]  {b,l}     0.25    1    \n",
      "[4]  {b,O}     0.25    1    \n",
      "[5]  {b,p}     0.25    1    \n",
      "[6]  {b,c,l}   0.00    0    \n",
      "[7]  {b,c,O}   0.00    0    \n",
      "[8]  {b,c,p}   0.00    0    \n",
      "[9]  {b,l,O}   0.25    1    \n",
      "[10] {b,l,p}   0.25    1    \n",
      "[11] {b,O,p}   0.25    1    \n",
      "[12] {b,c,l,O} 0.00    0    \n",
      "[13] {b,c,l,p} 0.00    0    \n",
      "[14] {b,c,O,p} 0.00    0    \n",
      "[15] {b,l,O,p} 0.25    1    \n"
     ]
    }
   ],
   "source": [
    "inspect(subset(iApriori, subset = items %pin% c(\"b\",\"l\")))"
   ]
  },
  {
   "cell_type": "markdown",
   "metadata": {},
   "source": [
    "Notar que en el último caso, el orden de los items es relevante.\n",
    "\n",
    "Como hemos visto, una vez obtenidos los itemsets a partir de ellos construimos las reglas de asociación en base a las restricciones que definamos. En el caso del algoritmo APRIORI la función permite obtener las reglas como salida. Sin embargo, el algoritmo ECLAT únicamente devuelve los itemsets y las reglas de asociación deben inducirse con la función `ruleInduction`."
   ]
  },
  {
   "cell_type": "markdown",
   "metadata": {},
   "source": [
    "::GMG::sacamos todos (greedy) ... no filtramos"
   ]
  },
  {
   "cell_type": "code",
   "execution_count": 10,
   "metadata": {},
   "outputs": [
    {
     "name": "stdout",
     "output_type": "stream",
     "text": [
      "Apriori\n",
      "\n",
      "Parameter specification:\n",
      " confidence minval smax arem  aval originalSupport maxtime support minlen\n",
      "          0    0.1    1 none FALSE            TRUE       5       0      1\n",
      " maxlen target   ext\n",
      "     10  rules FALSE\n",
      "\n",
      "Algorithmic control:\n",
      " filter tree heap memopt load sort verbose\n",
      "    0.1 TRUE TRUE  FALSE TRUE    2    TRUE\n",
      "\n",
      "Absolute minimum support count: 0 \n",
      "\n",
      "set item appearances ...[0 item(s)] done [0.00s].\n",
      "set transactions ...[5 item(s), 4 transaction(s)] done [0.00s].\n",
      "sorting and recoding items ... [5 item(s)] done [0.00s].\n",
      "creating transaction tree ... done [0.00s].\n",
      "checking subsets of size 1 2 3 4 done [0.00s].\n",
      "writing ... [75 rule(s)] done [0.00s].\n",
      "creating S4 object  ... done [0.00s].\n",
      "     lhs        rhs support confidence lift      count\n",
      "[1]  {}      => {b} 0.25    0.2500000  1.0000000 1    \n",
      "[2]  {}      => {c} 0.50    0.5000000  1.0000000 2    \n",
      "[3]  {}      => {l} 0.75    0.7500000  1.0000000 3    \n",
      "[4]  {}      => {O} 0.75    0.7500000  1.0000000 3    \n",
      "[5]  {}      => {p} 1.00    1.0000000  1.0000000 4    \n",
      "[6]  {b}     => {c} 0.00    0.0000000  0.0000000 0    \n",
      "[7]  {c}     => {b} 0.00    0.0000000  0.0000000 0    \n",
      "[8]  {b}     => {l} 0.25    1.0000000  1.3333333 1    \n",
      "[9]  {l}     => {b} 0.25    0.3333333  1.3333333 1    \n",
      "[10] {b}     => {O} 0.25    1.0000000  1.3333333 1    \n",
      "[11] {O}     => {b} 0.25    0.3333333  1.3333333 1    \n",
      "[12] {b}     => {p} 0.25    1.0000000  1.0000000 1    \n",
      "[13] {p}     => {b} 0.25    0.2500000  1.0000000 1    \n",
      "[14] {c}     => {l} 0.25    0.5000000  0.6666667 1    \n",
      "[15] {l}     => {c} 0.25    0.3333333  0.6666667 1    \n",
      "[16] {c}     => {O} 0.50    1.0000000  1.3333333 2    \n",
      "[17] {O}     => {c} 0.50    0.6666667  1.3333333 2    \n",
      "[18] {c}     => {p} 0.50    1.0000000  1.0000000 2    \n",
      "[19] {p}     => {c} 0.50    0.5000000  1.0000000 2    \n",
      "[20] {l}     => {O} 0.50    0.6666667  0.8888889 2    \n",
      "[21] {O}     => {l} 0.50    0.6666667  0.8888889 2    \n",
      "[22] {l}     => {p} 0.75    1.0000000  1.0000000 3    \n",
      "[23] {p}     => {l} 0.75    0.7500000  1.0000000 3    \n",
      "[24] {O}     => {p} 0.75    1.0000000  1.0000000 3    \n",
      "[25] {p}     => {O} 0.75    0.7500000  1.0000000 3    \n",
      "[26] {b,c}   => {l} 0.00    1.0000000  1.3333333 0    \n",
      "[27] {b,l}   => {c} 0.00    0.0000000  0.0000000 0    \n",
      "[28] {c,l}   => {b} 0.00    0.0000000  0.0000000 0    \n",
      "[29] {b,c}   => {O} 0.00    1.0000000  1.3333333 0    \n",
      "[30] {b,O}   => {c} 0.00    0.0000000  0.0000000 0    \n",
      "[31] {c,O}   => {b} 0.00    0.0000000  0.0000000 0    \n",
      "[32] {b,c}   => {p} 0.00    1.0000000  1.0000000 0    \n",
      "[33] {b,p}   => {c} 0.00    0.0000000  0.0000000 0    \n",
      "[34] {c,p}   => {b} 0.00    0.0000000  0.0000000 0    \n",
      "[35] {b,l}   => {O} 0.25    1.0000000  1.3333333 1    \n",
      "[36] {b,O}   => {l} 0.25    1.0000000  1.3333333 1    \n",
      "[37] {l,O}   => {b} 0.25    0.5000000  2.0000000 1    \n",
      "[38] {b,l}   => {p} 0.25    1.0000000  1.0000000 1    \n",
      "[39] {b,p}   => {l} 0.25    1.0000000  1.3333333 1    \n",
      "[40] {l,p}   => {b} 0.25    0.3333333  1.3333333 1    \n",
      "[41] {b,O}   => {p} 0.25    1.0000000  1.0000000 1    \n",
      "[42] {b,p}   => {O} 0.25    1.0000000  1.3333333 1    \n",
      "[43] {O,p}   => {b} 0.25    0.3333333  1.3333333 1    \n",
      "[44] {c,l}   => {O} 0.25    1.0000000  1.3333333 1    \n",
      "[45] {c,O}   => {l} 0.25    0.5000000  0.6666667 1    \n",
      "[46] {l,O}   => {c} 0.25    0.5000000  1.0000000 1    \n",
      "[47] {c,l}   => {p} 0.25    1.0000000  1.0000000 1    \n",
      "[48] {c,p}   => {l} 0.25    0.5000000  0.6666667 1    \n",
      "[49] {l,p}   => {c} 0.25    0.3333333  0.6666667 1    \n",
      "[50] {c,O}   => {p} 0.50    1.0000000  1.0000000 2    \n",
      "[51] {c,p}   => {O} 0.50    1.0000000  1.3333333 2    \n",
      "[52] {O,p}   => {c} 0.50    0.6666667  1.3333333 2    \n",
      "[53] {l,O}   => {p} 0.50    1.0000000  1.0000000 2    \n",
      "[54] {l,p}   => {O} 0.50    0.6666667  0.8888889 2    \n",
      "[55] {O,p}   => {l} 0.50    0.6666667  0.8888889 2    \n",
      "[56] {b,c,l} => {O} 0.00    1.0000000  1.3333333 0    \n",
      "[57] {b,c,O} => {l} 0.00    1.0000000  1.3333333 0    \n",
      "[58] {b,l,O} => {c} 0.00    0.0000000  0.0000000 0    \n",
      "[59] {c,l,O} => {b} 0.00    0.0000000  0.0000000 0    \n",
      "[60] {b,c,l} => {p} 0.00    1.0000000  1.0000000 0    \n",
      "[61] {b,c,p} => {l} 0.00    1.0000000  1.3333333 0    \n",
      "[62] {b,l,p} => {c} 0.00    0.0000000  0.0000000 0    \n",
      "[63] {c,l,p} => {b} 0.00    0.0000000  0.0000000 0    \n",
      "[64] {b,c,O} => {p} 0.00    1.0000000  1.0000000 0    \n",
      "[65] {b,c,p} => {O} 0.00    1.0000000  1.3333333 0    \n",
      "[66] {b,O,p} => {c} 0.00    0.0000000  0.0000000 0    \n",
      "[67] {c,O,p} => {b} 0.00    0.0000000  0.0000000 0    \n",
      "[68] {b,l,O} => {p} 0.25    1.0000000  1.0000000 1    \n",
      "[69] {b,l,p} => {O} 0.25    1.0000000  1.3333333 1    \n",
      "[70] {b,O,p} => {l} 0.25    1.0000000  1.3333333 1    \n",
      "[71] {l,O,p} => {b} 0.25    0.5000000  2.0000000 1    \n",
      "[72] {c,l,O} => {p} 0.25    1.0000000  1.0000000 1    \n",
      "[73] {c,l,p} => {O} 0.25    1.0000000  1.3333333 1    \n",
      "[74] {c,O,p} => {l} 0.25    0.5000000  0.6666667 1    \n",
      "[75] {l,O,p} => {c} 0.25    0.5000000  1.0000000 1    \n"
     ]
    }
   ],
   "source": [
    "rApriori <- apriori(transactions, parameter = list(supp=0, conf=0, target = \"rules\"))\n",
    "inspect(rApriori)"
   ]
  },
  {
   "cell_type": "markdown",
   "metadata": {},
   "source": [
    "La inclusión de reglas cuyo antecedente (`lhs`: left hand side) es el conjunto vacío (`{}`) pueden fitrarse incluyendo restricciones respecto a la longitud mínima (`minlen`)."
   ]
  },
  {
   "cell_type": "code",
   "execution_count": 11,
   "metadata": {},
   "outputs": [
    {
     "name": "stdout",
     "output_type": "stream",
     "text": [
      "Apriori\n",
      "\n",
      "Parameter specification:\n",
      " confidence minval smax arem  aval originalSupport maxtime support minlen\n",
      "          0    0.1    1 none FALSE            TRUE       5       0      2\n",
      " maxlen target   ext\n",
      "     10  rules FALSE\n",
      "\n",
      "Algorithmic control:\n",
      " filter tree heap memopt load sort verbose\n",
      "    0.1 TRUE TRUE  FALSE TRUE    2    TRUE\n",
      "\n",
      "Absolute minimum support count: 0 \n",
      "\n",
      "set item appearances ...[0 item(s)] done [0.00s].\n",
      "set transactions ...[5 item(s), 4 transaction(s)] done [0.00s].\n",
      "sorting and recoding items ... [5 item(s)] done [0.00s].\n",
      "creating transaction tree ... done [0.00s].\n",
      "checking subsets of size 1 2 3 4 done [0.00s].\n",
      "writing ... [70 rule(s)] done [0.00s].\n",
      "creating S4 object  ... done [0.00s].\n",
      "     lhs        rhs support confidence lift      count\n",
      "[1]  {b}     => {c} 0.00    0.0000000  0.0000000 0    \n",
      "[2]  {c}     => {b} 0.00    0.0000000  0.0000000 0    \n",
      "[3]  {b}     => {l} 0.25    1.0000000  1.3333333 1    \n",
      "[4]  {l}     => {b} 0.25    0.3333333  1.3333333 1    \n",
      "[5]  {b}     => {O} 0.25    1.0000000  1.3333333 1    \n",
      "[6]  {O}     => {b} 0.25    0.3333333  1.3333333 1    \n",
      "[7]  {b}     => {p} 0.25    1.0000000  1.0000000 1    \n",
      "[8]  {p}     => {b} 0.25    0.2500000  1.0000000 1    \n",
      "[9]  {c}     => {l} 0.25    0.5000000  0.6666667 1    \n",
      "[10] {l}     => {c} 0.25    0.3333333  0.6666667 1    \n",
      "[11] {c}     => {O} 0.50    1.0000000  1.3333333 2    \n",
      "[12] {O}     => {c} 0.50    0.6666667  1.3333333 2    \n",
      "[13] {c}     => {p} 0.50    1.0000000  1.0000000 2    \n",
      "[14] {p}     => {c} 0.50    0.5000000  1.0000000 2    \n",
      "[15] {l}     => {O} 0.50    0.6666667  0.8888889 2    \n",
      "[16] {O}     => {l} 0.50    0.6666667  0.8888889 2    \n",
      "[17] {l}     => {p} 0.75    1.0000000  1.0000000 3    \n",
      "[18] {p}     => {l} 0.75    0.7500000  1.0000000 3    \n",
      "[19] {O}     => {p} 0.75    1.0000000  1.0000000 3    \n",
      "[20] {p}     => {O} 0.75    0.7500000  1.0000000 3    \n",
      "[21] {b,c}   => {l} 0.00    1.0000000  1.3333333 0    \n",
      "[22] {b,l}   => {c} 0.00    0.0000000  0.0000000 0    \n",
      "[23] {c,l}   => {b} 0.00    0.0000000  0.0000000 0    \n",
      "[24] {b,c}   => {O} 0.00    1.0000000  1.3333333 0    \n",
      "[25] {b,O}   => {c} 0.00    0.0000000  0.0000000 0    \n",
      "[26] {c,O}   => {b} 0.00    0.0000000  0.0000000 0    \n",
      "[27] {b,c}   => {p} 0.00    1.0000000  1.0000000 0    \n",
      "[28] {b,p}   => {c} 0.00    0.0000000  0.0000000 0    \n",
      "[29] {c,p}   => {b} 0.00    0.0000000  0.0000000 0    \n",
      "[30] {b,l}   => {O} 0.25    1.0000000  1.3333333 1    \n",
      "[31] {b,O}   => {l} 0.25    1.0000000  1.3333333 1    \n",
      "[32] {l,O}   => {b} 0.25    0.5000000  2.0000000 1    \n",
      "[33] {b,l}   => {p} 0.25    1.0000000  1.0000000 1    \n",
      "[34] {b,p}   => {l} 0.25    1.0000000  1.3333333 1    \n",
      "[35] {l,p}   => {b} 0.25    0.3333333  1.3333333 1    \n",
      "[36] {b,O}   => {p} 0.25    1.0000000  1.0000000 1    \n",
      "[37] {b,p}   => {O} 0.25    1.0000000  1.3333333 1    \n",
      "[38] {O,p}   => {b} 0.25    0.3333333  1.3333333 1    \n",
      "[39] {c,l}   => {O} 0.25    1.0000000  1.3333333 1    \n",
      "[40] {c,O}   => {l} 0.25    0.5000000  0.6666667 1    \n",
      "[41] {l,O}   => {c} 0.25    0.5000000  1.0000000 1    \n",
      "[42] {c,l}   => {p} 0.25    1.0000000  1.0000000 1    \n",
      "[43] {c,p}   => {l} 0.25    0.5000000  0.6666667 1    \n",
      "[44] {l,p}   => {c} 0.25    0.3333333  0.6666667 1    \n",
      "[45] {c,O}   => {p} 0.50    1.0000000  1.0000000 2    \n",
      "[46] {c,p}   => {O} 0.50    1.0000000  1.3333333 2    \n",
      "[47] {O,p}   => {c} 0.50    0.6666667  1.3333333 2    \n",
      "[48] {l,O}   => {p} 0.50    1.0000000  1.0000000 2    \n",
      "[49] {l,p}   => {O} 0.50    0.6666667  0.8888889 2    \n",
      "[50] {O,p}   => {l} 0.50    0.6666667  0.8888889 2    \n",
      "[51] {b,c,l} => {O} 0.00    1.0000000  1.3333333 0    \n",
      "[52] {b,c,O} => {l} 0.00    1.0000000  1.3333333 0    \n",
      "[53] {b,l,O} => {c} 0.00    0.0000000  0.0000000 0    \n",
      "[54] {c,l,O} => {b} 0.00    0.0000000  0.0000000 0    \n",
      "[55] {b,c,l} => {p} 0.00    1.0000000  1.0000000 0    \n",
      "[56] {b,c,p} => {l} 0.00    1.0000000  1.3333333 0    \n",
      "[57] {b,l,p} => {c} 0.00    0.0000000  0.0000000 0    \n",
      "[58] {c,l,p} => {b} 0.00    0.0000000  0.0000000 0    \n",
      "[59] {b,c,O} => {p} 0.00    1.0000000  1.0000000 0    \n",
      "[60] {b,c,p} => {O} 0.00    1.0000000  1.3333333 0    \n",
      "[61] {b,O,p} => {c} 0.00    0.0000000  0.0000000 0    \n",
      "[62] {c,O,p} => {b} 0.00    0.0000000  0.0000000 0    \n",
      "[63] {b,l,O} => {p} 0.25    1.0000000  1.0000000 1    \n",
      "[64] {b,l,p} => {O} 0.25    1.0000000  1.3333333 1    \n",
      "[65] {b,O,p} => {l} 0.25    1.0000000  1.3333333 1    \n",
      "[66] {l,O,p} => {b} 0.25    0.5000000  2.0000000 1    \n",
      "[67] {c,l,O} => {p} 0.25    1.0000000  1.0000000 1    \n",
      "[68] {c,l,p} => {O} 0.25    1.0000000  1.3333333 1    \n",
      "[69] {c,O,p} => {l} 0.25    0.5000000  0.6666667 1    \n",
      "[70] {l,O,p} => {c} 0.25    0.5000000  1.0000000 1    \n"
     ]
    }
   ],
   "source": [
    "rApriori <- apriori(transactions, parameter = list(supp=0, conf=0, target = \"rules\", minlen=2))\n",
    "inspect(rApriori)"
   ]
  },
  {
   "cell_type": "markdown",
   "metadata": {},
   "source": [
    "En el caso de ECLAT, como vimos, hay que hacer uso de funciones específicas de obtención de reglas:\n",
    "\n",
    "::GMG::Aquí no tengo la obtención directa de reglas (?)"
   ]
  },
  {
   "cell_type": "code",
   "execution_count": 12,
   "metadata": {},
   "outputs": [
    {
     "name": "stdout",
     "output_type": "stream",
     "text": [
      "     lhs        rhs support confidence lift      itemset\n",
      "[1]  {l,O,p} => {b} 0.25    0.5000000  2.0000000  1     \n",
      "[2]  {b,O,p} => {l} 0.25    1.0000000  1.3333333  1     \n",
      "[3]  {b,l,p} => {O} 0.25    1.0000000  1.3333333  1     \n",
      "[4]  {b,l,O} => {p} 0.25    1.0000000  1.0000000  1     \n",
      "[5]  {l,p}   => {b} 0.25    0.3333333  1.3333333  2     \n",
      "[6]  {b,p}   => {l} 0.25    1.0000000  1.3333333  2     \n",
      "[7]  {b,l}   => {p} 0.25    1.0000000  1.0000000  2     \n",
      "[8]  {l,O}   => {b} 0.25    0.5000000  2.0000000  3     \n",
      "[9]  {b,O}   => {l} 0.25    1.0000000  1.3333333  3     \n",
      "[10] {b,l}   => {O} 0.25    1.0000000  1.3333333  3     \n",
      "[11] {O,p}   => {b} 0.25    0.3333333  1.3333333  4     \n",
      "[12] {b,p}   => {O} 0.25    1.0000000  1.3333333  4     \n",
      "[13] {b,O}   => {p} 0.25    1.0000000  1.0000000  4     \n",
      "[14] {p}     => {b} 0.25    0.2500000  1.0000000  5     \n",
      "[15] {b}     => {p} 0.25    1.0000000  1.0000000  5     \n",
      "[16] {O}     => {b} 0.25    0.3333333  1.3333333  6     \n",
      "[17] {b}     => {O} 0.25    1.0000000  1.3333333  6     \n",
      "[18] {l}     => {b} 0.25    0.3333333  1.3333333  7     \n",
      "[19] {b}     => {l} 0.25    1.0000000  1.3333333  7     \n",
      "[20] {l,O,p} => {c} 0.25    0.5000000  1.0000000  8     \n",
      "[21] {c,O,p} => {l} 0.25    0.5000000  0.6666667  8     \n",
      "[22] {c,l,p} => {O} 0.25    1.0000000  1.3333333  8     \n",
      "[23] {c,l,O} => {p} 0.25    1.0000000  1.0000000  8     \n",
      "[24] {l,p}   => {c} 0.25    0.3333333  0.6666667  9     \n",
      "[25] {c,p}   => {l} 0.25    0.5000000  0.6666667  9     \n",
      "[26] {c,l}   => {p} 0.25    1.0000000  1.0000000  9     \n",
      "[27] {l,O}   => {c} 0.25    0.5000000  1.0000000 10     \n",
      "[28] {c,O}   => {l} 0.25    0.5000000  0.6666667 10     \n",
      "[29] {c,l}   => {O} 0.25    1.0000000  1.3333333 10     \n",
      "[30] {O,p}   => {c} 0.50    0.6666667  1.3333333 11     \n",
      "[31] {c,p}   => {O} 0.50    1.0000000  1.3333333 11     \n",
      "[32] {c,O}   => {p} 0.50    1.0000000  1.0000000 11     \n",
      "[33] {p}     => {c} 0.50    0.5000000  1.0000000 12     \n",
      "[34] {c}     => {p} 0.50    1.0000000  1.0000000 12     \n",
      "[35] {O}     => {c} 0.50    0.6666667  1.3333333 13     \n",
      "[36] {c}     => {O} 0.50    1.0000000  1.3333333 13     \n",
      "[37] {l}     => {c} 0.25    0.3333333  0.6666667 14     \n",
      "[38] {c}     => {l} 0.25    0.5000000  0.6666667 14     \n",
      "[39] {O,p}   => {l} 0.50    0.6666667  0.8888889 15     \n",
      "[40] {l,p}   => {O} 0.50    0.6666667  0.8888889 15     \n",
      "[41] {l,O}   => {p} 0.50    1.0000000  1.0000000 15     \n",
      "[42] {p}     => {l} 0.75    0.7500000  1.0000000 16     \n",
      "[43] {l}     => {p} 0.75    1.0000000  1.0000000 16     \n",
      "[44] {O}     => {l} 0.50    0.6666667  0.8888889 17     \n",
      "[45] {l}     => {O} 0.50    0.6666667  0.8888889 17     \n",
      "[46] {p}     => {O} 0.75    0.7500000  1.0000000 18     \n",
      "[47] {O}     => {p} 0.75    1.0000000  1.0000000 18     \n"
     ]
    }
   ],
   "source": [
    "rEclat <- ruleInduction(iEclat, transactions, confidence = 0, control = list(method = \"ptree\", reduce = TRUE))\n",
    "inspect(rEclat)"
   ]
  },
  {
   "cell_type": "markdown",
   "metadata": {},
   "source": [
    "Al filtrar ciertos items e incluir la reducción en el algoritmo notar que el número de reglas que aparecen en el algoritmo ECLAT es sensiblemente inferior al obtenido en el algoritmo APRIORI.\n",
    "\n",
    "Al inspeccionar el objeto, bien con las reglas bien con los itemsets, se muestran por defecto tres parámetros, support, confidence y lift, si bien se pueden obtener un gran número de medidas de interés alternativas, gran parte de las cuales pueden usarse también en el proceso de aprendizaje:"
   ]
  },
  {
   "cell_type": "code",
   "execution_count": 13,
   "metadata": {},
   "outputs": [
    {
     "data": {
      "text/html": [
       "<table>\n",
       "<thead><tr><th scope=col>support</th><th scope=col>chiSquared</th><th scope=col>confidence</th><th scope=col>conviction</th><th scope=col>cosine</th><th scope=col>coverage</th><th scope=col>leverage</th><th scope=col>lift</th><th scope=col>oddsRatio</th></tr></thead>\n",
       "<tbody>\n",
       "\t<tr><td>0.25     </td><td>1.3333333</td><td>0.5000000</td><td>1.500    </td><td>0.7071068</td><td>0.50     </td><td> 0.1250  </td><td>2.0000000</td><td>NA       </td></tr>\n",
       "\t<tr><td>0.25     </td><td>0.4444444</td><td>1.0000000</td><td>   NA    </td><td>0.5773503</td><td>0.25     </td><td> 0.0625  </td><td>1.3333333</td><td>NA       </td></tr>\n",
       "\t<tr><td>0.25     </td><td>0.4444444</td><td>1.0000000</td><td>   NA    </td><td>0.5773503</td><td>0.25     </td><td> 0.0625  </td><td>1.3333333</td><td>NA       </td></tr>\n",
       "\t<tr><td>0.25     </td><td>       NA</td><td>1.0000000</td><td>   NA    </td><td>0.5000000</td><td>0.25     </td><td> 0.0000  </td><td>1.0000000</td><td>NA       </td></tr>\n",
       "\t<tr><td>0.25     </td><td>0.4444444</td><td>0.3333333</td><td>1.125    </td><td>0.5773503</td><td>0.75     </td><td> 0.0625  </td><td>1.3333333</td><td>NA       </td></tr>\n",
       "\t<tr><td>0.25     </td><td>0.4444444</td><td>1.0000000</td><td>   NA    </td><td>0.5773503</td><td>0.25     </td><td> 0.0625  </td><td>1.3333333</td><td>NA       </td></tr>\n",
       "\t<tr><td>0.25     </td><td>       NA</td><td>1.0000000</td><td>   NA    </td><td>0.5000000</td><td>0.25     </td><td> 0.0000  </td><td>1.0000000</td><td>NA       </td></tr>\n",
       "\t<tr><td>0.25     </td><td>1.3333333</td><td>0.5000000</td><td>1.500    </td><td>0.7071068</td><td>0.50     </td><td> 0.1250  </td><td>2.0000000</td><td>NA       </td></tr>\n",
       "\t<tr><td>0.25     </td><td>0.4444444</td><td>1.0000000</td><td>   NA    </td><td>0.5773503</td><td>0.25     </td><td> 0.0625  </td><td>1.3333333</td><td>NA       </td></tr>\n",
       "\t<tr><td>0.25     </td><td>0.4444444</td><td>1.0000000</td><td>   NA    </td><td>0.5773503</td><td>0.25     </td><td> 0.0625  </td><td>1.3333333</td><td>NA       </td></tr>\n",
       "\t<tr><td>0.25     </td><td>0.4444444</td><td>0.3333333</td><td>1.125    </td><td>0.5773503</td><td>0.75     </td><td> 0.0625  </td><td>1.3333333</td><td>NA       </td></tr>\n",
       "\t<tr><td>0.25     </td><td>0.4444444</td><td>1.0000000</td><td>   NA    </td><td>0.5773503</td><td>0.25     </td><td> 0.0625  </td><td>1.3333333</td><td>NA       </td></tr>\n",
       "\t<tr><td>0.25     </td><td>       NA</td><td>1.0000000</td><td>   NA    </td><td>0.5000000</td><td>0.25     </td><td> 0.0000  </td><td>1.0000000</td><td>NA       </td></tr>\n",
       "\t<tr><td>0.25     </td><td>       NA</td><td>0.2500000</td><td>1.000    </td><td>0.5000000</td><td>1.00     </td><td> 0.0000  </td><td>1.0000000</td><td>NA       </td></tr>\n",
       "\t<tr><td>0.25     </td><td>       NA</td><td>1.0000000</td><td>   NA    </td><td>0.5000000</td><td>0.25     </td><td> 0.0000  </td><td>1.0000000</td><td>NA       </td></tr>\n",
       "\t<tr><td>0.25     </td><td>0.4444444</td><td>0.3333333</td><td>1.125    </td><td>0.5773503</td><td>0.75     </td><td> 0.0625  </td><td>1.3333333</td><td>NA       </td></tr>\n",
       "\t<tr><td>0.25     </td><td>0.4444444</td><td>1.0000000</td><td>   NA    </td><td>0.5773503</td><td>0.25     </td><td> 0.0625  </td><td>1.3333333</td><td>NA       </td></tr>\n",
       "\t<tr><td>0.25     </td><td>0.4444444</td><td>0.3333333</td><td>1.125    </td><td>0.5773503</td><td>0.75     </td><td> 0.0625  </td><td>1.3333333</td><td>NA       </td></tr>\n",
       "\t<tr><td>0.25     </td><td>0.4444444</td><td>1.0000000</td><td>   NA    </td><td>0.5773503</td><td>0.25     </td><td> 0.0625  </td><td>1.3333333</td><td>NA       </td></tr>\n",
       "\t<tr><td>0.25     </td><td>0.0000000</td><td>0.5000000</td><td>1.000    </td><td>0.5000000</td><td>0.50     </td><td> 0.0000  </td><td>1.0000000</td><td> 1       </td></tr>\n",
       "\t<tr><td>0.25     </td><td>1.3333333</td><td>0.5000000</td><td>0.500    </td><td>0.4082483</td><td>0.50     </td><td>-0.1250  </td><td>0.6666667</td><td> 0       </td></tr>\n",
       "\t<tr><td>0.25     </td><td>0.4444444</td><td>1.0000000</td><td>   NA    </td><td>0.5773503</td><td>0.25     </td><td> 0.0625  </td><td>1.3333333</td><td>NA       </td></tr>\n",
       "\t<tr><td>0.25     </td><td>       NA</td><td>1.0000000</td><td>   NA    </td><td>0.5000000</td><td>0.25     </td><td> 0.0000  </td><td>1.0000000</td><td>NA       </td></tr>\n",
       "\t<tr><td>0.25     </td><td>1.3333333</td><td>0.3333333</td><td>0.750    </td><td>0.4082483</td><td>0.75     </td><td>-0.1250  </td><td>0.6666667</td><td> 0       </td></tr>\n",
       "\t<tr><td>0.25     </td><td>1.3333333</td><td>0.5000000</td><td>0.500    </td><td>0.4082483</td><td>0.50     </td><td>-0.1250  </td><td>0.6666667</td><td> 0       </td></tr>\n",
       "\t<tr><td>0.25     </td><td>       NA</td><td>1.0000000</td><td>   NA    </td><td>0.5000000</td><td>0.25     </td><td> 0.0000  </td><td>1.0000000</td><td>NA       </td></tr>\n",
       "\t<tr><td>0.25     </td><td>0.0000000</td><td>0.5000000</td><td>1.000    </td><td>0.5000000</td><td>0.50     </td><td> 0.0000  </td><td>1.0000000</td><td> 1       </td></tr>\n",
       "\t<tr><td>0.25     </td><td>1.3333333</td><td>0.5000000</td><td>0.500    </td><td>0.4082483</td><td>0.50     </td><td>-0.1250  </td><td>0.6666667</td><td> 0       </td></tr>\n",
       "\t<tr><td>0.25     </td><td>0.4444444</td><td>1.0000000</td><td>   NA    </td><td>0.5773503</td><td>0.25     </td><td> 0.0625  </td><td>1.3333333</td><td>NA       </td></tr>\n",
       "\t<tr><td>0.50     </td><td>1.3333333</td><td>0.6666667</td><td>1.500    </td><td>0.8164966</td><td>0.75     </td><td> 0.1250  </td><td>1.3333333</td><td>NA       </td></tr>\n",
       "\t<tr><td>0.50     </td><td>1.3333333</td><td>1.0000000</td><td>   NA    </td><td>0.8164966</td><td>0.50     </td><td> 0.1250  </td><td>1.3333333</td><td>NA       </td></tr>\n",
       "\t<tr><td>0.50     </td><td>       NA</td><td>1.0000000</td><td>   NA    </td><td>0.7071068</td><td>0.50     </td><td> 0.0000  </td><td>1.0000000</td><td>NA       </td></tr>\n",
       "\t<tr><td>0.50     </td><td>       NA</td><td>0.5000000</td><td>1.000    </td><td>0.7071068</td><td>1.00     </td><td> 0.0000  </td><td>1.0000000</td><td>NA       </td></tr>\n",
       "\t<tr><td>0.50     </td><td>       NA</td><td>1.0000000</td><td>   NA    </td><td>0.7071068</td><td>0.50     </td><td> 0.0000  </td><td>1.0000000</td><td>NA       </td></tr>\n",
       "\t<tr><td>0.50     </td><td>1.3333333</td><td>0.6666667</td><td>1.500    </td><td>0.8164966</td><td>0.75     </td><td> 0.1250  </td><td>1.3333333</td><td>NA       </td></tr>\n",
       "\t<tr><td>0.50     </td><td>1.3333333</td><td>1.0000000</td><td>   NA    </td><td>0.8164966</td><td>0.50     </td><td> 0.1250  </td><td>1.3333333</td><td>NA       </td></tr>\n",
       "\t<tr><td>0.25     </td><td>1.3333333</td><td>0.3333333</td><td>0.750    </td><td>0.4082483</td><td>0.75     </td><td>-0.1250  </td><td>0.6666667</td><td> 0       </td></tr>\n",
       "\t<tr><td>0.25     </td><td>1.3333333</td><td>0.5000000</td><td>0.500    </td><td>0.4082483</td><td>0.50     </td><td>-0.1250  </td><td>0.6666667</td><td> 0       </td></tr>\n",
       "\t<tr><td>0.50     </td><td>0.4444444</td><td>0.6666667</td><td>0.750    </td><td>0.6666667</td><td>0.75     </td><td>-0.0625  </td><td>0.8888889</td><td> 0       </td></tr>\n",
       "\t<tr><td>0.50     </td><td>0.4444444</td><td>0.6666667</td><td>0.750    </td><td>0.6666667</td><td>0.75     </td><td>-0.0625  </td><td>0.8888889</td><td> 0       </td></tr>\n",
       "\t<tr><td>0.50     </td><td>       NA</td><td>1.0000000</td><td>   NA    </td><td>0.7071068</td><td>0.50     </td><td> 0.0000  </td><td>1.0000000</td><td>NA       </td></tr>\n",
       "\t<tr><td>0.75     </td><td>       NA</td><td>0.7500000</td><td>1.000    </td><td>0.8660254</td><td>1.00     </td><td> 0.0000  </td><td>1.0000000</td><td>NA       </td></tr>\n",
       "\t<tr><td>0.75     </td><td>       NA</td><td>1.0000000</td><td>   NA    </td><td>0.8660254</td><td>0.75     </td><td> 0.0000  </td><td>1.0000000</td><td>NA       </td></tr>\n",
       "\t<tr><td>0.50     </td><td>0.4444444</td><td>0.6666667</td><td>0.750    </td><td>0.6666667</td><td>0.75     </td><td>-0.0625  </td><td>0.8888889</td><td> 0       </td></tr>\n",
       "\t<tr><td>0.50     </td><td>0.4444444</td><td>0.6666667</td><td>0.750    </td><td>0.6666667</td><td>0.75     </td><td>-0.0625  </td><td>0.8888889</td><td> 0       </td></tr>\n",
       "\t<tr><td>0.75     </td><td>       NA</td><td>0.7500000</td><td>1.000    </td><td>0.8660254</td><td>1.00     </td><td> 0.0000  </td><td>1.0000000</td><td>NA       </td></tr>\n",
       "\t<tr><td>0.75     </td><td>       NA</td><td>1.0000000</td><td>   NA    </td><td>0.8660254</td><td>0.75     </td><td> 0.0000  </td><td>1.0000000</td><td>NA       </td></tr>\n",
       "</tbody>\n",
       "</table>\n"
      ],
      "text/latex": [
       "\\begin{tabular}{r|lllllllll}\n",
       " support & chiSquared & confidence & conviction & cosine & coverage & leverage & lift & oddsRatio\\\\\n",
       "\\hline\n",
       "\t 0.25      & 1.3333333 & 0.5000000 & 1.500     & 0.7071068 & 0.50      &  0.1250   & 2.0000000 & NA       \\\\\n",
       "\t 0.25      & 0.4444444 & 1.0000000 &    NA     & 0.5773503 & 0.25      &  0.0625   & 1.3333333 & NA       \\\\\n",
       "\t 0.25      & 0.4444444 & 1.0000000 &    NA     & 0.5773503 & 0.25      &  0.0625   & 1.3333333 & NA       \\\\\n",
       "\t 0.25      &        NA & 1.0000000 &    NA     & 0.5000000 & 0.25      &  0.0000   & 1.0000000 & NA       \\\\\n",
       "\t 0.25      & 0.4444444 & 0.3333333 & 1.125     & 0.5773503 & 0.75      &  0.0625   & 1.3333333 & NA       \\\\\n",
       "\t 0.25      & 0.4444444 & 1.0000000 &    NA     & 0.5773503 & 0.25      &  0.0625   & 1.3333333 & NA       \\\\\n",
       "\t 0.25      &        NA & 1.0000000 &    NA     & 0.5000000 & 0.25      &  0.0000   & 1.0000000 & NA       \\\\\n",
       "\t 0.25      & 1.3333333 & 0.5000000 & 1.500     & 0.7071068 & 0.50      &  0.1250   & 2.0000000 & NA       \\\\\n",
       "\t 0.25      & 0.4444444 & 1.0000000 &    NA     & 0.5773503 & 0.25      &  0.0625   & 1.3333333 & NA       \\\\\n",
       "\t 0.25      & 0.4444444 & 1.0000000 &    NA     & 0.5773503 & 0.25      &  0.0625   & 1.3333333 & NA       \\\\\n",
       "\t 0.25      & 0.4444444 & 0.3333333 & 1.125     & 0.5773503 & 0.75      &  0.0625   & 1.3333333 & NA       \\\\\n",
       "\t 0.25      & 0.4444444 & 1.0000000 &    NA     & 0.5773503 & 0.25      &  0.0625   & 1.3333333 & NA       \\\\\n",
       "\t 0.25      &        NA & 1.0000000 &    NA     & 0.5000000 & 0.25      &  0.0000   & 1.0000000 & NA       \\\\\n",
       "\t 0.25      &        NA & 0.2500000 & 1.000     & 0.5000000 & 1.00      &  0.0000   & 1.0000000 & NA       \\\\\n",
       "\t 0.25      &        NA & 1.0000000 &    NA     & 0.5000000 & 0.25      &  0.0000   & 1.0000000 & NA       \\\\\n",
       "\t 0.25      & 0.4444444 & 0.3333333 & 1.125     & 0.5773503 & 0.75      &  0.0625   & 1.3333333 & NA       \\\\\n",
       "\t 0.25      & 0.4444444 & 1.0000000 &    NA     & 0.5773503 & 0.25      &  0.0625   & 1.3333333 & NA       \\\\\n",
       "\t 0.25      & 0.4444444 & 0.3333333 & 1.125     & 0.5773503 & 0.75      &  0.0625   & 1.3333333 & NA       \\\\\n",
       "\t 0.25      & 0.4444444 & 1.0000000 &    NA     & 0.5773503 & 0.25      &  0.0625   & 1.3333333 & NA       \\\\\n",
       "\t 0.25      & 0.0000000 & 0.5000000 & 1.000     & 0.5000000 & 0.50      &  0.0000   & 1.0000000 &  1       \\\\\n",
       "\t 0.25      & 1.3333333 & 0.5000000 & 0.500     & 0.4082483 & 0.50      & -0.1250   & 0.6666667 &  0       \\\\\n",
       "\t 0.25      & 0.4444444 & 1.0000000 &    NA     & 0.5773503 & 0.25      &  0.0625   & 1.3333333 & NA       \\\\\n",
       "\t 0.25      &        NA & 1.0000000 &    NA     & 0.5000000 & 0.25      &  0.0000   & 1.0000000 & NA       \\\\\n",
       "\t 0.25      & 1.3333333 & 0.3333333 & 0.750     & 0.4082483 & 0.75      & -0.1250   & 0.6666667 &  0       \\\\\n",
       "\t 0.25      & 1.3333333 & 0.5000000 & 0.500     & 0.4082483 & 0.50      & -0.1250   & 0.6666667 &  0       \\\\\n",
       "\t 0.25      &        NA & 1.0000000 &    NA     & 0.5000000 & 0.25      &  0.0000   & 1.0000000 & NA       \\\\\n",
       "\t 0.25      & 0.0000000 & 0.5000000 & 1.000     & 0.5000000 & 0.50      &  0.0000   & 1.0000000 &  1       \\\\\n",
       "\t 0.25      & 1.3333333 & 0.5000000 & 0.500     & 0.4082483 & 0.50      & -0.1250   & 0.6666667 &  0       \\\\\n",
       "\t 0.25      & 0.4444444 & 1.0000000 &    NA     & 0.5773503 & 0.25      &  0.0625   & 1.3333333 & NA       \\\\\n",
       "\t 0.50      & 1.3333333 & 0.6666667 & 1.500     & 0.8164966 & 0.75      &  0.1250   & 1.3333333 & NA       \\\\\n",
       "\t 0.50      & 1.3333333 & 1.0000000 &    NA     & 0.8164966 & 0.50      &  0.1250   & 1.3333333 & NA       \\\\\n",
       "\t 0.50      &        NA & 1.0000000 &    NA     & 0.7071068 & 0.50      &  0.0000   & 1.0000000 & NA       \\\\\n",
       "\t 0.50      &        NA & 0.5000000 & 1.000     & 0.7071068 & 1.00      &  0.0000   & 1.0000000 & NA       \\\\\n",
       "\t 0.50      &        NA & 1.0000000 &    NA     & 0.7071068 & 0.50      &  0.0000   & 1.0000000 & NA       \\\\\n",
       "\t 0.50      & 1.3333333 & 0.6666667 & 1.500     & 0.8164966 & 0.75      &  0.1250   & 1.3333333 & NA       \\\\\n",
       "\t 0.50      & 1.3333333 & 1.0000000 &    NA     & 0.8164966 & 0.50      &  0.1250   & 1.3333333 & NA       \\\\\n",
       "\t 0.25      & 1.3333333 & 0.3333333 & 0.750     & 0.4082483 & 0.75      & -0.1250   & 0.6666667 &  0       \\\\\n",
       "\t 0.25      & 1.3333333 & 0.5000000 & 0.500     & 0.4082483 & 0.50      & -0.1250   & 0.6666667 &  0       \\\\\n",
       "\t 0.50      & 0.4444444 & 0.6666667 & 0.750     & 0.6666667 & 0.75      & -0.0625   & 0.8888889 &  0       \\\\\n",
       "\t 0.50      & 0.4444444 & 0.6666667 & 0.750     & 0.6666667 & 0.75      & -0.0625   & 0.8888889 &  0       \\\\\n",
       "\t 0.50      &        NA & 1.0000000 &    NA     & 0.7071068 & 0.50      &  0.0000   & 1.0000000 & NA       \\\\\n",
       "\t 0.75      &        NA & 0.7500000 & 1.000     & 0.8660254 & 1.00      &  0.0000   & 1.0000000 & NA       \\\\\n",
       "\t 0.75      &        NA & 1.0000000 &    NA     & 0.8660254 & 0.75      &  0.0000   & 1.0000000 & NA       \\\\\n",
       "\t 0.50      & 0.4444444 & 0.6666667 & 0.750     & 0.6666667 & 0.75      & -0.0625   & 0.8888889 &  0       \\\\\n",
       "\t 0.50      & 0.4444444 & 0.6666667 & 0.750     & 0.6666667 & 0.75      & -0.0625   & 0.8888889 &  0       \\\\\n",
       "\t 0.75      &        NA & 0.7500000 & 1.000     & 0.8660254 & 1.00      &  0.0000   & 1.0000000 & NA       \\\\\n",
       "\t 0.75      &        NA & 1.0000000 &    NA     & 0.8660254 & 0.75      &  0.0000   & 1.0000000 & NA       \\\\\n",
       "\\end{tabular}\n"
      ],
      "text/markdown": [
       "\n",
       "support | chiSquared | confidence | conviction | cosine | coverage | leverage | lift | oddsRatio | \n",
       "|---|---|---|---|---|---|---|---|---|---|---|---|---|---|---|---|---|---|---|---|---|---|---|---|---|---|---|---|---|---|---|---|---|---|---|---|---|---|---|---|---|---|---|---|---|---|---|\n",
       "| 0.25      | 1.3333333 | 0.5000000 | 1.500     | 0.7071068 | 0.50      |  0.1250   | 2.0000000 | NA        | \n",
       "| 0.25      | 0.4444444 | 1.0000000 |    NA     | 0.5773503 | 0.25      |  0.0625   | 1.3333333 | NA        | \n",
       "| 0.25      | 0.4444444 | 1.0000000 |    NA     | 0.5773503 | 0.25      |  0.0625   | 1.3333333 | NA        | \n",
       "| 0.25      |        NA | 1.0000000 |    NA     | 0.5000000 | 0.25      |  0.0000   | 1.0000000 | NA        | \n",
       "| 0.25      | 0.4444444 | 0.3333333 | 1.125     | 0.5773503 | 0.75      |  0.0625   | 1.3333333 | NA        | \n",
       "| 0.25      | 0.4444444 | 1.0000000 |    NA     | 0.5773503 | 0.25      |  0.0625   | 1.3333333 | NA        | \n",
       "| 0.25      |        NA | 1.0000000 |    NA     | 0.5000000 | 0.25      |  0.0000   | 1.0000000 | NA        | \n",
       "| 0.25      | 1.3333333 | 0.5000000 | 1.500     | 0.7071068 | 0.50      |  0.1250   | 2.0000000 | NA        | \n",
       "| 0.25      | 0.4444444 | 1.0000000 |    NA     | 0.5773503 | 0.25      |  0.0625   | 1.3333333 | NA        | \n",
       "| 0.25      | 0.4444444 | 1.0000000 |    NA     | 0.5773503 | 0.25      |  0.0625   | 1.3333333 | NA        | \n",
       "| 0.25      | 0.4444444 | 0.3333333 | 1.125     | 0.5773503 | 0.75      |  0.0625   | 1.3333333 | NA        | \n",
       "| 0.25      | 0.4444444 | 1.0000000 |    NA     | 0.5773503 | 0.25      |  0.0625   | 1.3333333 | NA        | \n",
       "| 0.25      |        NA | 1.0000000 |    NA     | 0.5000000 | 0.25      |  0.0000   | 1.0000000 | NA        | \n",
       "| 0.25      |        NA | 0.2500000 | 1.000     | 0.5000000 | 1.00      |  0.0000   | 1.0000000 | NA        | \n",
       "| 0.25      |        NA | 1.0000000 |    NA     | 0.5000000 | 0.25      |  0.0000   | 1.0000000 | NA        | \n",
       "| 0.25      | 0.4444444 | 0.3333333 | 1.125     | 0.5773503 | 0.75      |  0.0625   | 1.3333333 | NA        | \n",
       "| 0.25      | 0.4444444 | 1.0000000 |    NA     | 0.5773503 | 0.25      |  0.0625   | 1.3333333 | NA        | \n",
       "| 0.25      | 0.4444444 | 0.3333333 | 1.125     | 0.5773503 | 0.75      |  0.0625   | 1.3333333 | NA        | \n",
       "| 0.25      | 0.4444444 | 1.0000000 |    NA     | 0.5773503 | 0.25      |  0.0625   | 1.3333333 | NA        | \n",
       "| 0.25      | 0.0000000 | 0.5000000 | 1.000     | 0.5000000 | 0.50      |  0.0000   | 1.0000000 |  1        | \n",
       "| 0.25      | 1.3333333 | 0.5000000 | 0.500     | 0.4082483 | 0.50      | -0.1250   | 0.6666667 |  0        | \n",
       "| 0.25      | 0.4444444 | 1.0000000 |    NA     | 0.5773503 | 0.25      |  0.0625   | 1.3333333 | NA        | \n",
       "| 0.25      |        NA | 1.0000000 |    NA     | 0.5000000 | 0.25      |  0.0000   | 1.0000000 | NA        | \n",
       "| 0.25      | 1.3333333 | 0.3333333 | 0.750     | 0.4082483 | 0.75      | -0.1250   | 0.6666667 |  0        | \n",
       "| 0.25      | 1.3333333 | 0.5000000 | 0.500     | 0.4082483 | 0.50      | -0.1250   | 0.6666667 |  0        | \n",
       "| 0.25      |        NA | 1.0000000 |    NA     | 0.5000000 | 0.25      |  0.0000   | 1.0000000 | NA        | \n",
       "| 0.25      | 0.0000000 | 0.5000000 | 1.000     | 0.5000000 | 0.50      |  0.0000   | 1.0000000 |  1        | \n",
       "| 0.25      | 1.3333333 | 0.5000000 | 0.500     | 0.4082483 | 0.50      | -0.1250   | 0.6666667 |  0        | \n",
       "| 0.25      | 0.4444444 | 1.0000000 |    NA     | 0.5773503 | 0.25      |  0.0625   | 1.3333333 | NA        | \n",
       "| 0.50      | 1.3333333 | 0.6666667 | 1.500     | 0.8164966 | 0.75      |  0.1250   | 1.3333333 | NA        | \n",
       "| 0.50      | 1.3333333 | 1.0000000 |    NA     | 0.8164966 | 0.50      |  0.1250   | 1.3333333 | NA        | \n",
       "| 0.50      |        NA | 1.0000000 |    NA     | 0.7071068 | 0.50      |  0.0000   | 1.0000000 | NA        | \n",
       "| 0.50      |        NA | 0.5000000 | 1.000     | 0.7071068 | 1.00      |  0.0000   | 1.0000000 | NA        | \n",
       "| 0.50      |        NA | 1.0000000 |    NA     | 0.7071068 | 0.50      |  0.0000   | 1.0000000 | NA        | \n",
       "| 0.50      | 1.3333333 | 0.6666667 | 1.500     | 0.8164966 | 0.75      |  0.1250   | 1.3333333 | NA        | \n",
       "| 0.50      | 1.3333333 | 1.0000000 |    NA     | 0.8164966 | 0.50      |  0.1250   | 1.3333333 | NA        | \n",
       "| 0.25      | 1.3333333 | 0.3333333 | 0.750     | 0.4082483 | 0.75      | -0.1250   | 0.6666667 |  0        | \n",
       "| 0.25      | 1.3333333 | 0.5000000 | 0.500     | 0.4082483 | 0.50      | -0.1250   | 0.6666667 |  0        | \n",
       "| 0.50      | 0.4444444 | 0.6666667 | 0.750     | 0.6666667 | 0.75      | -0.0625   | 0.8888889 |  0        | \n",
       "| 0.50      | 0.4444444 | 0.6666667 | 0.750     | 0.6666667 | 0.75      | -0.0625   | 0.8888889 |  0        | \n",
       "| 0.50      |        NA | 1.0000000 |    NA     | 0.7071068 | 0.50      |  0.0000   | 1.0000000 | NA        | \n",
       "| 0.75      |        NA | 0.7500000 | 1.000     | 0.8660254 | 1.00      |  0.0000   | 1.0000000 | NA        | \n",
       "| 0.75      |        NA | 1.0000000 |    NA     | 0.8660254 | 0.75      |  0.0000   | 1.0000000 | NA        | \n",
       "| 0.50      | 0.4444444 | 0.6666667 | 0.750     | 0.6666667 | 0.75      | -0.0625   | 0.8888889 |  0        | \n",
       "| 0.50      | 0.4444444 | 0.6666667 | 0.750     | 0.6666667 | 0.75      | -0.0625   | 0.8888889 |  0        | \n",
       "| 0.75      |        NA | 0.7500000 | 1.000     | 0.8660254 | 1.00      |  0.0000   | 1.0000000 | NA        | \n",
       "| 0.75      |        NA | 1.0000000 |    NA     | 0.8660254 | 0.75      |  0.0000   | 1.0000000 | NA        | \n",
       "\n",
       "\n"
      ],
      "text/plain": [
       "   support chiSquared confidence conviction cosine    coverage leverage\n",
       "1  0.25    1.3333333  0.5000000  1.500      0.7071068 0.50      0.1250 \n",
       "2  0.25    0.4444444  1.0000000     NA      0.5773503 0.25      0.0625 \n",
       "3  0.25    0.4444444  1.0000000     NA      0.5773503 0.25      0.0625 \n",
       "4  0.25           NA  1.0000000     NA      0.5000000 0.25      0.0000 \n",
       "5  0.25    0.4444444  0.3333333  1.125      0.5773503 0.75      0.0625 \n",
       "6  0.25    0.4444444  1.0000000     NA      0.5773503 0.25      0.0625 \n",
       "7  0.25           NA  1.0000000     NA      0.5000000 0.25      0.0000 \n",
       "8  0.25    1.3333333  0.5000000  1.500      0.7071068 0.50      0.1250 \n",
       "9  0.25    0.4444444  1.0000000     NA      0.5773503 0.25      0.0625 \n",
       "10 0.25    0.4444444  1.0000000     NA      0.5773503 0.25      0.0625 \n",
       "11 0.25    0.4444444  0.3333333  1.125      0.5773503 0.75      0.0625 \n",
       "12 0.25    0.4444444  1.0000000     NA      0.5773503 0.25      0.0625 \n",
       "13 0.25           NA  1.0000000     NA      0.5000000 0.25      0.0000 \n",
       "14 0.25           NA  0.2500000  1.000      0.5000000 1.00      0.0000 \n",
       "15 0.25           NA  1.0000000     NA      0.5000000 0.25      0.0000 \n",
       "16 0.25    0.4444444  0.3333333  1.125      0.5773503 0.75      0.0625 \n",
       "17 0.25    0.4444444  1.0000000     NA      0.5773503 0.25      0.0625 \n",
       "18 0.25    0.4444444  0.3333333  1.125      0.5773503 0.75      0.0625 \n",
       "19 0.25    0.4444444  1.0000000     NA      0.5773503 0.25      0.0625 \n",
       "20 0.25    0.0000000  0.5000000  1.000      0.5000000 0.50      0.0000 \n",
       "21 0.25    1.3333333  0.5000000  0.500      0.4082483 0.50     -0.1250 \n",
       "22 0.25    0.4444444  1.0000000     NA      0.5773503 0.25      0.0625 \n",
       "23 0.25           NA  1.0000000     NA      0.5000000 0.25      0.0000 \n",
       "24 0.25    1.3333333  0.3333333  0.750      0.4082483 0.75     -0.1250 \n",
       "25 0.25    1.3333333  0.5000000  0.500      0.4082483 0.50     -0.1250 \n",
       "26 0.25           NA  1.0000000     NA      0.5000000 0.25      0.0000 \n",
       "27 0.25    0.0000000  0.5000000  1.000      0.5000000 0.50      0.0000 \n",
       "28 0.25    1.3333333  0.5000000  0.500      0.4082483 0.50     -0.1250 \n",
       "29 0.25    0.4444444  1.0000000     NA      0.5773503 0.25      0.0625 \n",
       "30 0.50    1.3333333  0.6666667  1.500      0.8164966 0.75      0.1250 \n",
       "31 0.50    1.3333333  1.0000000     NA      0.8164966 0.50      0.1250 \n",
       "32 0.50           NA  1.0000000     NA      0.7071068 0.50      0.0000 \n",
       "33 0.50           NA  0.5000000  1.000      0.7071068 1.00      0.0000 \n",
       "34 0.50           NA  1.0000000     NA      0.7071068 0.50      0.0000 \n",
       "35 0.50    1.3333333  0.6666667  1.500      0.8164966 0.75      0.1250 \n",
       "36 0.50    1.3333333  1.0000000     NA      0.8164966 0.50      0.1250 \n",
       "37 0.25    1.3333333  0.3333333  0.750      0.4082483 0.75     -0.1250 \n",
       "38 0.25    1.3333333  0.5000000  0.500      0.4082483 0.50     -0.1250 \n",
       "39 0.50    0.4444444  0.6666667  0.750      0.6666667 0.75     -0.0625 \n",
       "40 0.50    0.4444444  0.6666667  0.750      0.6666667 0.75     -0.0625 \n",
       "41 0.50           NA  1.0000000     NA      0.7071068 0.50      0.0000 \n",
       "42 0.75           NA  0.7500000  1.000      0.8660254 1.00      0.0000 \n",
       "43 0.75           NA  1.0000000     NA      0.8660254 0.75      0.0000 \n",
       "44 0.50    0.4444444  0.6666667  0.750      0.6666667 0.75     -0.0625 \n",
       "45 0.50    0.4444444  0.6666667  0.750      0.6666667 0.75     -0.0625 \n",
       "46 0.75           NA  0.7500000  1.000      0.8660254 1.00      0.0000 \n",
       "47 0.75           NA  1.0000000     NA      0.8660254 0.75      0.0000 \n",
       "   lift      oddsRatio\n",
       "1  2.0000000 NA       \n",
       "2  1.3333333 NA       \n",
       "3  1.3333333 NA       \n",
       "4  1.0000000 NA       \n",
       "5  1.3333333 NA       \n",
       "6  1.3333333 NA       \n",
       "7  1.0000000 NA       \n",
       "8  2.0000000 NA       \n",
       "9  1.3333333 NA       \n",
       "10 1.3333333 NA       \n",
       "11 1.3333333 NA       \n",
       "12 1.3333333 NA       \n",
       "13 1.0000000 NA       \n",
       "14 1.0000000 NA       \n",
       "15 1.0000000 NA       \n",
       "16 1.3333333 NA       \n",
       "17 1.3333333 NA       \n",
       "18 1.3333333 NA       \n",
       "19 1.3333333 NA       \n",
       "20 1.0000000  1       \n",
       "21 0.6666667  0       \n",
       "22 1.3333333 NA       \n",
       "23 1.0000000 NA       \n",
       "24 0.6666667  0       \n",
       "25 0.6666667  0       \n",
       "26 1.0000000 NA       \n",
       "27 1.0000000  1       \n",
       "28 0.6666667  0       \n",
       "29 1.3333333 NA       \n",
       "30 1.3333333 NA       \n",
       "31 1.3333333 NA       \n",
       "32 1.0000000 NA       \n",
       "33 1.0000000 NA       \n",
       "34 1.0000000 NA       \n",
       "35 1.3333333 NA       \n",
       "36 1.3333333 NA       \n",
       "37 0.6666667  0       \n",
       "38 0.6666667  0       \n",
       "39 0.8888889  0       \n",
       "40 0.8888889  0       \n",
       "41 1.0000000 NA       \n",
       "42 1.0000000 NA       \n",
       "43 1.0000000 NA       \n",
       "44 0.8888889  0       \n",
       "45 0.8888889  0       \n",
       "46 1.0000000 NA       \n",
       "47 1.0000000 NA       "
      ]
     },
     "metadata": {},
     "output_type": "display_data"
    }
   ],
   "source": [
    "interestMeasure(rEclat, c(\"support\", \"chiSquare\", \"confidence\", \"conviction\",\"cosine\", \"coverage\", \"leverage\", \"lift\", \"oddsRatio\"), transactions)"
   ]
  },
  {
   "cell_type": "markdown",
   "metadata": {},
   "source": [
    "Si bien no hemos realizado ningún filtro a las reglas obtenidas, más allá de las impuestas por los algoritmos de aprendizaje, es habitual obtener reglas redundantes la cuales debemos filtrar. Para ello, la función `is.redundant` nos permite localizar estas redundancias:\n",
    "\n",
    "::GMG::Sacamos las redundancias (todavía no hemos filtrado) ... lhs -> rhs (antecedente -> consecuente)"
   ]
  },
  {
   "cell_type": "code",
   "execution_count": 14,
   "metadata": {},
   "outputs": [
    {
     "name": "stdout",
     "output_type": "stream",
     "text": [
      "     lhs        rhs support confidence lift      count\n",
      "[1]  {b,c}   => {l} 0.00    1.0000000  1.3333333 0    \n",
      "[2]  {b,l}   => {c} 0.00    0.0000000  0.0000000 0    \n",
      "[3]  {c,l}   => {b} 0.00    0.0000000  0.0000000 0    \n",
      "[4]  {b,c}   => {O} 0.00    1.0000000  1.3333333 0    \n",
      "[5]  {b,O}   => {c} 0.00    0.0000000  0.0000000 0    \n",
      "[6]  {c,O}   => {b} 0.00    0.0000000  0.0000000 0    \n",
      "[7]  {b,c}   => {p} 0.00    1.0000000  1.0000000 0    \n",
      "[8]  {b,p}   => {c} 0.00    0.0000000  0.0000000 0    \n",
      "[9]  {c,p}   => {b} 0.00    0.0000000  0.0000000 0    \n",
      "[10] {b,l}   => {O} 0.25    1.0000000  1.3333333 1    \n",
      "[11] {b,O}   => {l} 0.25    1.0000000  1.3333333 1    \n",
      "[12] {b,l}   => {p} 0.25    1.0000000  1.0000000 1    \n",
      "[13] {b,p}   => {l} 0.25    1.0000000  1.3333333 1    \n",
      "[14] {l,p}   => {b} 0.25    0.3333333  1.3333333 1    \n",
      "[15] {b,O}   => {p} 0.25    1.0000000  1.0000000 1    \n",
      "[16] {b,p}   => {O} 0.25    1.0000000  1.3333333 1    \n",
      "[17] {O,p}   => {b} 0.25    0.3333333  1.3333333 1    \n",
      "[18] {c,l}   => {O} 0.25    1.0000000  1.3333333 1    \n",
      "[19] {c,O}   => {l} 0.25    0.5000000  0.6666667 1    \n",
      "[20] {l,O}   => {c} 0.25    0.5000000  1.0000000 1    \n",
      "[21] {c,l}   => {p} 0.25    1.0000000  1.0000000 1    \n",
      "[22] {c,p}   => {l} 0.25    0.5000000  0.6666667 1    \n",
      "[23] {l,p}   => {c} 0.25    0.3333333  0.6666667 1    \n",
      "[24] {c,O}   => {p} 0.50    1.0000000  1.0000000 2    \n",
      "[25] {c,p}   => {O} 0.50    1.0000000  1.3333333 2    \n",
      "[26] {O,p}   => {c} 0.50    0.6666667  1.3333333 2    \n",
      "[27] {l,O}   => {p} 0.50    1.0000000  1.0000000 2    \n",
      "[28] {l,p}   => {O} 0.50    0.6666667  0.8888889 2    \n",
      "[29] {O,p}   => {l} 0.50    0.6666667  0.8888889 2    \n",
      "[30] {b,c,l} => {O} 0.00    1.0000000  1.3333333 0    \n",
      "[31] {b,c,O} => {l} 0.00    1.0000000  1.3333333 0    \n",
      "[32] {b,l,O} => {c} 0.00    0.0000000  0.0000000 0    \n",
      "[33] {c,l,O} => {b} 0.00    0.0000000  0.0000000 0    \n",
      "[34] {b,c,l} => {p} 0.00    1.0000000  1.0000000 0    \n",
      "[35] {b,c,p} => {l} 0.00    1.0000000  1.3333333 0    \n",
      "[36] {b,l,p} => {c} 0.00    0.0000000  0.0000000 0    \n",
      "[37] {c,l,p} => {b} 0.00    0.0000000  0.0000000 0    \n",
      "[38] {b,c,O} => {p} 0.00    1.0000000  1.0000000 0    \n",
      "[39] {b,c,p} => {O} 0.00    1.0000000  1.3333333 0    \n",
      "[40] {b,O,p} => {c} 0.00    0.0000000  0.0000000 0    \n",
      "[41] {c,O,p} => {b} 0.00    0.0000000  0.0000000 0    \n",
      "[42] {b,l,O} => {p} 0.25    1.0000000  1.0000000 1    \n",
      "[43] {b,l,p} => {O} 0.25    1.0000000  1.3333333 1    \n",
      "[44] {b,O,p} => {l} 0.25    1.0000000  1.3333333 1    \n",
      "[45] {l,O,p} => {b} 0.25    0.5000000  2.0000000 1    \n",
      "[46] {c,l,O} => {p} 0.25    1.0000000  1.0000000 1    \n",
      "[47] {c,l,p} => {O} 0.25    1.0000000  1.3333333 1    \n",
      "[48] {c,O,p} => {l} 0.25    0.5000000  0.6666667 1    \n",
      "[49] {l,O,p} => {c} 0.25    0.5000000  1.0000000 1    \n"
     ]
    }
   ],
   "source": [
    "indRedundantApriori <- which(is.redundant(rApriori))\n",
    "inspect(rApriori[indRedundantApriori])"
   ]
  },
  {
   "cell_type": "markdown",
   "metadata": {},
   "source": [
    "Procedemos a filtrar dichas redes e inspeccionamos de nuevo las reglas obtenidas con el algoritmo APRIORI"
   ]
  },
  {
   "cell_type": "code",
   "execution_count": 16,
   "metadata": {},
   "outputs": [
    {
     "name": "stdout",
     "output_type": "stream",
     "text": [
      "     lhs      rhs support confidence lift      count\n",
      "[1]  {b}   => {c} 0.00    0.0000000  0.0000000 0    \n",
      "[2]  {c}   => {b} 0.00    0.0000000  0.0000000 0    \n",
      "[3]  {b}   => {l} 0.25    1.0000000  1.3333333 1    \n",
      "[4]  {l}   => {b} 0.25    0.3333333  1.3333333 1    \n",
      "[5]  {b}   => {O} 0.25    1.0000000  1.3333333 1    \n",
      "[6]  {O}   => {b} 0.25    0.3333333  1.3333333 1    \n",
      "[7]  {b}   => {p} 0.25    1.0000000  1.0000000 1    \n",
      "[8]  {p}   => {b} 0.25    0.2500000  1.0000000 1    \n",
      "[9]  {c}   => {l} 0.25    0.5000000  0.6666667 1    \n",
      "[10] {l}   => {c} 0.25    0.3333333  0.6666667 1    \n",
      "[11] {c}   => {O} 0.50    1.0000000  1.3333333 2    \n",
      "[12] {O}   => {c} 0.50    0.6666667  1.3333333 2    \n",
      "[13] {c}   => {p} 0.50    1.0000000  1.0000000 2    \n",
      "[14] {p}   => {c} 0.50    0.5000000  1.0000000 2    \n",
      "[15] {l}   => {O} 0.50    0.6666667  0.8888889 2    \n",
      "[16] {O}   => {l} 0.50    0.6666667  0.8888889 2    \n",
      "[17] {l}   => {p} 0.75    1.0000000  1.0000000 3    \n",
      "[18] {p}   => {l} 0.75    0.7500000  1.0000000 3    \n",
      "[19] {O}   => {p} 0.75    1.0000000  1.0000000 3    \n",
      "[20] {p}   => {O} 0.75    0.7500000  1.0000000 3    \n",
      "[21] {l,O} => {b} 0.25    0.5000000  2.0000000 1    \n"
     ]
    }
   ],
   "source": [
    "rAprioriFiltered <- rApriori[!is.redundant(rApriori)]\n",
    "inspect(rAprioriFiltered)"
   ]
  },
  {
   "cell_type": "markdown",
   "metadata": {},
   "source": [
    "y con el algoritmo ECLAT"
   ]
  },
  {
   "cell_type": "code",
   "execution_count": 17,
   "metadata": {},
   "outputs": [
    {
     "name": "stdout",
     "output_type": "stream",
     "text": [
      "     lhs      rhs support confidence lift      itemset\n",
      "[1]  {l,O} => {b} 0.25    0.5000000  2.0000000  3     \n",
      "[2]  {p}   => {b} 0.25    0.2500000  1.0000000  5     \n",
      "[3]  {b}   => {p} 0.25    1.0000000  1.0000000  5     \n",
      "[4]  {O}   => {b} 0.25    0.3333333  1.3333333  6     \n",
      "[5]  {b}   => {O} 0.25    1.0000000  1.3333333  6     \n",
      "[6]  {l}   => {b} 0.25    0.3333333  1.3333333  7     \n",
      "[7]  {b}   => {l} 0.25    1.0000000  1.3333333  7     \n",
      "[8]  {p}   => {c} 0.50    0.5000000  1.0000000 12     \n",
      "[9]  {c}   => {p} 0.50    1.0000000  1.0000000 12     \n",
      "[10] {O}   => {c} 0.50    0.6666667  1.3333333 13     \n",
      "[11] {c}   => {O} 0.50    1.0000000  1.3333333 13     \n",
      "[12] {l}   => {c} 0.25    0.3333333  0.6666667 14     \n",
      "[13] {c}   => {l} 0.25    0.5000000  0.6666667 14     \n",
      "[14] {p}   => {l} 0.75    0.7500000  1.0000000 16     \n",
      "[15] {l}   => {p} 0.75    1.0000000  1.0000000 16     \n",
      "[16] {O}   => {l} 0.50    0.6666667  0.8888889 17     \n",
      "[17] {l}   => {O} 0.50    0.6666667  0.8888889 17     \n",
      "[18] {p}   => {O} 0.75    0.7500000  1.0000000 18     \n",
      "[19] {O}   => {p} 0.75    1.0000000  1.0000000 18     \n"
     ]
    }
   ],
   "source": [
    "rEclatFiltered <- rEclat[!is.redundant(rEclat)]\n",
    "inspect(rEclatFiltered)"
   ]
  },
  {
   "cell_type": "markdown",
   "metadata": {},
   "source": [
    "Finalmente, podemos resolver dudas como las siguientes: \n",
    "* Encontrar todas las reglas relacionando cualquier producto con uno dado (p.e. O - Naranja)."
   ]
  },
  {
   "cell_type": "code",
   "execution_count": 18,
   "metadata": {},
   "outputs": [
    {
     "name": "stdout",
     "output_type": "stream",
     "text": [
      "    lhs    rhs support confidence lift      count\n",
      "[1] {b} => {O} 0.25    1.0000000  1.3333333 1    \n",
      "[2] {c} => {O} 0.50    1.0000000  1.3333333 2    \n",
      "[3] {l} => {O} 0.50    0.6666667  0.8888889 2    \n",
      "[4] {p} => {O} 0.75    0.7500000  1.0000000 3    \n"
     ]
    }
   ],
   "source": [
    "inspect(subset(rAprioriFiltered, subset = rhs %in% c(\"O\")))"
   ]
  },
  {
   "cell_type": "code",
   "execution_count": 19,
   "metadata": {},
   "outputs": [
    {
     "name": "stdout",
     "output_type": "stream",
     "text": [
      "    lhs    rhs support confidence lift      itemset\n",
      "[1] {b} => {O} 0.25    1.0000000  1.3333333  6     \n",
      "[2] {c} => {O} 0.50    1.0000000  1.3333333 13     \n",
      "[3] {l} => {O} 0.50    0.6666667  0.8888889 17     \n",
      "[4] {p} => {O} 0.75    0.7500000  1.0000000 18     \n"
     ]
    }
   ],
   "source": [
    "inspect(subset(rEclatFiltered, subset = rhs %in% c(\"O\")))"
   ]
  },
  {
   "cell_type": "markdown",
   "metadata": {},
   "source": [
    "* Encontrar todas las reglas que dependen de un producto dado (p.e. O - Naranja)."
   ]
  },
  {
   "cell_type": "code",
   "execution_count": 20,
   "metadata": {},
   "outputs": [
    {
     "name": "stdout",
     "output_type": "stream",
     "text": [
      "    lhs      rhs support confidence lift      count\n",
      "[1] {O}   => {b} 0.25    0.3333333  1.3333333 1    \n",
      "[2] {O}   => {c} 0.50    0.6666667  1.3333333 2    \n",
      "[3] {O}   => {l} 0.50    0.6666667  0.8888889 2    \n",
      "[4] {O}   => {p} 0.75    1.0000000  1.0000000 3    \n",
      "[5] {l,O} => {b} 0.25    0.5000000  2.0000000 1    \n"
     ]
    }
   ],
   "source": [
    "inspect(subset(rAprioriFiltered, subset = lhs %in% c(\"O\")))"
   ]
  },
  {
   "cell_type": "code",
   "execution_count": 21,
   "metadata": {},
   "outputs": [
    {
     "name": "stdout",
     "output_type": "stream",
     "text": [
      "    lhs      rhs support confidence lift      itemset\n",
      "[1] {l,O} => {b} 0.25    0.5000000  2.0000000  3     \n",
      "[2] {O}   => {b} 0.25    0.3333333  1.3333333  6     \n",
      "[3] {O}   => {c} 0.50    0.6666667  1.3333333 13     \n",
      "[4] {O}   => {l} 0.50    0.6666667  0.8888889 17     \n",
      "[5] {O}   => {p} 0.75    1.0000000  1.0000000 18     \n"
     ]
    }
   ],
   "source": [
    "inspect(subset(rEclatFiltered, subset = lhs %in% c(\"O\")))"
   ]
  },
  {
   "cell_type": "markdown",
   "metadata": {},
   "source": [
    "* Encontrar todas las reglas que cumplan los dos criterios anteriores para ciertos productos dados.\n",
    "\n",
    "::GMG::usamos condiciones lógicas sobre antecedente (lhs) y consecuentes (rhs)"
   ]
  },
  {
   "cell_type": "code",
   "execution_count": 22,
   "metadata": {},
   "outputs": [
    {
     "name": "stdout",
     "output_type": "stream",
     "text": [
      "    lhs      rhs support confidence lift      count\n",
      "[1] {b}   => {O} 0.25    1.0000000  1.3333333 1    \n",
      "[2] {O}   => {b} 0.25    0.3333333  1.3333333 1    \n",
      "[3] {c}   => {O} 0.50    1.0000000  1.3333333 2    \n",
      "[4] {O}   => {c} 0.50    0.6666667  1.3333333 2    \n",
      "[5] {l}   => {O} 0.50    0.6666667  0.8888889 2    \n",
      "[6] {O}   => {l} 0.50    0.6666667  0.8888889 2    \n",
      "[7] {O}   => {p} 0.75    1.0000000  1.0000000 3    \n",
      "[8] {p}   => {O} 0.75    0.7500000  1.0000000 3    \n",
      "[9] {l,O} => {b} 0.25    0.5000000  2.0000000 1    \n"
     ]
    }
   ],
   "source": [
    "inspect(subset(rAprioriFiltered, subset = rhs %in% c(\"O\") | lhs %in% c(\"O\")))"
   ]
  },
  {
   "cell_type": "code",
   "execution_count": 23,
   "metadata": {},
   "outputs": [
    {
     "name": "stdout",
     "output_type": "stream",
     "text": [
      "    lhs      rhs support confidence lift      itemset\n",
      "[1] {l,O} => {b} 0.25    0.5000000  2.0000000  3     \n",
      "[2] {O}   => {b} 0.25    0.3333333  1.3333333  6     \n",
      "[3] {b}   => {O} 0.25    1.0000000  1.3333333  6     \n",
      "[4] {O}   => {c} 0.50    0.6666667  1.3333333 13     \n",
      "[5] {c}   => {O} 0.50    1.0000000  1.3333333 13     \n",
      "[6] {O}   => {l} 0.50    0.6666667  0.8888889 17     \n",
      "[7] {l}   => {O} 0.50    0.6666667  0.8888889 17     \n",
      "[8] {p}   => {O} 0.75    0.7500000  1.0000000 18     \n",
      "[9] {O}   => {p} 0.75    1.0000000  1.0000000 18     \n"
     ]
    }
   ],
   "source": [
    "inspect(subset(rEclatFiltered, subset = rhs %in% c(\"O\") | lhs %in% c(\"O\")))"
   ]
  },
  {
   "cell_type": "markdown",
   "metadata": {},
   "source": [
    "* Encontrar el conjunto de reglas con mayor confianza cumpliendo alguno de los criterios anteriores."
   ]
  },
  {
   "cell_type": "code",
   "execution_count": null,
   "metadata": {},
   "outputs": [],
   "source": [
    "inspect(subset(rAprioriFiltered, subset = rhs %in% c(\"O\") | lhs %in% c(\"O\") & confidence >= 0.5))\n",
    "inspect(subset(rEclatFiltered, subset = rhs %in% c(\"O\") | lhs %in% c(\"O\") & confidence >= 0.5))"
   ]
  },
  {
   "cell_type": "markdown",
   "metadata": {},
   "source": [
    "* Consultar el conjunto de reglas con alguno de los parámetros con valores más altos (`head`) o bajos (`tail`)"
   ]
  },
  {
   "cell_type": "code",
   "execution_count": null,
   "metadata": {},
   "outputs": [],
   "source": [
    "inspect(head(sort(rAprioriFiltered, by =\"lift\"),3))\n",
    "inspect(head(sort(rEclatFiltered, by =\"lift\"),3))\n",
    "inspect(tail(sort(rAprioriFiltered, by =\"lift\"),3))\n",
    "inspect(tail(sort(rEclatFiltered, by =\"lift\"),3))"
   ]
  },
  {
   "cell_type": "markdown",
   "metadata": {},
   "source": [
    "Finalmente, una vez obtenidas las reglas de asociación, podemos visualizar los resultados:\n",
    "- Matriz de itemsets:"
   ]
  },
  {
   "cell_type": "code",
   "execution_count": null,
   "metadata": {},
   "outputs": [],
   "source": [
    "image(iApriori@items, xlab = \"Items\", ylab = \"Itemsets\")\n",
    "image(iEclat@items, xlab = \"Items\", ylab = \"Itemsets\")"
   ]
  },
  {
   "cell_type": "markdown",
   "metadata": {},
   "source": [
    "- Scatter-plot de reglas:"
   ]
  },
  {
   "cell_type": "code",
   "execution_count": null,
   "metadata": {},
   "outputs": [],
   "source": [
    "plot(rAprioriFiltered)\n",
    "plot(rEclatFiltered)"
   ]
  },
  {
   "cell_type": "markdown",
   "metadata": {},
   "source": [
    "- Matriz de asociaciones:"
   ]
  },
  {
   "cell_type": "code",
   "execution_count": null,
   "metadata": {},
   "outputs": [],
   "source": [
    "plot(rAprioriFiltered, method=\"matrix\", measure=\"lift\")\n",
    "plot(rEclatFiltered, method=\"matrix\", measure=\"lift\")"
   ]
  },
  {
   "cell_type": "markdown",
   "metadata": {},
   "source": [
    "- Matriz de asociaciones incluyendo parámetros:"
   ]
  },
  {
   "cell_type": "code",
   "execution_count": null,
   "metadata": {},
   "outputs": [],
   "source": [
    "plot(rAprioriFiltered, method=\"grouped\", measure=\"lift\")\n",
    "plot(rEclatFiltered, method=\"grouped\", measure=\"support\")"
   ]
  },
  {
   "cell_type": "markdown",
   "metadata": {},
   "source": [
    "- Enlaces de las reglas:"
   ]
  },
  {
   "cell_type": "code",
   "execution_count": null,
   "metadata": {},
   "outputs": [],
   "source": [
    "plot(rAprioriFiltered, method=\"paracoord\")\n",
    "plot(rEclatFiltered, method=\"paracoord\")"
   ]
  },
  {
   "cell_type": "markdown",
   "metadata": {},
   "source": [
    "- Estadística de una regla en particular:"
   ]
  },
  {
   "cell_type": "code",
   "execution_count": null,
   "metadata": {},
   "outputs": [],
   "source": [
    "oneRule <- sample(rAprioriFiltered, 1)\n",
    "plot(oneRule, method=\"doubledecker\", data = transactions)\n",
    "oneRule <- sample(rEclatFiltered, 1)\n",
    "plot(oneRule, method=\"doubledecker\", data = transactions)"
   ]
  },
  {
   "cell_type": "markdown",
   "metadata": {},
   "source": [
    "## Base de datos Groceries\n",
    "\n",
    "En la presente tarea trabajaremos con la base de datos `Groceries`, disponibles públicamente para su uso desde R. Para una breve descripción de esta base de datos puede recurrir a la ayuda de R."
   ]
  },
  {
   "cell_type": "code",
   "execution_count": null,
   "metadata": {},
   "outputs": [],
   "source": [
    "# Help command in R: ?\n",
    "? Groceries\n",
    "# Loading the dataset\n",
    "data(Groceries)\n",
    "Groceries@itemInfo$labels"
   ]
  },
  {
   "cell_type": "markdown",
   "metadata": {},
   "source": [
    "¿Cuantas transacciones y clases contiene el dataset?"
   ]
  },
  {
   "cell_type": "code",
   "execution_count": null,
   "metadata": {},
   "outputs": [],
   "source": [
    "# Incluye el código para responder a la cuestion anterior. ? str"
   ]
  },
  {
   "cell_type": "markdown",
   "metadata": {},
   "source": [
    "Notar que, para inspeccionar el objeto, hemos usado en un caso el símbolo arroba (`@`) y en otro el dolar (`$`). Esto se debe a que en el primer caso es un objeto tipo S3 ó S4, mientras que en el segundo caso es una colección de datos o `data.frame`.\n",
    "\n",
    "# Aprendiendo de los datos: Algoritmo A Priori"
   ]
  },
  {
   "cell_type": "code",
   "execution_count": null,
   "metadata": {},
   "outputs": [],
   "source": [
    "? apriori"
   ]
  },
  {
   "cell_type": "markdown",
   "metadata": {},
   "source": [
    "Las reglas de asociación son implicaciones de la forma `X=>Y`, las cuales se fundamentan en dos conceptos básicos: la confianza y la relevancia. El primero es la proporción de registros con `X` que contienen también `Y`, mientras que el segundo es el número de registros que contienen tanto X como Y. Dada una relevancia mínima `Rmin`, el algoritmo a priori consta de 6 pasos:\n",
    "\n",
    " * Definimos `i=1`, que se corresponde con el tamaño de los conjuntos.\n",
    " * Generamos un conjunto unitario para cada atributo en `A1`.\n",
    " * Comprobamos la relevancia de todos los conjuntos de `Ai`, eliminando aquellos cuya relevancia es menor que el umbral (`relevancia < Rmin`).\n",
    " * Combinamos los conjuntos de `Ai` creando conjuntos de tamaño `i+1` en `Ai+1`\n",
    " * Si `Ai` no es vacío entonces hacemos `i=i+1` y volvemos al paso 3.\n",
    " * Si `Ai` es vacío entonces el conjunto de reglas de asociación será la unión de todos los `Ai` construidos (`A2 U A3 U ... U Ai`).\n",
    " \n",
    "El algoritmo anterior está implementado en la librería `arulesViz` por lo que, a través de la ayuda, podemos ver como usarlo y hacer un ejemplo:"
   ]
  },
  {
   "cell_type": "code",
   "execution_count": null,
   "metadata": {},
   "outputs": [],
   "source": [
    "rules <- apriori(Groceries, parameter=list(support = 0.001, confidence = 0.5))"
   ]
  },
  {
   "cell_type": "markdown",
   "metadata": {},
   "source": [
    "Podemos inspeccionar el objeto y ver algunas de las reglas. Por ejemplo, el siguiente comando nos mostrará las primeras 4 reglas en función de su confianza:"
   ]
  },
  {
   "cell_type": "code",
   "execution_count": null,
   "metadata": {},
   "outputs": [],
   "source": [
    "inspect(head(sort(rules, by = \"confidence\"),4))"
   ]
  },
  {
   "cell_type": "markdown",
   "metadata": {},
   "source": [
    "Para ver cómo funcionan los comandos anteriores puedes usar la ayuda de R:\n",
    "`? sort`\n",
    "`? inspect`\n",
    "`? head`"
   ]
  },
  {
   "cell_type": "markdown",
   "metadata": {},
   "source": [
    "## Herramientas de visualización\n",
    "\n",
    "En los puntos anteriores hemos establecido las reglas de asociación y manejado la estructura obtenida. Sin embargo, la librería `aruleViz` incluye herramientas de visualización a través de la sobrecarga de la función `plot` (`? plot`)."
   ]
  },
  {
   "cell_type": "code",
   "execution_count": null,
   "metadata": {},
   "outputs": [],
   "source": [
    "plot(rules, method = NULL, measure = \"support\", shading = \"lift\", interactive = FALSE, data = NULL, control = NULL)"
   ]
  },
  {
   "cell_type": "markdown",
   "metadata": {},
   "source": [
    "## Práctica:\n",
    "\n",
    "Responde a las siguientes cuestiones, incluyendo cuando corresponda el código asociado:"
   ]
  },
  {
   "cell_type": "markdown",
   "metadata": {},
   "source": [
    " * ¿Cuantas reglas de asociación se han generado? "
   ]
  },
  {
   "cell_type": "code",
   "execution_count": null,
   "metadata": {},
   "outputs": [],
   "source": [
    "# Incluye el código para responder a la cuestion anterior."
   ]
  },
  {
   "cell_type": "markdown",
   "metadata": {},
   "source": [
    " * ¿Qué porcentaje de reglas es redundante? "
   ]
  },
  {
   "cell_type": "code",
   "execution_count": null,
   "metadata": {},
   "outputs": [],
   "source": [
    "# Incluye el código para responder a la cuestion anterior."
   ]
  },
  {
   "cell_type": "markdown",
   "metadata": {},
   "source": [
    " * Teniendo en cuenta el conjunto de datos de partida, ¿resulta útil el conjunto de reglas generado?"
   ]
  },
  {
   "cell_type": "code",
   "execution_count": null,
   "metadata": {},
   "outputs": [],
   "source": [
    "# Incluye el código para responder a la cuestion anterior."
   ]
  },
  {
   "cell_type": "markdown",
   "metadata": {},
   "source": [
    " * ¿Cual es la regla con mayor confianza? ¿Y con menor?"
   ]
  },
  {
   "cell_type": "code",
   "execution_count": null,
   "metadata": {},
   "outputs": [],
   "source": [
    "# Incluye el código para responder a la cuestion anterior."
   ]
  },
  {
   "cell_type": "markdown",
   "metadata": {},
   "source": [
    " * ¿Cual es la regla con mayor interés? ¿Y con menor?"
   ]
  },
  {
   "cell_type": "code",
   "execution_count": null,
   "metadata": {},
   "outputs": [],
   "source": [
    "# Incluye el código para responder a la cuestion anterior."
   ]
  },
  {
   "cell_type": "markdown",
   "metadata": {},
   "source": [
    " * En el objeto aparece una medida llamada `lift`, ¿qué mide?"
   ]
  },
  {
   "cell_type": "code",
   "execution_count": null,
   "metadata": {},
   "outputs": [],
   "source": [
    "# Incluye el código para responder a la cuestion anterior."
   ]
  },
  {
   "cell_type": "markdown",
   "metadata": {},
   "source": [
    " * Escribe el `podium` asociado a cada una de las tres medidas: `support`, `confidence` y `lift`."
   ]
  },
  {
   "cell_type": "code",
   "execution_count": null,
   "metadata": {},
   "outputs": [],
   "source": [
    "# Incluye el código para responder a la cuestion anterior."
   ]
  },
  {
   "cell_type": "markdown",
   "metadata": {},
   "source": [
    " * ¿Se puede inferir que la regla es persistente respecto a la medida de interés?"
   ]
  },
  {
   "cell_type": "code",
   "execution_count": null,
   "metadata": {},
   "outputs": [],
   "source": [
    "# Incluye el código para responder a la cuestion anterior."
   ]
  },
  {
   "cell_type": "markdown",
   "metadata": {},
   "source": [
    " * Explorar los ejemplos de la función plot. "
   ]
  },
  {
   "cell_type": "code",
   "execution_count": null,
   "metadata": {},
   "outputs": [],
   "source": [
    "# Incluye el código para responder a la cuestion anterior."
   ]
  },
  {
   "cell_type": "markdown",
   "metadata": {},
   "source": [
    " * ¿Hay alguna agrupación de items que se de con gran frecuencia? Por ejemplo, ¿los productos de limpieza se compran de forma conjunta? ¿Los productos de cuidado personal?, etc..."
   ]
  },
  {
   "cell_type": "code",
   "execution_count": null,
   "metadata": {},
   "outputs": [],
   "source": [
    "# Incluye el código para responder a la cuestion anterior."
   ]
  },
  {
   "cell_type": "markdown",
   "metadata": {},
   "source": [
    " * Responder a las preguntas anteriores con los diferentes algoritmos disponibles, comparar los resultados y concluir si los resultados son o no robustos respecto al algoritmo."
   ]
  },
  {
   "cell_type": "code",
   "execution_count": null,
   "metadata": {},
   "outputs": [],
   "source": [
    "# Incluye el código para responder a la cuestion anterior."
   ]
  },
  {
   "cell_type": "markdown",
   "metadata": {},
   "source": [
    " \n",
    "## Session Info:"
   ]
  },
  {
   "cell_type": "code",
   "execution_count": null,
   "metadata": {},
   "outputs": [],
   "source": [
    "print(sessionInfo())"
   ]
  }
 ],
 "metadata": {
  "kernelspec": {
   "display_name": "R",
   "language": "R",
   "name": "ir"
  },
  "language_info": {
   "codemirror_mode": "r",
   "file_extension": ".r",
   "mimetype": "text/x-r-source",
   "name": "R",
   "pygments_lexer": "r",
   "version": "3.4.4"
  }
 },
 "nbformat": 4,
 "nbformat_minor": 2
}
