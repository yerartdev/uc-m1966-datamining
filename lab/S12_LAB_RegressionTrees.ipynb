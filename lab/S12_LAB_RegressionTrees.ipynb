{
 "cells": [
  {
   "cell_type": "markdown",
   "metadata": {},
   "source": [
    "# Práctca: Decision Trees - Regression (Clase)"
   ]
  },
  {
   "cell_type": "markdown",
   "metadata": {},
   "source": [
    "## Santander MetGroup\n",
    "\n",
    "1. [Ajustando Árboles de Regresión](#1-Ajustando-%C3%81rboles-de-Regresi%C3%B3n:)\n",
    "\n",
    " 1.1 [Boston data set](#1.1-Boston-data-set:)\n",
    "\n",
    " 1.2 [Práctica: the Hitters data set](#1.2-Pr%C3%A1ctica:-the-Hitters-data-set:)"
   ]
  },
  {
   "cell_type": "markdown",
   "metadata": {},
   "source": [
    "## Alumno: Gerardo de Miguel González"
   ]
  },
  {
   "cell_type": "markdown",
   "metadata": {},
   "source": [
    "## 1. Ajustando Árboles de Regresión:"
   ]
  },
  {
   "cell_type": "markdown",
   "metadata": {},
   "source": [
    "### 1.1 Boston data set:\n",
    "\n",
    "En primer lugar, consideraremos el datasetBoston para entrenar un árbol regresión a partir de una submuestra de entrenamiento."
   ]
  },
  {
   "cell_type": "markdown",
   "metadata": {},
   "source": [
    "#### Clase"
   ]
  },
  {
   "cell_type": "markdown",
   "metadata": {},
   "source": [
    "#### Bibiotecas"
   ]
  },
  {
   "cell_type": "code",
   "execution_count": 1,
   "metadata": {},
   "outputs": [],
   "source": [
    "#::GMG::Bibliotecas que nevesitamos para la práctica\n",
    "library(MASS)\n",
    "library(tree)"
   ]
  },
  {
   "cell_type": "markdown",
   "metadata": {},
   "source": [
    "#### Entrenamiento del modelo"
   ]
  },
  {
   "cell_type": "code",
   "execution_count": 2,
   "metadata": {},
   "outputs": [],
   "source": [
    "#::GMG::Split replicable original de la práctica ... \n",
    "set.seed(1)\n",
    "indTrain <- sample(1:nrow(Boston), nrow(Boston)/2)"
   ]
  },
  {
   "cell_type": "code",
   "execution_count": 3,
   "metadata": {},
   "outputs": [
    {
     "data": {
      "text/plain": [
       "\n",
       "Regression tree:\n",
       "tree(formula = medv ~ ., data = Boston, subset = indTrain)\n",
       "Variables actually used in tree construction:\n",
       "[1] \"lstat\" \"rm\"    \"dis\"  \n",
       "Number of terminal nodes:  8 \n",
       "Residual mean deviance:  12.65 = 3099 / 245 \n",
       "Distribution of residuals:\n",
       "     Min.   1st Qu.    Median      Mean   3rd Qu.      Max. \n",
       "-14.10000  -2.04200  -0.05357   0.00000   1.96000  12.60000 "
      ]
     },
     "metadata": {},
     "output_type": "display_data"
    }
   ],
   "source": [
    "#::GMG::Cálculo del modelo y parámetros devueltos\n",
    "tree.boston <- tree(medv~., Boston, subset = indTrain)\n",
    "summary(tree.boston)"
   ]
  },
  {
   "cell_type": "markdown",
   "metadata": {},
   "source": [
    "Notar que la salida de `summary()` indica que sólo tres de las variables han sido utilizadas para construir el árbol. En el caso de los árboles de regresión la desviación se refiere a la suma de los errores al cuadrado."
   ]
  },
  {
   "cell_type": "code",
   "execution_count": 4,
   "metadata": {},
   "outputs": [
    {
     "data": {
      "text/plain": [
       "node), split, n, deviance, yval\n",
       "      * denotes terminal node\n",
       "\n",
       " 1) root 253 20890.0 22.67  \n",
       "   2) lstat < 9.715 103  7765.0 30.13  \n",
       "     4) rm < 7.437 89  3310.0 27.58  \n",
       "       8) rm < 6.7815 61  1995.0 25.52  \n",
       "        16) dis < 2.6221 5   615.8 37.40 *\n",
       "        17) dis > 2.6221 56   610.3 24.46  \n",
       "          34) rm < 6.4755 31   136.4 22.54 *\n",
       "          35) rm > 6.4755 25   218.3 26.84 *\n",
       "       9) rm > 6.7815 28   496.6 32.05 *\n",
       "     5) rm > 7.437 14   177.8 46.38 *\n",
       "   3) lstat > 9.715 150  3465.0 17.55  \n",
       "     6) lstat < 21.49 120  1594.0 19.16  \n",
       "      12) lstat < 14.48 62   398.5 21.04 *\n",
       "      13) lstat > 14.48 58   743.3 17.16 *\n",
       "     7) lstat > 21.49 30   311.9 11.10 *"
      ]
     },
     "metadata": {},
     "output_type": "display_data"
    }
   ],
   "source": [
    "#::GMG:: Más cosas que se pueden saber :)\n",
    "tree.boston"
   ]
  },
  {
   "cell_type": "code",
   "execution_count": 8,
   "metadata": {},
   "outputs": [
    {
     "data": {
      "text/plain": [
       "medv ~ crim + zn + indus + chas + nox + rm + age + dis + rad + \n",
       "    tax + ptratio + black + lstat\n",
       "attr(,\"variables\")\n",
       "list(medv, crim, zn, indus, chas, nox, rm, age, dis, rad, tax, \n",
       "    ptratio, black, lstat)\n",
       "attr(,\"factors\")\n",
       "        crim zn indus chas nox rm age dis rad tax ptratio black lstat\n",
       "medv       0  0     0    0   0  0   0   0   0   0       0     0     0\n",
       "crim       1  0     0    0   0  0   0   0   0   0       0     0     0\n",
       "zn         0  1     0    0   0  0   0   0   0   0       0     0     0\n",
       "indus      0  0     1    0   0  0   0   0   0   0       0     0     0\n",
       "chas       0  0     0    1   0  0   0   0   0   0       0     0     0\n",
       "nox        0  0     0    0   1  0   0   0   0   0       0     0     0\n",
       "rm         0  0     0    0   0  1   0   0   0   0       0     0     0\n",
       "age        0  0     0    0   0  0   1   0   0   0       0     0     0\n",
       "dis        0  0     0    0   0  0   0   1   0   0       0     0     0\n",
       "rad        0  0     0    0   0  0   0   0   1   0       0     0     0\n",
       "tax        0  0     0    0   0  0   0   0   0   1       0     0     0\n",
       "ptratio    0  0     0    0   0  0   0   0   0   0       1     0     0\n",
       "black      0  0     0    0   0  0   0   0   0   0       0     1     0\n",
       "lstat      0  0     0    0   0  0   0   0   0   0       0     0     1\n",
       "attr(,\"term.labels\")\n",
       " [1] \"crim\"    \"zn\"      \"indus\"   \"chas\"    \"nox\"     \"rm\"      \"age\"    \n",
       " [8] \"dis\"     \"rad\"     \"tax\"     \"ptratio\" \"black\"   \"lstat\"  \n",
       "attr(,\"order\")\n",
       " [1] 1 1 1 1 1 1 1 1 1 1 1 1 1\n",
       "attr(,\"intercept\")\n",
       "[1] 1\n",
       "attr(,\"response\")\n",
       "[1] 1\n",
       "attr(,\".Environment\")\n",
       "<environment: R_GlobalEnv>\n",
       "attr(,\"predvars\")\n",
       "list(medv, crim, zn, indus, chas, nox, rm, age, dis, rad, tax, \n",
       "    ptratio, black, lstat)\n",
       "attr(,\"dataClasses\")\n",
       "     medv      crim        zn     indus      chas       nox        rm       age \n",
       "\"numeric\" \"numeric\" \"numeric\" \"numeric\" \"numeric\" \"numeric\" \"numeric\" \"numeric\" \n",
       "      dis       rad       tax   ptratio     black     lstat \n",
       "\"numeric\" \"numeric\" \"numeric\" \"numeric\" \"numeric\" \"numeric\" "
      ]
     },
     "metadata": {},
     "output_type": "display_data"
    }
   ],
   "source": [
    "tree.boston$terms"
   ]
  },
  {
   "cell_type": "code",
   "execution_count": 10,
   "metadata": {},
   "outputs": [
    {
     "data": {
      "image/png": "[encoded data removed]",
      "text/plain": [
       "plot without title"
      ]
     },
     "metadata": {},
     "output_type": "display_data"
    }
   ],
   "source": [
    "#::GMG::Dibujamos el árbol e interpretamos ...\n",
    "plot(tree.boston)\n",
    "text(tree.boston, pretty = 0)"
   ]
  },
  {
   "cell_type": "markdown",
   "metadata": {},
   "source": [
    "**::GMG::** La variable `lstat` mide el porcentaje de individuos (*proporción* en tanto por cien) con bajo nivel socio-económico en el vecindario/suburbio. El árbol indica que valores bajos de esta variable se corresponden con casas más caras. La variable `rm` mide el núnero *medio* (*average*) de habitaciones por vivienda. El árbol predice un precio *mediano* por casa de $46,380 para casas grandes en suburbios cuyos residentes tienen un alto nivel socio-económico (`rm` > 7.437 y `lstat` < 9.715).\n",
    "\n",
    "- Kaggle: [Boston Housing Dataset](https://www.kaggle.com/c/boston-housing)"
   ]
  },
  {
   "cell_type": "markdown",
   "metadata": {},
   "source": [
    "#### Cross-validation for Choosing Tree Complexity"
   ]
  },
  {
   "cell_type": "markdown",
   "metadata": {},
   "source": [
    "La función [`cv.tree()`](https://www.rdocumentation.org/packages/tree/versions/1.0-39/topics/cv.tree) realiza un entrenamiento con validación cruzada considerando un valor dado de penalización de la complejidad (`K=10` por defecto) para evaluar cuando es necesaria la poda del árbol.\n",
    "\n",
    "`cv.tree(object, rand, FUN = prune.tree, K = 10, ...)`"
   ]
  },
  {
   "cell_type": "code",
   "execution_count": 11,
   "metadata": {},
   "outputs": [
    {
     "data": {
      "image/png": "[encoded data removed]",
      "text/plain": [
       "plot without title"
      ]
     },
     "metadata": {},
     "output_type": "display_data"
    }
   ],
   "source": [
    "#::GMG:: Como referencia \n",
    "cv.boston <- cv.tree(tree.boston)\n",
    "plot(cv.boston$size, cv.boston$dev, type = \"b\")"
   ]
  },
  {
   "cell_type": "code",
   "execution_count": 12,
   "metadata": {},
   "outputs": [
    {
     "data": {
      "text/plain": [
       "$size\n",
       "[1] 8 7 6 5 4 3 2 1\n",
       "\n",
       "$dev\n",
       "[1]  5226.322  5228.360  6462.626  6692.615  6397.438  7529.846 11958.691\n",
       "[8] 21118.139\n",
       "\n",
       "$k\n",
       "[1]      -Inf  255.6581  451.9272  768.5087  818.8885 1559.1264 4276.5803\n",
       "[8] 9665.3582\n",
       "\n",
       "$method\n",
       "[1] \"deviance\"\n",
       "\n",
       "attr(,\"class\")\n",
       "[1] \"prune\"         \"tree.sequence\""
      ]
     },
     "metadata": {},
     "output_type": "display_data"
    }
   ],
   "source": [
    "#::GMG::Intento ver alguna descripción del resultado\n",
    "cv.boston"
   ]
  },
  {
   "cell_type": "code",
   "execution_count": 13,
   "metadata": {},
   "outputs": [
    {
     "name": "stdout",
     "output_type": "stream",
     "text": [
      "List of 4\n",
      " $ size  : int [1:8] 8 7 6 5 4 3 2 1\n",
      " $ dev   : num [1:8] 5226 5228 6463 6693 6397 ...\n",
      " $ k     : num [1:8] -Inf 256 452 769 819 ...\n",
      " $ method: chr \"deviance\"\n",
      " - attr(*, \"class\")= chr [1:2] \"prune\" \"tree.sequence\"\n"
     ]
    }
   ],
   "source": [
    "str(cv.boston)"
   ]
  },
  {
   "cell_type": "code",
   "execution_count": 14,
   "metadata": {},
   "outputs": [
    {
     "data": {
      "text/plain": [
       "       Length Class  Mode     \n",
       "size   8      -none- numeric  \n",
       "dev    8      -none- numeric  \n",
       "k      8      -none- numeric  \n",
       "method 1      -none- character"
      ]
     },
     "metadata": {},
     "output_type": "display_data"
    }
   ],
   "source": [
    "summary(cv.boston)"
   ]
  },
  {
   "cell_type": "markdown",
   "metadata": {},
   "source": [
    "En este caso, el árbol más complejo es seleccionado por la validación cruzada. "
   ]
  },
  {
   "cell_type": "markdown",
   "metadata": {},
   "source": [
    "#### Poda del modelo sin CV"
   ]
  },
  {
   "cell_type": "markdown",
   "metadata": {},
   "source": [
    "Sin embargo, también podemos usar directamente la función [`prune.tree()`](https://www.rdocumentation.org/packages/tree/versions/1.0-39/topics/prune.tree):\n",
    "\n",
    "`prune.tree(tree, k = NULL, best = NULL, newdata, nwts,\n",
    "           method = c(\"deviance\", \"misclass\"), loss, eps = 1e-3)`\n",
    "           \n",
    "**::DUDAS::** ¿Para seleccionar uno en concreto de los podados?"
   ]
  },
  {
   "cell_type": "code",
   "execution_count": 16,
   "metadata": {},
   "outputs": [
    {
     "data": {
      "image/png": "[encoded data removed]",
      "text/plain": [
       "plot without title"
      ]
     },
     "metadata": {},
     "output_type": "display_data"
    }
   ],
   "source": [
    "prune.boston <- prune.tree(tree.boston, best = 5)\n",
    "plot(prune.boston)\n",
    "text(prune.boston, pretty = 0)"
   ]
  },
  {
   "cell_type": "markdown",
   "metadata": {},
   "source": [
    "**::GMG::** La interpretación que hicimos de los precios medianos (*medv*) que hicimos en el árbol inicial sin podar siguen siendo válidas."
   ]
  },
  {
   "cell_type": "markdown",
   "metadata": {},
   "source": [
    "#### Predicción con modelo sin podar"
   ]
  },
  {
   "cell_type": "markdown",
   "metadata": {},
   "source": [
    "Consideremos el árbol sin podar para hacer predicciones sobre el conjunto de test y evaluemos el error:"
   ]
  },
  {
   "cell_type": "code",
   "execution_count": null,
   "metadata": {},
   "outputs": [],
   "source": [
    "yhat <- predict(tree.boston, newdata = Boston[-indTrain,])\n",
    "boston.test <- Boston[-indTrain, \"medv\"]\n",
    "plot(yhat, boston.test)\n",
    "abline(0,1)"
   ]
  },
  {
   "cell_type": "code",
   "execution_count": null,
   "metadata": {},
   "outputs": [],
   "source": [
    "#::GMG::Aquí se calcula el MSE\n",
    "sqrt(mean((yhat-boston.test)^2))"
   ]
  },
  {
   "cell_type": "code",
   "execution_count": null,
   "metadata": {},
   "outputs": [],
   "source": [
    "#::GMG::Para aclararme ...\n",
    "summary(boston.test)"
   ]
  },
  {
   "cell_type": "code",
   "execution_count": null,
   "metadata": {},
   "outputs": [],
   "source": [
    "summary(yhat)"
   ]
  },
  {
   "cell_type": "markdown",
   "metadata": {},
   "source": [
    "Mientras que en el conjunto de train tenemos:"
   ]
  },
  {
   "cell_type": "code",
   "execution_count": null,
   "metadata": {},
   "outputs": [],
   "source": [
    "yhat <- predict(tree.boston, newdata = Boston[indTrain,])\n",
    "boston.test <- Boston[indTrain, \"medv\"]\n",
    "plot(yhat, boston.test)\n",
    "abline(0,1)"
   ]
  },
  {
   "cell_type": "code",
   "execution_count": null,
   "metadata": {},
   "outputs": [],
   "source": [
    "#::GMG::Aquí se calcula el MSE\n",
    "sqrt(mean((yhat-boston.test)^2))"
   ]
  },
  {
   "cell_type": "code",
   "execution_count": null,
   "metadata": {},
   "outputs": [],
   "source": [
    "summary(yhat)"
   ]
  },
  {
   "cell_type": "code",
   "execution_count": null,
   "metadata": {},
   "outputs": [],
   "source": [
    "summary(boston.test)"
   ]
  },
  {
   "cell_type": "markdown",
   "metadata": {},
   "source": [
    "Es decir, mientras que en el conjunto de test tenemos un error de 5.005 aproximadamante para el conjunto de train tenemos un error de 3.5. "
   ]
  },
  {
   "cell_type": "markdown",
   "metadata": {},
   "source": [
    "#### Trabajo personal"
   ]
  },
  {
   "cell_type": "markdown",
   "metadata": {},
   "source": [
    "**::Ejercicio::**: Revisad la función `tree.control` y forzar el árbol para que sea el más profundo posible, ¿cómo cambian los errores de test y de train?"
   ]
  },
  {
   "cell_type": "markdown",
   "metadata": {},
   "source": [
    "#### Mi repaso al ejercicio de clase ..."
   ]
  },
  {
   "cell_type": "markdown",
   "metadata": {},
   "source": [
    "**::GMG::** Referencias\n",
    "\n",
    "- Kaggle: [The Boston Housing Dataset](https://www.kaggle.com/c/boston-housing)\n",
    "- R Documentation [Tree Package](https://www.rdocumentation.org/packages/tree/versions/1.0-39) - [`tree()`](https://www.rdocumentation.org/packages/tree/versions/1.0-39/topics/tree)\n",
    "- CRAN R [Tree package](https://cran.r-project.org/web/packages/tree/index.html) - ([pdf](https://cran.r-project.org/web/packages/tree/tree.pdf))\n",
    "- [A Brief Tour of the Trees and Forests](https://www.r-bloggers.com/a-brief-tour-of-the-trees-and-forests/). April 29, 2013. By Wesley \n",
    "- Quikc R: [Tree-based models](https://www.statmethods.net/advstats/cart.html)\n",
    "- [Classification & Regression Trees](http://www.di.fc.ul.pt/~jpn/r/tree/tree.html). João Neto. May 2013"
   ]
  },
  {
   "cell_type": "code",
   "execution_count": null,
   "metadata": {},
   "outputs": [],
   "source": [
    "#::GMG::Quizá convenientte echar un vistazo al dataset....\n",
    "# https://stat.ethz.ch/R-manual/R-devel/library/MASS/html/Boston.html\n",
    "str(Boston)"
   ]
  },
  {
   "cell_type": "code",
   "execution_count": null,
   "metadata": {},
   "outputs": [],
   "source": [
    "summary(Boston)"
   ]
  },
  {
   "cell_type": "code",
   "execution_count": null,
   "metadata": {},
   "outputs": [],
   "source": [
    "#::GMG::Una manera canónica de división train/test es 75/25%\n",
    "#https://stackoverflow.com/questions/17200114/how-to-split-data-into-training-testing-sets-using-sample-function\n",
    "## 75% of the sample size\n",
    "smp_size <- floor(0.75 * nrow(Boston))\n",
    "\n",
    "## set the seed to make your partition reproducible\n",
    "set.seed(123)\n",
    "train_ind <- sample(seq_len(nrow(Boston)), size = smp_size)\n",
    "\n",
    "boston_train <- Boston[train_ind, ]\n",
    "boston_test <- Boston[-train_ind, ]"
   ]
  },
  {
   "cell_type": "code",
   "execution_count": null,
   "metadata": {},
   "outputs": [],
   "source": [
    "#::GMG::Obtención del árbol de regresión ...\n",
    "tree_boston <- tree(formula = medv ~ ., data = boston_train)\n",
    "summary(tree_boston)"
   ]
  },
  {
   "cell_type": "code",
   "execution_count": null,
   "metadata": {},
   "outputs": [],
   "source": [
    "plot(tree_boston)\n",
    "text(tree_boston, pretty = 0)\n",
    "title(main = 'Árbol de Regresión')"
   ]
  },
  {
   "cell_type": "markdown",
   "metadata": {},
   "source": [
    "**::GMG::** La variable `lstat` mide el porcentaje de individuos (*proporción* en tanto por cien) con bajo nivel socio-económico en un suburbio/barrio. La variable `rm` mide el núnero *medio* (*average*) de habitaciones por vivienda. La variable `ptratio` el la relación alumnos profesores por ciudad.\n",
    "\n",
    "El árbol indica que ... ::PENDIENTE::\n",
    "\n",
    "\n",
    "- Kaggle: [Boston Housing Dataset](https://www.kaggle.com/c/boston-housing)"
   ]
  },
  {
   "cell_type": "markdown",
   "metadata": {},
   "source": [
    "### 1.2 Práctica: the Hitters data set:\n",
    "\n",
    "La librería ISLR contiene el dataset Hitters el cual contiene diferentes datos de jugadores de baseball y cuyo objetivo es la predicción del salario de los jugadores en función de diferentes variables explicativas.\n",
    "\n",
    "En la presente práctica considera en primer lugar el modelo obtenido considerando únicamente como variables explicativas el número de años que el jugador ha participado en las ligas mayores (Years) y el número de bateos de la temporada anterior (Hits).\n",
    "\n",
    "A continuación extiende el experimento para considerar todas las variables y obtener un árbol final a partir de la poda del árbol inicial. Compara los resultados obtenidos con ambos modelos.\n",
    "\n",
    "Notar que la base de datos en este caso puede tener valores perdidos (NA)."
   ]
  },
  {
   "cell_type": "code",
   "execution_count": null,
   "metadata": {},
   "outputs": [],
   "source": [
    "library(ISLR)"
   ]
  },
  {
   "cell_type": "code",
   "execution_count": null,
   "metadata": {},
   "outputs": [],
   "source": [
    "attach(Hitters)\n",
    "# remove NA values\n",
    "Hitters <- na.omit(Hitters)\n",
    "Salary <- na.omit(Salary)\n",
    "# put salary on log scale and fit reg. tree"
   ]
  },
  {
   "cell_type": "markdown",
   "metadata": {},
   "source": [
    "Del mismo modo, en este caso es preferible trabajar con el logaritmo del salario (log(Salary)) ya que el comportamiento de esta variable transformada es más Gaussiano."
   ]
  },
  {
   "cell_type": "code",
   "execution_count": null,
   "metadata": {},
   "outputs": [],
   "source": [
    "set.seed(1)\n",
    "indTrain <- sample(1:nrow(Hitters), nrow(Hitters)/2)\n",
    "tree.hitters <- tree(log(Salary)~ Years + Hits, Hitters, subset = indTrain)\n",
    "summary(tree.hitters)"
   ]
  },
  {
   "cell_type": "code",
   "execution_count": null,
   "metadata": {},
   "outputs": [],
   "source": [
    "plot(tree.hitters)\n",
    "text(tree.hitters,pretty = 0)"
   ]
  },
  {
   "cell_type": "code",
   "execution_count": null,
   "metadata": {},
   "outputs": [],
   "source": [
    "cv.hitters <- cv.tree(tree.hitters)\n",
    "plot(cv.hitters$size, cv.hitters$dev, type = \"b\")"
   ]
  },
  {
   "cell_type": "code",
   "execution_count": null,
   "metadata": {},
   "outputs": [],
   "source": [
    "prune.hitters <- prune.tree(tree.hitters, best = 4)\n",
    "plot(prune.hitters)\n",
    "text(prune.hitters, pretty = 0)"
   ]
  },
  {
   "cell_type": "code",
   "execution_count": null,
   "metadata": {},
   "outputs": [],
   "source": [
    "detach(Hitters)"
   ]
  }
 ],
 "metadata": {
  "kernelspec": {
   "display_name": "R",
   "language": "R",
   "name": "ir"
  },
  "language_info": {
   "codemirror_mode": "r",
   "file_extension": ".r",
   "mimetype": "text/x-r-source",
   "name": "R",
   "pygments_lexer": "r",
   "version": "3.4.4"
  }
 },
 "nbformat": 4,
 "nbformat_minor": 2
}
